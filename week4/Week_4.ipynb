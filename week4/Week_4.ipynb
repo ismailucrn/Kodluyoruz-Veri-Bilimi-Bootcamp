{
 "cells": [
  {
   "cell_type": "code",
   "execution_count": 1,
   "id": "75598185-340d-4014-b5aa-10352ed547c7",
   "metadata": {
    "tags": []
   },
   "outputs": [
    {
     "name": "stderr",
     "output_type": "stream",
     "text": [
      "c:\\Users\\Latte\\anaconda3\\lib\\site-packages\\xgboost\\compat.py:36: FutureWarning: pandas.Int64Index is deprecated and will be removed from pandas in a future version. Use pandas.Index with the appropriate dtype instead.\n",
      "  from pandas import MultiIndex, Int64Index\n"
     ]
    }
   ],
   "source": [
    "import pandas as pd\n",
    "import plotly.express as px\n",
    "import matplotlib.pyplot as plt\n",
    "from matplotlib import pyplot\n",
    "from PIL import Image\n",
    "import requests\n",
    "from io import BytesIO\n",
    "import xgboost as xgb\n",
    "from category_encoders import TargetEncoder\n",
    "from sklearn import preprocessing\n",
    "from sklearn.preprocessing import LabelEncoder , OneHotEncoder\n",
    "from sklearn.model_selection import train_test_split\n",
    "from sklearn.linear_model import LogisticRegression\n",
    "from sklearn.metrics import confusion_matrix , classification_report , accuracy_score,f1_score\n",
    "from sklearn.model_selection import train_test_split\n",
    "from sklearn.feature_extraction.text import CountVectorizer\n",
    "from sklearn.feature_extraction.text import TfidfTransformer\n",
    "from sklearn.naive_bayes import MultinomialNB\n",
    "from sklearn.linear_model import LogisticRegression\n",
    "from sklearn.ensemble import RandomForestClassifier\n",
    "from sklearn.svm import SVC\n",
    "from sklearn.neighbors import KNeighborsClassifier\n",
    "from sklearn.svm import LinearSVC\n",
    "from sklearn.model_selection import cross_val_score\n",
    "from IPython.display import display\n",
    "from sklearn import metrics\n",
    "import advertools as adv\n",
    "from sklearn.metrics import confusion_matrix\n",
    "from sklearn.metrics import accuracy_score, confusion_matrix, roc_auc_score, roc_curve\n",
    "import seaborn as sns\n",
    "import plotly.express as px\n",
    "import pickle\n",
    "from xgboost import plot_importance\n",
    "import plotly.graph_objects as go\n",
    "import warnings\n",
    "import optuna\n",
    "from fitter import Fitter\n",
    "warnings.filterwarnings('ignore')"
   ]
  },
  {
   "cell_type": "code",
   "execution_count": 2,
   "id": "236c9317-fd39-4d4d-b5cf-5d5f795aeffd",
   "metadata": {
    "tags": []
   },
   "outputs": [],
   "source": [
    "df = pd.read_csv(\"autodata.csv\")"
   ]
  },
  {
   "cell_type": "code",
   "execution_count": 3,
   "id": "304f5c3a-b4f4-4934-81af-15967b37076a",
   "metadata": {
    "tags": []
   },
   "outputs": [
    {
     "data": {
      "image/png": "[encoded data removed]",
      "text/plain": [
       "<PIL.PngImagePlugin.PngImageFile image mode=RGBA size=427x491 at 0x2501E617C70>"
      ]
     },
     "execution_count": 3,
     "metadata": {},
     "output_type": "execute_result"
    }
   ],
   "source": [
    "url = \"https://www.googleapis.com/download/storage/v1/b/kaggle-user-content/o/inbox%2F2566208%2F50dd4f899017ad7c6ba848cfa513a853%2FScreenshot_2020-04-17%20GreyAtom%20-%20Learning%20Platform(1).png?generation=1587141048165615&alt=media\"\n",
    "\n",
    "response = requests.get(url)\n",
    "img = Image.open(BytesIO(response.content))\n",
    "\n",
    "img"
   ]
  },
  {
   "cell_type": "code",
   "execution_count": 4,
   "id": "c169f985-5946-489a-ab0c-4741aa166b4b",
   "metadata": {
    "tags": []
   },
   "outputs": [
    {
     "data": {
      "text/html": [
       "<div>\n",
       "<style scoped>\n",
       "    .dataframe tbody tr th:only-of-type {\n",
       "        vertical-align: middle;\n",
       "    }\n",
       "\n",
       "    .dataframe tbody tr th {\n",
       "        vertical-align: top;\n",
       "    }\n",
       "\n",
       "    .dataframe thead th {\n",
       "        text-align: right;\n",
       "    }\n",
       "</style>\n",
       "<table border=\"1\" class=\"dataframe\">\n",
       "  <thead>\n",
       "    <tr style=\"text-align: right;\">\n",
       "      <th></th>\n",
       "      <th>ID</th>\n",
       "      <th>KIDSDRIV</th>\n",
       "      <th>AGE</th>\n",
       "      <th>HOMEKIDS</th>\n",
       "      <th>YOJ</th>\n",
       "      <th>INCOME</th>\n",
       "      <th>PARENT1</th>\n",
       "      <th>HOME_VAL</th>\n",
       "      <th>MSTATUS</th>\n",
       "      <th>GENDER</th>\n",
       "      <th>...</th>\n",
       "      <th>TIF</th>\n",
       "      <th>CAR_TYPE</th>\n",
       "      <th>RED_CAR</th>\n",
       "      <th>OLDCLAIM</th>\n",
       "      <th>CLM_FREQ</th>\n",
       "      <th>REVOKED</th>\n",
       "      <th>MVR_PTS</th>\n",
       "      <th>CLM_AMT</th>\n",
       "      <th>CAR_AGE</th>\n",
       "      <th>CLAIM_FLAG</th>\n",
       "    </tr>\n",
       "  </thead>\n",
       "  <tbody>\n",
       "    <tr>\n",
       "      <th>0</th>\n",
       "      <td>63581743</td>\n",
       "      <td>0</td>\n",
       "      <td>60.0</td>\n",
       "      <td>0</td>\n",
       "      <td>11.0</td>\n",
       "      <td>$67,349</td>\n",
       "      <td>No</td>\n",
       "      <td>$0</td>\n",
       "      <td>z_No</td>\n",
       "      <td>M</td>\n",
       "      <td>...</td>\n",
       "      <td>11</td>\n",
       "      <td>Minivan</td>\n",
       "      <td>yes</td>\n",
       "      <td>$4,461</td>\n",
       "      <td>2</td>\n",
       "      <td>No</td>\n",
       "      <td>3</td>\n",
       "      <td>$0</td>\n",
       "      <td>18.0</td>\n",
       "      <td>0</td>\n",
       "    </tr>\n",
       "    <tr>\n",
       "      <th>1</th>\n",
       "      <td>132761049</td>\n",
       "      <td>0</td>\n",
       "      <td>43.0</td>\n",
       "      <td>0</td>\n",
       "      <td>11.0</td>\n",
       "      <td>$91,449</td>\n",
       "      <td>No</td>\n",
       "      <td>$257,252</td>\n",
       "      <td>z_No</td>\n",
       "      <td>M</td>\n",
       "      <td>...</td>\n",
       "      <td>1</td>\n",
       "      <td>Minivan</td>\n",
       "      <td>yes</td>\n",
       "      <td>$0</td>\n",
       "      <td>0</td>\n",
       "      <td>No</td>\n",
       "      <td>0</td>\n",
       "      <td>$0</td>\n",
       "      <td>1.0</td>\n",
       "      <td>0</td>\n",
       "    </tr>\n",
       "    <tr>\n",
       "      <th>2</th>\n",
       "      <td>921317019</td>\n",
       "      <td>0</td>\n",
       "      <td>48.0</td>\n",
       "      <td>0</td>\n",
       "      <td>11.0</td>\n",
       "      <td>$52,881</td>\n",
       "      <td>No</td>\n",
       "      <td>$0</td>\n",
       "      <td>z_No</td>\n",
       "      <td>M</td>\n",
       "      <td>...</td>\n",
       "      <td>1</td>\n",
       "      <td>Van</td>\n",
       "      <td>yes</td>\n",
       "      <td>$0</td>\n",
       "      <td>0</td>\n",
       "      <td>No</td>\n",
       "      <td>2</td>\n",
       "      <td>$0</td>\n",
       "      <td>10.0</td>\n",
       "      <td>0</td>\n",
       "    </tr>\n",
       "    <tr>\n",
       "      <th>3</th>\n",
       "      <td>727598473</td>\n",
       "      <td>0</td>\n",
       "      <td>35.0</td>\n",
       "      <td>1</td>\n",
       "      <td>10.0</td>\n",
       "      <td>$16,039</td>\n",
       "      <td>No</td>\n",
       "      <td>$124,191</td>\n",
       "      <td>Yes</td>\n",
       "      <td>z_F</td>\n",
       "      <td>...</td>\n",
       "      <td>4</td>\n",
       "      <td>z_SUV</td>\n",
       "      <td>no</td>\n",
       "      <td>$38,690</td>\n",
       "      <td>2</td>\n",
       "      <td>No</td>\n",
       "      <td>3</td>\n",
       "      <td>$0</td>\n",
       "      <td>10.0</td>\n",
       "      <td>0</td>\n",
       "    </tr>\n",
       "    <tr>\n",
       "      <th>4</th>\n",
       "      <td>450221861</td>\n",
       "      <td>0</td>\n",
       "      <td>51.0</td>\n",
       "      <td>0</td>\n",
       "      <td>14.0</td>\n",
       "      <td>NaN</td>\n",
       "      <td>No</td>\n",
       "      <td>$306,251</td>\n",
       "      <td>Yes</td>\n",
       "      <td>M</td>\n",
       "      <td>...</td>\n",
       "      <td>7</td>\n",
       "      <td>Minivan</td>\n",
       "      <td>yes</td>\n",
       "      <td>$0</td>\n",
       "      <td>0</td>\n",
       "      <td>No</td>\n",
       "      <td>0</td>\n",
       "      <td>$0</td>\n",
       "      <td>6.0</td>\n",
       "      <td>0</td>\n",
       "    </tr>\n",
       "  </tbody>\n",
       "</table>\n",
       "<p>5 rows × 25 columns</p>\n",
       "</div>"
      ],
      "text/plain": [
       "          ID  KIDSDRIV   AGE  HOMEKIDS   YOJ   INCOME PARENT1  HOME_VAL  \\\n",
       "0   63581743         0  60.0         0  11.0  $67,349      No        $0   \n",
       "1  132761049         0  43.0         0  11.0  $91,449      No  $257,252   \n",
       "2  921317019         0  48.0         0  11.0  $52,881      No        $0   \n",
       "3  727598473         0  35.0         1  10.0  $16,039      No  $124,191   \n",
       "4  450221861         0  51.0         0  14.0      NaN      No  $306,251   \n",
       "\n",
       "  MSTATUS GENDER  ... TIF CAR_TYPE  RED_CAR OLDCLAIM CLM_FREQ  REVOKED  \\\n",
       "0    z_No      M  ...  11  Minivan      yes   $4,461        2       No   \n",
       "1    z_No      M  ...   1  Minivan      yes       $0        0       No   \n",
       "2    z_No      M  ...   1      Van      yes       $0        0       No   \n",
       "3     Yes    z_F  ...   4    z_SUV       no  $38,690        2       No   \n",
       "4     Yes      M  ...   7  Minivan      yes       $0        0       No   \n",
       "\n",
       "  MVR_PTS CLM_AMT CAR_AGE  CLAIM_FLAG  \n",
       "0       3      $0    18.0           0  \n",
       "1       0      $0     1.0           0  \n",
       "2       2      $0    10.0           0  \n",
       "3       3      $0    10.0           0  \n",
       "4       0      $0     6.0           0  \n",
       "\n",
       "[5 rows x 25 columns]"
      ]
     },
     "execution_count": 4,
     "metadata": {},
     "output_type": "execute_result"
    }
   ],
   "source": [
    "df.head()"
   ]
  },
  {
   "cell_type": "code",
   "execution_count": 5,
   "id": "0c14d93b-40d6-4e0d-a59d-1584a912a526",
   "metadata": {
    "tags": []
   },
   "outputs": [
    {
     "data": {
      "text/html": [
       "<div>\n",
       "<style scoped>\n",
       "    .dataframe tbody tr th:only-of-type {\n",
       "        vertical-align: middle;\n",
       "    }\n",
       "\n",
       "    .dataframe tbody tr th {\n",
       "        vertical-align: top;\n",
       "    }\n",
       "\n",
       "    .dataframe thead th {\n",
       "        text-align: right;\n",
       "    }\n",
       "</style>\n",
       "<table border=\"1\" class=\"dataframe\">\n",
       "  <thead>\n",
       "    <tr style=\"text-align: right;\">\n",
       "      <th></th>\n",
       "      <th>ID</th>\n",
       "      <th>KIDSDRIV</th>\n",
       "      <th>AGE</th>\n",
       "      <th>HOMEKIDS</th>\n",
       "      <th>YOJ</th>\n",
       "      <th>TRAVTIME</th>\n",
       "      <th>TIF</th>\n",
       "      <th>CLM_FREQ</th>\n",
       "      <th>MVR_PTS</th>\n",
       "      <th>CAR_AGE</th>\n",
       "      <th>CLAIM_FLAG</th>\n",
       "    </tr>\n",
       "  </thead>\n",
       "  <tbody>\n",
       "    <tr>\n",
       "      <th>count</th>\n",
       "      <td>1.030200e+04</td>\n",
       "      <td>10302.000000</td>\n",
       "      <td>10295.000000</td>\n",
       "      <td>10302.000000</td>\n",
       "      <td>9754.000000</td>\n",
       "      <td>10302.000000</td>\n",
       "      <td>10302.000000</td>\n",
       "      <td>10302.000000</td>\n",
       "      <td>10302.000000</td>\n",
       "      <td>9663.000000</td>\n",
       "      <td>10302.000000</td>\n",
       "    </tr>\n",
       "    <tr>\n",
       "      <th>mean</th>\n",
       "      <td>4.956631e+08</td>\n",
       "      <td>0.169288</td>\n",
       "      <td>44.837397</td>\n",
       "      <td>0.720443</td>\n",
       "      <td>10.474062</td>\n",
       "      <td>33.416424</td>\n",
       "      <td>5.329159</td>\n",
       "      <td>0.800718</td>\n",
       "      <td>1.710153</td>\n",
       "      <td>8.298148</td>\n",
       "      <td>0.266550</td>\n",
       "    </tr>\n",
       "    <tr>\n",
       "      <th>std</th>\n",
       "      <td>2.864675e+08</td>\n",
       "      <td>0.506512</td>\n",
       "      <td>8.606445</td>\n",
       "      <td>1.116323</td>\n",
       "      <td>4.108943</td>\n",
       "      <td>15.869687</td>\n",
       "      <td>4.110795</td>\n",
       "      <td>1.154079</td>\n",
       "      <td>2.159015</td>\n",
       "      <td>5.714450</td>\n",
       "      <td>0.442177</td>\n",
       "    </tr>\n",
       "    <tr>\n",
       "      <th>min</th>\n",
       "      <td>6.317500e+04</td>\n",
       "      <td>0.000000</td>\n",
       "      <td>16.000000</td>\n",
       "      <td>0.000000</td>\n",
       "      <td>0.000000</td>\n",
       "      <td>5.000000</td>\n",
       "      <td>1.000000</td>\n",
       "      <td>0.000000</td>\n",
       "      <td>0.000000</td>\n",
       "      <td>-3.000000</td>\n",
       "      <td>0.000000</td>\n",
       "    </tr>\n",
       "    <tr>\n",
       "      <th>25%</th>\n",
       "      <td>2.442869e+08</td>\n",
       "      <td>0.000000</td>\n",
       "      <td>39.000000</td>\n",
       "      <td>0.000000</td>\n",
       "      <td>9.000000</td>\n",
       "      <td>22.000000</td>\n",
       "      <td>1.000000</td>\n",
       "      <td>0.000000</td>\n",
       "      <td>0.000000</td>\n",
       "      <td>1.000000</td>\n",
       "      <td>0.000000</td>\n",
       "    </tr>\n",
       "    <tr>\n",
       "      <th>50%</th>\n",
       "      <td>4.970043e+08</td>\n",
       "      <td>0.000000</td>\n",
       "      <td>45.000000</td>\n",
       "      <td>0.000000</td>\n",
       "      <td>11.000000</td>\n",
       "      <td>33.000000</td>\n",
       "      <td>4.000000</td>\n",
       "      <td>0.000000</td>\n",
       "      <td>1.000000</td>\n",
       "      <td>8.000000</td>\n",
       "      <td>0.000000</td>\n",
       "    </tr>\n",
       "    <tr>\n",
       "      <th>75%</th>\n",
       "      <td>7.394551e+08</td>\n",
       "      <td>0.000000</td>\n",
       "      <td>51.000000</td>\n",
       "      <td>1.000000</td>\n",
       "      <td>13.000000</td>\n",
       "      <td>44.000000</td>\n",
       "      <td>7.000000</td>\n",
       "      <td>2.000000</td>\n",
       "      <td>3.000000</td>\n",
       "      <td>12.000000</td>\n",
       "      <td>1.000000</td>\n",
       "    </tr>\n",
       "    <tr>\n",
       "      <th>max</th>\n",
       "      <td>9.999264e+08</td>\n",
       "      <td>4.000000</td>\n",
       "      <td>81.000000</td>\n",
       "      <td>5.000000</td>\n",
       "      <td>23.000000</td>\n",
       "      <td>142.000000</td>\n",
       "      <td>25.000000</td>\n",
       "      <td>5.000000</td>\n",
       "      <td>13.000000</td>\n",
       "      <td>28.000000</td>\n",
       "      <td>1.000000</td>\n",
       "    </tr>\n",
       "  </tbody>\n",
       "</table>\n",
       "</div>"
      ],
      "text/plain": [
       "                 ID      KIDSDRIV           AGE      HOMEKIDS          YOJ  \\\n",
       "count  1.030200e+04  10302.000000  10295.000000  10302.000000  9754.000000   \n",
       "mean   4.956631e+08      0.169288     44.837397      0.720443    10.474062   \n",
       "std    2.864675e+08      0.506512      8.606445      1.116323     4.108943   \n",
       "min    6.317500e+04      0.000000     16.000000      0.000000     0.000000   \n",
       "25%    2.442869e+08      0.000000     39.000000      0.000000     9.000000   \n",
       "50%    4.970043e+08      0.000000     45.000000      0.000000    11.000000   \n",
       "75%    7.394551e+08      0.000000     51.000000      1.000000    13.000000   \n",
       "max    9.999264e+08      4.000000     81.000000      5.000000    23.000000   \n",
       "\n",
       "           TRAVTIME           TIF      CLM_FREQ       MVR_PTS      CAR_AGE  \\\n",
       "count  10302.000000  10302.000000  10302.000000  10302.000000  9663.000000   \n",
       "mean      33.416424      5.329159      0.800718      1.710153     8.298148   \n",
       "std       15.869687      4.110795      1.154079      2.159015     5.714450   \n",
       "min        5.000000      1.000000      0.000000      0.000000    -3.000000   \n",
       "25%       22.000000      1.000000      0.000000      0.000000     1.000000   \n",
       "50%       33.000000      4.000000      0.000000      1.000000     8.000000   \n",
       "75%       44.000000      7.000000      2.000000      3.000000    12.000000   \n",
       "max      142.000000     25.000000      5.000000     13.000000    28.000000   \n",
       "\n",
       "         CLAIM_FLAG  \n",
       "count  10302.000000  \n",
       "mean       0.266550  \n",
       "std        0.442177  \n",
       "min        0.000000  \n",
       "25%        0.000000  \n",
       "50%        0.000000  \n",
       "75%        1.000000  \n",
       "max        1.000000  "
      ]
     },
     "execution_count": 5,
     "metadata": {},
     "output_type": "execute_result"
    }
   ],
   "source": [
    "df.describe()"
   ]
  },
  {
   "cell_type": "code",
   "execution_count": null,
   "id": "a08d86ec-fdb0-4eee-922e-e79f66a31507",
   "metadata": {
    "tags": []
   },
   "outputs": [],
   "source": [
    "### Pandas Profiling ile basic analiz yapıyoruz.\n",
    "# from pandas_profiling import ProfileReport\n",
    "# prof = ProfileReport(df)\n",
    "# prof.to_file(output_file='pp1.html')\n"
   ]
  },
  {
   "cell_type": "code",
   "execution_count": 6,
   "id": "f21236a4-0ee7-4c13-a685-c83cfd08c4e1",
   "metadata": {
    "tags": []
   },
   "outputs": [],
   "source": [
    "### Sayısal olmasına rağmen içinde \"$\" , \",\" vb. geçen değişkenlere feature engineering yapıyoruz.\n",
    "\n",
    "for i in df.columns:\n",
    "    if df[i].dtypes == \"object\":\n",
    "        df[i] = df[i].str.replace('$' , '')\n",
    "        df[i] = df[i].str.replace(',' , '')\n",
    "        try:\n",
    "            df[i] = df[i].astype(float)\n",
    "        except:\n",
    "            pass"
   ]
  },
  {
   "cell_type": "code",
   "execution_count": 7,
   "id": "94719946-f880-4c12-a7a8-f1b1b51311a1",
   "metadata": {
    "tags": []
   },
   "outputs": [
    {
     "data": {
      "text/html": [
       "<div>\n",
       "<style scoped>\n",
       "    .dataframe tbody tr th:only-of-type {\n",
       "        vertical-align: middle;\n",
       "    }\n",
       "\n",
       "    .dataframe tbody tr th {\n",
       "        vertical-align: top;\n",
       "    }\n",
       "\n",
       "    .dataframe thead th {\n",
       "        text-align: right;\n",
       "    }\n",
       "</style>\n",
       "<table border=\"1\" class=\"dataframe\">\n",
       "  <thead>\n",
       "    <tr style=\"text-align: right;\">\n",
       "      <th></th>\n",
       "      <th>ID</th>\n",
       "      <th>KIDSDRIV</th>\n",
       "      <th>AGE</th>\n",
       "      <th>HOMEKIDS</th>\n",
       "      <th>YOJ</th>\n",
       "      <th>INCOME</th>\n",
       "      <th>HOME_VAL</th>\n",
       "      <th>TRAVTIME</th>\n",
       "      <th>BLUEBOOK</th>\n",
       "      <th>TIF</th>\n",
       "      <th>OLDCLAIM</th>\n",
       "      <th>CLM_FREQ</th>\n",
       "      <th>MVR_PTS</th>\n",
       "      <th>CLM_AMT</th>\n",
       "      <th>CAR_AGE</th>\n",
       "      <th>CLAIM_FLAG</th>\n",
       "    </tr>\n",
       "  </thead>\n",
       "  <tbody>\n",
       "    <tr>\n",
       "      <th>count</th>\n",
       "      <td>1.030200e+04</td>\n",
       "      <td>10302.000000</td>\n",
       "      <td>10295.000000</td>\n",
       "      <td>10302.000000</td>\n",
       "      <td>9754.000000</td>\n",
       "      <td>9732.000000</td>\n",
       "      <td>9727.000000</td>\n",
       "      <td>10302.000000</td>\n",
       "      <td>10302.000000</td>\n",
       "      <td>10302.000000</td>\n",
       "      <td>10302.000000</td>\n",
       "      <td>10302.000000</td>\n",
       "      <td>10302.000000</td>\n",
       "      <td>10302.000000</td>\n",
       "      <td>9663.000000</td>\n",
       "      <td>10302.000000</td>\n",
       "    </tr>\n",
       "    <tr>\n",
       "      <th>mean</th>\n",
       "      <td>4.956631e+08</td>\n",
       "      <td>0.169288</td>\n",
       "      <td>44.837397</td>\n",
       "      <td>0.720443</td>\n",
       "      <td>10.474062</td>\n",
       "      <td>61572.073263</td>\n",
       "      <td>154523.018608</td>\n",
       "      <td>33.416424</td>\n",
       "      <td>15659.923316</td>\n",
       "      <td>5.329159</td>\n",
       "      <td>4033.977868</td>\n",
       "      <td>0.800718</td>\n",
       "      <td>1.710153</td>\n",
       "      <td>1511.266453</td>\n",
       "      <td>8.298148</td>\n",
       "      <td>0.266550</td>\n",
       "    </tr>\n",
       "    <tr>\n",
       "      <th>std</th>\n",
       "      <td>2.864675e+08</td>\n",
       "      <td>0.506512</td>\n",
       "      <td>8.606445</td>\n",
       "      <td>1.116323</td>\n",
       "      <td>4.108943</td>\n",
       "      <td>47457.202749</td>\n",
       "      <td>129188.439405</td>\n",
       "      <td>15.869687</td>\n",
       "      <td>8428.765264</td>\n",
       "      <td>4.110795</td>\n",
       "      <td>8733.143119</td>\n",
       "      <td>1.154079</td>\n",
       "      <td>2.159015</td>\n",
       "      <td>4725.249896</td>\n",
       "      <td>5.714450</td>\n",
       "      <td>0.442177</td>\n",
       "    </tr>\n",
       "    <tr>\n",
       "      <th>min</th>\n",
       "      <td>6.317500e+04</td>\n",
       "      <td>0.000000</td>\n",
       "      <td>16.000000</td>\n",
       "      <td>0.000000</td>\n",
       "      <td>0.000000</td>\n",
       "      <td>0.000000</td>\n",
       "      <td>0.000000</td>\n",
       "      <td>5.000000</td>\n",
       "      <td>1500.000000</td>\n",
       "      <td>1.000000</td>\n",
       "      <td>0.000000</td>\n",
       "      <td>0.000000</td>\n",
       "      <td>0.000000</td>\n",
       "      <td>0.000000</td>\n",
       "      <td>-3.000000</td>\n",
       "      <td>0.000000</td>\n",
       "    </tr>\n",
       "    <tr>\n",
       "      <th>25%</th>\n",
       "      <td>2.442869e+08</td>\n",
       "      <td>0.000000</td>\n",
       "      <td>39.000000</td>\n",
       "      <td>0.000000</td>\n",
       "      <td>9.000000</td>\n",
       "      <td>27584.000000</td>\n",
       "      <td>0.000000</td>\n",
       "      <td>22.000000</td>\n",
       "      <td>9200.000000</td>\n",
       "      <td>1.000000</td>\n",
       "      <td>0.000000</td>\n",
       "      <td>0.000000</td>\n",
       "      <td>0.000000</td>\n",
       "      <td>0.000000</td>\n",
       "      <td>1.000000</td>\n",
       "      <td>0.000000</td>\n",
       "    </tr>\n",
       "    <tr>\n",
       "      <th>50%</th>\n",
       "      <td>4.970043e+08</td>\n",
       "      <td>0.000000</td>\n",
       "      <td>45.000000</td>\n",
       "      <td>0.000000</td>\n",
       "      <td>11.000000</td>\n",
       "      <td>53529.000000</td>\n",
       "      <td>160661.000000</td>\n",
       "      <td>33.000000</td>\n",
       "      <td>14400.000000</td>\n",
       "      <td>4.000000</td>\n",
       "      <td>0.000000</td>\n",
       "      <td>0.000000</td>\n",
       "      <td>1.000000</td>\n",
       "      <td>0.000000</td>\n",
       "      <td>8.000000</td>\n",
       "      <td>0.000000</td>\n",
       "    </tr>\n",
       "    <tr>\n",
       "      <th>75%</th>\n",
       "      <td>7.394551e+08</td>\n",
       "      <td>0.000000</td>\n",
       "      <td>51.000000</td>\n",
       "      <td>1.000000</td>\n",
       "      <td>13.000000</td>\n",
       "      <td>86166.000000</td>\n",
       "      <td>238256.000000</td>\n",
       "      <td>44.000000</td>\n",
       "      <td>20890.000000</td>\n",
       "      <td>7.000000</td>\n",
       "      <td>4647.500000</td>\n",
       "      <td>2.000000</td>\n",
       "      <td>3.000000</td>\n",
       "      <td>1144.750000</td>\n",
       "      <td>12.000000</td>\n",
       "      <td>1.000000</td>\n",
       "    </tr>\n",
       "    <tr>\n",
       "      <th>max</th>\n",
       "      <td>9.999264e+08</td>\n",
       "      <td>4.000000</td>\n",
       "      <td>81.000000</td>\n",
       "      <td>5.000000</td>\n",
       "      <td>23.000000</td>\n",
       "      <td>367030.000000</td>\n",
       "      <td>885282.000000</td>\n",
       "      <td>142.000000</td>\n",
       "      <td>69740.000000</td>\n",
       "      <td>25.000000</td>\n",
       "      <td>57037.000000</td>\n",
       "      <td>5.000000</td>\n",
       "      <td>13.000000</td>\n",
       "      <td>123247.000000</td>\n",
       "      <td>28.000000</td>\n",
       "      <td>1.000000</td>\n",
       "    </tr>\n",
       "  </tbody>\n",
       "</table>\n",
       "</div>"
      ],
      "text/plain": [
       "                 ID      KIDSDRIV           AGE      HOMEKIDS          YOJ  \\\n",
       "count  1.030200e+04  10302.000000  10295.000000  10302.000000  9754.000000   \n",
       "mean   4.956631e+08      0.169288     44.837397      0.720443    10.474062   \n",
       "std    2.864675e+08      0.506512      8.606445      1.116323     4.108943   \n",
       "min    6.317500e+04      0.000000     16.000000      0.000000     0.000000   \n",
       "25%    2.442869e+08      0.000000     39.000000      0.000000     9.000000   \n",
       "50%    4.970043e+08      0.000000     45.000000      0.000000    11.000000   \n",
       "75%    7.394551e+08      0.000000     51.000000      1.000000    13.000000   \n",
       "max    9.999264e+08      4.000000     81.000000      5.000000    23.000000   \n",
       "\n",
       "              INCOME       HOME_VAL      TRAVTIME      BLUEBOOK           TIF  \\\n",
       "count    9732.000000    9727.000000  10302.000000  10302.000000  10302.000000   \n",
       "mean    61572.073263  154523.018608     33.416424  15659.923316      5.329159   \n",
       "std     47457.202749  129188.439405     15.869687   8428.765264      4.110795   \n",
       "min         0.000000       0.000000      5.000000   1500.000000      1.000000   \n",
       "25%     27584.000000       0.000000     22.000000   9200.000000      1.000000   \n",
       "50%     53529.000000  160661.000000     33.000000  14400.000000      4.000000   \n",
       "75%     86166.000000  238256.000000     44.000000  20890.000000      7.000000   \n",
       "max    367030.000000  885282.000000    142.000000  69740.000000     25.000000   \n",
       "\n",
       "           OLDCLAIM      CLM_FREQ       MVR_PTS        CLM_AMT      CAR_AGE  \\\n",
       "count  10302.000000  10302.000000  10302.000000   10302.000000  9663.000000   \n",
       "mean    4033.977868      0.800718      1.710153    1511.266453     8.298148   \n",
       "std     8733.143119      1.154079      2.159015    4725.249896     5.714450   \n",
       "min        0.000000      0.000000      0.000000       0.000000    -3.000000   \n",
       "25%        0.000000      0.000000      0.000000       0.000000     1.000000   \n",
       "50%        0.000000      0.000000      1.000000       0.000000     8.000000   \n",
       "75%     4647.500000      2.000000      3.000000    1144.750000    12.000000   \n",
       "max    57037.000000      5.000000     13.000000  123247.000000    28.000000   \n",
       "\n",
       "         CLAIM_FLAG  \n",
       "count  10302.000000  \n",
       "mean       0.266550  \n",
       "std        0.442177  \n",
       "min        0.000000  \n",
       "25%        0.000000  \n",
       "50%        0.000000  \n",
       "75%        1.000000  \n",
       "max        1.000000  "
      ]
     },
     "execution_count": 7,
     "metadata": {},
     "output_type": "execute_result"
    }
   ],
   "source": [
    "df.describe()"
   ]
  },
  {
   "cell_type": "code",
   "execution_count": 77,
   "id": "50b9fa36-2d3a-40ae-8c82-aafa076a1b4c",
   "metadata": {
    "tags": []
   },
   "outputs": [],
   "source": [
    "df = df.drop([\"ID\"],axis=1)"
   ]
  },
  {
   "cell_type": "code",
   "execution_count": 78,
   "id": "b2e4392c-b301-4953-8a52-9465702a0bb5",
   "metadata": {
    "tags": []
   },
   "outputs": [],
   "source": [
    "X = df.drop([\"CLAIM_FLAG\"],axis=1)\n",
    "y = df.CLAIM_FLAG"
   ]
  },
  {
   "cell_type": "code",
   "execution_count": 79,
   "id": "84abd508-3e56-4a28-bd30-473755147482",
   "metadata": {
    "tags": []
   },
   "outputs": [],
   "source": [
    "X_train , X_test , y_train , y_test = train_test_split(X,y , test_size = 0.2 , random_state = 43, stratify=df.CLAIM_FLAG)"
   ]
  },
  {
   "cell_type": "code",
   "execution_count": 80,
   "id": "ecf10984-afbe-49d9-8c83-d91dc8d2b6a9",
   "metadata": {
    "tags": []
   },
   "outputs": [
    {
     "name": "stdout",
     "output_type": "stream",
     "text": [
      "Train dataset freq mean : 26.66%\n",
      "Test dataset freq mean : 26.64%\n"
     ]
    }
   ],
   "source": [
    "p1 = sum(y_train) / len(y_train)\n",
    "p2 = sum(y_test) / len(y_test)\n",
    "print(f\"Train dataset freq mean : {p1:.2%}\")\n",
    "print(f\"Test dataset freq mean : {p2:.2%}\")"
   ]
  },
  {
   "cell_type": "code",
   "execution_count": 81,
   "id": "0329b45d-c4b1-48fd-b508-b1656862b6fa",
   "metadata": {
    "tags": []
   },
   "outputs": [],
   "source": [
    "X_train_target_encoded = X_train.copy()\n",
    "target_encoder = TargetEncoder()\n",
    "X_train_encoded = target_encoder.fit_transform(X_train_target_encoded, y_train)\n"
   ]
  },
  {
   "cell_type": "code",
   "execution_count": 82,
   "id": "28ffec68-0672-4f80-b60b-d22f5ea96560",
   "metadata": {
    "tags": []
   },
   "outputs": [],
   "source": [
    "# Create a list of models\n",
    "models = [xgb.XGBClassifier()]\n",
    "\n",
    "# Create a function to fit and score models\n",
    "def fit_and_score(X_train, y_train):\n",
    "    \n",
    "    # Dictionary to store results\n",
    "    results = {}\n",
    "    \n",
    "    # Loop through models\n",
    "    for model in models:\n",
    "        # Create cross-validation object\n",
    "        cv = cross_val_score(model, X_train, y_train, cv=5, scoring='recall')\n",
    "  \n",
    "        # Store results\n",
    "        results[str(model).split('(')[0]] = cv\n",
    "  \n",
    "        \n",
    "    return results\n",
    "\n",
    "# Store results in a dataframe\n",
    "df_cv2 = pd.DataFrame(fit_and_score(X_train_encoded, y_train))\n"
   ]
  },
  {
   "cell_type": "code",
   "execution_count": 83,
   "id": "b954b476-a80c-403e-91c7-153db876eb60",
   "metadata": {},
   "outputs": [
    {
     "data": {
      "text/html": [
       "<div>\n",
       "<style scoped>\n",
       "    .dataframe tbody tr th:only-of-type {\n",
       "        vertical-align: middle;\n",
       "    }\n",
       "\n",
       "    .dataframe tbody tr th {\n",
       "        vertical-align: top;\n",
       "    }\n",
       "\n",
       "    .dataframe thead th {\n",
       "        text-align: right;\n",
       "    }\n",
       "</style>\n",
       "<table border=\"1\" class=\"dataframe\">\n",
       "  <thead>\n",
       "    <tr style=\"text-align: right;\">\n",
       "      <th></th>\n",
       "      <th>XGBClassifier</th>\n",
       "    </tr>\n",
       "  </thead>\n",
       "  <tbody>\n",
       "    <tr>\n",
       "      <th>0</th>\n",
       "      <td>1.0</td>\n",
       "    </tr>\n",
       "    <tr>\n",
       "      <th>1</th>\n",
       "      <td>1.0</td>\n",
       "    </tr>\n",
       "    <tr>\n",
       "      <th>2</th>\n",
       "      <td>1.0</td>\n",
       "    </tr>\n",
       "    <tr>\n",
       "      <th>3</th>\n",
       "      <td>1.0</td>\n",
       "    </tr>\n",
       "    <tr>\n",
       "      <th>4</th>\n",
       "      <td>1.0</td>\n",
       "    </tr>\n",
       "  </tbody>\n",
       "</table>\n",
       "</div>"
      ],
      "text/plain": [
       "   XGBClassifier\n",
       "0            1.0\n",
       "1            1.0\n",
       "2            1.0\n",
       "3            1.0\n",
       "4            1.0"
      ]
     },
     "execution_count": 83,
     "metadata": {},
     "output_type": "execute_result"
    }
   ],
   "source": [
    "df_cv2"
   ]
  },
  {
   "cell_type": "code",
   "execution_count": 84,
   "id": "20cefc42-602f-4ca6-be91-9e517f0d5168",
   "metadata": {
    "tags": []
   },
   "outputs": [
    {
     "data": {
      "text/html": [
       "<div>\n",
       "<style scoped>\n",
       "    .dataframe tbody tr th:only-of-type {\n",
       "        vertical-align: middle;\n",
       "    }\n",
       "\n",
       "    .dataframe tbody tr th {\n",
       "        vertical-align: top;\n",
       "    }\n",
       "\n",
       "    .dataframe thead th {\n",
       "        text-align: right;\n",
       "    }\n",
       "</style>\n",
       "<table border=\"1\" class=\"dataframe\">\n",
       "  <thead>\n",
       "    <tr style=\"text-align: right;\">\n",
       "      <th></th>\n",
       "      <th>KIDSDRIV</th>\n",
       "      <th>AGE</th>\n",
       "      <th>HOMEKIDS</th>\n",
       "      <th>YOJ</th>\n",
       "      <th>INCOME</th>\n",
       "      <th>PARENT1</th>\n",
       "      <th>HOME_VAL</th>\n",
       "      <th>MSTATUS</th>\n",
       "      <th>GENDER</th>\n",
       "      <th>EDUCATION</th>\n",
       "      <th>...</th>\n",
       "      <th>BLUEBOOK</th>\n",
       "      <th>TIF</th>\n",
       "      <th>CAR_TYPE</th>\n",
       "      <th>RED_CAR</th>\n",
       "      <th>OLDCLAIM</th>\n",
       "      <th>CLM_FREQ</th>\n",
       "      <th>REVOKED</th>\n",
       "      <th>MVR_PTS</th>\n",
       "      <th>CLM_AMT</th>\n",
       "      <th>CAR_AGE</th>\n",
       "    </tr>\n",
       "  </thead>\n",
       "  <tbody>\n",
       "    <tr>\n",
       "      <th>1054</th>\n",
       "      <td>0</td>\n",
       "      <td>37.0</td>\n",
       "      <td>1</td>\n",
       "      <td>9.0</td>\n",
       "      <td>67175.0</td>\n",
       "      <td>0.454374</td>\n",
       "      <td>0.0</td>\n",
       "      <td>0.334652</td>\n",
       "      <td>0.275800</td>\n",
       "      <td>0.166441</td>\n",
       "      <td>...</td>\n",
       "      <td>23340.0</td>\n",
       "      <td>9</td>\n",
       "      <td>0.313210</td>\n",
       "      <td>0.268786</td>\n",
       "      <td>0.0</td>\n",
       "      <td>0</td>\n",
       "      <td>0.240648</td>\n",
       "      <td>5</td>\n",
       "      <td>0.0</td>\n",
       "      <td>22.0</td>\n",
       "    </tr>\n",
       "    <tr>\n",
       "      <th>4364</th>\n",
       "      <td>0</td>\n",
       "      <td>61.0</td>\n",
       "      <td>0</td>\n",
       "      <td>11.0</td>\n",
       "      <td>24049.0</td>\n",
       "      <td>0.238785</td>\n",
       "      <td>0.0</td>\n",
       "      <td>0.334652</td>\n",
       "      <td>0.255851</td>\n",
       "      <td>0.346598</td>\n",
       "      <td>...</td>\n",
       "      <td>10000.0</td>\n",
       "      <td>1</td>\n",
       "      <td>0.345679</td>\n",
       "      <td>0.261128</td>\n",
       "      <td>0.0</td>\n",
       "      <td>0</td>\n",
       "      <td>0.240648</td>\n",
       "      <td>0</td>\n",
       "      <td>0.0</td>\n",
       "      <td>7.0</td>\n",
       "    </tr>\n",
       "    <tr>\n",
       "      <th>4503</th>\n",
       "      <td>0</td>\n",
       "      <td>51.0</td>\n",
       "      <td>1</td>\n",
       "      <td>0.0</td>\n",
       "      <td>0.0</td>\n",
       "      <td>0.238785</td>\n",
       "      <td>0.0</td>\n",
       "      <td>0.221437</td>\n",
       "      <td>0.275800</td>\n",
       "      <td>0.346598</td>\n",
       "      <td>...</td>\n",
       "      <td>11800.0</td>\n",
       "      <td>7</td>\n",
       "      <td>0.290591</td>\n",
       "      <td>0.268786</td>\n",
       "      <td>0.0</td>\n",
       "      <td>0</td>\n",
       "      <td>0.240648</td>\n",
       "      <td>0</td>\n",
       "      <td>0.0</td>\n",
       "      <td>11.0</td>\n",
       "    </tr>\n",
       "    <tr>\n",
       "      <th>10226</th>\n",
       "      <td>0</td>\n",
       "      <td>50.0</td>\n",
       "      <td>0</td>\n",
       "      <td>11.0</td>\n",
       "      <td>127468.0</td>\n",
       "      <td>0.238785</td>\n",
       "      <td>304399.0</td>\n",
       "      <td>0.221437</td>\n",
       "      <td>0.275800</td>\n",
       "      <td>0.166441</td>\n",
       "      <td>...</td>\n",
       "      <td>6500.0</td>\n",
       "      <td>4</td>\n",
       "      <td>0.290591</td>\n",
       "      <td>0.268786</td>\n",
       "      <td>0.0</td>\n",
       "      <td>0</td>\n",
       "      <td>0.240648</td>\n",
       "      <td>2</td>\n",
       "      <td>0.0</td>\n",
       "      <td>10.0</td>\n",
       "    </tr>\n",
       "    <tr>\n",
       "      <th>409</th>\n",
       "      <td>0</td>\n",
       "      <td>44.0</td>\n",
       "      <td>0</td>\n",
       "      <td>12.0</td>\n",
       "      <td>39852.0</td>\n",
       "      <td>0.238785</td>\n",
       "      <td>125283.0</td>\n",
       "      <td>0.221437</td>\n",
       "      <td>0.275800</td>\n",
       "      <td>0.346598</td>\n",
       "      <td>...</td>\n",
       "      <td>7410.0</td>\n",
       "      <td>1</td>\n",
       "      <td>0.290591</td>\n",
       "      <td>0.268786</td>\n",
       "      <td>3704.0</td>\n",
       "      <td>2</td>\n",
       "      <td>0.240648</td>\n",
       "      <td>0</td>\n",
       "      <td>0.0</td>\n",
       "      <td>6.0</td>\n",
       "    </tr>\n",
       "    <tr>\n",
       "      <th>...</th>\n",
       "      <td>...</td>\n",
       "      <td>...</td>\n",
       "      <td>...</td>\n",
       "      <td>...</td>\n",
       "      <td>...</td>\n",
       "      <td>...</td>\n",
       "      <td>...</td>\n",
       "      <td>...</td>\n",
       "      <td>...</td>\n",
       "      <td>...</td>\n",
       "      <td>...</td>\n",
       "      <td>...</td>\n",
       "      <td>...</td>\n",
       "      <td>...</td>\n",
       "      <td>...</td>\n",
       "      <td>...</td>\n",
       "      <td>...</td>\n",
       "      <td>...</td>\n",
       "      <td>...</td>\n",
       "      <td>...</td>\n",
       "      <td>...</td>\n",
       "    </tr>\n",
       "    <tr>\n",
       "      <th>493</th>\n",
       "      <td>0</td>\n",
       "      <td>33.0</td>\n",
       "      <td>2</td>\n",
       "      <td>9.0</td>\n",
       "      <td>31675.0</td>\n",
       "      <td>0.238785</td>\n",
       "      <td>159621.0</td>\n",
       "      <td>0.221437</td>\n",
       "      <td>0.275800</td>\n",
       "      <td>0.346598</td>\n",
       "      <td>...</td>\n",
       "      <td>9130.0</td>\n",
       "      <td>7</td>\n",
       "      <td>0.345679</td>\n",
       "      <td>0.268786</td>\n",
       "      <td>32882.0</td>\n",
       "      <td>1</td>\n",
       "      <td>0.449658</td>\n",
       "      <td>6</td>\n",
       "      <td>7719.0</td>\n",
       "      <td>1.0</td>\n",
       "    </tr>\n",
       "    <tr>\n",
       "      <th>1265</th>\n",
       "      <td>0</td>\n",
       "      <td>40.0</td>\n",
       "      <td>0</td>\n",
       "      <td>0.0</td>\n",
       "      <td>0.0</td>\n",
       "      <td>0.238785</td>\n",
       "      <td>55761.0</td>\n",
       "      <td>0.334652</td>\n",
       "      <td>0.275800</td>\n",
       "      <td>0.196633</td>\n",
       "      <td>...</td>\n",
       "      <td>17840.0</td>\n",
       "      <td>1</td>\n",
       "      <td>0.290591</td>\n",
       "      <td>0.268786</td>\n",
       "      <td>0.0</td>\n",
       "      <td>0</td>\n",
       "      <td>0.240648</td>\n",
       "      <td>3</td>\n",
       "      <td>0.0</td>\n",
       "      <td>18.0</td>\n",
       "    </tr>\n",
       "    <tr>\n",
       "      <th>2674</th>\n",
       "      <td>1</td>\n",
       "      <td>39.0</td>\n",
       "      <td>2</td>\n",
       "      <td>12.0</td>\n",
       "      <td>61612.0</td>\n",
       "      <td>0.238785</td>\n",
       "      <td>219629.0</td>\n",
       "      <td>0.221437</td>\n",
       "      <td>0.275800</td>\n",
       "      <td>0.346598</td>\n",
       "      <td>...</td>\n",
       "      <td>24780.0</td>\n",
       "      <td>4</td>\n",
       "      <td>0.313210</td>\n",
       "      <td>0.268786</td>\n",
       "      <td>0.0</td>\n",
       "      <td>0</td>\n",
       "      <td>0.240648</td>\n",
       "      <td>0</td>\n",
       "      <td>0.0</td>\n",
       "      <td>1.0</td>\n",
       "    </tr>\n",
       "    <tr>\n",
       "      <th>4292</th>\n",
       "      <td>0</td>\n",
       "      <td>45.0</td>\n",
       "      <td>2</td>\n",
       "      <td>13.0</td>\n",
       "      <td>39163.0</td>\n",
       "      <td>0.238785</td>\n",
       "      <td>168058.0</td>\n",
       "      <td>0.221437</td>\n",
       "      <td>0.275800</td>\n",
       "      <td>0.346598</td>\n",
       "      <td>...</td>\n",
       "      <td>9920.0</td>\n",
       "      <td>4</td>\n",
       "      <td>0.290591</td>\n",
       "      <td>0.268786</td>\n",
       "      <td>36025.0</td>\n",
       "      <td>3</td>\n",
       "      <td>0.240648</td>\n",
       "      <td>7</td>\n",
       "      <td>0.0</td>\n",
       "      <td>4.0</td>\n",
       "    </tr>\n",
       "    <tr>\n",
       "      <th>1403</th>\n",
       "      <td>0</td>\n",
       "      <td>44.0</td>\n",
       "      <td>0</td>\n",
       "      <td>11.0</td>\n",
       "      <td>62346.0</td>\n",
       "      <td>0.238785</td>\n",
       "      <td>0.0</td>\n",
       "      <td>0.334652</td>\n",
       "      <td>0.255851</td>\n",
       "      <td>0.196633</td>\n",
       "      <td>...</td>\n",
       "      <td>5900.0</td>\n",
       "      <td>1</td>\n",
       "      <td>0.313210</td>\n",
       "      <td>0.261128</td>\n",
       "      <td>0.0</td>\n",
       "      <td>0</td>\n",
       "      <td>0.449658</td>\n",
       "      <td>0</td>\n",
       "      <td>0.0</td>\n",
       "      <td>18.0</td>\n",
       "    </tr>\n",
       "  </tbody>\n",
       "</table>\n",
       "<p>2061 rows × 23 columns</p>\n",
       "</div>"
      ],
      "text/plain": [
       "       KIDSDRIV   AGE  HOMEKIDS   YOJ    INCOME   PARENT1  HOME_VAL   MSTATUS  \\\n",
       "1054          0  37.0         1   9.0   67175.0  0.454374       0.0  0.334652   \n",
       "4364          0  61.0         0  11.0   24049.0  0.238785       0.0  0.334652   \n",
       "4503          0  51.0         1   0.0       0.0  0.238785       0.0  0.221437   \n",
       "10226         0  50.0         0  11.0  127468.0  0.238785  304399.0  0.221437   \n",
       "409           0  44.0         0  12.0   39852.0  0.238785  125283.0  0.221437   \n",
       "...         ...   ...       ...   ...       ...       ...       ...       ...   \n",
       "493           0  33.0         2   9.0   31675.0  0.238785  159621.0  0.221437   \n",
       "1265          0  40.0         0   0.0       0.0  0.238785   55761.0  0.334652   \n",
       "2674          1  39.0         2  12.0   61612.0  0.238785  219629.0  0.221437   \n",
       "4292          0  45.0         2  13.0   39163.0  0.238785  168058.0  0.221437   \n",
       "1403          0  44.0         0  11.0   62346.0  0.238785       0.0  0.334652   \n",
       "\n",
       "         GENDER  EDUCATION  ...  BLUEBOOK  TIF  CAR_TYPE   RED_CAR  OLDCLAIM  \\\n",
       "1054   0.275800   0.166441  ...   23340.0    9  0.313210  0.268786       0.0   \n",
       "4364   0.255851   0.346598  ...   10000.0    1  0.345679  0.261128       0.0   \n",
       "4503   0.275800   0.346598  ...   11800.0    7  0.290591  0.268786       0.0   \n",
       "10226  0.275800   0.166441  ...    6500.0    4  0.290591  0.268786       0.0   \n",
       "409    0.275800   0.346598  ...    7410.0    1  0.290591  0.268786    3704.0   \n",
       "...         ...        ...  ...       ...  ...       ...       ...       ...   \n",
       "493    0.275800   0.346598  ...    9130.0    7  0.345679  0.268786   32882.0   \n",
       "1265   0.275800   0.196633  ...   17840.0    1  0.290591  0.268786       0.0   \n",
       "2674   0.275800   0.346598  ...   24780.0    4  0.313210  0.268786       0.0   \n",
       "4292   0.275800   0.346598  ...    9920.0    4  0.290591  0.268786   36025.0   \n",
       "1403   0.255851   0.196633  ...    5900.0    1  0.313210  0.261128       0.0   \n",
       "\n",
       "       CLM_FREQ   REVOKED  MVR_PTS  CLM_AMT  CAR_AGE  \n",
       "1054          0  0.240648        5      0.0     22.0  \n",
       "4364          0  0.240648        0      0.0      7.0  \n",
       "4503          0  0.240648        0      0.0     11.0  \n",
       "10226         0  0.240648        2      0.0     10.0  \n",
       "409           2  0.240648        0      0.0      6.0  \n",
       "...         ...       ...      ...      ...      ...  \n",
       "493           1  0.449658        6   7719.0      1.0  \n",
       "1265          0  0.240648        3      0.0     18.0  \n",
       "2674          0  0.240648        0      0.0      1.0  \n",
       "4292          3  0.240648        7      0.0      4.0  \n",
       "1403          0  0.449658        0      0.0     18.0  \n",
       "\n",
       "[2061 rows x 23 columns]"
      ]
     },
     "execution_count": 84,
     "metadata": {},
     "output_type": "execute_result"
    }
   ],
   "source": [
    "### BOOSTING MODELIYLE DEVAM EDELIM\n",
    "\n",
    "xgb_cl = xgb.XGBClassifier()\n",
    "xgb_cl.fit(X_train_encoded,y_train)\n",
    "\n",
    "X_test = target_encoder.transform(X_test)\n",
    "X_test"
   ]
  },
  {
   "cell_type": "code",
   "execution_count": 85,
   "id": "7bf83445-6652-43ae-8a5d-5de1f7690d01",
   "metadata": {
    "tags": []
   },
   "outputs": [
    {
     "name": "stdout",
     "output_type": "stream",
     "text": [
      "              precision    recall  f1-score   support\n",
      "\n",
      "           0       1.00      1.00      1.00      1512\n",
      "           1       1.00      1.00      1.00       549\n",
      "\n",
      "    accuracy                           1.00      2061\n",
      "   macro avg       1.00      1.00      1.00      2061\n",
      "weighted avg       1.00      1.00      1.00      2061\n",
      "\n"
     ]
    },
    {
     "data": {
      "image/png": "[encoded data removed]",
      "text/plain": [
       "<Figure size 720x720 with 2 Axes>"
      ]
     },
     "metadata": {
      "needs_background": "light"
     },
     "output_type": "display_data"
    }
   ],
   "source": [
    "pred = xgb_cl.predict(X_test)\n",
    "conf_mat = confusion_matrix(y_test, pred)\n",
    "print(metrics.classification_report(y_test,pred))\n",
    "fig, ax = plt.subplots(figsize=(10,10))\n",
    "sns.heatmap(conf_mat, annot=True, fmt='d')\n",
    "plt.ylabel('Actual')\n",
    "plt.xlabel('Predicted')\n",
    "plt.show()"
   ]
  },
  {
   "cell_type": "code",
   "execution_count": 86,
   "id": "740dd04c-3024-4607-aee0-c9800754fdb1",
   "metadata": {
    "tags": []
   },
   "outputs": [
    {
     "data": {
      "text/plain": [
       "<AxesSubplot:title={'center':'Feature importance'}, xlabel='F score', ylabel='Features'>"
      ]
     },
     "execution_count": 86,
     "metadata": {},
     "output_type": "execute_result"
    },
    {
     "data": {
      "image/png": "[encoded data removed]",
      "text/plain": [
       "<Figure size 432x288 with 1 Axes>"
      ]
     },
     "metadata": {
      "needs_background": "light"
     },
     "output_type": "display_data"
    }
   ],
   "source": [
    "plot_importance(xgb_cl)"
   ]
  },
  {
   "cell_type": "code",
   "execution_count": 87,
   "id": "ad1479fa-5ea2-4b25-862d-95408936fe2e",
   "metadata": {
    "tags": []
   },
   "outputs": [
    {
     "name": "stdout",
     "output_type": "stream",
     "text": [
      "              precision    recall  f1-score   support\n",
      "\n",
      "           0       0.75      0.96      0.84      1512\n",
      "           1       0.54      0.14      0.23       549\n",
      "\n",
      "    accuracy                           0.74      2061\n",
      "   macro avg       0.65      0.55      0.54      2061\n",
      "weighted avg       0.70      0.74      0.68      2061\n",
      "\n"
     ]
    },
    {
     "data": {
      "image/png": "[encoded data removed]",
      "text/plain": [
       "<Figure size 720x720 with 2 Axes>"
      ]
     },
     "metadata": {
      "needs_background": "light"
     },
     "output_type": "display_data"
    }
   ],
   "source": [
    "### BOOSTING MODELIYLE DEVAM EDELIM\n",
    "\n",
    "xgb_cl = xgb.XGBClassifier()\n",
    "X_train_encoded2 = X_train_encoded.drop([\"CLM_AMT\"],axis=1)\n",
    "xgb_cl.fit(X_train_encoded2,y_train)\n",
    "\n",
    "X_test = target_encoder.transform(X_test)\n",
    "X_test2 = X_test.drop([\"CLM_AMT\"],axis=1)\n",
    "\n",
    "pred = xgb_cl.predict(X_test2)\n",
    "conf_mat = confusion_matrix(y_test, pred)\n",
    "print(metrics.classification_report(y_test,pred))\n",
    "fig, ax = plt.subplots(figsize=(10,10))\n",
    "sns.heatmap(conf_mat, annot=True, fmt='d')\n",
    "plt.ylabel('Actual')\n",
    "plt.xlabel('Predicted')\n",
    "plt.show()"
   ]
  },
  {
   "cell_type": "code",
   "execution_count": 88,
   "id": "08b9b785-55aa-4ca1-90de-0aeaafb0554c",
   "metadata": {
    "tags": []
   },
   "outputs": [],
   "source": [
    "def objective(trial):\n",
    "    \"\"\"Define the objective function\"\"\"\n",
    "\n",
    "    params = {\n",
    "        'max_depth': trial.suggest_int('max_depth', 1, 9),\n",
    "        'learning_rate': trial.suggest_loguniform('learning_rate', 0.01, 1.0),\n",
    "        'n_estimators': trial.suggest_int('n_estimators', 50, 500),\n",
    "        'min_child_weight': trial.suggest_int('min_child_weight', 1, 10),\n",
    "        'gamma': trial.suggest_loguniform('gamma', 1e-8, 1.0),\n",
    "        'subsample': trial.suggest_loguniform('subsample', 0.01, 1.0),\n",
    "        'colsample_bytree': trial.suggest_loguniform('colsample_bytree', 0.01, 1.0),\n",
    "        'reg_alpha': trial.suggest_loguniform('reg_alpha', 1e-8, 1.0),\n",
    "        'reg_lambda': trial.suggest_loguniform('reg_lambda', 1e-8, 1.0),\n",
    "        'eval_metric': 'mlogloss',\n",
    "        'use_label_encoder': False\n",
    "    }\n",
    "    # Fit the model\n",
    "    optuna_model = xgb.XGBClassifier(**params)\n",
    "    optuna_model.fit(X_train_encoded2, y_train)\n",
    "\n",
    "    # Make predictions\n",
    "    y_pred = optuna_model.predict(X_test2)\n",
    "\n",
    "    # Evaluate predictions\n",
    "    f1score = f1_score(y_test, y_pred)\n",
    "    return f1score"
   ]
  },
  {
   "cell_type": "code",
   "execution_count": 89,
   "id": "46c11f18-982c-4dfa-80d6-3ec16f2df804",
   "metadata": {
    "tags": []
   },
   "outputs": [
    {
     "name": "stderr",
     "output_type": "stream",
     "text": [
      "\u001b[32m[I 2023-04-28 17:11:54,621]\u001b[0m A new study created in memory with name: no-name-54efe388-c48a-4eb6-b244-884f4ee0c9bf\u001b[0m\n",
      "\u001b[32m[I 2023-04-28 17:11:55,449]\u001b[0m Trial 0 finished with value: 0.13823529411764707 and parameters: {'max_depth': 6, 'learning_rate': 0.25462387250413215, 'n_estimators': 210, 'min_child_weight': 5, 'gamma': 0.01747601664912243, 'subsample': 0.02995054624213067, 'colsample_bytree': 0.5872802980504558, 'reg_alpha': 1.9896535738801403e-06, 'reg_lambda': 0.17109190502782462}. Best is trial 0 with value: 0.13823529411764707.\u001b[0m\n",
      "\u001b[32m[I 2023-04-28 17:11:56,696]\u001b[0m Trial 1 finished with value: 0.03558718861209964 and parameters: {'max_depth': 5, 'learning_rate': 0.02419661794074967, 'n_estimators': 361, 'min_child_weight': 8, 'gamma': 0.05061971840913548, 'subsample': 0.0332528978493478, 'colsample_bytree': 0.19451462550624213, 'reg_alpha': 0.3814994570024529, 'reg_lambda': 0.004008048964369939}. Best is trial 0 with value: 0.13823529411764707.\u001b[0m\n",
      "\u001b[32m[I 2023-04-28 17:11:58,100]\u001b[0m Trial 2 finished with value: 0.11073825503355705 and parameters: {'max_depth': 8, 'learning_rate': 0.11526769769832268, 'n_estimators': 367, 'min_child_weight': 4, 'gamma': 5.806366616191646e-07, 'subsample': 0.11670900743380332, 'colsample_bytree': 0.022312698636230237, 'reg_alpha': 6.3660961085967624e-06, 'reg_lambda': 2.3293196930301595e-08}. Best is trial 0 with value: 0.13823529411764707.\u001b[0m\n",
      "\u001b[32m[I 2023-04-28 17:11:58,356]\u001b[0m Trial 3 finished with value: 0.0 and parameters: {'max_depth': 6, 'learning_rate': 0.010617901235926085, 'n_estimators': 66, 'min_child_weight': 1, 'gamma': 9.613274568666636e-08, 'subsample': 0.056226541967668735, 'colsample_bytree': 0.10417955878692504, 'reg_alpha': 0.02995249340796018, 'reg_lambda': 0.09956215461449969}. Best is trial 0 with value: 0.13823529411764707.\u001b[0m\n",
      "\u001b[32m[I 2023-04-28 17:12:00,047]\u001b[0m Trial 4 finished with value: 0.2708333333333333 and parameters: {'max_depth': 6, 'learning_rate': 0.4581528374996749, 'n_estimators': 365, 'min_child_weight': 6, 'gamma': 1.4088797619902536e-05, 'subsample': 0.7542808085816984, 'colsample_bytree': 0.1054573915253655, 'reg_alpha': 0.0005629787672667912, 'reg_lambda': 7.882997629633055e-08}. Best is trial 4 with value: 0.2708333333333333.\u001b[0m\n",
      "\u001b[32m[I 2023-04-28 17:12:01,591]\u001b[0m Trial 5 finished with value: 0.1032258064516129 and parameters: {'max_depth': 3, 'learning_rate': 0.8977308814025646, 'n_estimators': 474, 'min_child_weight': 7, 'gamma': 3.141152245662999e-07, 'subsample': 0.06595443257321731, 'colsample_bytree': 0.023191988795383246, 'reg_alpha': 1.2430857885639857e-05, 'reg_lambda': 0.01417161082980289}. Best is trial 4 with value: 0.2708333333333333.\u001b[0m\n",
      "\u001b[32m[I 2023-04-28 17:12:02,218]\u001b[0m Trial 6 finished with value: 0.06597222222222222 and parameters: {'max_depth': 5, 'learning_rate': 0.027082799571035245, 'n_estimators': 201, 'min_child_weight': 4, 'gamma': 0.002197242299319483, 'subsample': 0.013362452557429223, 'colsample_bytree': 0.22644237877252826, 'reg_alpha': 0.0017929623156735356, 'reg_lambda': 1.7065987082843274e-08}. Best is trial 4 with value: 0.2708333333333333.\u001b[0m\n",
      "\u001b[32m[I 2023-04-28 17:12:03,548]\u001b[0m Trial 7 finished with value: 0.10702341137123746 and parameters: {'max_depth': 6, 'learning_rate': 0.2988064663914813, 'n_estimators': 187, 'min_child_weight': 9, 'gamma': 0.0015035683131596636, 'subsample': 0.24999240057085104, 'colsample_bytree': 0.08961450608905532, 'reg_alpha': 0.10025322599748196, 'reg_lambda': 0.05733917708022586}. Best is trial 4 with value: 0.2708333333333333.\u001b[0m\n",
      "\u001b[32m[I 2023-04-28 17:12:05,436]\u001b[0m Trial 8 finished with value: 0.0 and parameters: {'max_depth': 4, 'learning_rate': 0.010553071687749816, 'n_estimators': 437, 'min_child_weight': 7, 'gamma': 1.0963717752160515e-07, 'subsample': 0.015062353038693986, 'colsample_bytree': 0.019427390209947333, 'reg_alpha': 2.791346651221933e-05, 'reg_lambda': 9.779917900237528e-05}. Best is trial 4 with value: 0.2708333333333333.\u001b[0m\n",
      "\u001b[32m[I 2023-04-28 17:12:05,854]\u001b[0m Trial 9 finished with value: 0.0684931506849315 and parameters: {'max_depth': 7, 'learning_rate': 0.2518010723733598, 'n_estimators': 157, 'min_child_weight': 9, 'gamma': 0.0064531149639981385, 'subsample': 0.018502246773022278, 'colsample_bytree': 0.021649313100029273, 'reg_alpha': 0.00012558503009022415, 'reg_lambda': 4.106037898580755e-06}. Best is trial 4 with value: 0.2708333333333333.\u001b[0m\n",
      "\u001b[32m[I 2023-04-28 17:12:07,512]\u001b[0m Trial 10 finished with value: 0.15262321144674088 and parameters: {'max_depth': 1, 'learning_rate': 0.9495242334377142, 'n_estimators': 306, 'min_child_weight': 1, 'gamma': 2.7841214183923113e-05, 'subsample': 0.90940544354243, 'colsample_bytree': 0.9308124633230818, 'reg_alpha': 1.0606656015359472e-08, 'reg_lambda': 1.0773799884213113e-06}. Best is trial 4 with value: 0.2708333333333333.\u001b[0m\n",
      "\u001b[32m[I 2023-04-28 17:12:08,783]\u001b[0m Trial 11 finished with value: 0.17080745341614906 and parameters: {'max_depth': 1, 'learning_rate': 0.9996050138785361, 'n_estimators': 325, 'min_child_weight': 1, 'gamma': 1.861456629551131e-05, 'subsample': 0.8472297901153996, 'colsample_bytree': 0.9100121762227606, 'reg_alpha': 4.92308371006392e-08, 'reg_lambda': 9.778360865970577e-07}. Best is trial 4 with value: 0.2708333333333333.\u001b[0m\n",
      "\u001b[32m[I 2023-04-28 17:12:09,871]\u001b[0m Trial 12 finished with value: 0.13804173354735153 and parameters: {'max_depth': 1, 'learning_rate': 0.5113643624674541, 'n_estimators': 299, 'min_child_weight': 3, 'gamma': 1.4492827832428265e-05, 'subsample': 0.6591945598700659, 'colsample_bytree': 0.3635295789274883, 'reg_alpha': 3.905414801780493e-08, 'reg_lambda': 8.537835297453252e-07}. Best is trial 4 with value: 0.2708333333333333.\u001b[0m\n",
      "\u001b[32m[I 2023-04-28 17:12:11,352]\u001b[0m Trial 13 finished with value: 0.2127031019202363 and parameters: {'max_depth': 9, 'learning_rate': 0.5706048158714717, 'n_estimators': 387, 'min_child_weight': 6, 'gamma': 4.5718786607257254e-06, 'subsample': 0.3531786159077226, 'colsample_bytree': 0.0595271301380431, 'reg_alpha': 3.611176981442153e-07, 'reg_lambda': 2.7262795530630057e-05}. Best is trial 4 with value: 0.2708333333333333.\u001b[0m\n",
      "\u001b[32m[I 2023-04-28 17:12:13,039]\u001b[0m Trial 14 finished with value: 0.12151067323481116 and parameters: {'max_depth': 9, 'learning_rate': 0.12403773883553247, 'n_estimators': 416, 'min_child_weight': 6, 'gamma': 1.6329138898058751e-06, 'subsample': 0.3464920797279661, 'colsample_bytree': 0.051385338355287725, 'reg_alpha': 0.00092761518802044, 'reg_lambda': 0.00011561565327536441}. Best is trial 4 with value: 0.2708333333333333.\u001b[0m\n",
      "\u001b[32m[I 2023-04-28 17:12:14,631]\u001b[0m Trial 15 finished with value: 0.1801526717557252 and parameters: {'max_depth': 9, 'learning_rate': 0.4482785299277062, 'n_estimators': 383, 'min_child_weight': 6, 'gamma': 0.00037344622392031896, 'subsample': 0.34641084359611374, 'colsample_bytree': 0.05362970452120858, 'reg_alpha': 8.3816427794088e-07, 'reg_lambda': 6.48195449970339e-05}. Best is trial 4 with value: 0.2708333333333333.\u001b[0m\n",
      "\u001b[32m[I 2023-04-28 17:12:16,698]\u001b[0m Trial 16 finished with value: 0.10420168067226891 and parameters: {'max_depth': 8, 'learning_rate': 0.05661145671171416, 'n_estimators': 486, 'min_child_weight': 3, 'gamma': 1.2745698561407732e-08, 'subsample': 0.16119621057740574, 'colsample_bytree': 0.04647348784051165, 'reg_alpha': 0.005394848684973195, 'reg_lambda': 1.1118023104970787e-07}. Best is trial 4 with value: 0.2708333333333333.\u001b[0m\n",
      "\u001b[32m[I 2023-04-28 17:12:17,805]\u001b[0m Trial 17 finished with value: 0.18070444104134764 and parameters: {'max_depth': 3, 'learning_rate': 0.4967238556359207, 'n_estimators': 258, 'min_child_weight': 10, 'gamma': 2.897383115188079e-06, 'subsample': 0.5126310029156711, 'colsample_bytree': 0.10373712299057969, 'reg_alpha': 0.00020304988694631415, 'reg_lambda': 0.0010274992983998097}. Best is trial 4 with value: 0.2708333333333333.\u001b[0m\n",
      "\u001b[32m[I 2023-04-28 17:12:20,352]\u001b[0m Trial 18 finished with value: 0.1589825119236884 and parameters: {'max_depth': 8, 'learning_rate': 0.17125214449777884, 'n_estimators': 423, 'min_child_weight': 5, 'gamma': 0.9390657645186247, 'subsample': 0.22252617594658058, 'colsample_bytree': 0.012490711735437766, 'reg_alpha': 3.636786093707683e-07, 'reg_lambda': 1.1193429457184019e-05}. Best is trial 4 with value: 0.2708333333333333.\u001b[0m\n",
      "\u001b[32m[I 2023-04-28 17:12:22,032]\u001b[0m Trial 19 finished with value: 0.2193732193732194 and parameters: {'max_depth': 7, 'learning_rate': 0.6002777831449154, 'n_estimators': 260, 'min_child_weight': 7, 'gamma': 0.00012590555762115045, 'subsample': 0.5453387815301332, 'colsample_bytree': 0.16013575366507005, 'reg_alpha': 0.009068879009568886, 'reg_lambda': 1.5577587128467545e-07}. Best is trial 4 with value: 0.2708333333333333.\u001b[0m\n"
     ]
    },
    {
     "name": "stdout",
     "output_type": "stream",
     "text": [
      "Number of finished trials: 20\n",
      "Best trial:\n",
      "  Value: 0.2708333333333333\n",
      "  Params: \n",
      "    max_depth: 6\n",
      "    learning_rate: 0.4581528374996749\n",
      "    n_estimators: 365\n",
      "    min_child_weight: 6\n",
      "    gamma: 1.4088797619902536e-05\n",
      "    subsample: 0.7542808085816984\n",
      "    colsample_bytree: 0.1054573915253655\n",
      "    reg_alpha: 0.0005629787672667912\n",
      "    reg_lambda: 7.882997629633055e-08\n"
     ]
    }
   ],
   "source": [
    "study = optuna.create_study(direction='maximize')\n",
    "study.optimize(objective, n_trials=20)\n",
    "\n",
    "print('Number of finished trials: {}'.format(len(study.trials)))\n",
    "print('Best trial:')\n",
    "trial = study.best_trial\n",
    "\n",
    "print('  Value: {}'.format(trial.value))\n",
    "print('  Params: ')\n",
    "\n",
    "for key, value in trial.params.items():\n",
    "    print('    {}: {}'.format(key, value))"
   ]
  },
  {
   "cell_type": "code",
   "execution_count": 90,
   "id": "21095146-32f6-4d85-8f71-4169dc0bca4c",
   "metadata": {
    "tags": []
   },
   "outputs": [
    {
     "data": {
      "text/plain": [
       "XGBClassifier(base_score=0.5, booster='gbtree', callbacks=None,\n",
       "              colsample_bylevel=1, colsample_bynode=1,\n",
       "              colsample_bytree=0.1054573915253655, early_stopping_rounds=None,\n",
       "              enable_categorical=False, eval_metric=None,\n",
       "              gamma=1.4088797619902536e-05, gpu_id=-1, grow_policy='depthwise',\n",
       "              importance_type=None, interaction_constraints='',\n",
       "              learning_rate=0.4581528374996749, max_bin=256,\n",
       "              max_cat_to_onehot=4, max_delta_step=0, max_depth=6, max_leaves=0,\n",
       "              min_child_weight=6, missing=nan, monotone_constraints='()',\n",
       "              n_estimators=365, n_jobs=0, num_parallel_tree=1, predictor='auto',\n",
       "              random_state=0, reg_alpha=0.0005629787672667912,\n",
       "              reg_lambda=7.882997629633055e-08, ...)"
      ]
     },
     "execution_count": 90,
     "metadata": {},
     "output_type": "execute_result"
    }
   ],
   "source": [
    "params = trial.params\n",
    "model = xgb.XGBClassifier(**params)\n",
    "model.fit(X_train_encoded2, y_train)"
   ]
  },
  {
   "cell_type": "code",
   "execution_count": 91,
   "id": "192806e6-a5ef-4204-a39e-97757e2e7d06",
   "metadata": {
    "tags": []
   },
   "outputs": [
    {
     "name": "stdout",
     "output_type": "stream",
     "text": [
      "              precision    recall  f1-score   support\n",
      "\n",
      "           0       0.76      0.92      0.83      1512\n",
      "           1       0.47      0.19      0.27       549\n",
      "\n",
      "    accuracy                           0.73      2061\n",
      "   macro avg       0.62      0.56      0.55      2061\n",
      "weighted avg       0.68      0.73      0.68      2061\n",
      "\n"
     ]
    },
    {
     "data": {
      "image/png": "[encoded data removed]",
      "text/plain": [
       "<Figure size 720x720 with 2 Axes>"
      ]
     },
     "metadata": {
      "needs_background": "light"
     },
     "output_type": "display_data"
    },
    {
     "data": {
      "text/plain": [
       "<AxesSubplot:title={'center':'Feature importance'}, xlabel='F score', ylabel='Features'>"
      ]
     },
     "execution_count": 91,
     "metadata": {},
     "output_type": "execute_result"
    },
    {
     "data": {
      "image/png": "[encoded data removed]",
      "text/plain": [
       "<Figure size 432x288 with 1 Axes>"
      ]
     },
     "metadata": {
      "needs_background": "light"
     },
     "output_type": "display_data"
    }
   ],
   "source": [
    "pred = model.predict(X_test2)\n",
    "conf_mat = confusion_matrix(y_test, pred)\n",
    "print(metrics.classification_report(y_test,pred))\n",
    "fig, ax = plt.subplots(figsize=(10,10))\n",
    "sns.heatmap(conf_mat, annot=True, fmt='d')\n",
    "plt.ylabel('Actual')\n",
    "plt.xlabel('Predicted')\n",
    "plt.show()\n",
    "plot_importance(model)"
   ]
  },
  {
   "cell_type": "code",
   "execution_count": 92,
   "id": "58a2497c-3c06-4027-8166-cda0bef5d28d",
   "metadata": {
    "tags": []
   },
   "outputs": [
    {
     "name": "stdout",
     "output_type": "stream",
     "text": [
      "              precision    recall  f1-score   support\n",
      "\n",
      "           0       0.62      0.33      0.43      1512\n",
      "           1       0.19      0.43      0.26       549\n",
      "\n",
      "    accuracy                           0.36      2061\n",
      "   macro avg       0.40      0.38      0.35      2061\n",
      "weighted avg       0.50      0.36      0.39      2061\n",
      "\n"
     ]
    },
    {
     "data": {
      "image/png": "[encoded data removed]",
      "text/plain": [
       "<Figure size 720x720 with 2 Axes>"
      ]
     },
     "metadata": {
      "needs_background": "light"
     },
     "output_type": "display_data"
    },
    {
     "data": {
      "application/vnd.plotly.v1+json": {
       "config": {
        "plotlyServerURL": "https://plot.ly"
       },
       "data": [
        {
         "alignmentgroup": "True",
         "bingroup": "x",
         "hovertemplate": "Actual=0<br>Prob=%{x}<br>count=%{y}<extra></extra>",
         "legendgroup": "0",
         "marker": {
          "color": "#636efa",
          "pattern": {
           "shape": ""
          }
         },
         "name": "0",
         "offsetgroup": "0",
         "orientation": "v",
         "showlegend": true,
         "type": "histogram",
         "x": [
          0.9264375567436218,
          0.8858664631843567,
          0.8178427219390869,
          0.993682861328125,
          0.8542097806930542,
          0.9645377993583679,
          0.9532338380813599,
          0.9662246108055115,
          0.9700444340705872,
          0.8831098079681396,
          0.7481093406677246,
          0.9856448173522949,
          0.967664897441864,
          0.995044469833374,
          0.9730556011199951,
          0.9909268617630005,
          0.8491761088371277,
          0.4262958765029907,
          0.3658936619758606,
          0.9673367142677307,
          0.9950078725814819,
          0.9890749454498291,
          0.9899500012397766,
          0.9055356383323669,
          0.870246410369873,
          0.561771035194397,
          0.9584817886352539,
          0.9864550232887268,
          0.9820050001144409,
          0.9345872402191162,
          0.8784539699554443,
          0.9147708415985107,
          0.7261921167373657,
          0.6086625456809998,
          0.9982050061225891,
          0.9320888519287109,
          0.8426542282104492,
          0.9881880283355713,
          0.9911617040634155,
          0.9483941793441772,
          0.9710930585861206,
          0.9989856481552124,
          0.837723970413208,
          0.8035751581192017,
          0.4628724455833435,
          0.9670389890670776,
          0.8801054358482361,
          0.8936273455619812,
          0.924091637134552,
          0.9988070130348206,
          0.7126628160476685,
          0.9743183851242065,
          0.972630500793457,
          0.7554473280906677,
          0.9774041771888733,
          0.7739930152893066,
          0.7909985780715942,
          0.9886419177055359,
          0.9581544399261475,
          0.9936414957046509,
          0.9781848192214966,
          0.8979616165161133,
          0.36121952533721924,
          0.9089363813400269,
          0.6959737539291382,
          0.2508350610733032,
          0.49455541372299194,
          0.10791218280792236,
          0.6649672985076904,
          0.9889603853225708,
          0.6830116510391235,
          0.9384260773658752,
          0.8586046695709229,
          0.9838429093360901,
          0.9310691356658936,
          0.9738593101501465,
          0.9902768731117249,
          0.9875629544258118,
          0.9568668007850647,
          0.15628987550735474,
          0.9918164610862732,
          0.9832159876823425,
          0.9653137922286987,
          0.9946399331092834,
          0.6486976742744446,
          0.9744465351104736,
          0.898253858089447,
          0.39897453784942627,
          0.9846969246864319,
          0.9231496453285217,
          0.9644866585731506,
          0.9759361743927002,
          0.9776449799537659,
          0.9981746673583984,
          0.9918705821037292,
          0.9627164602279663,
          0.9192876815795898,
          0.9991319179534912,
          0.9726309180259705,
          0.9630215764045715,
          0.8097599744796753,
          0.9963838458061218,
          0.8301085829734802,
          0.9367532730102539,
          0.46090298891067505,
          0.8527585864067078,
          0.8316034078598022,
          0.8148081302642822,
          0.7071359157562256,
          0.9845032095909119,
          0.8818619251251221,
          0.9981774091720581,
          0.8967227935791016,
          0.9721492528915405,
          0.9936928749084473,
          0.9911436438560486,
          0.8416407108306885,
          0.8562267422676086,
          0.8144049644470215,
          0.8744504451751709,
          0.9234922528266907,
          0.9129312634468079,
          0.8297662138938904,
          0.9368142485618591,
          0.03334486484527588,
          0.9955973029136658,
          0.8138196468353271,
          0.9882991909980774,
          0.9337913990020752,
          0.8549491167068481,
          0.2534186840057373,
          0.9971734285354614,
          0.9851534962654114,
          0.9814282059669495,
          0.7686324715614319,
          0.5426843166351318,
          0.9506221413612366,
          0.9998626112937927,
          0.9621831178665161,
          0.9686189889907837,
          0.9594493508338928,
          0.9657707214355469,
          0.9982362389564514,
          0.9932222962379456,
          0.9730525612831116,
          0.7432284355163574,
          0.9975631237030029,
          0.9360252022743225,
          0.9242839217185974,
          0.7910441160202026,
          0.9532065391540527,
          0.6356968879699707,
          0.9548857808113098,
          0.9916141629219055,
          0.8183707594871521,
          0.8998517990112305,
          0.9696776866912842,
          0.9858013987541199,
          0.9828879237174988,
          0.9772855043411255,
          0.993140459060669,
          0.9907276034355164,
          0.9135244488716125,
          0.9135637879371643,
          0.4007149338722229,
          0.9859424829483032,
          0.8512629866600037,
          0.9620206356048584,
          0.9784581065177917,
          0.9432069063186646,
          0.9910081028938293,
          0.8119511604309082,
          0.9752534627914429,
          0.9530422687530518,
          0.9912371039390564,
          0.8477144837379456,
          0.9376906752586365,
          0.22525149583816528,
          0.5044254660606384,
          0.9901759624481201,
          0.6111283898353577,
          0.9978784918785095,
          0.951602578163147,
          0.9901831150054932,
          0.9963217973709106,
          0.6763026118278503,
          0.9456628561019897,
          0.8071882128715515,
          0.9815998673439026,
          0.9555398225784302,
          0.8692184686660767,
          0.9974610209465027,
          0.71053147315979,
          0.7060802578926086,
          0.9437715411186218,
          0.9764694571495056,
          0.9164925813674927,
          0.9446144700050354,
          0.8115014433860779,
          0.9983154535293579,
          0.9786414504051208,
          0.9308858513832092,
          0.6814030408859253,
          0.9898720383644104,
          0.9962976574897766,
          0.931465208530426,
          0.1602042317390442,
          0.858939528465271,
          0.7124989032745361,
          0.9264425039291382,
          0.9590231776237488,
          0.9463633894920349,
          0.9967219829559326,
          0.96138995885849,
          0.9446202516555786,
          0.5759285092353821,
          0.9987549185752869,
          0.9876287579536438,
          0.9700418710708618,
          0.2379353642463684,
          0.9855250716209412,
          0.9657909870147705,
          0.9210826754570007,
          0.4476565718650818,
          0.979127824306488,
          0.9950798153877258,
          0.7938693761825562,
          0.4915143847465515,
          0.9668912887573242,
          0.8953155279159546,
          0.897998571395874,
          0.8553052544593811,
          0.978266179561615,
          0.9138379693031311,
          0.9161920547485352,
          0.982075572013855,
          0.9492284655570984,
          0.6966418027877808,
          0.9898256659507751,
          0.9864088892936707,
          0.9532126188278198,
          0.8804520964622498,
          0.9818793535232544,
          0.9697351455688477,
          0.3265455961227417,
          0.1918690800666809,
          0.9424241185188293,
          0.9731786847114563,
          0.3541051745414734,
          0.8762342929840088,
          0.7942715883255005,
          0.584364116191864,
          0.9222620129585266,
          0.9533752799034119,
          0.9191392064094543,
          0.9571703672409058,
          0.9097643494606018,
          0.69460529088974,
          0.4618874788284302,
          0.9828046560287476,
          0.19991493225097656,
          0.681195855140686,
          0.6985945701599121,
          0.9994667172431946,
          0.9388929605484009,
          0.9440605640411377,
          0.9918482899665833,
          0.9402170181274414,
          0.982913076877594,
          0.5911694765090942,
          0.9706053733825684,
          0.6703629493713379,
          0.9446930885314941,
          0.7258574962615967,
          0.9964139461517334,
          0.8406245112419128,
          0.9578001499176025,
          0.9561971426010132,
          0.9639285802841187,
          0.9855300188064575,
          0.8595306873321533,
          0.9156323075294495,
          0.97159343957901,
          0.8898817300796509,
          0.9995704293251038,
          0.92070072889328,
          0.27946537733078003,
          0.9556379318237305,
          0.9012872576713562,
          0.3856170177459717,
          0.904375433921814,
          0.8913184404373169,
          0.988611102104187,
          0.32085120677948,
          0.9452884793281555,
          0.4203747510910034,
          0.9900722503662109,
          0.8851785063743591,
          0.984991729259491,
          0.9510993361473083,
          0.8217141628265381,
          0.4115467071533203,
          0.9152214527130127,
          0.9693230390548706,
          0.9783998131752014,
          0.9775055050849915,
          0.989191472530365,
          0.9271643757820129,
          0.8634331226348877,
          0.1276947259902954,
          0.9577730894088745,
          0.8911363482475281,
          0.9943536520004272,
          0.9343885183334351,
          0.9952185750007629,
          0.9955398440361023,
          0.9902060627937317,
          0.9905392527580261,
          0.5821958780288696,
          0.9053963422775269,
          0.15356266498565674,
          0.8949567675590515,
          0.8321887254714966,
          0.9784325361251831,
          0.8504399061203003,
          0.6712806224822998,
          0.9924788475036621,
          0.9850528836250305,
          0.9832042455673218,
          0.913532018661499,
          0.9973198771476746,
          0.979658305644989,
          0.355949342250824,
          0.8980323076248169,
          0.9965369701385498,
          0.9992308020591736,
          0.9153757095336914,
          0.9598238468170166,
          0.9876947999000549,
          0.9128754138946533,
          0.9368321895599365,
          0.9106583595275879,
          0.9729128479957581,
          0.9536858201026917,
          0.9984114170074463,
          0.998508632183075,
          0.9805471897125244,
          0.9031971096992493,
          0.9629233479499817,
          0.999140202999115,
          0.5052235722541809,
          0.9657542109489441,
          0.9716330170631409,
          0.9783127307891846,
          0.9392867088317871,
          0.9683879017829895,
          0.8656376004219055,
          0.4930077791213989,
          0.9962049126625061,
          0.962692141532898,
          0.961720883846283,
          0.8749534487724304,
          0.8880393505096436,
          0.942452073097229,
          0.990092396736145,
          0.5616284608840942,
          0.9955108165740967,
          0.9963550567626953,
          0.984255313873291,
          0.9942582845687866,
          0.976458728313446,
          0.9308207035064697,
          0.9984317421913147,
          0.192657470703125,
          0.9861599206924438,
          0.9803197383880615,
          0.95162433385849,
          0.5601822137832642,
          0.9940198063850403,
          0.7285535335540771,
          0.9962977766990662,
          0.9397490620613098,
          0.9293131828308105,
          0.9629291296005249,
          0.9992747902870178,
          0.914008617401123,
          0.6506512761116028,
          0.988637387752533,
          0.9749832153320312,
          0.9919496774673462,
          0.9322677850723267,
          0.15372788906097412,
          0.9751294851303101,
          0.9659416079521179,
          0.93790203332901,
          0.9509418606758118,
          0.9751071333885193,
          0.9901743531227112,
          0.9166510701179504,
          0.8532122373580933,
          0.10850799083709717,
          0.9960969686508179,
          0.9975112080574036,
          0.7980701923370361,
          0.9835538268089294,
          0.990646481513977,
          0.9366582036018372,
          0.9131507277488708,
          0.8063880801200867,
          0.9227429032325745,
          0.99664705991745,
          0.9111161828041077,
          0.9867563843727112,
          0.9874204993247986,
          0.9582741260528564,
          0.9276624917984009,
          0.817406952381134,
          0.4257274270057678,
          0.9889777302742004,
          0.17743730545043945,
          0.9976333975791931,
          0.04914212226867676,
          0.9568592309951782,
          0.21715736389160156,
          0.9685215950012207,
          0.9851076602935791,
          0.9922142624855042,
          0.994159460067749,
          0.687019944190979,
          0.5760263800621033,
          0.991938054561615,
          0.9975813627243042,
          0.999868631362915,
          0.9763625860214233,
          0.9994324445724487,
          0.6751992702484131,
          0.8500536680221558,
          0.9076180458068848,
          0.6907756328582764,
          0.4285014867782593,
          0.695884108543396,
          0.8003864288330078,
          0.9751148819923401,
          0.6321988105773926,
          0.9507554769515991,
          0.9979825019836426,
          0.963282585144043,
          0.9981971383094788,
          0.9027411937713623,
          0.9881488680839539,
          0.9574508666992188,
          0.9981656670570374,
          0.9904071092605591,
          0.5910720825195312,
          0.8936563730239868,
          0.8179627060890198,
          0.9894019365310669,
          0.06694567203521729,
          0.8815180659294128,
          0.9371055960655212,
          0.9078108072280884,
          0.9945774674415588,
          0.9027262330055237,
          0.9894806146621704,
          0.9968935251235962,
          0.8966144323348999,
          0.7447845339775085,
          0.23424816131591797,
          0.7529401779174805,
          0.977340579032898,
          0.9555408954620361,
          0.9380630850791931,
          0.7385273575782776,
          0.9357203245162964,
          0.9878666996955872,
          0.9884676337242126,
          0.9566759467124939,
          0.9799973964691162,
          0.9803882241249084,
          0.997694730758667,
          0.9646974802017212,
          0.9265203475952148,
          0.9706181287765503,
          0.9551630616188049,
          0.9837614893913269,
          0.9657649993896484,
          0.9978930354118347,
          0.9965357780456543,
          0.9998136162757874,
          0.9328583478927612,
          0.9987610578536987,
          0.3521082401275635,
          0.9678694009780884,
          0.9644744992256165,
          0.9666519165039062,
          0.9855337142944336,
          0.9111460447311401,
          0.4675716757774353,
          0.9686802625656128,
          0.9965375065803528,
          0.9997695088386536,
          0.9570550918579102,
          0.9142186641693115,
          0.9868513941764832,
          0.9936798810958862,
          0.9747844934463501,
          0.9770485162734985,
          0.9331458210945129,
          0.9725816249847412,
          0.942040205001831,
          0.9803443551063538,
          0.9898953437805176,
          0.9688478708267212,
          0.9818801283836365,
          0.9808836579322815,
          0.4523193836212158,
          0.984144926071167,
          0.9975615739822388,
          0.9354361295700073,
          0.8626238107681274,
          0.933953046798706,
          0.9883652925491333,
          0.9414871335029602,
          0.9984930753707886,
          0.9462795257568359,
          0.9363462328910828,
          0.9862675666809082,
          0.7947537899017334,
          0.7312204837799072,
          0.3110141158103943,
          0.9725156426429749,
          0.9839819073677063,
          0.97412109375,
          0.8651653528213501,
          0.46124958992004395,
          0.6492904424667358,
          0.22942954301834106,
          0.9902877807617188,
          0.9780346751213074,
          0.9854966402053833,
          0.9914243221282959,
          0.9533857703208923,
          0.9967386722564697,
          0.9108755588531494,
          0.6131949424743652,
          0.9959017038345337,
          0.6328103542327881,
          0.9883948564529419,
          0.97265625,
          0.7878344655036926,
          0.21802693605422974,
          0.9695723056793213,
          0.9917519092559814,
          0.7397844791412354,
          0.9951345920562744,
          0.9900573492050171,
          0.9727995991706848,
          0.9626418352127075,
          0.7155455946922302,
          0.9788385033607483,
          0.9916495680809021,
          0.8516882658004761,
          0.8588585257530212,
          0.9825263023376465,
          0.8589836955070496,
          0.9907743334770203,
          0.7387874126434326,
          0.9894704222679138,
          0.9966040253639221,
          0.9978066086769104,
          0.8920735716819763,
          0.23688000440597534,
          0.9303431510925293,
          0.9964026212692261,
          0.5405454039573669,
          0.995331883430481,
          0.9562005996704102,
          0.9331433773040771,
          0.9926937222480774,
          0.9858667254447937,
          0.8993791341781616,
          0.9460950493812561,
          0.8106534481048584,
          0.8546187877655029,
          0.9566011428833008,
          0.9944843053817749,
          0.673186182975769,
          0.8896099925041199,
          0.9659062623977661,
          0.9842312335968018,
          0.9931710362434387,
          0.9893723130226135,
          0.9982925653457642,
          0.9901445508003235,
          0.10788995027542114,
          0.3488526940345764,
          0.970481276512146,
          0.8996539115905762,
          0.9703121185302734,
          0.9786168336868286,
          0.991603434085846,
          0.9981176257133484,
          0.4515491724014282,
          0.5183406472206116,
          0.981112003326416,
          0.9879122972488403,
          0.9203004240989685,
          0.9848921895027161,
          0.9841790795326233,
          0.9099020957946777,
          0.8056899905204773,
          0.9930904507637024,
          0.9985824823379517,
          0.9843372106552124,
          0.9909594058990479,
          0.8924237489700317,
          0.9734011888504028,
          0.7778294086456299,
          0.9560041427612305,
          0.9853545427322388,
          0.6998240947723389,
          0.7510805130004883,
          0.9684553742408752,
          0.7111622095108032,
          0.9736489057540894,
          0.835893988609314,
          0.867563009262085,
          0.6209380626678467,
          0.8120649456977844,
          0.761601984500885,
          0.9519221782684326,
          0.9895854592323303,
          0.5200802683830261,
          0.9674826860427856,
          0.9373136162757874,
          0.988373339176178,
          0.9406291246414185,
          0.927744448184967,
          0.6582510471343994,
          0.9711458086967468,
          0.9900715351104736,
          0.8817469477653503,
          0.8629876971244812,
          0.9964972734451294,
          0.9948115944862366,
          0.9648780226707458,
          0.9920507073402405,
          0.9940789341926575,
          0.8642781376838684,
          0.4942789077758789,
          0.9950454831123352,
          0.9476300477981567,
          0.9964354038238525,
          0.9974185228347778,
          0.9841539263725281,
          0.9855886697769165,
          0.9607507586479187,
          0.8749749660491943,
          0.9877308011054993,
          0.9718304872512817,
          0.8871766328811646,
          0.7996827363967896,
          0.9512451887130737,
          0.9300392270088196,
          0.4736067056655884,
          0.9908309578895569,
          0.9854264855384827,
          0.9906089901924133,
          0.9613197445869446,
          0.6285452842712402,
          0.7729395627975464,
          0.9948269128799438,
          0.8311598896980286,
          0.9925674796104431,
          0.8912895321846008,
          0.84889155626297,
          0.9923521280288696,
          0.8175948858261108,
          0.8798182606697083,
          0.9979304671287537,
          0.9945095777511597,
          0.8916904926300049,
          0.9964693784713745,
          0.9596109390258789,
          0.9777421355247498,
          0.995240330696106,
          0.7969436645507812,
          0.9612994194030762,
          0.9913049936294556,
          0.8828762173652649,
          0.8755092024803162,
          0.9401097893714905,
          0.9883114099502563,
          0.7693052291870117,
          0.9977281093597412,
          0.8676058053970337,
          0.9750354886054993,
          0.9984175562858582,
          0.9994200468063354,
          0.9955770969390869,
          0.8016533851623535,
          0.9994251728057861,
          0.8433125615119934,
          0.947832465171814,
          0.9802195429801941,
          0.9995124340057373,
          0.9934251308441162,
          0.9994521737098694,
          0.9083881378173828,
          0.9287574291229248,
          0.9958789944648743,
          0.9273338317871094,
          0.19959485530853271,
          0.8112747669219971,
          0.4846046566963196,
          0.9678887128829956,
          0.44186311960220337,
          0.9744113087654114,
          0.9622958898544312,
          0.9440839290618896,
          0.9522746801376343,
          0.9956342577934265,
          0.690343976020813,
          0.9915066361427307,
          0.2251753807067871,
          0.9607810974121094,
          0.8550100326538086,
          0.6615712642669678,
          0.9921817779541016,
          0.98188316822052,
          0.21766215562820435,
          0.9939023852348328,
          0.7550309896469116,
          0.9589090347290039,
          0.9466190338134766,
          0.9923383593559265,
          0.7136913537979126,
          0.9969837665557861,
          0.9921050667762756,
          0.9932245016098022,
          0.8916557431221008,
          0.9997694492340088,
          0.9954322576522827,
          0.9895413517951965,
          0.7858701944351196,
          0.7783828377723694,
          0.8038338422775269,
          0.9865080714225769,
          0.9602780342102051,
          0.8370418548583984,
          0.9851308465003967,
          0.9609344005584717,
          0.7267650961875916,
          0.914797306060791,
          0.16116410493850708,
          0.7163958549499512,
          0.9443154335021973,
          0.9783132672309875,
          0.8483859300613403,
          0.9990347623825073,
          0.9925774335861206,
          0.9982113838195801,
          0.45604556798934937,
          0.9836294651031494,
          0.978107213973999,
          0.9954540729522705,
          0.9558046460151672,
          0.9982877969741821,
          0.981368899345398,
          0.8235578536987305,
          0.8306279182434082,
          0.9605354070663452,
          0.894973874092102,
          0.9881510734558105,
          0.9878353476524353,
          0.9876818060874939,
          0.9417064189910889,
          0.9992348551750183,
          0.9875208139419556,
          0.9432539343833923,
          0.9422587156295776,
          0.506035327911377,
          0.33621329069137573,
          0.698897659778595,
          0.9827152490615845,
          0.3204430937767029,
          0.9959534406661987,
          0.9858238101005554,
          0.9290976524353027,
          0.9809075593948364,
          0.9742751121520996,
          0.7579765319824219,
          0.9889389276504517,
          0.9512884616851807,
          0.9266469478607178,
          0.3975970149040222,
          0.9525662660598755,
          0.8958821892738342,
          0.8093627691268921,
          0.9549797773361206,
          0.9719294905662537,
          0.9270821809768677,
          0.9447029232978821,
          0.9921534657478333,
          0.7488981485366821,
          0.8224346041679382,
          0.9545605182647705,
          0.954323947429657,
          0.9894458651542664,
          0.9586199522018433,
          0.9974668025970459,
          0.9877992868423462,
          0.9893986582756042,
          0.6094353199005127,
          0.9846119284629822,
          0.9160947203636169,
          0.9954953193664551,
          0.9051969647407532,
          0.7179757952690125,
          0.8449109196662903,
          0.9442411065101624,
          0.9839910864830017,
          0.9872490763664246,
          0.7649387121200562,
          0.9808392524719238,
          0.9472039341926575,
          0.9164894223213196,
          0.98368239402771,
          0.9206140041351318,
          0.9858862161636353,
          0.9844884276390076,
          0.9537134170532227,
          0.9889618754386902,
          0.8802628517150879,
          0.9379546642303467,
          0.7934963703155518,
          0.9983516335487366,
          0.9969757199287415,
          0.8789390325546265,
          0.6785409450531006,
          0.8168421983718872,
          0.9600449204444885,
          0.9919623136520386,
          0.9919769167900085,
          0.8145735859870911,
          0.9979978203773499,
          0.9482171535491943,
          0.8752584457397461,
          0.8768169283866882,
          0.9958515167236328,
          0.9843648672103882,
          0.30819839239120483,
          0.9939752817153931,
          0.8540481925010681,
          0.54612797498703,
          0.9585076570510864,
          0.8925122618675232,
          0.704135000705719,
          0.9896910190582275,
          0.9451117515563965,
          0.9495871663093567,
          0.9408488869667053,
          0.32810401916503906,
          0.9800808429718018,
          0.9224420785903931,
          0.9636013507843018,
          0.9900981783866882,
          0.9922382235527039,
          0.9835636019706726,
          0.9489268064498901,
          0.8111583590507507,
          0.869978129863739,
          0.9596425890922546,
          0.9933720827102661,
          0.9235674738883972,
          0.849640965461731,
          0.9939185976982117,
          0.9862683415412903,
          0.9891685247421265,
          0.9340068697929382,
          0.998522937297821,
          0.9641484618186951,
          0.8911927342414856,
          0.8132089376449585,
          0.98936927318573,
          0.903796374797821,
          0.07635641098022461,
          0.8766797780990601,
          0.9918187260627747,
          0.8922624588012695,
          0.9609610438346863,
          0.9799159169197083,
          0.27563387155532837,
          0.5373361110687256,
          0.9505879282951355,
          0.9987128973007202,
          0.9935871958732605,
          0.9945107698440552,
          0.617318868637085,
          0.9745592474937439,
          0.9718985557556152,
          0.9895778298377991,
          0.9294306039810181,
          0.9778865575790405,
          0.38104134798049927,
          0.8935251235961914,
          0.9362353682518005,
          0.7689112424850464,
          0.9557573795318604,
          0.9372735619544983,
          0.9748346209526062,
          0.9372947216033936,
          0.9963834285736084,
          0.9368972182273865,
          0.9669569134712219,
          0.6800997853279114,
          0.9138917326927185,
          0.8579142093658447,
          0.9845260381698608,
          0.9878138303756714,
          0.9694986939430237,
          0.993008553981781,
          0.9260243773460388,
          0.8513856530189514,
          0.9915119409561157,
          0.991194486618042,
          0.9130898714065552,
          0.9991943836212158,
          0.8540127277374268,
          0.6495973467826843,
          0.953376293182373,
          0.9172365665435791,
          0.949846088886261,
          0.617188572883606,
          0.622803270816803,
          0.9994494318962097,
          0.4120370149612427,
          0.9312610626220703,
          0.9746317267417908,
          0.7726591229438782,
          0.9877418279647827,
          0.9997976422309875,
          0.7761406898498535,
          0.9932799935340881,
          0.5405348539352417,
          0.9929677248001099,
          0.9901211261749268,
          0.9712088704109192,
          0.9959214925765991,
          0.9873483777046204,
          0.8550615906715393,
          0.9772796034812927,
          0.9650502800941467,
          0.9838971495628357,
          0.9721583724021912,
          0.7665374875068665,
          0.7022795677185059,
          0.9965840578079224,
          0.9744929671287537,
          0.9579041600227356,
          0.8996848464012146,
          0.9326072931289673,
          0.9925801157951355,
          0.8631445169448853,
          0.9929391741752625,
          0.900505006313324,
          0.8806491494178772,
          0.8370183706283569,
          0.9939923286437988,
          0.973773717880249,
          0.3219309449195862,
          0.9718459844589233,
          0.9808319807052612,
          0.09732455015182495,
          0.9707327485084534,
          0.7062565684318542,
          0.9873005747795105,
          0.997931957244873,
          0.996431827545166,
          0.9848964810371399,
          0.9906951785087585,
          0.3696310520172119,
          0.9244872331619263,
          0.7962964773178101,
          0.9882367849349976,
          0.9972069263458252,
          0.9955698847770691,
          0.9996533393859863,
          0.7825056910514832,
          0.9812904000282288,
          0.8663275241851807,
          0.9886898994445801,
          0.9838480949401855,
          0.9933363795280457,
          0.6690583229064941,
          0.9736359119415283,
          0.7641336917877197,
          0.7637089490890503,
          0.9980317950248718,
          0.9264940023422241,
          0.9585317969322205,
          0.9937158823013306,
          0.9801143407821655,
          0.9838280081748962,
          0.08097755908966064,
          0.9461050629615784,
          0.9734714031219482,
          0.97413569688797,
          0.018992245197296143,
          0.8794615268707275,
          0.9974187612533569,
          0.9867712259292603,
          0.995445728302002,
          0.7656856179237366,
          0.989736795425415,
          0.39764833450317383,
          0.7299744486808777,
          0.8156446218490601,
          0.6854315996170044,
          0.9395920634269714,
          0.9566458463668823,
          0.9792042374610901,
          0.9401688575744629,
          0.8133599162101746,
          0.9870664477348328,
          0.997850239276886,
          0.856479823589325,
          0.9822713732719421,
          0.9216474294662476,
          0.8826808929443359,
          0.9539865851402283,
          0.9876841306686401,
          0.9945692420005798,
          0.939127504825592,
          0.9985063076019287,
          0.9885199666023254,
          0.9720142483711243,
          0.564281702041626,
          0.8812530636787415,
          0.9827171564102173,
          0.8898962736129761,
          0.9370474815368652,
          0.9852933883666992,
          0.9802349209785461,
          0.9946827292442322,
          0.7417675256729126,
          0.8900632262229919,
          0.8945420384407043,
          0.831665575504303,
          0.6513926982879639,
          0.6097999811172485,
          0.9106963872909546,
          0.4458237290382385,
          0.9876468181610107,
          0.9516043663024902,
          0.9370458722114563,
          0.91765296459198,
          0.9875701665878296,
          0.9876039624214172,
          0.9591559171676636,
          0.2798534631729126,
          0.9837883114814758,
          0.9933839440345764,
          0.9309535622596741,
          0.3468824028968811,
          0.9500536918640137,
          0.5291504859924316,
          0.992054283618927,
          0.9237468242645264,
          0.9947914481163025,
          0.9913601875305176,
          0.9907329082489014,
          0.8776613473892212,
          0.989159345626831,
          0.7638850808143616,
          0.9080459475517273,
          0.9903886914253235,
          0.9803361892700195,
          0.7818282246589661,
          0.2652483582496643,
          0.9587814211845398,
          0.9489260911941528,
          0.9890469908714294,
          0.9825403690338135,
          0.9881114363670349,
          0.9862521290779114,
          0.2797893285751343,
          0.9500584602355957,
          0.9777286052703857,
          0.7590879797935486,
          0.8504096269607544,
          0.993073582649231,
          0.9913002252578735,
          0.2776421308517456,
          0.9194959998130798,
          0.048465073108673096,
          0.5817555785179138,
          0.8328086733818054,
          0.9889097809791565,
          0.9792144894599915,
          0.7567034363746643,
          0.9889326095581055,
          0.9991540908813477,
          0.9969201683998108,
          0.9967141151428223,
          0.8771361708641052,
          0.8861223459243774,
          0.7858771085739136,
          0.9950534701347351,
          0.9729334712028503,
          0.990605890750885,
          0.9193066954612732,
          0.8944529891014099,
          0.20910924673080444,
          0.9409815073013306,
          0.8896061182022095,
          0.6668615341186523,
          0.9671202898025513,
          0.9359309673309326,
          0.283627450466156,
          0.8312647938728333,
          0.9698250889778137,
          0.9838598370552063,
          0.2998976707458496,
          0.99399733543396,
          0.9680986404418945,
          0.8855863809585571,
          0.5340575575828552,
          0.9546903967857361,
          0.6400594711303711,
          0.9867383241653442,
          0.7585476636886597,
          0.773499608039856,
          0.8795936703681946,
          0.889127254486084,
          0.949948787689209,
          0.9829450249671936,
          0.5980465412139893,
          0.9678909182548523,
          0.9774065017700195,
          0.03296613693237305,
          0.9476994276046753,
          0.887515664100647,
          0.9735926389694214,
          0.5581443309783936,
          0.4396836757659912,
          0.9977771043777466,
          0.9537302851676941,
          0.9661867022514343,
          0.9112985134124756,
          0.8129536509513855,
          0.9584326148033142,
          0.9736103415489197,
          0.9777911305427551,
          0.633685827255249,
          0.997937023639679,
          0.9733560085296631,
          0.9941245913505554,
          0.23538297414779663,
          0.9107131361961365,
          0.9995207190513611,
          0.9872062802314758,
          0.6013585329055786,
          0.9891992807388306,
          0.9894888997077942,
          0.9992203116416931,
          0.9815576076507568,
          0.8999845385551453,
          0.9852318167686462,
          0.979324460029602,
          0.9892798066139221,
          0.9721764922142029,
          0.9734325408935547,
          0.9977677464485168,
          0.5305356979370117,
          0.9823979735374451,
          0.9301869869232178,
          0.9483970999717712,
          0.993083655834198,
          0.9000164270401001,
          0.7231343984603882,
          0.928937554359436,
          0.9781299829483032,
          0.8251551389694214,
          0.9839637279510498,
          0.9649623036384583,
          0.8579315543174744,
          0.418168842792511,
          0.6951295733451843,
          0.8796229362487793,
          0.9843063950538635,
          0.9418342113494873,
          0.9986512660980225,
          0.9407957196235657,
          0.9888819456100464,
          0.9238604307174683,
          0.9615862369537354,
          0.9849592447280884,
          0.874072790145874,
          0.9715262055397034,
          0.6323919296264648,
          0.9588007926940918,
          0.8293410539627075,
          0.7901952266693115,
          0.892501175403595,
          0.45454031229019165,
          0.3661431670188904,
          0.6585192680358887,
          0.9831430315971375,
          0.6935402750968933,
          0.8879208564758301,
          0.8836467266082764,
          0.9787679314613342,
          0.3867383599281311,
          0.882940411567688,
          0.9897999167442322,
          0.9944267272949219,
          0.2544490098953247,
          0.9896166324615479,
          0.9684915542602539,
          0.9710279703140259,
          0.19068336486816406,
          0.869671642780304,
          0.03722107410430908,
          0.9967285990715027,
          0.9897701740264893,
          0.9288743138313293,
          0.7584036588668823,
          0.91432124376297,
          0.8142502307891846,
          0.9827922582626343,
          0.9308604001998901,
          0.9978413581848145,
          0.4143221378326416,
          0.9748573899269104,
          0.9970709681510925,
          0.961128294467926,
          0.9864104390144348,
          0.7236402034759521,
          0.6331098675727844,
          0.9887405037879944,
          0.9955815076828003,
          0.9927895069122314,
          0.6066781282424927,
          0.8395150899887085,
          0.9890902042388916,
          0.9919976592063904,
          0.9250470399856567,
          0.8026115298271179,
          0.9232691526412964,
          0.8175703287124634,
          0.9577062726020813,
          0.8889528512954712,
          0.9963651299476624,
          0.771865963935852,
          0.9856153726577759,
          0.8880553841590881,
          0.986605167388916,
          0.9958789944648743,
          0.8393798470497131,
          0.9649582505226135,
          0.9873983263969421,
          0.701842188835144,
          0.9736564755439758,
          0.99155592918396,
          0.9458143711090088,
          0.5508618950843811,
          0.9973100423812866,
          0.22979134321212769,
          0.9495675563812256,
          0.9171043634414673,
          0.9823030829429626,
          0.9449654817581177,
          0.9773135781288147,
          0.8656028509140015,
          0.8794834613800049,
          0.8300585746765137,
          0.9976170659065247,
          0.9990078210830688,
          0.7451534271240234,
          0.9681028127670288,
          0.9282830357551575,
          0.8319305777549744,
          0.7684336304664612,
          0.974358856678009,
          0.9775993824005127,
          0.9682546257972717,
          0.6805546879768372,
          0.8265202045440674,
          0.9928585886955261,
          0.971085250377655,
          0.918249249458313,
          0.9714207649230957,
          0.9972978234291077,
          0.9909189939498901,
          0.9762256145477295,
          0.9767802357673645,
          0.9814745187759399,
          0.9963816404342651,
          0.9358430504798889,
          0.24545711278915405,
          0.9911261796951294,
          0.99476158618927,
          0.9851545691490173,
          0.9933184385299683,
          0.26027601957321167,
          0.906663179397583,
          0.84234619140625,
          0.9976552128791809,
          0.9786137342453003,
          0.9643242955207825,
          0.9912551045417786,
          0.9922500252723694,
          0.9508155584335327,
          0.9634516835212708,
          0.9500854015350342,
          0.76380854845047,
          0.9030324816703796,
          0.8623970746994019,
          0.9962016344070435,
          0.9767935872077942,
          0.9098652601242065,
          0.1710832715034485,
          0.9854658842086792,
          0.5362868309020996,
          0.9046483039855957,
          0.9866719245910645,
          0.9785169959068298,
          0.909360408782959,
          0.9930679202079773,
          0.9881040453910828,
          0.9807237386703491,
          0.9218881130218506,
          0.942520797252655,
          0.9584539532661438,
          0.9174038171768188,
          0.9853441119194031,
          0.738120973110199,
          0.9385356307029724,
          0.9828499555587769,
          0.987197756767273,
          0.5161958932876587,
          0.985859751701355,
          0.6822622418403625,
          0.9644728899002075,
          0.9745563864707947,
          0.7109177112579346,
          0.36972934007644653,
          0.9884418845176697,
          0.7244659662246704,
          0.9946836829185486,
          0.9172720909118652,
          0.8022805452346802,
          0.9866154193878174,
          0.9246820211410522,
          0.9958890676498413,
          0.9271130561828613,
          0.9617624878883362,
          0.8917186260223389,
          0.9920605421066284,
          0.7252141833305359,
          0.7373906970024109,
          0.27990400791168213,
          0.8869388103485107,
          0.9957875609397888,
          0.8558153510093689,
          0.5190411806106567,
          0.9846309423446655,
          0.999372124671936,
          0.9993624687194824,
          0.9468253254890442,
          0.9908093810081482,
          0.47616010904312134,
          0.9882333278656006,
          0.801442563533783,
          0.9852721691131592,
          0.9053518176078796,
          0.9920509457588196,
          0.9910959601402283,
          0.9790500998497009,
          0.9895563721656799,
          0.9809975028038025,
          0.9104837775230408,
          0.9886717200279236,
          0.9905086755752563,
          0.749993622303009,
          0.8771775960922241,
          0.969715416431427,
          0.9174861311912537,
          0.9619585871696472,
          0.994114875793457,
          0.9964414834976196,
          0.933588981628418,
          0.9948533177375793,
          0.05668222904205322,
          0.9990034103393555,
          0.9967926740646362,
          0.6793795824050903,
          0.5735385417938232,
          0.9419492483139038,
          0.9512141346931458,
          0.9866338968276978,
          0.8646523356437683,
          0.7189277410507202,
          0.937545895576477,
          0.9591631889343262,
          0.8999326825141907,
          0.9725486040115356,
          0.8555417060852051,
          0.9608464241027832,
          0.9852848649024963,
          0.9991192817687988,
          0.9516046047210693,
          0.990106999874115,
          0.9950993657112122,
          0.8900148272514343,
          0.9163015484809875,
          0.9928985238075256,
          0.991733968257904,
          0.9907401204109192,
          0.6289379000663757,
          0.9111201167106628,
          0.796810507774353,
          0.7048695087432861,
          0.30797672271728516,
          0.9975531101226807,
          0.8683642148971558,
          0.8281762003898621,
          0.8737335801124573,
          0.9317547082901001,
          0.975226640701294,
          0.8885970115661621,
          0.997230589389801,
          0.8211694955825806,
          0.9823886752128601,
          0.9979714155197144,
          0.9085135459899902,
          0.9348974823951721,
          0.9881690144538879,
          0.9909514784812927,
          0.9194546937942505,
          0.785856306552887,
          0.9985646605491638,
          0.9987466335296631,
          0.9323590993881226,
          0.9999154210090637,
          0.9546456336975098,
          0.984702467918396,
          0.758554220199585,
          0.9980242252349854,
          0.9661206603050232,
          0.9600694179534912,
          0.9055201411247253,
          0.20627623796463013,
          0.8252456188201904,
          0.999860942363739,
          0.9970058798789978,
          0.99920654296875,
          0.9765661358833313,
          0.4685661196708679,
          0.2793447971343994,
          0.8093783855438232,
          0.9616047143936157,
          0.5903975963592529,
          0.9643145203590393,
          0.976421058177948,
          0.5207421779632568,
          0.8919966220855713,
          0.14536017179489136,
          0.9233241081237793,
          0.9896916747093201,
          0.986083984375,
          0.7095643281936646,
          0.3610683083534241,
          0.6819037795066833,
          0.9954503178596497,
          0.8545404076576233,
          0.9266802668571472,
          0.9271858930587769,
          0.9942264556884766,
          0.9758816957473755,
          0.8866620063781738,
          0.9494312405586243,
          0.4746937155723572,
          0.9857640862464905,
          0.989837646484375,
          0.9177491664886475,
          0.10304099321365356,
          0.9900863766670227,
          0.9776018857955933,
          0.1623549461364746,
          0.9990473985671997,
          0.9389832615852356,
          0.9978966116905212,
          0.8595448136329651,
          0.9879812598228455,
          0.9808976650238037,
          0.9119459986686707,
          0.9575720429420471,
          0.9203205108642578,
          0.9883788824081421,
          0.9286051988601685,
          0.8817568421363831,
          0.9364305734634399,
          0.9682607054710388,
          0.9694450497627258,
          0.9060046076774597,
          0.8957099318504333,
          0.831480860710144,
          0.7445321083068848,
          0.5322413444519043,
          0.9099850058555603
         ],
         "xaxis": "x",
         "yaxis": "y"
        },
        {
         "alignmentgroup": "True",
         "bingroup": "x",
         "hovertemplate": "Actual=1<br>Prob=%{x}<br>count=%{y}<extra></extra>",
         "legendgroup": "1",
         "marker": {
          "color": "#EF553B",
          "pattern": {
           "shape": ""
          }
         },
         "name": "1",
         "offsetgroup": "1",
         "orientation": "v",
         "showlegend": true,
         "type": "histogram",
         "x": [
          0.9256942272186279,
          0.9588211178779602,
          0.9641573429107666,
          0.7771860361099243,
          0.17487263679504395,
          0.6964788436889648,
          0.9965530037879944,
          0.9892866015434265,
          0.6765918731689453,
          0.8714572191238403,
          0.305464506149292,
          0.9781342148780823,
          0.9868384003639221,
          0.679180383682251,
          0.3370366096496582,
          0.9691743850708008,
          0.32341277599334717,
          0.606114387512207,
          0.8197229504585266,
          0.9581587314605713,
          0.9380550980567932,
          0.43189769983291626,
          0.7283906936645508,
          0.10823297500610352,
          0.7023988962173462,
          0.3599357604980469,
          0.9378811120986938,
          0.8068890571594238,
          0.418557345867157,
          0.9905056953430176,
          0.9388074278831482,
          0.4998127818107605,
          0.5663321018218994,
          0.894517719745636,
          0.7294700145721436,
          0.6719856262207031,
          0.9595019817352295,
          0.9188246130943298,
          0.9329758286476135,
          0.9812614321708679,
          0.8355808258056641,
          0.9151607751846313,
          0.5108469724655151,
          0.6998921036720276,
          0.9713870286941528,
          0.7672674655914307,
          0.3272373080253601,
          0.8474580645561218,
          0.9753885865211487,
          0.6562988758087158,
          0.6474225521087646,
          0.683465838432312,
          0.4420406222343445,
          0.9879724383354187,
          0.9957546591758728,
          0.9771287441253662,
          0.7675583362579346,
          0.27721351385116577,
          0.9685397744178772,
          0.715599536895752,
          0.7990150451660156,
          0.5821852684020996,
          0.9666837453842163,
          0.9466898441314697,
          0.9656602740287781,
          0.7496829032897949,
          0.8101474046707153,
          0.8909386396408081,
          0.28278517723083496,
          0.9221792221069336,
          0.3114461302757263,
          0.9607957601547241,
          0.9960529804229736,
          0.9185821413993835,
          0.7139789462089539,
          0.5981670618057251,
          0.9731940627098083,
          0.9961400628089905,
          0.9674115180969238,
          0.39028215408325195,
          0.9574804902076721,
          0.6855597496032715,
          0.345103919506073,
          0.9456247091293335,
          0.1692793369293213,
          0.9669830799102783,
          0.8897336721420288,
          0.7561109066009521,
          0.9378968477249146,
          0.7585935592651367,
          0.793932318687439,
          0.9046356678009033,
          0.8233065009117126,
          0.9663220643997192,
          0.9776136875152588,
          0.9192664623260498,
          0.8949857950210571,
          0.5486090183258057,
          0.2654915452003479,
          0.961597204208374,
          0.7851865291595459,
          0.5487055778503418,
          0.8392643928527832,
          0.832481861114502,
          0.9906530380249023,
          0.9673179984092712,
          0.9833117127418518,
          0.7603990435600281,
          0.15126413106918335,
          0.9603542685508728,
          0.8298304080963135,
          0.7319923043251038,
          0.09941023588180542,
          0.6037955284118652,
          0.1687542200088501,
          0.9529023170471191,
          0.9236943125724792,
          0.8368057012557983,
          0.026051104068756104,
          0.9312858581542969,
          0.8303713798522949,
          0.5161386132240295,
          0.9641761779785156,
          0.3522445559501648,
          0.6908687949180603,
          0.9153109788894653,
          0.0985640287399292,
          0.9990916848182678,
          0.9356356263160706,
          0.8731075525283813,
          0.9850717186927795,
          0.6357448101043701,
          0.45633000135421753,
          0.9838310480117798,
          0.8491260409355164,
          0.7770906090736389,
          0.9017167687416077,
          0.7365206480026245,
          0.807952344417572,
          0.9914379119873047,
          0.9421891570091248,
          0.6872016191482544,
          0.9226903319358826,
          0.9931837320327759,
          0.21729731559753418,
          0.9830998182296753,
          0.9926345348358154,
          0.4290781617164612,
          0.8761352896690369,
          0.6769353151321411,
          0.999259352684021,
          0.16180604696273804,
          0.8439760804176331,
          0.9356642961502075,
          0.8045392632484436,
          0.36795294284820557,
          0.9533045291900635,
          0.20840519666671753,
          0.7066912055015564,
          0.9396960139274597,
          0.6329596042633057,
          0.9748903512954712,
          0.9630540013313293,
          0.7135953903198242,
          0.9906958937644958,
          0.9846142530441284,
          0.9683281779289246,
          0.6814173460006714,
          0.9318045377731323,
          0.7301425933837891,
          0.9964168071746826,
          0.9390437006950378,
          0.7720901966094971,
          0.8261655569076538,
          0.9597077369689941,
          0.989143431186676,
          0.9515126347541809,
          0.8369947075843811,
          0.22960060834884644,
          0.8777757883071899,
          0.6628327369689941,
          0.9555857181549072,
          0.4335132837295532,
          0.9802175760269165,
          0.8919909596443176,
          0.9662699103355408,
          0.9639806151390076,
          0.6987379789352417,
          0.9860534071922302,
          0.10323202610015869,
          0.25151312351226807,
          0.28027695417404175,
          0.34720367193222046,
          0.9901143908500671,
          0.9345797300338745,
          0.9950305223464966,
          0.6645894050598145,
          0.9917277097702026,
          0.6299526691436768,
          0.24984675645828247,
          0.7492482662200928,
          0.8594527244567871,
          0.6225324273109436,
          0.792273998260498,
          0.9147655963897705,
          0.9784762859344482,
          0.3570350408554077,
          0.9436521530151367,
          0.8232413530349731,
          0.9073999524116516,
          0.546817421913147,
          0.9444674253463745,
          0.06837600469589233,
          0.9856055378913879,
          0.8843438625335693,
          0.9250588417053223,
          0.5367498397827148,
          0.9938139319419861,
          0.2624819874763489,
          0.9762474894523621,
          0.5411292910575867,
          0.08931851387023926,
          0.9977635145187378,
          0.4104217290878296,
          0.9211204051971436,
          0.8728966116905212,
          0.31963932514190674,
          0.5874848365783691,
          0.40635502338409424,
          0.9134418368339539,
          0.819279670715332,
          0.9940448999404907,
          0.6033802628517151,
          0.9428523182868958,
          0.9646505117416382,
          0.9287401437759399,
          0.9851837754249573,
          0.8032739758491516,
          0.9471230506896973,
          0.543684720993042,
          0.9426196217536926,
          0.8756343722343445,
          0.9490454196929932,
          0.9252645373344421,
          0.17174369096755981,
          0.7695533633232117,
          0.9341757893562317,
          0.9923253655433655,
          0.9200164079666138,
          0.9862467646598816,
          0.8299049139022827,
          0.9713050127029419,
          0.5942527055740356,
          0.9065030217170715,
          0.339555025100708,
          0.8422475457191467,
          0.9968992471694946,
          0.6456055641174316,
          0.7746801376342773,
          0.33183377981185913,
          0.8728198409080505,
          0.6784670352935791,
          0.05128222703933716,
          0.5225464105606079,
          0.3748156428337097,
          0.9229409694671631,
          0.2337130904197693,
          0.966313362121582,
          0.8719831705093384,
          0.9393234848976135,
          0.927676796913147,
          0.9709959030151367,
          0.8388115167617798,
          0.9969826936721802,
          0.9951232671737671,
          0.6299784183502197,
          0.9891307950019836,
          0.9138841032981873,
          0.3943653702735901,
          0.9817392826080322,
          0.6384296417236328,
          0.9496433138847351,
          0.1117483377456665,
          0.18695396184921265,
          0.9942232966423035,
          0.7859082221984863,
          0.6039042472839355,
          0.7642419934272766,
          0.7381089925765991,
          0.4150622487068176,
          0.6565842628479004,
          0.4528975486755371,
          0.3119274377822876,
          0.7554017305374146,
          0.7193340063095093,
          0.816626787185669,
          0.33917897939682007,
          0.9904727339744568,
          0.9850584864616394,
          0.8122704029083252,
          0.7913274765014648,
          0.8984182476997375,
          0.8617854118347168,
          0.9697161912918091,
          0.07363659143447876,
          0.9967964291572571,
          0.9848213195800781,
          0.7953413128852844,
          0.7382533550262451,
          0.8945027589797974,
          0.6285417675971985,
          0.3628508448600769,
          0.780616283416748,
          0.46343129873275757,
          0.9510701298713684,
          0.6793577671051025,
          0.9771970510482788,
          0.7137953042984009,
          0.983231246471405,
          0.9160012006759644,
          0.9864427447319031,
          0.7565840482711792,
          0.8378313183784485,
          0.12849390506744385,
          0.9611871242523193,
          0.8711023926734924,
          0.9256644248962402,
          0.9976844191551208,
          0.7226055860519409,
          0.9810981750488281,
          0.26705652475357056,
          0.9750018119812012,
          0.44912534952163696,
          0.845751941204071,
          0.9885042309761047,
          0.8190313577651978,
          0.38994282484054565,
          0.9482501745223999,
          0.8632140755653381,
          0.8585517406463623,
          0.8371872305870056,
          0.9708977341651917,
          0.6366173028945923,
          0.9812092781066895,
          0.2984848618507385,
          0.2467581033706665,
          0.45321887731552124,
          0.2588542699813843,
          0.5564103126525879,
          0.7830954194068909,
          0.7543627619743347,
          0.6360734701156616,
          0.7988549470901489,
          0.9387068748474121,
          0.7330837249755859,
          0.4478759765625,
          0.9207325577735901,
          0.9949904680252075,
          0.7037984132766724,
          0.13808345794677734,
          0.9945654273033142,
          0.9809850454330444,
          0.98893141746521,
          0.9209591150283813,
          0.15721124410629272,
          0.9875604510307312,
          0.6151636838912964,
          0.11433172225952148,
          0.8017041683197021,
          0.893459677696228,
          0.7625936269760132,
          0.972176730632782,
          0.6975588798522949,
          0.5984433889389038,
          0.8603793978691101,
          0.15030437707901,
          0.8269425630569458,
          0.9992281794548035,
          0.9292237758636475,
          0.9702036380767822,
          0.27919113636016846,
          0.16398024559020996,
          0.20202839374542236,
          0.4621809124946594,
          0.9162061810493469,
          0.47704803943634033,
          0.9098870754241943,
          0.8914907574653625,
          0.9862768650054932,
          0.9213152527809143,
          0.980762779712677,
          0.9607160687446594,
          0.6486178636550903,
          0.38634777069091797,
          0.9453592896461487,
          0.26130884885787964,
          0.9978597164154053,
          0.9477452039718628,
          0.9724641442298889,
          0.4229968190193176,
          0.8513185977935791,
          0.9717677235603333,
          0.8854968547821045,
          0.42194056510925293,
          0.9964641332626343,
          0.26769840717315674,
          0.8974604606628418,
          0.9251194000244141,
          0.40399807691574097,
          0.9471473693847656,
          0.9888670444488525,
          0.9693974256515503,
          0.9965441823005676,
          0.9975343942642212,
          0.9813036322593689,
          0.9616386890411377,
          0.9639220237731934,
          0.1943662166595459,
          0.547448992729187,
          0.8332782983779907,
          0.8245161771774292,
          0.9954403638839722,
          0.7073990106582642,
          0.9595575332641602,
          0.5721008777618408,
          0.9232403039932251,
          0.9580199718475342,
          0.8291564583778381,
          0.888465404510498,
          0.3518756031990051,
          0.8690580129623413,
          0.7883879542350769,
          0.024003803730010986,
          0.189569354057312,
          0.9848317503929138,
          0.7949480414390564,
          0.8921118974685669,
          0.8098471164703369,
          0.00629115104675293,
          0.7349334955215454,
          0.9856444001197815,
          0.8181406855583191,
          0.9595258831977844,
          0.5598973631858826,
          0.6190825700759888,
          0.9141701459884644,
          0.34062904119491577,
          0.8704609274864197,
          0.8702057003974915,
          0.9081119894981384,
          0.9229904413223267,
          0.9945219159126282,
          0.6450514197349548,
          0.07607895135879517,
          0.823536217212677,
          0.3566850423812866,
          0.8307271599769592,
          0.3449549078941345,
          0.972821831703186,
          0.9075616598129272,
          0.9763813018798828,
          0.9986023902893066,
          0.9928521513938904,
          0.5588545203208923,
          0.2911229133605957,
          0.45043569803237915,
          0.9156652092933655,
          0.9693523049354553,
          0.944918692111969,
          0.781532883644104,
          0.9767991304397583,
          0.5512955784797668,
          0.6551861763000488,
          0.23066097497940063,
          0.9893589019775391,
          0.7759495973587036,
          0.9777949452400208,
          0.7808362245559692,
          0.5650985240936279,
          0.9691787362098694,
          0.2614781856536865,
          0.9920952320098877,
          0.9128255844116211,
          0.9969267845153809,
          0.5573747158050537,
          0.7852864265441895,
          0.7584511637687683,
          0.9692779183387756,
          0.8114997148513794,
          0.9315534234046936,
          0.9842821955680847,
          0.9648714661598206,
          0.20803749561309814,
          0.2493898868560791,
          0.6147670745849609,
          0.09271770715713501,
          0.8766109943389893,
          0.9853002429008484,
          0.8620508313179016,
          0.7626316547393799,
          0.9584512710571289,
          0.6185479164123535,
          0.9988072514533997,
          0.5936990976333618,
          0.9357509613037109,
          0.46345239877700806,
          0.7489088773727417,
          0.9513243436813354,
          0.9848164319992065,
          0.7718924283981323,
          0.13135498762130737,
          0.645416259765625,
          0.9887440800666809,
          0.9458159804344177,
          0.9486268758773804,
          0.9679243564605713,
          0.9844720959663391,
          0.9893409609794617,
          0.665306806564331,
          0.9560778737068176,
          0.9081299304962158,
          0.5435419082641602,
          0.9687997102737427,
          0.7928949594497681,
          0.9672306180000305,
          0.920426070690155,
          0.8382515907287598,
          0.9554531574249268,
          0.7889252305030823,
          0.3086801767349243,
          0.9409118294715881,
          0.9203096628189087,
          0.834314227104187,
          0.9004546403884888,
          0.9512401223182678,
          0.6078953742980957,
          0.7597519755363464,
          0.981214702129364,
          0.7684813737869263,
          0.8423550128936768,
          0.9794347882270813,
          0.06610000133514404,
          0.8590099215507507,
          0.9175080060958862,
          0.8761351108551025,
          0.9983253479003906,
          0.9829915165901184,
          0.7176707983016968,
          0.9794256687164307
         ],
         "xaxis": "x",
         "yaxis": "y"
        }
       ],
       "layout": {
        "autosize": true,
        "barmode": "relative",
        "legend": {
         "title": {
          "text": "Actual"
         },
         "tracegroupgap": 0
        },
        "margin": {
         "t": 60
        },
        "template": {
         "data": {
          "bar": [
           {
            "error_x": {
             "color": "#2a3f5f"
            },
            "error_y": {
             "color": "#2a3f5f"
            },
            "marker": {
             "line": {
              "color": "#E5ECF6",
              "width": 0.5
             },
             "pattern": {
              "fillmode": "overlay",
              "size": 10,
              "solidity": 0.2
             }
            },
            "type": "bar"
           }
          ],
          "barpolar": [
           {
            "marker": {
             "line": {
              "color": "#E5ECF6",
              "width": 0.5
             },
             "pattern": {
              "fillmode": "overlay",
              "size": 10,
              "solidity": 0.2
             }
            },
            "type": "barpolar"
           }
          ],
          "carpet": [
           {
            "aaxis": {
             "endlinecolor": "#2a3f5f",
             "gridcolor": "white",
             "linecolor": "white",
             "minorgridcolor": "white",
             "startlinecolor": "#2a3f5f"
            },
            "baxis": {
             "endlinecolor": "#2a3f5f",
             "gridcolor": "white",
             "linecolor": "white",
             "minorgridcolor": "white",
             "startlinecolor": "#2a3f5f"
            },
            "type": "carpet"
           }
          ],
          "choropleth": [
           {
            "colorbar": {
             "outlinewidth": 0,
             "ticks": ""
            },
            "type": "choropleth"
           }
          ],
          "contour": [
           {
            "colorbar": {
             "outlinewidth": 0,
             "ticks": ""
            },
            "colorscale": [
             [
              0,
              "#0d0887"
             ],
             [
              0.1111111111111111,
              "#46039f"
             ],
             [
              0.2222222222222222,
              "#7201a8"
             ],
             [
              0.3333333333333333,
              "#9c179e"
             ],
             [
              0.4444444444444444,
              "#bd3786"
             ],
             [
              0.5555555555555556,
              "#d8576b"
             ],
             [
              0.6666666666666666,
              "#ed7953"
             ],
             [
              0.7777777777777778,
              "#fb9f3a"
             ],
             [
              0.8888888888888888,
              "#fdca26"
             ],
             [
              1,
              "#f0f921"
             ]
            ],
            "type": "contour"
           }
          ],
          "contourcarpet": [
           {
            "colorbar": {
             "outlinewidth": 0,
             "ticks": ""
            },
            "type": "contourcarpet"
           }
          ],
          "heatmap": [
           {
            "colorbar": {
             "outlinewidth": 0,
             "ticks": ""
            },
            "colorscale": [
             [
              0,
              "#0d0887"
             ],
             [
              0.1111111111111111,
              "#46039f"
             ],
             [
              0.2222222222222222,
              "#7201a8"
             ],
             [
              0.3333333333333333,
              "#9c179e"
             ],
             [
              0.4444444444444444,
              "#bd3786"
             ],
             [
              0.5555555555555556,
              "#d8576b"
             ],
             [
              0.6666666666666666,
              "#ed7953"
             ],
             [
              0.7777777777777778,
              "#fb9f3a"
             ],
             [
              0.8888888888888888,
              "#fdca26"
             ],
             [
              1,
              "#f0f921"
             ]
            ],
            "type": "heatmap"
           }
          ],
          "heatmapgl": [
           {
            "colorbar": {
             "outlinewidth": 0,
             "ticks": ""
            },
            "colorscale": [
             [
              0,
              "#0d0887"
             ],
             [
              0.1111111111111111,
              "#46039f"
             ],
             [
              0.2222222222222222,
              "#7201a8"
             ],
             [
              0.3333333333333333,
              "#9c179e"
             ],
             [
              0.4444444444444444,
              "#bd3786"
             ],
             [
              0.5555555555555556,
              "#d8576b"
             ],
             [
              0.6666666666666666,
              "#ed7953"
             ],
             [
              0.7777777777777778,
              "#fb9f3a"
             ],
             [
              0.8888888888888888,
              "#fdca26"
             ],
             [
              1,
              "#f0f921"
             ]
            ],
            "type": "heatmapgl"
           }
          ],
          "histogram": [
           {
            "marker": {
             "pattern": {
              "fillmode": "overlay",
              "size": 10,
              "solidity": 0.2
             }
            },
            "type": "histogram"
           }
          ],
          "histogram2d": [
           {
            "colorbar": {
             "outlinewidth": 0,
             "ticks": ""
            },
            "colorscale": [
             [
              0,
              "#0d0887"
             ],
             [
              0.1111111111111111,
              "#46039f"
             ],
             [
              0.2222222222222222,
              "#7201a8"
             ],
             [
              0.3333333333333333,
              "#9c179e"
             ],
             [
              0.4444444444444444,
              "#bd3786"
             ],
             [
              0.5555555555555556,
              "#d8576b"
             ],
             [
              0.6666666666666666,
              "#ed7953"
             ],
             [
              0.7777777777777778,
              "#fb9f3a"
             ],
             [
              0.8888888888888888,
              "#fdca26"
             ],
             [
              1,
              "#f0f921"
             ]
            ],
            "type": "histogram2d"
           }
          ],
          "histogram2dcontour": [
           {
            "colorbar": {
             "outlinewidth": 0,
             "ticks": ""
            },
            "colorscale": [
             [
              0,
              "#0d0887"
             ],
             [
              0.1111111111111111,
              "#46039f"
             ],
             [
              0.2222222222222222,
              "#7201a8"
             ],
             [
              0.3333333333333333,
              "#9c179e"
             ],
             [
              0.4444444444444444,
              "#bd3786"
             ],
             [
              0.5555555555555556,
              "#d8576b"
             ],
             [
              0.6666666666666666,
              "#ed7953"
             ],
             [
              0.7777777777777778,
              "#fb9f3a"
             ],
             [
              0.8888888888888888,
              "#fdca26"
             ],
             [
              1,
              "#f0f921"
             ]
            ],
            "type": "histogram2dcontour"
           }
          ],
          "mesh3d": [
           {
            "colorbar": {
             "outlinewidth": 0,
             "ticks": ""
            },
            "type": "mesh3d"
           }
          ],
          "parcoords": [
           {
            "line": {
             "colorbar": {
              "outlinewidth": 0,
              "ticks": ""
             }
            },
            "type": "parcoords"
           }
          ],
          "pie": [
           {
            "automargin": true,
            "type": "pie"
           }
          ],
          "scatter": [
           {
            "marker": {
             "colorbar": {
              "outlinewidth": 0,
              "ticks": ""
             }
            },
            "type": "scatter"
           }
          ],
          "scatter3d": [
           {
            "line": {
             "colorbar": {
              "outlinewidth": 0,
              "ticks": ""
             }
            },
            "marker": {
             "colorbar": {
              "outlinewidth": 0,
              "ticks": ""
             }
            },
            "type": "scatter3d"
           }
          ],
          "scattercarpet": [
           {
            "marker": {
             "colorbar": {
              "outlinewidth": 0,
              "ticks": ""
             }
            },
            "type": "scattercarpet"
           }
          ],
          "scattergeo": [
           {
            "marker": {
             "colorbar": {
              "outlinewidth": 0,
              "ticks": ""
             }
            },
            "type": "scattergeo"
           }
          ],
          "scattergl": [
           {
            "marker": {
             "colorbar": {
              "outlinewidth": 0,
              "ticks": ""
             }
            },
            "type": "scattergl"
           }
          ],
          "scattermapbox": [
           {
            "marker": {
             "colorbar": {
              "outlinewidth": 0,
              "ticks": ""
             }
            },
            "type": "scattermapbox"
           }
          ],
          "scatterpolar": [
           {
            "marker": {
             "colorbar": {
              "outlinewidth": 0,
              "ticks": ""
             }
            },
            "type": "scatterpolar"
           }
          ],
          "scatterpolargl": [
           {
            "marker": {
             "colorbar": {
              "outlinewidth": 0,
              "ticks": ""
             }
            },
            "type": "scatterpolargl"
           }
          ],
          "scatterternary": [
           {
            "marker": {
             "colorbar": {
              "outlinewidth": 0,
              "ticks": ""
             }
            },
            "type": "scatterternary"
           }
          ],
          "surface": [
           {
            "colorbar": {
             "outlinewidth": 0,
             "ticks": ""
            },
            "colorscale": [
             [
              0,
              "#0d0887"
             ],
             [
              0.1111111111111111,
              "#46039f"
             ],
             [
              0.2222222222222222,
              "#7201a8"
             ],
             [
              0.3333333333333333,
              "#9c179e"
             ],
             [
              0.4444444444444444,
              "#bd3786"
             ],
             [
              0.5555555555555556,
              "#d8576b"
             ],
             [
              0.6666666666666666,
              "#ed7953"
             ],
             [
              0.7777777777777778,
              "#fb9f3a"
             ],
             [
              0.8888888888888888,
              "#fdca26"
             ],
             [
              1,
              "#f0f921"
             ]
            ],
            "type": "surface"
           }
          ],
          "table": [
           {
            "cells": {
             "fill": {
              "color": "#EBF0F8"
             },
             "line": {
              "color": "white"
             }
            },
            "header": {
             "fill": {
              "color": "#C8D4E3"
             },
             "line": {
              "color": "white"
             }
            },
            "type": "table"
           }
          ]
         },
         "layout": {
          "annotationdefaults": {
           "arrowcolor": "#2a3f5f",
           "arrowhead": 0,
           "arrowwidth": 1
          },
          "autotypenumbers": "strict",
          "coloraxis": {
           "colorbar": {
            "outlinewidth": 0,
            "ticks": ""
           }
          },
          "colorscale": {
           "diverging": [
            [
             0,
             "#8e0152"
            ],
            [
             0.1,
             "#c51b7d"
            ],
            [
             0.2,
             "#de77ae"
            ],
            [
             0.3,
             "#f1b6da"
            ],
            [
             0.4,
             "#fde0ef"
            ],
            [
             0.5,
             "#f7f7f7"
            ],
            [
             0.6,
             "#e6f5d0"
            ],
            [
             0.7,
             "#b8e186"
            ],
            [
             0.8,
             "#7fbc41"
            ],
            [
             0.9,
             "#4d9221"
            ],
            [
             1,
             "#276419"
            ]
           ],
           "sequential": [
            [
             0,
             "#0d0887"
            ],
            [
             0.1111111111111111,
             "#46039f"
            ],
            [
             0.2222222222222222,
             "#7201a8"
            ],
            [
             0.3333333333333333,
             "#9c179e"
            ],
            [
             0.4444444444444444,
             "#bd3786"
            ],
            [
             0.5555555555555556,
             "#d8576b"
            ],
            [
             0.6666666666666666,
             "#ed7953"
            ],
            [
             0.7777777777777778,
             "#fb9f3a"
            ],
            [
             0.8888888888888888,
             "#fdca26"
            ],
            [
             1,
             "#f0f921"
            ]
           ],
           "sequentialminus": [
            [
             0,
             "#0d0887"
            ],
            [
             0.1111111111111111,
             "#46039f"
            ],
            [
             0.2222222222222222,
             "#7201a8"
            ],
            [
             0.3333333333333333,
             "#9c179e"
            ],
            [
             0.4444444444444444,
             "#bd3786"
            ],
            [
             0.5555555555555556,
             "#d8576b"
            ],
            [
             0.6666666666666666,
             "#ed7953"
            ],
            [
             0.7777777777777778,
             "#fb9f3a"
            ],
            [
             0.8888888888888888,
             "#fdca26"
            ],
            [
             1,
             "#f0f921"
            ]
           ]
          },
          "colorway": [
           "#636efa",
           "#EF553B",
           "#00cc96",
           "#ab63fa",
           "#FFA15A",
           "#19d3f3",
           "#FF6692",
           "#B6E880",
           "#FF97FF",
           "#FECB52"
          ],
          "font": {
           "color": "#2a3f5f"
          },
          "geo": {
           "bgcolor": "white",
           "lakecolor": "white",
           "landcolor": "#E5ECF6",
           "showlakes": true,
           "showland": true,
           "subunitcolor": "white"
          },
          "hoverlabel": {
           "align": "left"
          },
          "hovermode": "closest",
          "mapbox": {
           "style": "light"
          },
          "paper_bgcolor": "white",
          "plot_bgcolor": "#E5ECF6",
          "polar": {
           "angularaxis": {
            "gridcolor": "white",
            "linecolor": "white",
            "ticks": ""
           },
           "bgcolor": "#E5ECF6",
           "radialaxis": {
            "gridcolor": "white",
            "linecolor": "white",
            "ticks": ""
           }
          },
          "scene": {
           "xaxis": {
            "backgroundcolor": "#E5ECF6",
            "gridcolor": "white",
            "gridwidth": 2,
            "linecolor": "white",
            "showbackground": true,
            "ticks": "",
            "zerolinecolor": "white"
           },
           "yaxis": {
            "backgroundcolor": "#E5ECF6",
            "gridcolor": "white",
            "gridwidth": 2,
            "linecolor": "white",
            "showbackground": true,
            "ticks": "",
            "zerolinecolor": "white"
           },
           "zaxis": {
            "backgroundcolor": "#E5ECF6",
            "gridcolor": "white",
            "gridwidth": 2,
            "linecolor": "white",
            "showbackground": true,
            "ticks": "",
            "zerolinecolor": "white"
           }
          },
          "shapedefaults": {
           "line": {
            "color": "#2a3f5f"
           }
          },
          "ternary": {
           "aaxis": {
            "gridcolor": "white",
            "linecolor": "white",
            "ticks": ""
           },
           "baxis": {
            "gridcolor": "white",
            "linecolor": "white",
            "ticks": ""
           },
           "bgcolor": "#E5ECF6",
           "caxis": {
            "gridcolor": "white",
            "linecolor": "white",
            "ticks": ""
           }
          },
          "title": {
           "x": 0.05
          },
          "xaxis": {
           "automargin": true,
           "gridcolor": "white",
           "linecolor": "white",
           "ticks": "",
           "title": {
            "standoff": 15
           },
           "zerolinecolor": "white",
           "zerolinewidth": 2
          },
          "yaxis": {
           "automargin": true,
           "gridcolor": "white",
           "linecolor": "white",
           "ticks": "",
           "title": {
            "standoff": 15
           },
           "zerolinecolor": "white",
           "zerolinewidth": 2
          }
         }
        },
        "xaxis": {
         "anchor": "y",
         "autorange": true,
         "domain": [
          0,
          1
         ],
         "range": [
          -0.024999999999999967,
          1.025
         ],
         "title": {
          "text": "Prob"
         },
         "type": "linear"
        },
        "yaxis": {
         "anchor": "x",
         "autorange": true,
         "domain": [
          0,
          1
         ],
         "range": [
          0,
          689.4736842105264
         ],
         "title": {
          "text": "count"
         }
        }
       }
      },
      "image/png": "[encoded data removed]",
      "text/html": [
       "<div>                            <div id=\"900f13fd-39f8-450b-8596-53669c990f4f\" class=\"plotly-graph-div\" style=\"height:525px; width:100%;\"></div>            <script type=\"text/javascript\">                require([\"plotly\"], function(Plotly) {                    window.PLOTLYENV=window.PLOTLYENV || {};                                    if (document.getElementById(\"900f13fd-39f8-450b-8596-53669c990f4f\")) {                    Plotly.newPlot(                        \"900f13fd-39f8-450b-8596-53669c990f4f\",                        [{\"alignmentgroup\":\"True\",\"bingroup\":\"x\",\"hovertemplate\":\"Actual=0<br>Prob=%{x}<br>count=%{y}<extra></extra>\",\"legendgroup\":\"0\",\"marker\":{\"color\":\"#636efa\",\"pattern\":{\"shape\":\"\"}},\"name\":\"0\",\"offsetgroup\":\"0\",\"orientation\":\"v\",\"showlegend\":true,\"x\":[0.9264375567436218,0.8858664631843567,0.8178427219390869,0.993682861328125,0.8542097806930542,0.9645377993583679,0.9532338380813599,0.9662246108055115,0.9700444340705872,0.8831098079681396,0.7481093406677246,0.9856448173522949,0.967664897441864,0.995044469833374,0.9730556011199951,0.9909268617630005,0.8491761088371277,0.4262958765029907,0.3658936619758606,0.9673367142677307,0.9950078725814819,0.9890749454498291,0.9899500012397766,0.9055356383323669,0.870246410369873,0.561771035194397,0.9584817886352539,0.9864550232887268,0.9820050001144409,0.9345872402191162,0.8784539699554443,0.9147708415985107,0.7261921167373657,0.6086625456809998,0.9982050061225891,0.9320888519287109,0.8426542282104492,0.9881880283355713,0.9911617040634155,0.9483941793441772,0.9710930585861206,0.9989856481552124,0.837723970413208,0.8035751581192017,0.4628724455833435,0.9670389890670776,0.8801054358482361,0.8936273455619812,0.924091637134552,0.9988070130348206,0.7126628160476685,0.9743183851242065,0.972630500793457,0.7554473280906677,0.9774041771888733,0.7739930152893066,0.7909985780715942,0.9886419177055359,0.9581544399261475,0.9936414957046509,0.9781848192214966,0.8979616165161133,0.36121952533721924,0.9089363813400269,0.6959737539291382,0.2508350610733032,0.49455541372299194,0.10791218280792236,0.6649672985076904,0.9889603853225708,0.6830116510391235,0.9384260773658752,0.8586046695709229,0.9838429093360901,0.9310691356658936,0.9738593101501465,0.9902768731117249,0.9875629544258118,0.9568668007850647,0.15628987550735474,0.9918164610862732,0.9832159876823425,0.9653137922286987,0.9946399331092834,0.6486976742744446,0.9744465351104736,0.898253858089447,0.39897453784942627,0.9846969246864319,0.9231496453285217,0.9644866585731506,0.9759361743927002,0.9776449799537659,0.9981746673583984,0.9918705821037292,0.9627164602279663,0.9192876815795898,0.9991319179534912,0.9726309180259705,0.9630215764045715,0.8097599744796753,0.9963838458061218,0.8301085829734802,0.9367532730102539,0.46090298891067505,0.8527585864067078,0.8316034078598022,0.8148081302642822,0.7071359157562256,0.9845032095909119,0.8818619251251221,0.9981774091720581,0.8967227935791016,0.9721492528915405,0.9936928749084473,0.9911436438560486,0.8416407108306885,0.8562267422676086,0.8144049644470215,0.8744504451751709,0.9234922528266907,0.9129312634468079,0.8297662138938904,0.9368142485618591,0.03334486484527588,0.9955973029136658,0.8138196468353271,0.9882991909980774,0.9337913990020752,0.8549491167068481,0.2534186840057373,0.9971734285354614,0.9851534962654114,0.9814282059669495,0.7686324715614319,0.5426843166351318,0.9506221413612366,0.9998626112937927,0.9621831178665161,0.9686189889907837,0.9594493508338928,0.9657707214355469,0.9982362389564514,0.9932222962379456,0.9730525612831116,0.7432284355163574,0.9975631237030029,0.9360252022743225,0.9242839217185974,0.7910441160202026,0.9532065391540527,0.6356968879699707,0.9548857808113098,0.9916141629219055,0.8183707594871521,0.8998517990112305,0.9696776866912842,0.9858013987541199,0.9828879237174988,0.9772855043411255,0.993140459060669,0.9907276034355164,0.9135244488716125,0.9135637879371643,0.4007149338722229,0.9859424829483032,0.8512629866600037,0.9620206356048584,0.9784581065177917,0.9432069063186646,0.9910081028938293,0.8119511604309082,0.9752534627914429,0.9530422687530518,0.9912371039390564,0.8477144837379456,0.9376906752586365,0.22525149583816528,0.5044254660606384,0.9901759624481201,0.6111283898353577,0.9978784918785095,0.951602578163147,0.9901831150054932,0.9963217973709106,0.6763026118278503,0.9456628561019897,0.8071882128715515,0.9815998673439026,0.9555398225784302,0.8692184686660767,0.9974610209465027,0.71053147315979,0.7060802578926086,0.9437715411186218,0.9764694571495056,0.9164925813674927,0.9446144700050354,0.8115014433860779,0.9983154535293579,0.9786414504051208,0.9308858513832092,0.6814030408859253,0.9898720383644104,0.9962976574897766,0.931465208530426,0.1602042317390442,0.858939528465271,0.7124989032745361,0.9264425039291382,0.9590231776237488,0.9463633894920349,0.9967219829559326,0.96138995885849,0.9446202516555786,0.5759285092353821,0.9987549185752869,0.9876287579536438,0.9700418710708618,0.2379353642463684,0.9855250716209412,0.9657909870147705,0.9210826754570007,0.4476565718650818,0.979127824306488,0.9950798153877258,0.7938693761825562,0.4915143847465515,0.9668912887573242,0.8953155279159546,0.897998571395874,0.8553052544593811,0.978266179561615,0.9138379693031311,0.9161920547485352,0.982075572013855,0.9492284655570984,0.6966418027877808,0.9898256659507751,0.9864088892936707,0.9532126188278198,0.8804520964622498,0.9818793535232544,0.9697351455688477,0.3265455961227417,0.1918690800666809,0.9424241185188293,0.9731786847114563,0.3541051745414734,0.8762342929840088,0.7942715883255005,0.584364116191864,0.9222620129585266,0.9533752799034119,0.9191392064094543,0.9571703672409058,0.9097643494606018,0.69460529088974,0.4618874788284302,0.9828046560287476,0.19991493225097656,0.681195855140686,0.6985945701599121,0.9994667172431946,0.9388929605484009,0.9440605640411377,0.9918482899665833,0.9402170181274414,0.982913076877594,0.5911694765090942,0.9706053733825684,0.6703629493713379,0.9446930885314941,0.7258574962615967,0.9964139461517334,0.8406245112419128,0.9578001499176025,0.9561971426010132,0.9639285802841187,0.9855300188064575,0.8595306873321533,0.9156323075294495,0.97159343957901,0.8898817300796509,0.9995704293251038,0.92070072889328,0.27946537733078003,0.9556379318237305,0.9012872576713562,0.3856170177459717,0.904375433921814,0.8913184404373169,0.988611102104187,0.32085120677948,0.9452884793281555,0.4203747510910034,0.9900722503662109,0.8851785063743591,0.984991729259491,0.9510993361473083,0.8217141628265381,0.4115467071533203,0.9152214527130127,0.9693230390548706,0.9783998131752014,0.9775055050849915,0.989191472530365,0.9271643757820129,0.8634331226348877,0.1276947259902954,0.9577730894088745,0.8911363482475281,0.9943536520004272,0.9343885183334351,0.9952185750007629,0.9955398440361023,0.9902060627937317,0.9905392527580261,0.5821958780288696,0.9053963422775269,0.15356266498565674,0.8949567675590515,0.8321887254714966,0.9784325361251831,0.8504399061203003,0.6712806224822998,0.9924788475036621,0.9850528836250305,0.9832042455673218,0.913532018661499,0.9973198771476746,0.979658305644989,0.355949342250824,0.8980323076248169,0.9965369701385498,0.9992308020591736,0.9153757095336914,0.9598238468170166,0.9876947999000549,0.9128754138946533,0.9368321895599365,0.9106583595275879,0.9729128479957581,0.9536858201026917,0.9984114170074463,0.998508632183075,0.9805471897125244,0.9031971096992493,0.9629233479499817,0.999140202999115,0.5052235722541809,0.9657542109489441,0.9716330170631409,0.9783127307891846,0.9392867088317871,0.9683879017829895,0.8656376004219055,0.4930077791213989,0.9962049126625061,0.962692141532898,0.961720883846283,0.8749534487724304,0.8880393505096436,0.942452073097229,0.990092396736145,0.5616284608840942,0.9955108165740967,0.9963550567626953,0.984255313873291,0.9942582845687866,0.976458728313446,0.9308207035064697,0.9984317421913147,0.192657470703125,0.9861599206924438,0.9803197383880615,0.95162433385849,0.5601822137832642,0.9940198063850403,0.7285535335540771,0.9962977766990662,0.9397490620613098,0.9293131828308105,0.9629291296005249,0.9992747902870178,0.914008617401123,0.6506512761116028,0.988637387752533,0.9749832153320312,0.9919496774673462,0.9322677850723267,0.15372788906097412,0.9751294851303101,0.9659416079521179,0.93790203332901,0.9509418606758118,0.9751071333885193,0.9901743531227112,0.9166510701179504,0.8532122373580933,0.10850799083709717,0.9960969686508179,0.9975112080574036,0.7980701923370361,0.9835538268089294,0.990646481513977,0.9366582036018372,0.9131507277488708,0.8063880801200867,0.9227429032325745,0.99664705991745,0.9111161828041077,0.9867563843727112,0.9874204993247986,0.9582741260528564,0.9276624917984009,0.817406952381134,0.4257274270057678,0.9889777302742004,0.17743730545043945,0.9976333975791931,0.04914212226867676,0.9568592309951782,0.21715736389160156,0.9685215950012207,0.9851076602935791,0.9922142624855042,0.994159460067749,0.687019944190979,0.5760263800621033,0.991938054561615,0.9975813627243042,0.999868631362915,0.9763625860214233,0.9994324445724487,0.6751992702484131,0.8500536680221558,0.9076180458068848,0.6907756328582764,0.4285014867782593,0.695884108543396,0.8003864288330078,0.9751148819923401,0.6321988105773926,0.9507554769515991,0.9979825019836426,0.963282585144043,0.9981971383094788,0.9027411937713623,0.9881488680839539,0.9574508666992188,0.9981656670570374,0.9904071092605591,0.5910720825195312,0.8936563730239868,0.8179627060890198,0.9894019365310669,0.06694567203521729,0.8815180659294128,0.9371055960655212,0.9078108072280884,0.9945774674415588,0.9027262330055237,0.9894806146621704,0.9968935251235962,0.8966144323348999,0.7447845339775085,0.23424816131591797,0.7529401779174805,0.977340579032898,0.9555408954620361,0.9380630850791931,0.7385273575782776,0.9357203245162964,0.9878666996955872,0.9884676337242126,0.9566759467124939,0.9799973964691162,0.9803882241249084,0.997694730758667,0.9646974802017212,0.9265203475952148,0.9706181287765503,0.9551630616188049,0.9837614893913269,0.9657649993896484,0.9978930354118347,0.9965357780456543,0.9998136162757874,0.9328583478927612,0.9987610578536987,0.3521082401275635,0.9678694009780884,0.9644744992256165,0.9666519165039062,0.9855337142944336,0.9111460447311401,0.4675716757774353,0.9686802625656128,0.9965375065803528,0.9997695088386536,0.9570550918579102,0.9142186641693115,0.9868513941764832,0.9936798810958862,0.9747844934463501,0.9770485162734985,0.9331458210945129,0.9725816249847412,0.942040205001831,0.9803443551063538,0.9898953437805176,0.9688478708267212,0.9818801283836365,0.9808836579322815,0.4523193836212158,0.984144926071167,0.9975615739822388,0.9354361295700073,0.8626238107681274,0.933953046798706,0.9883652925491333,0.9414871335029602,0.9984930753707886,0.9462795257568359,0.9363462328910828,0.9862675666809082,0.7947537899017334,0.7312204837799072,0.3110141158103943,0.9725156426429749,0.9839819073677063,0.97412109375,0.8651653528213501,0.46124958992004395,0.6492904424667358,0.22942954301834106,0.9902877807617188,0.9780346751213074,0.9854966402053833,0.9914243221282959,0.9533857703208923,0.9967386722564697,0.9108755588531494,0.6131949424743652,0.9959017038345337,0.6328103542327881,0.9883948564529419,0.97265625,0.7878344655036926,0.21802693605422974,0.9695723056793213,0.9917519092559814,0.7397844791412354,0.9951345920562744,0.9900573492050171,0.9727995991706848,0.9626418352127075,0.7155455946922302,0.9788385033607483,0.9916495680809021,0.8516882658004761,0.8588585257530212,0.9825263023376465,0.8589836955070496,0.9907743334770203,0.7387874126434326,0.9894704222679138,0.9966040253639221,0.9978066086769104,0.8920735716819763,0.23688000440597534,0.9303431510925293,0.9964026212692261,0.5405454039573669,0.995331883430481,0.9562005996704102,0.9331433773040771,0.9926937222480774,0.9858667254447937,0.8993791341781616,0.9460950493812561,0.8106534481048584,0.8546187877655029,0.9566011428833008,0.9944843053817749,0.673186182975769,0.8896099925041199,0.9659062623977661,0.9842312335968018,0.9931710362434387,0.9893723130226135,0.9982925653457642,0.9901445508003235,0.10788995027542114,0.3488526940345764,0.970481276512146,0.8996539115905762,0.9703121185302734,0.9786168336868286,0.991603434085846,0.9981176257133484,0.4515491724014282,0.5183406472206116,0.981112003326416,0.9879122972488403,0.9203004240989685,0.9848921895027161,0.9841790795326233,0.9099020957946777,0.8056899905204773,0.9930904507637024,0.9985824823379517,0.9843372106552124,0.9909594058990479,0.8924237489700317,0.9734011888504028,0.7778294086456299,0.9560041427612305,0.9853545427322388,0.6998240947723389,0.7510805130004883,0.9684553742408752,0.7111622095108032,0.9736489057540894,0.835893988609314,0.867563009262085,0.6209380626678467,0.8120649456977844,0.761601984500885,0.9519221782684326,0.9895854592323303,0.5200802683830261,0.9674826860427856,0.9373136162757874,0.988373339176178,0.9406291246414185,0.927744448184967,0.6582510471343994,0.9711458086967468,0.9900715351104736,0.8817469477653503,0.8629876971244812,0.9964972734451294,0.9948115944862366,0.9648780226707458,0.9920507073402405,0.9940789341926575,0.8642781376838684,0.4942789077758789,0.9950454831123352,0.9476300477981567,0.9964354038238525,0.9974185228347778,0.9841539263725281,0.9855886697769165,0.9607507586479187,0.8749749660491943,0.9877308011054993,0.9718304872512817,0.8871766328811646,0.7996827363967896,0.9512451887130737,0.9300392270088196,0.4736067056655884,0.9908309578895569,0.9854264855384827,0.9906089901924133,0.9613197445869446,0.6285452842712402,0.7729395627975464,0.9948269128799438,0.8311598896980286,0.9925674796104431,0.8912895321846008,0.84889155626297,0.9923521280288696,0.8175948858261108,0.8798182606697083,0.9979304671287537,0.9945095777511597,0.8916904926300049,0.9964693784713745,0.9596109390258789,0.9777421355247498,0.995240330696106,0.7969436645507812,0.9612994194030762,0.9913049936294556,0.8828762173652649,0.8755092024803162,0.9401097893714905,0.9883114099502563,0.7693052291870117,0.9977281093597412,0.8676058053970337,0.9750354886054993,0.9984175562858582,0.9994200468063354,0.9955770969390869,0.8016533851623535,0.9994251728057861,0.8433125615119934,0.947832465171814,0.9802195429801941,0.9995124340057373,0.9934251308441162,0.9994521737098694,0.9083881378173828,0.9287574291229248,0.9958789944648743,0.9273338317871094,0.19959485530853271,0.8112747669219971,0.4846046566963196,0.9678887128829956,0.44186311960220337,0.9744113087654114,0.9622958898544312,0.9440839290618896,0.9522746801376343,0.9956342577934265,0.690343976020813,0.9915066361427307,0.2251753807067871,0.9607810974121094,0.8550100326538086,0.6615712642669678,0.9921817779541016,0.98188316822052,0.21766215562820435,0.9939023852348328,0.7550309896469116,0.9589090347290039,0.9466190338134766,0.9923383593559265,0.7136913537979126,0.9969837665557861,0.9921050667762756,0.9932245016098022,0.8916557431221008,0.9997694492340088,0.9954322576522827,0.9895413517951965,0.7858701944351196,0.7783828377723694,0.8038338422775269,0.9865080714225769,0.9602780342102051,0.8370418548583984,0.9851308465003967,0.9609344005584717,0.7267650961875916,0.914797306060791,0.16116410493850708,0.7163958549499512,0.9443154335021973,0.9783132672309875,0.8483859300613403,0.9990347623825073,0.9925774335861206,0.9982113838195801,0.45604556798934937,0.9836294651031494,0.978107213973999,0.9954540729522705,0.9558046460151672,0.9982877969741821,0.981368899345398,0.8235578536987305,0.8306279182434082,0.9605354070663452,0.894973874092102,0.9881510734558105,0.9878353476524353,0.9876818060874939,0.9417064189910889,0.9992348551750183,0.9875208139419556,0.9432539343833923,0.9422587156295776,0.506035327911377,0.33621329069137573,0.698897659778595,0.9827152490615845,0.3204430937767029,0.9959534406661987,0.9858238101005554,0.9290976524353027,0.9809075593948364,0.9742751121520996,0.7579765319824219,0.9889389276504517,0.9512884616851807,0.9266469478607178,0.3975970149040222,0.9525662660598755,0.8958821892738342,0.8093627691268921,0.9549797773361206,0.9719294905662537,0.9270821809768677,0.9447029232978821,0.9921534657478333,0.7488981485366821,0.8224346041679382,0.9545605182647705,0.954323947429657,0.9894458651542664,0.9586199522018433,0.9974668025970459,0.9877992868423462,0.9893986582756042,0.6094353199005127,0.9846119284629822,0.9160947203636169,0.9954953193664551,0.9051969647407532,0.7179757952690125,0.8449109196662903,0.9442411065101624,0.9839910864830017,0.9872490763664246,0.7649387121200562,0.9808392524719238,0.9472039341926575,0.9164894223213196,0.98368239402771,0.9206140041351318,0.9858862161636353,0.9844884276390076,0.9537134170532227,0.9889618754386902,0.8802628517150879,0.9379546642303467,0.7934963703155518,0.9983516335487366,0.9969757199287415,0.8789390325546265,0.6785409450531006,0.8168421983718872,0.9600449204444885,0.9919623136520386,0.9919769167900085,0.8145735859870911,0.9979978203773499,0.9482171535491943,0.8752584457397461,0.8768169283866882,0.9958515167236328,0.9843648672103882,0.30819839239120483,0.9939752817153931,0.8540481925010681,0.54612797498703,0.9585076570510864,0.8925122618675232,0.704135000705719,0.9896910190582275,0.9451117515563965,0.9495871663093567,0.9408488869667053,0.32810401916503906,0.9800808429718018,0.9224420785903931,0.9636013507843018,0.9900981783866882,0.9922382235527039,0.9835636019706726,0.9489268064498901,0.8111583590507507,0.869978129863739,0.9596425890922546,0.9933720827102661,0.9235674738883972,0.849640965461731,0.9939185976982117,0.9862683415412903,0.9891685247421265,0.9340068697929382,0.998522937297821,0.9641484618186951,0.8911927342414856,0.8132089376449585,0.98936927318573,0.903796374797821,0.07635641098022461,0.8766797780990601,0.9918187260627747,0.8922624588012695,0.9609610438346863,0.9799159169197083,0.27563387155532837,0.5373361110687256,0.9505879282951355,0.9987128973007202,0.9935871958732605,0.9945107698440552,0.617318868637085,0.9745592474937439,0.9718985557556152,0.9895778298377991,0.9294306039810181,0.9778865575790405,0.38104134798049927,0.8935251235961914,0.9362353682518005,0.7689112424850464,0.9557573795318604,0.9372735619544983,0.9748346209526062,0.9372947216033936,0.9963834285736084,0.9368972182273865,0.9669569134712219,0.6800997853279114,0.9138917326927185,0.8579142093658447,0.9845260381698608,0.9878138303756714,0.9694986939430237,0.993008553981781,0.9260243773460388,0.8513856530189514,0.9915119409561157,0.991194486618042,0.9130898714065552,0.9991943836212158,0.8540127277374268,0.6495973467826843,0.953376293182373,0.9172365665435791,0.949846088886261,0.617188572883606,0.622803270816803,0.9994494318962097,0.4120370149612427,0.9312610626220703,0.9746317267417908,0.7726591229438782,0.9877418279647827,0.9997976422309875,0.7761406898498535,0.9932799935340881,0.5405348539352417,0.9929677248001099,0.9901211261749268,0.9712088704109192,0.9959214925765991,0.9873483777046204,0.8550615906715393,0.9772796034812927,0.9650502800941467,0.9838971495628357,0.9721583724021912,0.7665374875068665,0.7022795677185059,0.9965840578079224,0.9744929671287537,0.9579041600227356,0.8996848464012146,0.9326072931289673,0.9925801157951355,0.8631445169448853,0.9929391741752625,0.900505006313324,0.8806491494178772,0.8370183706283569,0.9939923286437988,0.973773717880249,0.3219309449195862,0.9718459844589233,0.9808319807052612,0.09732455015182495,0.9707327485084534,0.7062565684318542,0.9873005747795105,0.997931957244873,0.996431827545166,0.9848964810371399,0.9906951785087585,0.3696310520172119,0.9244872331619263,0.7962964773178101,0.9882367849349976,0.9972069263458252,0.9955698847770691,0.9996533393859863,0.7825056910514832,0.9812904000282288,0.8663275241851807,0.9886898994445801,0.9838480949401855,0.9933363795280457,0.6690583229064941,0.9736359119415283,0.7641336917877197,0.7637089490890503,0.9980317950248718,0.9264940023422241,0.9585317969322205,0.9937158823013306,0.9801143407821655,0.9838280081748962,0.08097755908966064,0.9461050629615784,0.9734714031219482,0.97413569688797,0.018992245197296143,0.8794615268707275,0.9974187612533569,0.9867712259292603,0.995445728302002,0.7656856179237366,0.989736795425415,0.39764833450317383,0.7299744486808777,0.8156446218490601,0.6854315996170044,0.9395920634269714,0.9566458463668823,0.9792042374610901,0.9401688575744629,0.8133599162101746,0.9870664477348328,0.997850239276886,0.856479823589325,0.9822713732719421,0.9216474294662476,0.8826808929443359,0.9539865851402283,0.9876841306686401,0.9945692420005798,0.939127504825592,0.9985063076019287,0.9885199666023254,0.9720142483711243,0.564281702041626,0.8812530636787415,0.9827171564102173,0.8898962736129761,0.9370474815368652,0.9852933883666992,0.9802349209785461,0.9946827292442322,0.7417675256729126,0.8900632262229919,0.8945420384407043,0.831665575504303,0.6513926982879639,0.6097999811172485,0.9106963872909546,0.4458237290382385,0.9876468181610107,0.9516043663024902,0.9370458722114563,0.91765296459198,0.9875701665878296,0.9876039624214172,0.9591559171676636,0.2798534631729126,0.9837883114814758,0.9933839440345764,0.9309535622596741,0.3468824028968811,0.9500536918640137,0.5291504859924316,0.992054283618927,0.9237468242645264,0.9947914481163025,0.9913601875305176,0.9907329082489014,0.8776613473892212,0.989159345626831,0.7638850808143616,0.9080459475517273,0.9903886914253235,0.9803361892700195,0.7818282246589661,0.2652483582496643,0.9587814211845398,0.9489260911941528,0.9890469908714294,0.9825403690338135,0.9881114363670349,0.9862521290779114,0.2797893285751343,0.9500584602355957,0.9777286052703857,0.7590879797935486,0.8504096269607544,0.993073582649231,0.9913002252578735,0.2776421308517456,0.9194959998130798,0.048465073108673096,0.5817555785179138,0.8328086733818054,0.9889097809791565,0.9792144894599915,0.7567034363746643,0.9889326095581055,0.9991540908813477,0.9969201683998108,0.9967141151428223,0.8771361708641052,0.8861223459243774,0.7858771085739136,0.9950534701347351,0.9729334712028503,0.990605890750885,0.9193066954612732,0.8944529891014099,0.20910924673080444,0.9409815073013306,0.8896061182022095,0.6668615341186523,0.9671202898025513,0.9359309673309326,0.283627450466156,0.8312647938728333,0.9698250889778137,0.9838598370552063,0.2998976707458496,0.99399733543396,0.9680986404418945,0.8855863809585571,0.5340575575828552,0.9546903967857361,0.6400594711303711,0.9867383241653442,0.7585476636886597,0.773499608039856,0.8795936703681946,0.889127254486084,0.949948787689209,0.9829450249671936,0.5980465412139893,0.9678909182548523,0.9774065017700195,0.03296613693237305,0.9476994276046753,0.887515664100647,0.9735926389694214,0.5581443309783936,0.4396836757659912,0.9977771043777466,0.9537302851676941,0.9661867022514343,0.9112985134124756,0.8129536509513855,0.9584326148033142,0.9736103415489197,0.9777911305427551,0.633685827255249,0.997937023639679,0.9733560085296631,0.9941245913505554,0.23538297414779663,0.9107131361961365,0.9995207190513611,0.9872062802314758,0.6013585329055786,0.9891992807388306,0.9894888997077942,0.9992203116416931,0.9815576076507568,0.8999845385551453,0.9852318167686462,0.979324460029602,0.9892798066139221,0.9721764922142029,0.9734325408935547,0.9977677464485168,0.5305356979370117,0.9823979735374451,0.9301869869232178,0.9483970999717712,0.993083655834198,0.9000164270401001,0.7231343984603882,0.928937554359436,0.9781299829483032,0.8251551389694214,0.9839637279510498,0.9649623036384583,0.8579315543174744,0.418168842792511,0.6951295733451843,0.8796229362487793,0.9843063950538635,0.9418342113494873,0.9986512660980225,0.9407957196235657,0.9888819456100464,0.9238604307174683,0.9615862369537354,0.9849592447280884,0.874072790145874,0.9715262055397034,0.6323919296264648,0.9588007926940918,0.8293410539627075,0.7901952266693115,0.892501175403595,0.45454031229019165,0.3661431670188904,0.6585192680358887,0.9831430315971375,0.6935402750968933,0.8879208564758301,0.8836467266082764,0.9787679314613342,0.3867383599281311,0.882940411567688,0.9897999167442322,0.9944267272949219,0.2544490098953247,0.9896166324615479,0.9684915542602539,0.9710279703140259,0.19068336486816406,0.869671642780304,0.03722107410430908,0.9967285990715027,0.9897701740264893,0.9288743138313293,0.7584036588668823,0.91432124376297,0.8142502307891846,0.9827922582626343,0.9308604001998901,0.9978413581848145,0.4143221378326416,0.9748573899269104,0.9970709681510925,0.961128294467926,0.9864104390144348,0.7236402034759521,0.6331098675727844,0.9887405037879944,0.9955815076828003,0.9927895069122314,0.6066781282424927,0.8395150899887085,0.9890902042388916,0.9919976592063904,0.9250470399856567,0.8026115298271179,0.9232691526412964,0.8175703287124634,0.9577062726020813,0.8889528512954712,0.9963651299476624,0.771865963935852,0.9856153726577759,0.8880553841590881,0.986605167388916,0.9958789944648743,0.8393798470497131,0.9649582505226135,0.9873983263969421,0.701842188835144,0.9736564755439758,0.99155592918396,0.9458143711090088,0.5508618950843811,0.9973100423812866,0.22979134321212769,0.9495675563812256,0.9171043634414673,0.9823030829429626,0.9449654817581177,0.9773135781288147,0.8656028509140015,0.8794834613800049,0.8300585746765137,0.9976170659065247,0.9990078210830688,0.7451534271240234,0.9681028127670288,0.9282830357551575,0.8319305777549744,0.7684336304664612,0.974358856678009,0.9775993824005127,0.9682546257972717,0.6805546879768372,0.8265202045440674,0.9928585886955261,0.971085250377655,0.918249249458313,0.9714207649230957,0.9972978234291077,0.9909189939498901,0.9762256145477295,0.9767802357673645,0.9814745187759399,0.9963816404342651,0.9358430504798889,0.24545711278915405,0.9911261796951294,0.99476158618927,0.9851545691490173,0.9933184385299683,0.26027601957321167,0.906663179397583,0.84234619140625,0.9976552128791809,0.9786137342453003,0.9643242955207825,0.9912551045417786,0.9922500252723694,0.9508155584335327,0.9634516835212708,0.9500854015350342,0.76380854845047,0.9030324816703796,0.8623970746994019,0.9962016344070435,0.9767935872077942,0.9098652601242065,0.1710832715034485,0.9854658842086792,0.5362868309020996,0.9046483039855957,0.9866719245910645,0.9785169959068298,0.909360408782959,0.9930679202079773,0.9881040453910828,0.9807237386703491,0.9218881130218506,0.942520797252655,0.9584539532661438,0.9174038171768188,0.9853441119194031,0.738120973110199,0.9385356307029724,0.9828499555587769,0.987197756767273,0.5161958932876587,0.985859751701355,0.6822622418403625,0.9644728899002075,0.9745563864707947,0.7109177112579346,0.36972934007644653,0.9884418845176697,0.7244659662246704,0.9946836829185486,0.9172720909118652,0.8022805452346802,0.9866154193878174,0.9246820211410522,0.9958890676498413,0.9271130561828613,0.9617624878883362,0.8917186260223389,0.9920605421066284,0.7252141833305359,0.7373906970024109,0.27990400791168213,0.8869388103485107,0.9957875609397888,0.8558153510093689,0.5190411806106567,0.9846309423446655,0.999372124671936,0.9993624687194824,0.9468253254890442,0.9908093810081482,0.47616010904312134,0.9882333278656006,0.801442563533783,0.9852721691131592,0.9053518176078796,0.9920509457588196,0.9910959601402283,0.9790500998497009,0.9895563721656799,0.9809975028038025,0.9104837775230408,0.9886717200279236,0.9905086755752563,0.749993622303009,0.8771775960922241,0.969715416431427,0.9174861311912537,0.9619585871696472,0.994114875793457,0.9964414834976196,0.933588981628418,0.9948533177375793,0.05668222904205322,0.9990034103393555,0.9967926740646362,0.6793795824050903,0.5735385417938232,0.9419492483139038,0.9512141346931458,0.9866338968276978,0.8646523356437683,0.7189277410507202,0.937545895576477,0.9591631889343262,0.8999326825141907,0.9725486040115356,0.8555417060852051,0.9608464241027832,0.9852848649024963,0.9991192817687988,0.9516046047210693,0.990106999874115,0.9950993657112122,0.8900148272514343,0.9163015484809875,0.9928985238075256,0.991733968257904,0.9907401204109192,0.6289379000663757,0.9111201167106628,0.796810507774353,0.7048695087432861,0.30797672271728516,0.9975531101226807,0.8683642148971558,0.8281762003898621,0.8737335801124573,0.9317547082901001,0.975226640701294,0.8885970115661621,0.997230589389801,0.8211694955825806,0.9823886752128601,0.9979714155197144,0.9085135459899902,0.9348974823951721,0.9881690144538879,0.9909514784812927,0.9194546937942505,0.785856306552887,0.9985646605491638,0.9987466335296631,0.9323590993881226,0.9999154210090637,0.9546456336975098,0.984702467918396,0.758554220199585,0.9980242252349854,0.9661206603050232,0.9600694179534912,0.9055201411247253,0.20627623796463013,0.8252456188201904,0.999860942363739,0.9970058798789978,0.99920654296875,0.9765661358833313,0.4685661196708679,0.2793447971343994,0.8093783855438232,0.9616047143936157,0.5903975963592529,0.9643145203590393,0.976421058177948,0.5207421779632568,0.8919966220855713,0.14536017179489136,0.9233241081237793,0.9896916747093201,0.986083984375,0.7095643281936646,0.3610683083534241,0.6819037795066833,0.9954503178596497,0.8545404076576233,0.9266802668571472,0.9271858930587769,0.9942264556884766,0.9758816957473755,0.8866620063781738,0.9494312405586243,0.4746937155723572,0.9857640862464905,0.989837646484375,0.9177491664886475,0.10304099321365356,0.9900863766670227,0.9776018857955933,0.1623549461364746,0.9990473985671997,0.9389832615852356,0.9978966116905212,0.8595448136329651,0.9879812598228455,0.9808976650238037,0.9119459986686707,0.9575720429420471,0.9203205108642578,0.9883788824081421,0.9286051988601685,0.8817568421363831,0.9364305734634399,0.9682607054710388,0.9694450497627258,0.9060046076774597,0.8957099318504333,0.831480860710144,0.7445321083068848,0.5322413444519043,0.9099850058555603],\"xaxis\":\"x\",\"yaxis\":\"y\",\"type\":\"histogram\"},{\"alignmentgroup\":\"True\",\"bingroup\":\"x\",\"hovertemplate\":\"Actual=1<br>Prob=%{x}<br>count=%{y}<extra></extra>\",\"legendgroup\":\"1\",\"marker\":{\"color\":\"#EF553B\",\"pattern\":{\"shape\":\"\"}},\"name\":\"1\",\"offsetgroup\":\"1\",\"orientation\":\"v\",\"showlegend\":true,\"x\":[0.9256942272186279,0.9588211178779602,0.9641573429107666,0.7771860361099243,0.17487263679504395,0.6964788436889648,0.9965530037879944,0.9892866015434265,0.6765918731689453,0.8714572191238403,0.305464506149292,0.9781342148780823,0.9868384003639221,0.679180383682251,0.3370366096496582,0.9691743850708008,0.32341277599334717,0.606114387512207,0.8197229504585266,0.9581587314605713,0.9380550980567932,0.43189769983291626,0.7283906936645508,0.10823297500610352,0.7023988962173462,0.3599357604980469,0.9378811120986938,0.8068890571594238,0.418557345867157,0.9905056953430176,0.9388074278831482,0.4998127818107605,0.5663321018218994,0.894517719745636,0.7294700145721436,0.6719856262207031,0.9595019817352295,0.9188246130943298,0.9329758286476135,0.9812614321708679,0.8355808258056641,0.9151607751846313,0.5108469724655151,0.6998921036720276,0.9713870286941528,0.7672674655914307,0.3272373080253601,0.8474580645561218,0.9753885865211487,0.6562988758087158,0.6474225521087646,0.683465838432312,0.4420406222343445,0.9879724383354187,0.9957546591758728,0.9771287441253662,0.7675583362579346,0.27721351385116577,0.9685397744178772,0.715599536895752,0.7990150451660156,0.5821852684020996,0.9666837453842163,0.9466898441314697,0.9656602740287781,0.7496829032897949,0.8101474046707153,0.8909386396408081,0.28278517723083496,0.9221792221069336,0.3114461302757263,0.9607957601547241,0.9960529804229736,0.9185821413993835,0.7139789462089539,0.5981670618057251,0.9731940627098083,0.9961400628089905,0.9674115180969238,0.39028215408325195,0.9574804902076721,0.6855597496032715,0.345103919506073,0.9456247091293335,0.1692793369293213,0.9669830799102783,0.8897336721420288,0.7561109066009521,0.9378968477249146,0.7585935592651367,0.793932318687439,0.9046356678009033,0.8233065009117126,0.9663220643997192,0.9776136875152588,0.9192664623260498,0.8949857950210571,0.5486090183258057,0.2654915452003479,0.961597204208374,0.7851865291595459,0.5487055778503418,0.8392643928527832,0.832481861114502,0.9906530380249023,0.9673179984092712,0.9833117127418518,0.7603990435600281,0.15126413106918335,0.9603542685508728,0.8298304080963135,0.7319923043251038,0.09941023588180542,0.6037955284118652,0.1687542200088501,0.9529023170471191,0.9236943125724792,0.8368057012557983,0.026051104068756104,0.9312858581542969,0.8303713798522949,0.5161386132240295,0.9641761779785156,0.3522445559501648,0.6908687949180603,0.9153109788894653,0.0985640287399292,0.9990916848182678,0.9356356263160706,0.8731075525283813,0.9850717186927795,0.6357448101043701,0.45633000135421753,0.9838310480117798,0.8491260409355164,0.7770906090736389,0.9017167687416077,0.7365206480026245,0.807952344417572,0.9914379119873047,0.9421891570091248,0.6872016191482544,0.9226903319358826,0.9931837320327759,0.21729731559753418,0.9830998182296753,0.9926345348358154,0.4290781617164612,0.8761352896690369,0.6769353151321411,0.999259352684021,0.16180604696273804,0.8439760804176331,0.9356642961502075,0.8045392632484436,0.36795294284820557,0.9533045291900635,0.20840519666671753,0.7066912055015564,0.9396960139274597,0.6329596042633057,0.9748903512954712,0.9630540013313293,0.7135953903198242,0.9906958937644958,0.9846142530441284,0.9683281779289246,0.6814173460006714,0.9318045377731323,0.7301425933837891,0.9964168071746826,0.9390437006950378,0.7720901966094971,0.8261655569076538,0.9597077369689941,0.989143431186676,0.9515126347541809,0.8369947075843811,0.22960060834884644,0.8777757883071899,0.6628327369689941,0.9555857181549072,0.4335132837295532,0.9802175760269165,0.8919909596443176,0.9662699103355408,0.9639806151390076,0.6987379789352417,0.9860534071922302,0.10323202610015869,0.25151312351226807,0.28027695417404175,0.34720367193222046,0.9901143908500671,0.9345797300338745,0.9950305223464966,0.6645894050598145,0.9917277097702026,0.6299526691436768,0.24984675645828247,0.7492482662200928,0.8594527244567871,0.6225324273109436,0.792273998260498,0.9147655963897705,0.9784762859344482,0.3570350408554077,0.9436521530151367,0.8232413530349731,0.9073999524116516,0.546817421913147,0.9444674253463745,0.06837600469589233,0.9856055378913879,0.8843438625335693,0.9250588417053223,0.5367498397827148,0.9938139319419861,0.2624819874763489,0.9762474894523621,0.5411292910575867,0.08931851387023926,0.9977635145187378,0.4104217290878296,0.9211204051971436,0.8728966116905212,0.31963932514190674,0.5874848365783691,0.40635502338409424,0.9134418368339539,0.819279670715332,0.9940448999404907,0.6033802628517151,0.9428523182868958,0.9646505117416382,0.9287401437759399,0.9851837754249573,0.8032739758491516,0.9471230506896973,0.543684720993042,0.9426196217536926,0.8756343722343445,0.9490454196929932,0.9252645373344421,0.17174369096755981,0.7695533633232117,0.9341757893562317,0.9923253655433655,0.9200164079666138,0.9862467646598816,0.8299049139022827,0.9713050127029419,0.5942527055740356,0.9065030217170715,0.339555025100708,0.8422475457191467,0.9968992471694946,0.6456055641174316,0.7746801376342773,0.33183377981185913,0.8728198409080505,0.6784670352935791,0.05128222703933716,0.5225464105606079,0.3748156428337097,0.9229409694671631,0.2337130904197693,0.966313362121582,0.8719831705093384,0.9393234848976135,0.927676796913147,0.9709959030151367,0.8388115167617798,0.9969826936721802,0.9951232671737671,0.6299784183502197,0.9891307950019836,0.9138841032981873,0.3943653702735901,0.9817392826080322,0.6384296417236328,0.9496433138847351,0.1117483377456665,0.18695396184921265,0.9942232966423035,0.7859082221984863,0.6039042472839355,0.7642419934272766,0.7381089925765991,0.4150622487068176,0.6565842628479004,0.4528975486755371,0.3119274377822876,0.7554017305374146,0.7193340063095093,0.816626787185669,0.33917897939682007,0.9904727339744568,0.9850584864616394,0.8122704029083252,0.7913274765014648,0.8984182476997375,0.8617854118347168,0.9697161912918091,0.07363659143447876,0.9967964291572571,0.9848213195800781,0.7953413128852844,0.7382533550262451,0.8945027589797974,0.6285417675971985,0.3628508448600769,0.780616283416748,0.46343129873275757,0.9510701298713684,0.6793577671051025,0.9771970510482788,0.7137953042984009,0.983231246471405,0.9160012006759644,0.9864427447319031,0.7565840482711792,0.8378313183784485,0.12849390506744385,0.9611871242523193,0.8711023926734924,0.9256644248962402,0.9976844191551208,0.7226055860519409,0.9810981750488281,0.26705652475357056,0.9750018119812012,0.44912534952163696,0.845751941204071,0.9885042309761047,0.8190313577651978,0.38994282484054565,0.9482501745223999,0.8632140755653381,0.8585517406463623,0.8371872305870056,0.9708977341651917,0.6366173028945923,0.9812092781066895,0.2984848618507385,0.2467581033706665,0.45321887731552124,0.2588542699813843,0.5564103126525879,0.7830954194068909,0.7543627619743347,0.6360734701156616,0.7988549470901489,0.9387068748474121,0.7330837249755859,0.4478759765625,0.9207325577735901,0.9949904680252075,0.7037984132766724,0.13808345794677734,0.9945654273033142,0.9809850454330444,0.98893141746521,0.9209591150283813,0.15721124410629272,0.9875604510307312,0.6151636838912964,0.11433172225952148,0.8017041683197021,0.893459677696228,0.7625936269760132,0.972176730632782,0.6975588798522949,0.5984433889389038,0.8603793978691101,0.15030437707901,0.8269425630569458,0.9992281794548035,0.9292237758636475,0.9702036380767822,0.27919113636016846,0.16398024559020996,0.20202839374542236,0.4621809124946594,0.9162061810493469,0.47704803943634033,0.9098870754241943,0.8914907574653625,0.9862768650054932,0.9213152527809143,0.980762779712677,0.9607160687446594,0.6486178636550903,0.38634777069091797,0.9453592896461487,0.26130884885787964,0.9978597164154053,0.9477452039718628,0.9724641442298889,0.4229968190193176,0.8513185977935791,0.9717677235603333,0.8854968547821045,0.42194056510925293,0.9964641332626343,0.26769840717315674,0.8974604606628418,0.9251194000244141,0.40399807691574097,0.9471473693847656,0.9888670444488525,0.9693974256515503,0.9965441823005676,0.9975343942642212,0.9813036322593689,0.9616386890411377,0.9639220237731934,0.1943662166595459,0.547448992729187,0.8332782983779907,0.8245161771774292,0.9954403638839722,0.7073990106582642,0.9595575332641602,0.5721008777618408,0.9232403039932251,0.9580199718475342,0.8291564583778381,0.888465404510498,0.3518756031990051,0.8690580129623413,0.7883879542350769,0.024003803730010986,0.189569354057312,0.9848317503929138,0.7949480414390564,0.8921118974685669,0.8098471164703369,0.00629115104675293,0.7349334955215454,0.9856444001197815,0.8181406855583191,0.9595258831977844,0.5598973631858826,0.6190825700759888,0.9141701459884644,0.34062904119491577,0.8704609274864197,0.8702057003974915,0.9081119894981384,0.9229904413223267,0.9945219159126282,0.6450514197349548,0.07607895135879517,0.823536217212677,0.3566850423812866,0.8307271599769592,0.3449549078941345,0.972821831703186,0.9075616598129272,0.9763813018798828,0.9986023902893066,0.9928521513938904,0.5588545203208923,0.2911229133605957,0.45043569803237915,0.9156652092933655,0.9693523049354553,0.944918692111969,0.781532883644104,0.9767991304397583,0.5512955784797668,0.6551861763000488,0.23066097497940063,0.9893589019775391,0.7759495973587036,0.9777949452400208,0.7808362245559692,0.5650985240936279,0.9691787362098694,0.2614781856536865,0.9920952320098877,0.9128255844116211,0.9969267845153809,0.5573747158050537,0.7852864265441895,0.7584511637687683,0.9692779183387756,0.8114997148513794,0.9315534234046936,0.9842821955680847,0.9648714661598206,0.20803749561309814,0.2493898868560791,0.6147670745849609,0.09271770715713501,0.8766109943389893,0.9853002429008484,0.8620508313179016,0.7626316547393799,0.9584512710571289,0.6185479164123535,0.9988072514533997,0.5936990976333618,0.9357509613037109,0.46345239877700806,0.7489088773727417,0.9513243436813354,0.9848164319992065,0.7718924283981323,0.13135498762130737,0.645416259765625,0.9887440800666809,0.9458159804344177,0.9486268758773804,0.9679243564605713,0.9844720959663391,0.9893409609794617,0.665306806564331,0.9560778737068176,0.9081299304962158,0.5435419082641602,0.9687997102737427,0.7928949594497681,0.9672306180000305,0.920426070690155,0.8382515907287598,0.9554531574249268,0.7889252305030823,0.3086801767349243,0.9409118294715881,0.9203096628189087,0.834314227104187,0.9004546403884888,0.9512401223182678,0.6078953742980957,0.7597519755363464,0.981214702129364,0.7684813737869263,0.8423550128936768,0.9794347882270813,0.06610000133514404,0.8590099215507507,0.9175080060958862,0.8761351108551025,0.9983253479003906,0.9829915165901184,0.7176707983016968,0.9794256687164307],\"xaxis\":\"x\",\"yaxis\":\"y\",\"type\":\"histogram\"}],                        {\"template\":{\"data\":{\"bar\":[{\"error_x\":{\"color\":\"#2a3f5f\"},\"error_y\":{\"color\":\"#2a3f5f\"},\"marker\":{\"line\":{\"color\":\"#E5ECF6\",\"width\":0.5},\"pattern\":{\"fillmode\":\"overlay\",\"size\":10,\"solidity\":0.2}},\"type\":\"bar\"}],\"barpolar\":[{\"marker\":{\"line\":{\"color\":\"#E5ECF6\",\"width\":0.5},\"pattern\":{\"fillmode\":\"overlay\",\"size\":10,\"solidity\":0.2}},\"type\":\"barpolar\"}],\"carpet\":[{\"aaxis\":{\"endlinecolor\":\"#2a3f5f\",\"gridcolor\":\"white\",\"linecolor\":\"white\",\"minorgridcolor\":\"white\",\"startlinecolor\":\"#2a3f5f\"},\"baxis\":{\"endlinecolor\":\"#2a3f5f\",\"gridcolor\":\"white\",\"linecolor\":\"white\",\"minorgridcolor\":\"white\",\"startlinecolor\":\"#2a3f5f\"},\"type\":\"carpet\"}],\"choropleth\":[{\"colorbar\":{\"outlinewidth\":0,\"ticks\":\"\"},\"type\":\"choropleth\"}],\"contour\":[{\"colorbar\":{\"outlinewidth\":0,\"ticks\":\"\"},\"colorscale\":[[0.0,\"#0d0887\"],[0.1111111111111111,\"#46039f\"],[0.2222222222222222,\"#7201a8\"],[0.3333333333333333,\"#9c179e\"],[0.4444444444444444,\"#bd3786\"],[0.5555555555555556,\"#d8576b\"],[0.6666666666666666,\"#ed7953\"],[0.7777777777777778,\"#fb9f3a\"],[0.8888888888888888,\"#fdca26\"],[1.0,\"#f0f921\"]],\"type\":\"contour\"}],\"contourcarpet\":[{\"colorbar\":{\"outlinewidth\":0,\"ticks\":\"\"},\"type\":\"contourcarpet\"}],\"heatmap\":[{\"colorbar\":{\"outlinewidth\":0,\"ticks\":\"\"},\"colorscale\":[[0.0,\"#0d0887\"],[0.1111111111111111,\"#46039f\"],[0.2222222222222222,\"#7201a8\"],[0.3333333333333333,\"#9c179e\"],[0.4444444444444444,\"#bd3786\"],[0.5555555555555556,\"#d8576b\"],[0.6666666666666666,\"#ed7953\"],[0.7777777777777778,\"#fb9f3a\"],[0.8888888888888888,\"#fdca26\"],[1.0,\"#f0f921\"]],\"type\":\"heatmap\"}],\"heatmapgl\":[{\"colorbar\":{\"outlinewidth\":0,\"ticks\":\"\"},\"colorscale\":[[0.0,\"#0d0887\"],[0.1111111111111111,\"#46039f\"],[0.2222222222222222,\"#7201a8\"],[0.3333333333333333,\"#9c179e\"],[0.4444444444444444,\"#bd3786\"],[0.5555555555555556,\"#d8576b\"],[0.6666666666666666,\"#ed7953\"],[0.7777777777777778,\"#fb9f3a\"],[0.8888888888888888,\"#fdca26\"],[1.0,\"#f0f921\"]],\"type\":\"heatmapgl\"}],\"histogram\":[{\"marker\":{\"pattern\":{\"fillmode\":\"overlay\",\"size\":10,\"solidity\":0.2}},\"type\":\"histogram\"}],\"histogram2d\":[{\"colorbar\":{\"outlinewidth\":0,\"ticks\":\"\"},\"colorscale\":[[0.0,\"#0d0887\"],[0.1111111111111111,\"#46039f\"],[0.2222222222222222,\"#7201a8\"],[0.3333333333333333,\"#9c179e\"],[0.4444444444444444,\"#bd3786\"],[0.5555555555555556,\"#d8576b\"],[0.6666666666666666,\"#ed7953\"],[0.7777777777777778,\"#fb9f3a\"],[0.8888888888888888,\"#fdca26\"],[1.0,\"#f0f921\"]],\"type\":\"histogram2d\"}],\"histogram2dcontour\":[{\"colorbar\":{\"outlinewidth\":0,\"ticks\":\"\"},\"colorscale\":[[0.0,\"#0d0887\"],[0.1111111111111111,\"#46039f\"],[0.2222222222222222,\"#7201a8\"],[0.3333333333333333,\"#9c179e\"],[0.4444444444444444,\"#bd3786\"],[0.5555555555555556,\"#d8576b\"],[0.6666666666666666,\"#ed7953\"],[0.7777777777777778,\"#fb9f3a\"],[0.8888888888888888,\"#fdca26\"],[1.0,\"#f0f921\"]],\"type\":\"histogram2dcontour\"}],\"mesh3d\":[{\"colorbar\":{\"outlinewidth\":0,\"ticks\":\"\"},\"type\":\"mesh3d\"}],\"parcoords\":[{\"line\":{\"colorbar\":{\"outlinewidth\":0,\"ticks\":\"\"}},\"type\":\"parcoords\"}],\"pie\":[{\"automargin\":true,\"type\":\"pie\"}],\"scatter\":[{\"marker\":{\"colorbar\":{\"outlinewidth\":0,\"ticks\":\"\"}},\"type\":\"scatter\"}],\"scatter3d\":[{\"line\":{\"colorbar\":{\"outlinewidth\":0,\"ticks\":\"\"}},\"marker\":{\"colorbar\":{\"outlinewidth\":0,\"ticks\":\"\"}},\"type\":\"scatter3d\"}],\"scattercarpet\":[{\"marker\":{\"colorbar\":{\"outlinewidth\":0,\"ticks\":\"\"}},\"type\":\"scattercarpet\"}],\"scattergeo\":[{\"marker\":{\"colorbar\":{\"outlinewidth\":0,\"ticks\":\"\"}},\"type\":\"scattergeo\"}],\"scattergl\":[{\"marker\":{\"colorbar\":{\"outlinewidth\":0,\"ticks\":\"\"}},\"type\":\"scattergl\"}],\"scattermapbox\":[{\"marker\":{\"colorbar\":{\"outlinewidth\":0,\"ticks\":\"\"}},\"type\":\"scattermapbox\"}],\"scatterpolar\":[{\"marker\":{\"colorbar\":{\"outlinewidth\":0,\"ticks\":\"\"}},\"type\":\"scatterpolar\"}],\"scatterpolargl\":[{\"marker\":{\"colorbar\":{\"outlinewidth\":0,\"ticks\":\"\"}},\"type\":\"scatterpolargl\"}],\"scatterternary\":[{\"marker\":{\"colorbar\":{\"outlinewidth\":0,\"ticks\":\"\"}},\"type\":\"scatterternary\"}],\"surface\":[{\"colorbar\":{\"outlinewidth\":0,\"ticks\":\"\"},\"colorscale\":[[0.0,\"#0d0887\"],[0.1111111111111111,\"#46039f\"],[0.2222222222222222,\"#7201a8\"],[0.3333333333333333,\"#9c179e\"],[0.4444444444444444,\"#bd3786\"],[0.5555555555555556,\"#d8576b\"],[0.6666666666666666,\"#ed7953\"],[0.7777777777777778,\"#fb9f3a\"],[0.8888888888888888,\"#fdca26\"],[1.0,\"#f0f921\"]],\"type\":\"surface\"}],\"table\":[{\"cells\":{\"fill\":{\"color\":\"#EBF0F8\"},\"line\":{\"color\":\"white\"}},\"header\":{\"fill\":{\"color\":\"#C8D4E3\"},\"line\":{\"color\":\"white\"}},\"type\":\"table\"}]},\"layout\":{\"annotationdefaults\":{\"arrowcolor\":\"#2a3f5f\",\"arrowhead\":0,\"arrowwidth\":1},\"autotypenumbers\":\"strict\",\"coloraxis\":{\"colorbar\":{\"outlinewidth\":0,\"ticks\":\"\"}},\"colorscale\":{\"diverging\":[[0,\"#8e0152\"],[0.1,\"#c51b7d\"],[0.2,\"#de77ae\"],[0.3,\"#f1b6da\"],[0.4,\"#fde0ef\"],[0.5,\"#f7f7f7\"],[0.6,\"#e6f5d0\"],[0.7,\"#b8e186\"],[0.8,\"#7fbc41\"],[0.9,\"#4d9221\"],[1,\"#276419\"]],\"sequential\":[[0.0,\"#0d0887\"],[0.1111111111111111,\"#46039f\"],[0.2222222222222222,\"#7201a8\"],[0.3333333333333333,\"#9c179e\"],[0.4444444444444444,\"#bd3786\"],[0.5555555555555556,\"#d8576b\"],[0.6666666666666666,\"#ed7953\"],[0.7777777777777778,\"#fb9f3a\"],[0.8888888888888888,\"#fdca26\"],[1.0,\"#f0f921\"]],\"sequentialminus\":[[0.0,\"#0d0887\"],[0.1111111111111111,\"#46039f\"],[0.2222222222222222,\"#7201a8\"],[0.3333333333333333,\"#9c179e\"],[0.4444444444444444,\"#bd3786\"],[0.5555555555555556,\"#d8576b\"],[0.6666666666666666,\"#ed7953\"],[0.7777777777777778,\"#fb9f3a\"],[0.8888888888888888,\"#fdca26\"],[1.0,\"#f0f921\"]]},\"colorway\":[\"#636efa\",\"#EF553B\",\"#00cc96\",\"#ab63fa\",\"#FFA15A\",\"#19d3f3\",\"#FF6692\",\"#B6E880\",\"#FF97FF\",\"#FECB52\"],\"font\":{\"color\":\"#2a3f5f\"},\"geo\":{\"bgcolor\":\"white\",\"lakecolor\":\"white\",\"landcolor\":\"#E5ECF6\",\"showlakes\":true,\"showland\":true,\"subunitcolor\":\"white\"},\"hoverlabel\":{\"align\":\"left\"},\"hovermode\":\"closest\",\"mapbox\":{\"style\":\"light\"},\"paper_bgcolor\":\"white\",\"plot_bgcolor\":\"#E5ECF6\",\"polar\":{\"angularaxis\":{\"gridcolor\":\"white\",\"linecolor\":\"white\",\"ticks\":\"\"},\"bgcolor\":\"#E5ECF6\",\"radialaxis\":{\"gridcolor\":\"white\",\"linecolor\":\"white\",\"ticks\":\"\"}},\"scene\":{\"xaxis\":{\"backgroundcolor\":\"#E5ECF6\",\"gridcolor\":\"white\",\"gridwidth\":2,\"linecolor\":\"white\",\"showbackground\":true,\"ticks\":\"\",\"zerolinecolor\":\"white\"},\"yaxis\":{\"backgroundcolor\":\"#E5ECF6\",\"gridcolor\":\"white\",\"gridwidth\":2,\"linecolor\":\"white\",\"showbackground\":true,\"ticks\":\"\",\"zerolinecolor\":\"white\"},\"zaxis\":{\"backgroundcolor\":\"#E5ECF6\",\"gridcolor\":\"white\",\"gridwidth\":2,\"linecolor\":\"white\",\"showbackground\":true,\"ticks\":\"\",\"zerolinecolor\":\"white\"}},\"shapedefaults\":{\"line\":{\"color\":\"#2a3f5f\"}},\"ternary\":{\"aaxis\":{\"gridcolor\":\"white\",\"linecolor\":\"white\",\"ticks\":\"\"},\"baxis\":{\"gridcolor\":\"white\",\"linecolor\":\"white\",\"ticks\":\"\"},\"bgcolor\":\"#E5ECF6\",\"caxis\":{\"gridcolor\":\"white\",\"linecolor\":\"white\",\"ticks\":\"\"}},\"title\":{\"x\":0.05},\"xaxis\":{\"automargin\":true,\"gridcolor\":\"white\",\"linecolor\":\"white\",\"ticks\":\"\",\"title\":{\"standoff\":15},\"zerolinecolor\":\"white\",\"zerolinewidth\":2},\"yaxis\":{\"automargin\":true,\"gridcolor\":\"white\",\"linecolor\":\"white\",\"ticks\":\"\",\"title\":{\"standoff\":15},\"zerolinecolor\":\"white\",\"zerolinewidth\":2}}},\"xaxis\":{\"anchor\":\"y\",\"domain\":[0.0,1.0],\"title\":{\"text\":\"Prob\"}},\"yaxis\":{\"anchor\":\"x\",\"domain\":[0.0,1.0],\"title\":{\"text\":\"count\"}},\"legend\":{\"title\":{\"text\":\"Actual\"},\"tracegroupgap\":0},\"margin\":{\"t\":60},\"barmode\":\"relative\"},                        {\"responsive\": true}                    ).then(function(){\n",
       "                            \n",
       "var gd = document.getElementById('900f13fd-39f8-450b-8596-53669c990f4f');\n",
       "var x = new MutationObserver(function (mutations, observer) {{\n",
       "        var display = window.getComputedStyle(gd).display;\n",
       "        if (!display || display === 'none') {{\n",
       "            console.log([gd, 'removed!']);\n",
       "            Plotly.purge(gd);\n",
       "            observer.disconnect();\n",
       "        }}\n",
       "}});\n",
       "\n",
       "// Listen for the removal of the full notebook cells\n",
       "var notebookContainer = gd.closest('#notebook-container');\n",
       "if (notebookContainer) {{\n",
       "    x.observe(notebookContainer, {childList: true});\n",
       "}}\n",
       "\n",
       "// Listen for the clearing of the current output cell\n",
       "var outputEl = gd.closest('.output');\n",
       "if (outputEl) {{\n",
       "    x.observe(outputEl, {childList: true});\n",
       "}}\n",
       "\n",
       "                        })                };                });            </script>        </div>"
      ]
     },
     "metadata": {},
     "output_type": "display_data"
    }
   ],
   "source": [
    "y_pred = model.predict_proba(X_test2)\n",
    "lst = []\n",
    "lst_prob = []\n",
    "prob = 0.9\n",
    "for i in range(len(y_pred)):\n",
    "    if y_pred[i][0] > prob:\n",
    "            lst.append(1)\n",
    "            lst_prob.append(y_pred[i][0])\n",
    "    else:\n",
    "        lst.append(0)\n",
    "        lst_prob.append(y_pred[i][0])\n",
    "        \n",
    "conf_mat = confusion_matrix(y_test, lst)\n",
    "print(metrics.classification_report(y_test,lst))\n",
    "fig, ax = plt.subplots(figsize=(10,10))\n",
    "sns.heatmap(conf_mat, annot=True, fmt='d')\n",
    "plt.ylabel('Actual')\n",
    "plt.xlabel('Predicted')\n",
    "plt.show()\n",
    "\n",
    "prob_data = pd.DataFrame({\"Actual\" : y_test,\n",
    "                          \"Pred\" : lst,\n",
    "                          \"Prob\" : lst_prob})\n",
    "\n",
    "fig = px.histogram(prob_data, x=\"Prob\", color=\"Actual\")\n",
    "fig.show()\n",
    "\n"
   ]
  },
  {
   "cell_type": "code",
   "execution_count": 93,
   "id": "df8d2a4c-f209-4349-a5a7-ef0a075f2354",
   "metadata": {
    "tags": []
   },
   "outputs": [
    {
     "data": {
      "application/vnd.plotly.v1+json": {
       "config": {
        "plotlyServerURL": "https://plot.ly"
       },
       "data": [
        {
         "line": {
          "color": "darkorange",
          "width": 2
         },
         "mode": "lines",
         "type": "scatter",
         "x": [
          0,
          0.0006613756613756613,
          0.013888888888888888,
          0.013888888888888888,
          0.01521164021164021,
          0.01521164021164021,
          0.01984126984126984,
          0.01984126984126984,
          0.023148148148148147,
          0.023148148148148147,
          0.027116402116402115,
          0.027116402116402115,
          0.03373015873015873,
          0.03373015873015873,
          0.04828042328042328,
          0.04828042328042328,
          0.051587301587301584,
          0.051587301587301584,
          0.05291005291005291,
          0.05291005291005291,
          0.057539682539682536,
          0.057539682539682536,
          0.0667989417989418,
          0.0667989417989418,
          0.06746031746031746,
          0.06746031746031746,
          0.06812169312169312,
          0.06812169312169312,
          0.06878306878306878,
          0.06878306878306878,
          0.07407407407407407,
          0.07407407407407407,
          0.07738095238095238,
          0.07738095238095238,
          0.07936507936507936,
          0.07936507936507936,
          0.0873015873015873,
          0.0873015873015873,
          0.08796296296296297,
          0.08796296296296297,
          0.09060846560846561,
          0.09193121693121693,
          0.09325396825396826,
          0.09325396825396826,
          0.10052910052910052,
          0.10052910052910052,
          0.10383597883597884,
          0.10383597883597884,
          0.10714285714285714,
          0.10714285714285714,
          0.1078042328042328,
          0.1078042328042328,
          0.11441798941798942,
          0.11441798941798942,
          0.11904761904761904,
          0.11904761904761904,
          0.12169312169312169,
          0.12169312169312169,
          0.12566137566137567,
          0.12566137566137567,
          0.1349206349206349,
          0.1349206349206349,
          0.1421957671957672,
          0.1421957671957672,
          0.14351851851851852,
          0.14351851851851852,
          0.1474867724867725,
          0.1474867724867725,
          0.15145502645502645,
          0.15145502645502645,
          0.16137566137566137,
          0.16137566137566137,
          0.16534391534391535,
          0.16534391534391535,
          0.17989417989417988,
          0.17989417989417988,
          0.18055555555555555,
          0.18055555555555555,
          0.18386243386243387,
          0.18386243386243387,
          0.19047619047619047,
          0.19047619047619047,
          0.21031746031746032,
          0.21031746031746032,
          0.21362433862433863,
          0.21362433862433863,
          0.21891534391534392,
          0.21891534391534392,
          0.22023809523809523,
          0.22023809523809523,
          0.22486772486772486,
          0.22486772486772486,
          0.2361111111111111,
          0.2361111111111111,
          0.24603174603174602,
          0.24603174603174602,
          0.2526455026455027,
          0.2526455026455027,
          0.2585978835978836,
          0.2585978835978836,
          0.25992063492063494,
          0.25992063492063494,
          0.2619047619047619,
          0.2619047619047619,
          0.26322751322751325,
          0.26322751322751325,
          0.26851851851851855,
          0.26851851851851855,
          0.2691798941798942,
          0.2691798941798942,
          0.2751322751322751,
          0.2751322751322751,
          0.2777777777777778,
          0.2777777777777778,
          0.2804232804232804,
          0.2804232804232804,
          0.2837301587301587,
          0.2837301587301587,
          0.2857142857142857,
          0.2857142857142857,
          0.28835978835978837,
          0.28835978835978837,
          0.29034391534391535,
          0.29034391534391535,
          0.29828042328042326,
          0.29828042328042326,
          0.3029100529100529,
          0.3029100529100529,
          0.3048941798941799,
          0.3048941798941799,
          0.31746031746031744,
          0.31746031746031744,
          0.32076719576719576,
          0.32076719576719576,
          0.32142857142857145,
          0.32142857142857145,
          0.3220899470899471,
          0.3220899470899471,
          0.32275132275132273,
          0.32275132275132273,
          0.32605820105820105,
          0.32605820105820105,
          0.33134920634920634,
          0.33134920634920634,
          0.33465608465608465,
          0.33465608465608465,
          0.3419312169312169,
          0.3419312169312169,
          0.34656084656084657,
          0.34656084656084657,
          0.3492063492063492,
          0.3492063492063492,
          0.35185185185185186,
          0.35185185185185186,
          0.3578042328042328,
          0.3578042328042328,
          0.3584656084656085,
          0.3584656084656085,
          0.36243386243386244,
          0.36243386243386244,
          0.3630952380952381,
          0.3630952380952381,
          0.36507936507936506,
          0.36507936507936506,
          0.36904761904761907,
          0.36904761904761907,
          0.3697089947089947,
          0.3697089947089947,
          0.3862433862433862,
          0.3862433862433862,
          0.38955026455026454,
          0.38955026455026454,
          0.3941798941798942,
          0.3941798941798942,
          0.3994708994708995,
          0.3994708994708995,
          0.4021164021164021,
          0.4021164021164021,
          0.4054232804232804,
          0.4054232804232804,
          0.4087301587301587,
          0.4087301587301587,
          0.4113756613756614,
          0.4113756613756614,
          0.4146825396825397,
          0.4146825396825397,
          0.41534391534391535,
          0.41534391534391535,
          0.416005291005291,
          0.416005291005291,
          0.4173280423280423,
          0.4173280423280423,
          0.419973544973545,
          0.419973544973545,
          0.4226190476190476,
          0.4226190476190476,
          0.42592592592592593,
          0.42592592592592593,
          0.42658730158730157,
          0.42658730158730157,
          0.4279100529100529,
          0.4279100529100529,
          0.42923280423280424,
          0.42923280423280424,
          0.4298941798941799,
          0.4298941798941799,
          0.43584656084656087,
          0.43584656084656087,
          0.43915343915343913,
          0.43915343915343913,
          0.4398148148148148,
          0.4398148148148148,
          0.4437830687830688,
          0.4437830687830688,
          0.4444444444444444,
          0.4444444444444444,
          0.4451058201058201,
          0.4451058201058201,
          0.4470899470899471,
          0.4470899470899471,
          0.455026455026455,
          0.455026455026455,
          0.4556878306878307,
          0.4556878306878307,
          0.4583333333333333,
          0.4583333333333333,
          0.460978835978836,
          0.460978835978836,
          0.4623015873015873,
          0.4623015873015873,
          0.46296296296296297,
          0.46296296296296297,
          0.4656084656084656,
          0.4656084656084656,
          0.4669312169312169,
          0.4669312169312169,
          0.47023809523809523,
          0.47023809523809523,
          0.4748677248677249,
          0.4748677248677249,
          0.47619047619047616,
          0.47619047619047616,
          0.47685185185185186,
          0.47685185185185186,
          0.4801587301587302,
          0.4801587301587302,
          0.48677248677248675,
          0.48677248677248675,
          0.4894179894179894,
          0.4894179894179894,
          0.49074074074074076,
          0.49074074074074076,
          0.5,
          0.5,
          0.5026455026455027,
          0.5026455026455027,
          0.5072751322751323,
          0.5072751322751323,
          0.5085978835978836,
          0.5085978835978836,
          0.5099206349206349,
          0.5099206349206349,
          0.5165343915343915,
          0.5165343915343915,
          0.5191798941798942,
          0.5191798941798942,
          0.5205026455026455,
          0.5205026455026455,
          0.5218253968253969,
          0.5218253968253969,
          0.5231481481481481,
          0.5231481481481481,
          0.5251322751322751,
          0.5251322751322751,
          0.5257936507936508,
          0.5257936507936508,
          0.5291005291005291,
          0.5291005291005291,
          0.5304232804232805,
          0.5304232804232805,
          0.5324074074074074,
          0.5324074074074074,
          0.53505291005291,
          0.53505291005291,
          0.5383597883597884,
          0.5383597883597884,
          0.5396825396825397,
          0.5396825396825397,
          0.5423280423280423,
          0.5423280423280423,
          0.5462962962962963,
          0.5462962962962963,
          0.5509259259259259,
          0.5509259259259259,
          0.5515873015873016,
          0.5515873015873016,
          0.5529100529100529,
          0.5529100529100529,
          0.5542328042328042,
          0.5542328042328042,
          0.5562169312169312,
          0.5562169312169312,
          0.5575396825396826,
          0.5575396825396826,
          0.5701058201058201,
          0.5701058201058201,
          0.5707671957671958,
          0.5707671957671958,
          0.5727513227513228,
          0.5727513227513228,
          0.5734126984126984,
          0.5734126984126984,
          0.5773809523809523,
          0.5773809523809523,
          0.5806878306878307,
          0.5806878306878307,
          0.5813492063492064,
          0.5813492063492064,
          0.582010582010582,
          0.582010582010582,
          0.5892857142857143,
          0.5892857142857143,
          0.591931216931217,
          0.591931216931217,
          0.593915343915344,
          0.593915343915344,
          0.6025132275132276,
          0.6025132275132276,
          0.6071428571428571,
          0.6071428571428571,
          0.6097883597883598,
          0.6097883597883598,
          0.6104497354497355,
          0.6104497354497355,
          0.6111111111111112,
          0.6111111111111112,
          0.6124338624338624,
          0.6124338624338624,
          0.6137566137566137,
          0.6137566137566137,
          0.6144179894179894,
          0.6144179894179894,
          0.6157407407407407,
          0.6157407407407407,
          0.6164021164021164,
          0.6164021164021164,
          0.6170634920634921,
          0.6170634920634921,
          0.6197089947089947,
          0.6197089947089947,
          0.6203703703703703,
          0.6203703703703703,
          0.6223544973544973,
          0.6223544973544973,
          0.6283068783068783,
          0.6283068783068783,
          0.6296296296296297,
          0.6296296296296297,
          0.6309523809523809,
          0.6309523809523809,
          0.6316137566137566,
          0.6316137566137566,
          0.6329365079365079,
          0.6329365079365079,
          0.6342592592592593,
          0.6342592592592593,
          0.6355820105820106,
          0.6355820105820106,
          0.6382275132275133,
          0.6382275132275133,
          0.6408730158730159,
          0.6408730158730159,
          0.6488095238095238,
          0.6488095238095238,
          0.6527777777777778,
          0.6527777777777778,
          0.6547619047619048,
          0.6547619047619048,
          0.6554232804232805,
          0.6554232804232805,
          0.66005291005291,
          0.66005291005291,
          0.6640211640211641,
          0.6640211640211641,
          0.6653439153439153,
          0.6653439153439153,
          0.669973544973545,
          0.669973544973545,
          0.6726190476190477,
          0.6726190476190477,
          0.6759259259259259,
          0.6759259259259259,
          0.6779100529100529,
          0.6779100529100529,
          0.6805555555555556,
          0.6805555555555556,
          0.6832010582010583,
          0.6832010582010583,
          0.6845238095238095,
          0.6845238095238095,
          0.6865079365079365,
          0.6865079365079365,
          0.6891534391534392,
          0.6891534391534392,
          0.6917989417989417,
          0.6917989417989417,
          0.6951058201058201,
          0.6951058201058201,
          0.7017195767195767,
          0.7017195767195767,
          0.7023809523809523,
          0.7023809523809523,
          0.7162698412698413,
          0.7162698412698413,
          0.7195767195767195,
          0.7195767195767195,
          0.7202380952380952,
          0.7202380952380952,
          0.7248677248677249,
          0.7248677248677249,
          0.7255291005291006,
          0.7255291005291006,
          0.7275132275132276,
          0.7275132275132276,
          0.7341269841269841,
          0.7341269841269841,
          0.7367724867724867,
          0.7367724867724867,
          0.7380952380952381,
          0.7380952380952381,
          0.7407407407407407,
          0.7407407407407407,
          0.7533068783068783,
          0.7533068783068783,
          0.7572751322751323,
          0.7572751322751323,
          0.7592592592592593,
          0.7592592592592593,
          0.7599206349206349,
          0.7599206349206349,
          0.7612433862433863,
          0.7612433862433863,
          0.7619047619047619,
          0.7619047619047619,
          0.7645502645502645,
          0.7645502645502645,
          0.7652116402116402,
          0.7652116402116402,
          0.7665343915343915,
          0.7665343915343915,
          0.7671957671957672,
          0.7671957671957672,
          0.7678571428571429,
          0.7678571428571429,
          0.7724867724867724,
          0.7724867724867724,
          0.7731481481481481,
          0.7731481481481481,
          0.7744708994708994,
          0.7744708994708994,
          0.7757936507936508,
          0.7757936507936508,
          0.7764550264550265,
          0.7764550264550265,
          0.7771164021164021,
          0.7771164021164021,
          0.7784391534391535,
          0.7784391534391535,
          0.7791005291005291,
          0.7791005291005291,
          0.781084656084656,
          0.781084656084656,
          0.7817460317460317,
          0.7817460317460317,
          0.7857142857142857,
          0.7857142857142857,
          0.7916666666666666,
          0.7916666666666666,
          0.7936507936507936,
          0.7936507936507936,
          0.7956349206349206,
          0.7956349206349206,
          0.7976190476190477,
          0.7976190476190477,
          0.7982804232804233,
          0.7982804232804233,
          0.7996031746031746,
          0.7996031746031746,
          0.8009259259259259,
          0.8009259259259259,
          0.8022486772486772,
          0.8022486772486772,
          0.8048941798941799,
          0.8048941798941799,
          0.8075396825396826,
          0.8075396825396826,
          0.8088624338624338,
          0.8088624338624338,
          0.8101851851851852,
          0.8101851851851852,
          0.8121693121693122,
          0.8121693121693122,
          0.8128306878306878,
          0.8128306878306878,
          0.8148148148148148,
          0.8148148148148148,
          0.8161375661375662,
          0.8161375661375662,
          0.8174603174603174,
          0.8174603174603174,
          0.8181216931216931,
          0.8181216931216931,
          0.8207671957671958,
          0.8207671957671958,
          0.8214285714285714,
          0.8214285714285714,
          0.8234126984126984,
          0.8234126984126984,
          0.8240740740740741,
          0.8240740740740741,
          0.826058201058201,
          0.826058201058201,
          0.8287037037037037,
          0.8287037037037037,
          0.8293650793650794,
          0.8293650793650794,
          0.830026455026455,
          0.830026455026455,
          0.8313492063492064,
          0.8313492063492064,
          0.8333333333333334,
          0.8333333333333334,
          0.833994708994709,
          0.833994708994709,
          0.8346560846560847,
          0.8346560846560847,
          0.8366402116402116,
          0.8366402116402116,
          0.8432539682539683,
          0.8432539682539683,
          0.843915343915344,
          0.843915343915344,
          0.8445767195767195,
          0.8445767195767195,
          0.8452380952380952,
          0.8452380952380952,
          0.8458994708994709,
          0.8458994708994709,
          0.8465608465608465,
          0.8465608465608465,
          0.8511904761904762,
          0.8511904761904762,
          0.8525132275132276,
          0.8525132275132276,
          0.8531746031746031,
          0.8531746031746031,
          0.8538359788359788,
          0.8538359788359788,
          0.8544973544973545,
          0.8544973544973545,
          0.8584656084656085,
          0.8584656084656085,
          0.8591269841269841,
          0.8591269841269841,
          0.8617724867724867,
          0.8617724867724867,
          0.8630952380952381,
          0.8630952380952381,
          0.8644179894179894,
          0.8644179894179894,
          0.8650793650793651,
          0.8650793650793651,
          0.8657407407407407,
          0.8657407407407407,
          0.8690476190476191,
          0.8690476190476191,
          0.8703703703703703,
          0.8703703703703703,
          0.871031746031746,
          0.871031746031746,
          0.8716931216931217,
          0.8716931216931217,
          0.8736772486772487,
          0.8736772486772487,
          0.876984126984127,
          0.876984126984127,
          0.8776455026455027,
          0.8776455026455027,
          0.8796296296296297,
          0.8796296296296297,
          0.8822751322751323,
          0.8822751322751323,
          0.8829365079365079,
          0.8829365079365079,
          0.8849206349206349,
          0.8849206349206349,
          0.8882275132275133,
          0.8882275132275133,
          0.8888888888888888,
          0.8888888888888888,
          0.8908730158730159,
          0.8908730158730159,
          0.8928571428571429,
          0.8928571428571429,
          0.8941798941798942,
          0.8941798941798942,
          0.8948412698412699,
          0.8948412698412699,
          0.8955026455026455,
          0.8955026455026455,
          0.8968253968253969,
          0.8968253968253969,
          0.9001322751322751,
          0.9001322751322751,
          0.9007936507936508,
          0.9007936507936508,
          0.9014550264550265,
          0.9014550264550265,
          0.9021164021164021,
          0.9021164021164021,
          0.9041005291005291,
          0.9041005291005291,
          0.9054232804232805,
          0.9054232804232805,
          0.908068783068783,
          0.908068783068783,
          0.9107142857142857,
          0.9107142857142857,
          0.9113756613756614,
          0.9113756613756614,
          0.9120370370370371,
          0.9120370370370371,
          0.9126984126984127,
          0.9126984126984127,
          0.9133597883597884,
          0.9133597883597884,
          0.9153439153439153,
          0.9153439153439153,
          0.9186507936507936,
          0.9186507936507936,
          0.921957671957672,
          0.921957671957672,
          0.923941798941799,
          0.923941798941799,
          0.9272486772486772,
          0.9272486772486772,
          0.9305555555555556,
          0.9305555555555556,
          0.9312169312169312,
          0.9312169312169312,
          0.9332010582010583,
          0.9332010582010583,
          0.9345238095238095,
          0.9345238095238095,
          0.9358465608465608,
          0.9358465608465608,
          0.9371693121693122,
          0.9371693121693122,
          0.9384920634920635,
          0.9384920634920635,
          0.9404761904761905,
          0.9404761904761905,
          0.9411375661375662,
          0.9411375661375662,
          0.9417989417989417,
          0.9417989417989417,
          0.9437830687830688,
          0.9437830687830688,
          0.9464285714285714,
          0.9464285714285714,
          0.9470899470899471,
          0.9470899470899471,
          0.9484126984126984,
          0.9484126984126984,
          0.9497354497354498,
          0.9497354497354498,
          0.951058201058201,
          0.951058201058201,
          0.9523809523809523,
          0.9523809523809523,
          0.9537037037037037,
          0.9537037037037037,
          0.9543650793650794,
          0.9543650793650794,
          0.955026455026455,
          0.955026455026455,
          0.9556878306878307,
          0.9556878306878307,
          0.9563492063492064,
          0.9563492063492064,
          0.957010582010582,
          0.957010582010582,
          0.9576719576719577,
          0.9576719576719577,
          0.9596560846560847,
          0.9596560846560847,
          0.9603174603174603,
          0.9603174603174603,
          0.9616402116402116,
          0.9616402116402116,
          0.9623015873015873,
          0.9623015873015873,
          0.9629629629629629,
          0.9629629629629629,
          0.9662698412698413,
          0.9662698412698413,
          0.966931216931217,
          0.966931216931217,
          0.9675925925925926,
          0.9675925925925926,
          0.9682539682539683,
          0.9682539682539683,
          0.968915343915344,
          0.968915343915344,
          0.9702380952380952,
          0.9702380952380952,
          0.9708994708994709,
          0.9708994708994709,
          0.9742063492063492,
          0.9742063492063492,
          0.9748677248677249,
          0.9748677248677249,
          0.9781746031746031,
          0.9781746031746031,
          0.9794973544973545,
          0.9794973544973545,
          0.9801587301587301,
          0.9801587301587301,
          0.9814814814814815,
          0.9814814814814815,
          0.9834656084656085,
          0.9834656084656085,
          0.9841269841269841,
          0.9841269841269841,
          0.9847883597883598,
          0.9847883597883598,
          0.9854497354497355,
          0.9854497354497355,
          0.9867724867724867,
          0.9867724867724867,
          0.9887566137566137,
          0.9887566137566137,
          0.9894179894179894,
          0.9894179894179894,
          0.9900793650793651,
          0.9900793650793651,
          0.9907407407407407,
          0.9907407407407407,
          0.9920634920634921,
          0.9920634920634921,
          0.9927248677248677,
          0.9927248677248677,
          0.9933862433862434,
          0.9933862433862434,
          0.9947089947089947,
          0.9947089947089947,
          0.9953703703703703,
          0.9953703703703703,
          0.996031746031746,
          0.996031746031746,
          0.9993386243386243,
          0.9993386243386243,
          1,
          1
         ],
         "y": [
          0,
          0,
          0,
          0.0018214936247723133,
          0.0018214936247723133,
          0.0036429872495446266,
          0.0036429872495446266,
          0.00546448087431694,
          0.00546448087431694,
          0.007285974499089253,
          0.007285974499089253,
          0.009107468123861567,
          0.009107468123861567,
          0.01092896174863388,
          0.01092896174863388,
          0.012750455373406194,
          0.012750455373406194,
          0.014571948998178506,
          0.014571948998178506,
          0.01639344262295082,
          0.01639344262295082,
          0.018214936247723135,
          0.018214936247723135,
          0.020036429872495445,
          0.020036429872495445,
          0.02185792349726776,
          0.02185792349726776,
          0.023679417122040074,
          0.023679417122040074,
          0.025500910746812388,
          0.025500910746812388,
          0.029143897996357013,
          0.029143897996357013,
          0.030965391621129327,
          0.030965391621129327,
          0.03278688524590164,
          0.03278688524590164,
          0.03460837887067395,
          0.03460837887067395,
          0.03642987249544627,
          0.03642987249544627,
          0.03642987249544627,
          0.03642987249544627,
          0.03825136612021858,
          0.03825136612021858,
          0.04007285974499089,
          0.04007285974499089,
          0.04189435336976321,
          0.04189435336976321,
          0.04371584699453552,
          0.04371584699453552,
          0.04553734061930783,
          0.04553734061930783,
          0.04918032786885246,
          0.04918032786885246,
          0.051001821493624776,
          0.051001821493624776,
          0.052823315118397086,
          0.052823315118397086,
          0.0546448087431694,
          0.0546448087431694,
          0.056466302367941715,
          0.056466302367941715,
          0.058287795992714025,
          0.058287795992714025,
          0.060109289617486336,
          0.060109289617486336,
          0.061930783242258654,
          0.061930783242258654,
          0.06375227686703097,
          0.06375227686703097,
          0.06557377049180328,
          0.06557377049180328,
          0.06739526411657559,
          0.06739526411657559,
          0.0692167577413479,
          0.0692167577413479,
          0.07103825136612021,
          0.07103825136612021,
          0.07468123861566485,
          0.07468123861566485,
          0.07650273224043716,
          0.07650273224043716,
          0.08196721311475409,
          0.08196721311475409,
          0.08561020036429873,
          0.08561020036429873,
          0.08743169398907104,
          0.08743169398907104,
          0.09107468123861566,
          0.09107468123861566,
          0.09289617486338798,
          0.09289617486338798,
          0.0947176684881603,
          0.0947176684881603,
          0.0965391621129326,
          0.0965391621129326,
          0.09836065573770492,
          0.09836065573770492,
          0.10018214936247723,
          0.10018214936247723,
          0.10200364298724955,
          0.10200364298724955,
          0.10382513661202186,
          0.10382513661202186,
          0.10564663023679417,
          0.10564663023679417,
          0.10746812386156648,
          0.10746812386156648,
          0.1092896174863388,
          0.1092896174863388,
          0.1111111111111111,
          0.1111111111111111,
          0.11293260473588343,
          0.11293260473588343,
          0.11657559198542805,
          0.11657559198542805,
          0.122040072859745,
          0.122040072859745,
          0.12386156648451731,
          0.12386156648451731,
          0.12568306010928962,
          0.12568306010928962,
          0.12750455373406194,
          0.12750455373406194,
          0.12932604735883424,
          0.12932604735883424,
          0.13296903460837886,
          0.13296903460837886,
          0.1366120218579235,
          0.1366120218579235,
          0.1384335154826958,
          0.1384335154826958,
          0.14025500910746813,
          0.14025500910746813,
          0.14571948998178508,
          0.14571948998178508,
          0.14754098360655737,
          0.14754098360655737,
          0.1493624772313297,
          0.1493624772313297,
          0.151183970856102,
          0.151183970856102,
          0.15300546448087432,
          0.15300546448087432,
          0.15664845173041894,
          0.15664845173041894,
          0.15846994535519127,
          0.15846994535519127,
          0.16029143897996356,
          0.16029143897996356,
          0.1621129326047359,
          0.1621129326047359,
          0.16393442622950818,
          0.16393442622950818,
          0.16757741347905283,
          0.16757741347905283,
          0.16939890710382513,
          0.16939890710382513,
          0.17122040072859745,
          0.17122040072859745,
          0.17304189435336975,
          0.17304189435336975,
          0.17486338797814208,
          0.17486338797814208,
          0.1766848816029144,
          0.1766848816029144,
          0.1785063752276867,
          0.1785063752276867,
          0.18032786885245902,
          0.18032786885245902,
          0.18214936247723132,
          0.18214936247723132,
          0.18579234972677597,
          0.18579234972677597,
          0.18761384335154827,
          0.18761384335154827,
          0.1912568306010929,
          0.1912568306010929,
          0.19489981785063754,
          0.19489981785063754,
          0.19672131147540983,
          0.19672131147540983,
          0.19854280510018216,
          0.19854280510018216,
          0.20218579234972678,
          0.20218579234972678,
          0.20765027322404372,
          0.20765027322404372,
          0.20947176684881602,
          0.20947176684881602,
          0.21129326047358835,
          0.21129326047358835,
          0.21311475409836064,
          0.21311475409836064,
          0.21493624772313297,
          0.21493624772313297,
          0.2167577413479053,
          0.2167577413479053,
          0.2204007285974499,
          0.2204007285974499,
          0.2222222222222222,
          0.2222222222222222,
          0.22404371584699453,
          0.22404371584699453,
          0.22950819672131148,
          0.22950819672131148,
          0.23132969034608378,
          0.23132969034608378,
          0.2331511839708561,
          0.2331511839708561,
          0.23497267759562843,
          0.23497267759562843,
          0.23861566484517305,
          0.23861566484517305,
          0.24043715846994534,
          0.24043715846994534,
          0.24225865209471767,
          0.24225865209471767,
          0.24408014571949,
          0.24408014571949,
          0.2459016393442623,
          0.2459016393442623,
          0.24772313296903462,
          0.24772313296903462,
          0.2495446265938069,
          0.2495446265938069,
          0.25136612021857924,
          0.25136612021857924,
          0.25318761384335153,
          0.25318761384335153,
          0.2550091074681239,
          0.2550091074681239,
          0.2568306010928962,
          0.2568306010928962,
          0.26229508196721313,
          0.26229508196721313,
          0.2641165755919854,
          0.2641165755919854,
          0.2659380692167577,
          0.2659380692167577,
          0.2677595628415301,
          0.2677595628415301,
          0.26958105646630237,
          0.26958105646630237,
          0.27140255009107467,
          0.27140255009107467,
          0.273224043715847,
          0.273224043715847,
          0.2750455373406193,
          0.2750455373406193,
          0.2768670309653916,
          0.2768670309653916,
          0.2786885245901639,
          0.2786885245901639,
          0.28051001821493626,
          0.28051001821493626,
          0.28415300546448086,
          0.28415300546448086,
          0.2859744990892532,
          0.2859744990892532,
          0.2877959927140255,
          0.2877959927140255,
          0.2896174863387978,
          0.2896174863387978,
          0.29143897996357016,
          0.29143897996357016,
          0.29326047358834245,
          0.29326047358834245,
          0.29508196721311475,
          0.29508196721311475,
          0.29690346083788705,
          0.29690346083788705,
          0.3005464480874317,
          0.3005464480874317,
          0.302367941712204,
          0.302367941712204,
          0.30418943533697634,
          0.30418943533697634,
          0.30783242258652094,
          0.30783242258652094,
          0.30965391621129323,
          0.30965391621129323,
          0.3114754098360656,
          0.3114754098360656,
          0.3132969034608379,
          0.3132969034608379,
          0.31693989071038253,
          0.31693989071038253,
          0.31876138433515483,
          0.31876138433515483,
          0.3205828779599271,
          0.3205828779599271,
          0.3224043715846995,
          0.3224043715846995,
          0.3242258652094718,
          0.3242258652094718,
          0.32604735883424407,
          0.32604735883424407,
          0.3296903460837887,
          0.3296903460837887,
          0.331511839708561,
          0.331511839708561,
          0.33515482695810567,
          0.33515482695810567,
          0.33697632058287796,
          0.33697632058287796,
          0.3406193078324226,
          0.3406193078324226,
          0.3424408014571949,
          0.3424408014571949,
          0.3442622950819672,
          0.3442622950819672,
          0.3460837887067395,
          0.3460837887067395,
          0.34790528233151186,
          0.34790528233151186,
          0.34972677595628415,
          0.34972677595628415,
          0.35154826958105645,
          0.35154826958105645,
          0.3533697632058288,
          0.3533697632058288,
          0.3551912568306011,
          0.3551912568306011,
          0.3570127504553734,
          0.3570127504553734,
          0.366120218579235,
          0.366120218579235,
          0.3679417122040073,
          0.3679417122040073,
          0.3697632058287796,
          0.3697632058287796,
          0.37340619307832423,
          0.37340619307832423,
          0.37522768670309653,
          0.37522768670309653,
          0.3770491803278688,
          0.3770491803278688,
          0.3806921675774135,
          0.3806921675774135,
          0.3843351548269581,
          0.3843351548269581,
          0.3861566484517304,
          0.3861566484517304,
          0.3879781420765027,
          0.3879781420765027,
          0.38979963570127507,
          0.38979963570127507,
          0.39162112932604737,
          0.39162112932604737,
          0.39526411657559196,
          0.39526411657559196,
          0.3970856102003643,
          0.3970856102003643,
          0.3989071038251366,
          0.3989071038251366,
          0.40255009107468126,
          0.40255009107468126,
          0.40437158469945356,
          0.40437158469945356,
          0.40619307832422585,
          0.40619307832422585,
          0.4080145719489982,
          0.4080145719489982,
          0.4098360655737705,
          0.4098360655737705,
          0.4116575591985428,
          0.4116575591985428,
          0.4134790528233151,
          0.4134790528233151,
          0.41530054644808745,
          0.41530054644808745,
          0.41712204007285975,
          0.41712204007285975,
          0.4207650273224044,
          0.4207650273224044,
          0.424408014571949,
          0.424408014571949,
          0.4262295081967213,
          0.4262295081967213,
          0.42805100182149364,
          0.42805100182149364,
          0.42987249544626593,
          0.42987249544626593,
          0.43169398907103823,
          0.43169398907103823,
          0.4335154826958106,
          0.4335154826958106,
          0.4353369763205829,
          0.4353369763205829,
          0.4371584699453552,
          0.4371584699453552,
          0.4408014571948998,
          0.4408014571948998,
          0.4426229508196721,
          0.4426229508196721,
          0.4444444444444444,
          0.4444444444444444,
          0.44626593806921677,
          0.44626593806921677,
          0.44808743169398907,
          0.44808743169398907,
          0.44990892531876137,
          0.44990892531876137,
          0.4517304189435337,
          0.4517304189435337,
          0.453551912568306,
          0.453551912568306,
          0.4553734061930783,
          0.4553734061930783,
          0.45719489981785066,
          0.45719489981785066,
          0.45901639344262296,
          0.45901639344262296,
          0.46083788706739526,
          0.46083788706739526,
          0.4663023679417122,
          0.4663023679417122,
          0.4790528233151184,
          0.4790528233151184,
          0.4808743169398907,
          0.4808743169398907,
          0.48269581056466304,
          0.48269581056466304,
          0.48451730418943534,
          0.48451730418943534,
          0.4899817850637523,
          0.4899817850637523,
          0.4936247723132969,
          0.4936247723132969,
          0.49544626593806923,
          0.49544626593806923,
          0.4972677595628415,
          0.4972677595628415,
          0.4990892531876138,
          0.4990892531876138,
          0.5027322404371585,
          0.5027322404371585,
          0.5045537340619308,
          0.5045537340619308,
          0.5063752276867031,
          0.5063752276867031,
          0.5081967213114754,
          0.5081967213114754,
          0.5154826958105647,
          0.5154826958105647,
          0.517304189435337,
          0.517304189435337,
          0.5209471766848816,
          0.5209471766848816,
          0.5264116575591985,
          0.5264116575591985,
          0.5282331511839709,
          0.5282331511839709,
          0.5300546448087432,
          0.5300546448087432,
          0.5318761384335154,
          0.5318761384335154,
          0.5355191256830601,
          0.5355191256830601,
          0.5373406193078324,
          0.5373406193078324,
          0.5391621129326047,
          0.5391621129326047,
          0.5409836065573771,
          0.5409836065573771,
          0.5428051001821493,
          0.5428051001821493,
          0.5482695810564663,
          0.5482695810564663,
          0.5537340619307832,
          0.5537340619307832,
          0.5555555555555556,
          0.5555555555555556,
          0.5573770491803278,
          0.5573770491803278,
          0.5591985428051002,
          0.5591985428051002,
          0.5610200364298725,
          0.5610200364298725,
          0.5646630236794171,
          0.5646630236794171,
          0.5664845173041895,
          0.5664845173041895,
          0.5683060109289617,
          0.5683060109289617,
          0.5701275045537341,
          0.5701275045537341,
          0.5719489981785064,
          0.5719489981785064,
          0.5737704918032787,
          0.5737704918032787,
          0.5774134790528234,
          0.5774134790528234,
          0.581056466302368,
          0.581056466302368,
          0.5828779599271403,
          0.5828779599271403,
          0.5883424408014571,
          0.5883424408014571,
          0.5919854280510018,
          0.5919854280510018,
          0.5938069216757741,
          0.5938069216757741,
          0.599271402550091,
          0.599271402550091,
          0.604735883424408,
          0.604735883424408,
          0.6083788706739527,
          0.6083788706739527,
          0.6120218579234973,
          0.6120218579234973,
          0.6156648451730419,
          0.6156648451730419,
          0.6174863387978142,
          0.6174863387978142,
          0.6193078324225865,
          0.6193078324225865,
          0.6229508196721312,
          0.6229508196721312,
          0.6247723132969034,
          0.6247723132969034,
          0.6284153005464481,
          0.6284153005464481,
          0.6320582877959927,
          0.6320582877959927,
          0.6338797814207651,
          0.6338797814207651,
          0.6357012750455373,
          0.6357012750455373,
          0.639344262295082,
          0.639344262295082,
          0.6411657559198543,
          0.6411657559198543,
          0.6429872495446266,
          0.6429872495446266,
          0.6484517304189436,
          0.6484517304189436,
          0.6502732240437158,
          0.6502732240437158,
          0.6520947176684881,
          0.6520947176684881,
          0.6593806921675774,
          0.6593806921675774,
          0.6612021857923497,
          0.6612021857923497,
          0.663023679417122,
          0.663023679417122,
          0.6648451730418944,
          0.6648451730418944,
          0.668488160291439,
          0.668488160291439,
          0.6703096539162113,
          0.6703096539162113,
          0.6721311475409836,
          0.6721311475409836,
          0.6757741347905283,
          0.6757741347905283,
          0.6775956284153005,
          0.6775956284153005,
          0.6794171220400729,
          0.6794171220400729,
          0.6812386156648452,
          0.6812386156648452,
          0.6848816029143898,
          0.6848816029143898,
          0.6867030965391621,
          0.6867030965391621,
          0.6885245901639344,
          0.6885245901639344,
          0.6903460837887068,
          0.6903460837887068,
          0.692167577413479,
          0.692167577413479,
          0.6939890710382514,
          0.6939890710382514,
          0.6958105646630237,
          0.6958105646630237,
          0.697632058287796,
          0.697632058287796,
          0.6994535519125683,
          0.6994535519125683,
          0.7012750455373407,
          0.7012750455373407,
          0.7049180327868853,
          0.7049180327868853,
          0.7103825136612022,
          0.7103825136612022,
          0.7122040072859745,
          0.7122040072859745,
          0.7140255009107468,
          0.7140255009107468,
          0.7176684881602914,
          0.7176684881602914,
          0.7231329690346083,
          0.7231329690346083,
          0.73224043715847,
          0.73224043715847,
          0.7395264116575592,
          0.7395264116575592,
          0.7413479052823315,
          0.7413479052823315,
          0.7449908925318761,
          0.7449908925318761,
          0.7468123861566485,
          0.7468123861566485,
          0.7486338797814208,
          0.7486338797814208,
          0.7522768670309654,
          0.7522768670309654,
          0.75591985428051,
          0.75591985428051,
          0.7577413479052824,
          0.7577413479052824,
          0.7650273224043715,
          0.7650273224043715,
          0.7686703096539163,
          0.7686703096539163,
          0.7723132969034608,
          0.7723132969034608,
          0.7741347905282332,
          0.7741347905282332,
          0.7759562841530054,
          0.7759562841530054,
          0.7814207650273224,
          0.7814207650273224,
          0.785063752276867,
          0.785063752276867,
          0.7905282331511839,
          0.7905282331511839,
          0.7978142076502732,
          0.7978142076502732,
          0.8014571948998178,
          0.8014571948998178,
          0.8032786885245902,
          0.8032786885245902,
          0.8051001821493625,
          0.8051001821493625,
          0.8069216757741348,
          0.8069216757741348,
          0.8105646630236795,
          0.8105646630236795,
          0.8123861566484517,
          0.8123861566484517,
          0.8142076502732241,
          0.8142076502732241,
          0.8178506375227687,
          0.8178506375227687,
          0.819672131147541,
          0.819672131147541,
          0.8214936247723132,
          0.8214936247723132,
          0.825136612021858,
          0.825136612021858,
          0.8306010928961749,
          0.8306010928961749,
          0.8324225865209471,
          0.8324225865209471,
          0.8378870673952641,
          0.8378870673952641,
          0.8415300546448088,
          0.8415300546448088,
          0.843351548269581,
          0.843351548269581,
          0.8451730418943534,
          0.8451730418943534,
          0.8506375227686703,
          0.8506375227686703,
          0.8561020036429873,
          0.8561020036429873,
          0.8579234972677595,
          0.8579234972677595,
          0.8597449908925319,
          0.8597449908925319,
          0.8615664845173042,
          0.8615664845173042,
          0.8633879781420765,
          0.8633879781420765,
          0.8688524590163934,
          0.8688524590163934,
          0.8706739526411658,
          0.8706739526411658,
          0.8724954462659381,
          0.8724954462659381,
          0.8743169398907104,
          0.8743169398907104,
          0.8852459016393442,
          0.8852459016393442,
          0.8870673952641166,
          0.8870673952641166,
          0.8888888888888888,
          0.8888888888888888,
          0.8907103825136612,
          0.8907103825136612,
          0.8961748633879781,
          0.8961748633879781,
          0.8979963570127505,
          0.8979963570127505,
          0.8998178506375227,
          0.8998178506375227,
          0.9034608378870674,
          0.9034608378870674,
          0.907103825136612,
          0.907103825136612,
          0.9089253187613844,
          0.9089253187613844,
          0.9107468123861566,
          0.9107468123861566,
          0.9162112932604736,
          0.9162112932604736,
          0.9216757741347905,
          0.9216757741347905,
          0.9234972677595629,
          0.9234972677595629,
          0.9253187613843351,
          0.9253187613843351,
          0.930783242258652,
          0.930783242258652,
          0.9344262295081968,
          0.9344262295081968,
          0.936247723132969,
          0.936247723132969,
          0.9380692167577414,
          0.9380692167577414,
          0.941712204007286,
          0.941712204007286,
          0.9435336976320583,
          0.9435336976320583,
          0.9453551912568307,
          0.9453551912568307,
          0.9489981785063752,
          0.9489981785063752,
          0.9526411657559198,
          0.9526411657559198,
          0.9581056466302368,
          0.9581056466302368,
          0.9599271402550091,
          0.9599271402550091,
          0.9617486338797814,
          0.9617486338797814,
          0.9653916211293261,
          0.9653916211293261,
          0.970856102003643,
          0.970856102003643,
          0.9744990892531876,
          0.9744990892531876,
          0.97632058287796,
          0.97632058287796,
          0.9781420765027322,
          0.9781420765027322,
          0.9817850637522769,
          0.9817850637522769,
          0.9854280510018215,
          0.9854280510018215,
          0.9908925318761385,
          0.9908925318761385,
          0.9927140255009107,
          0.9927140255009107,
          0.994535519125683,
          0.994535519125683,
          0.9981785063752276,
          0.9981785063752276,
          1
         ]
        }
       ],
       "layout": {
        "autosize": true,
        "showlegend": false,
        "template": {
         "data": {
          "bar": [
           {
            "error_x": {
             "color": "#2a3f5f"
            },
            "error_y": {
             "color": "#2a3f5f"
            },
            "marker": {
             "line": {
              "color": "#E5ECF6",
              "width": 0.5
             },
             "pattern": {
              "fillmode": "overlay",
              "size": 10,
              "solidity": 0.2
             }
            },
            "type": "bar"
           }
          ],
          "barpolar": [
           {
            "marker": {
             "line": {
              "color": "#E5ECF6",
              "width": 0.5
             },
             "pattern": {
              "fillmode": "overlay",
              "size": 10,
              "solidity": 0.2
             }
            },
            "type": "barpolar"
           }
          ],
          "carpet": [
           {
            "aaxis": {
             "endlinecolor": "#2a3f5f",
             "gridcolor": "white",
             "linecolor": "white",
             "minorgridcolor": "white",
             "startlinecolor": "#2a3f5f"
            },
            "baxis": {
             "endlinecolor": "#2a3f5f",
             "gridcolor": "white",
             "linecolor": "white",
             "minorgridcolor": "white",
             "startlinecolor": "#2a3f5f"
            },
            "type": "carpet"
           }
          ],
          "choropleth": [
           {
            "colorbar": {
             "outlinewidth": 0,
             "ticks": ""
            },
            "type": "choropleth"
           }
          ],
          "contour": [
           {
            "colorbar": {
             "outlinewidth": 0,
             "ticks": ""
            },
            "colorscale": [
             [
              0,
              "#0d0887"
             ],
             [
              0.1111111111111111,
              "#46039f"
             ],
             [
              0.2222222222222222,
              "#7201a8"
             ],
             [
              0.3333333333333333,
              "#9c179e"
             ],
             [
              0.4444444444444444,
              "#bd3786"
             ],
             [
              0.5555555555555556,
              "#d8576b"
             ],
             [
              0.6666666666666666,
              "#ed7953"
             ],
             [
              0.7777777777777778,
              "#fb9f3a"
             ],
             [
              0.8888888888888888,
              "#fdca26"
             ],
             [
              1,
              "#f0f921"
             ]
            ],
            "type": "contour"
           }
          ],
          "contourcarpet": [
           {
            "colorbar": {
             "outlinewidth": 0,
             "ticks": ""
            },
            "type": "contourcarpet"
           }
          ],
          "heatmap": [
           {
            "colorbar": {
             "outlinewidth": 0,
             "ticks": ""
            },
            "colorscale": [
             [
              0,
              "#0d0887"
             ],
             [
              0.1111111111111111,
              "#46039f"
             ],
             [
              0.2222222222222222,
              "#7201a8"
             ],
             [
              0.3333333333333333,
              "#9c179e"
             ],
             [
              0.4444444444444444,
              "#bd3786"
             ],
             [
              0.5555555555555556,
              "#d8576b"
             ],
             [
              0.6666666666666666,
              "#ed7953"
             ],
             [
              0.7777777777777778,
              "#fb9f3a"
             ],
             [
              0.8888888888888888,
              "#fdca26"
             ],
             [
              1,
              "#f0f921"
             ]
            ],
            "type": "heatmap"
           }
          ],
          "heatmapgl": [
           {
            "colorbar": {
             "outlinewidth": 0,
             "ticks": ""
            },
            "colorscale": [
             [
              0,
              "#0d0887"
             ],
             [
              0.1111111111111111,
              "#46039f"
             ],
             [
              0.2222222222222222,
              "#7201a8"
             ],
             [
              0.3333333333333333,
              "#9c179e"
             ],
             [
              0.4444444444444444,
              "#bd3786"
             ],
             [
              0.5555555555555556,
              "#d8576b"
             ],
             [
              0.6666666666666666,
              "#ed7953"
             ],
             [
              0.7777777777777778,
              "#fb9f3a"
             ],
             [
              0.8888888888888888,
              "#fdca26"
             ],
             [
              1,
              "#f0f921"
             ]
            ],
            "type": "heatmapgl"
           }
          ],
          "histogram": [
           {
            "marker": {
             "pattern": {
              "fillmode": "overlay",
              "size": 10,
              "solidity": 0.2
             }
            },
            "type": "histogram"
           }
          ],
          "histogram2d": [
           {
            "colorbar": {
             "outlinewidth": 0,
             "ticks": ""
            },
            "colorscale": [
             [
              0,
              "#0d0887"
             ],
             [
              0.1111111111111111,
              "#46039f"
             ],
             [
              0.2222222222222222,
              "#7201a8"
             ],
             [
              0.3333333333333333,
              "#9c179e"
             ],
             [
              0.4444444444444444,
              "#bd3786"
             ],
             [
              0.5555555555555556,
              "#d8576b"
             ],
             [
              0.6666666666666666,
              "#ed7953"
             ],
             [
              0.7777777777777778,
              "#fb9f3a"
             ],
             [
              0.8888888888888888,
              "#fdca26"
             ],
             [
              1,
              "#f0f921"
             ]
            ],
            "type": "histogram2d"
           }
          ],
          "histogram2dcontour": [
           {
            "colorbar": {
             "outlinewidth": 0,
             "ticks": ""
            },
            "colorscale": [
             [
              0,
              "#0d0887"
             ],
             [
              0.1111111111111111,
              "#46039f"
             ],
             [
              0.2222222222222222,
              "#7201a8"
             ],
             [
              0.3333333333333333,
              "#9c179e"
             ],
             [
              0.4444444444444444,
              "#bd3786"
             ],
             [
              0.5555555555555556,
              "#d8576b"
             ],
             [
              0.6666666666666666,
              "#ed7953"
             ],
             [
              0.7777777777777778,
              "#fb9f3a"
             ],
             [
              0.8888888888888888,
              "#fdca26"
             ],
             [
              1,
              "#f0f921"
             ]
            ],
            "type": "histogram2dcontour"
           }
          ],
          "mesh3d": [
           {
            "colorbar": {
             "outlinewidth": 0,
             "ticks": ""
            },
            "type": "mesh3d"
           }
          ],
          "parcoords": [
           {
            "line": {
             "colorbar": {
              "outlinewidth": 0,
              "ticks": ""
             }
            },
            "type": "parcoords"
           }
          ],
          "pie": [
           {
            "automargin": true,
            "type": "pie"
           }
          ],
          "scatter": [
           {
            "marker": {
             "colorbar": {
              "outlinewidth": 0,
              "ticks": ""
             }
            },
            "type": "scatter"
           }
          ],
          "scatter3d": [
           {
            "line": {
             "colorbar": {
              "outlinewidth": 0,
              "ticks": ""
             }
            },
            "marker": {
             "colorbar": {
              "outlinewidth": 0,
              "ticks": ""
             }
            },
            "type": "scatter3d"
           }
          ],
          "scattercarpet": [
           {
            "marker": {
             "colorbar": {
              "outlinewidth": 0,
              "ticks": ""
             }
            },
            "type": "scattercarpet"
           }
          ],
          "scattergeo": [
           {
            "marker": {
             "colorbar": {
              "outlinewidth": 0,
              "ticks": ""
             }
            },
            "type": "scattergeo"
           }
          ],
          "scattergl": [
           {
            "marker": {
             "colorbar": {
              "outlinewidth": 0,
              "ticks": ""
             }
            },
            "type": "scattergl"
           }
          ],
          "scattermapbox": [
           {
            "marker": {
             "colorbar": {
              "outlinewidth": 0,
              "ticks": ""
             }
            },
            "type": "scattermapbox"
           }
          ],
          "scatterpolar": [
           {
            "marker": {
             "colorbar": {
              "outlinewidth": 0,
              "ticks": ""
             }
            },
            "type": "scatterpolar"
           }
          ],
          "scatterpolargl": [
           {
            "marker": {
             "colorbar": {
              "outlinewidth": 0,
              "ticks": ""
             }
            },
            "type": "scatterpolargl"
           }
          ],
          "scatterternary": [
           {
            "marker": {
             "colorbar": {
              "outlinewidth": 0,
              "ticks": ""
             }
            },
            "type": "scatterternary"
           }
          ],
          "surface": [
           {
            "colorbar": {
             "outlinewidth": 0,
             "ticks": ""
            },
            "colorscale": [
             [
              0,
              "#0d0887"
             ],
             [
              0.1111111111111111,
              "#46039f"
             ],
             [
              0.2222222222222222,
              "#7201a8"
             ],
             [
              0.3333333333333333,
              "#9c179e"
             ],
             [
              0.4444444444444444,
              "#bd3786"
             ],
             [
              0.5555555555555556,
              "#d8576b"
             ],
             [
              0.6666666666666666,
              "#ed7953"
             ],
             [
              0.7777777777777778,
              "#fb9f3a"
             ],
             [
              0.8888888888888888,
              "#fdca26"
             ],
             [
              1,
              "#f0f921"
             ]
            ],
            "type": "surface"
           }
          ],
          "table": [
           {
            "cells": {
             "fill": {
              "color": "#EBF0F8"
             },
             "line": {
              "color": "white"
             }
            },
            "header": {
             "fill": {
              "color": "#C8D4E3"
             },
             "line": {
              "color": "white"
             }
            },
            "type": "table"
           }
          ]
         },
         "layout": {
          "annotationdefaults": {
           "arrowcolor": "#2a3f5f",
           "arrowhead": 0,
           "arrowwidth": 1
          },
          "autotypenumbers": "strict",
          "coloraxis": {
           "colorbar": {
            "outlinewidth": 0,
            "ticks": ""
           }
          },
          "colorscale": {
           "diverging": [
            [
             0,
             "#8e0152"
            ],
            [
             0.1,
             "#c51b7d"
            ],
            [
             0.2,
             "#de77ae"
            ],
            [
             0.3,
             "#f1b6da"
            ],
            [
             0.4,
             "#fde0ef"
            ],
            [
             0.5,
             "#f7f7f7"
            ],
            [
             0.6,
             "#e6f5d0"
            ],
            [
             0.7,
             "#b8e186"
            ],
            [
             0.8,
             "#7fbc41"
            ],
            [
             0.9,
             "#4d9221"
            ],
            [
             1,
             "#276419"
            ]
           ],
           "sequential": [
            [
             0,
             "#0d0887"
            ],
            [
             0.1111111111111111,
             "#46039f"
            ],
            [
             0.2222222222222222,
             "#7201a8"
            ],
            [
             0.3333333333333333,
             "#9c179e"
            ],
            [
             0.4444444444444444,
             "#bd3786"
            ],
            [
             0.5555555555555556,
             "#d8576b"
            ],
            [
             0.6666666666666666,
             "#ed7953"
            ],
            [
             0.7777777777777778,
             "#fb9f3a"
            ],
            [
             0.8888888888888888,
             "#fdca26"
            ],
            [
             1,
             "#f0f921"
            ]
           ],
           "sequentialminus": [
            [
             0,
             "#0d0887"
            ],
            [
             0.1111111111111111,
             "#46039f"
            ],
            [
             0.2222222222222222,
             "#7201a8"
            ],
            [
             0.3333333333333333,
             "#9c179e"
            ],
            [
             0.4444444444444444,
             "#bd3786"
            ],
            [
             0.5555555555555556,
             "#d8576b"
            ],
            [
             0.6666666666666666,
             "#ed7953"
            ],
            [
             0.7777777777777778,
             "#fb9f3a"
            ],
            [
             0.8888888888888888,
             "#fdca26"
            ],
            [
             1,
             "#f0f921"
            ]
           ]
          },
          "colorway": [
           "#636efa",
           "#EF553B",
           "#00cc96",
           "#ab63fa",
           "#FFA15A",
           "#19d3f3",
           "#FF6692",
           "#B6E880",
           "#FF97FF",
           "#FECB52"
          ],
          "font": {
           "color": "#2a3f5f"
          },
          "geo": {
           "bgcolor": "white",
           "lakecolor": "white",
           "landcolor": "#E5ECF6",
           "showlakes": true,
           "showland": true,
           "subunitcolor": "white"
          },
          "hoverlabel": {
           "align": "left"
          },
          "hovermode": "closest",
          "mapbox": {
           "style": "light"
          },
          "paper_bgcolor": "white",
          "plot_bgcolor": "#E5ECF6",
          "polar": {
           "angularaxis": {
            "gridcolor": "white",
            "linecolor": "white",
            "ticks": ""
           },
           "bgcolor": "#E5ECF6",
           "radialaxis": {
            "gridcolor": "white",
            "linecolor": "white",
            "ticks": ""
           }
          },
          "scene": {
           "xaxis": {
            "backgroundcolor": "#E5ECF6",
            "gridcolor": "white",
            "gridwidth": 2,
            "linecolor": "white",
            "showbackground": true,
            "ticks": "",
            "zerolinecolor": "white"
           },
           "yaxis": {
            "backgroundcolor": "#E5ECF6",
            "gridcolor": "white",
            "gridwidth": 2,
            "linecolor": "white",
            "showbackground": true,
            "ticks": "",
            "zerolinecolor": "white"
           },
           "zaxis": {
            "backgroundcolor": "#E5ECF6",
            "gridcolor": "white",
            "gridwidth": 2,
            "linecolor": "white",
            "showbackground": true,
            "ticks": "",
            "zerolinecolor": "white"
           }
          },
          "shapedefaults": {
           "line": {
            "color": "#2a3f5f"
           }
          },
          "ternary": {
           "aaxis": {
            "gridcolor": "white",
            "linecolor": "white",
            "ticks": ""
           },
           "baxis": {
            "gridcolor": "white",
            "linecolor": "white",
            "ticks": ""
           },
           "bgcolor": "#E5ECF6",
           "caxis": {
            "gridcolor": "white",
            "linecolor": "white",
            "ticks": ""
           }
          },
          "title": {
           "x": 0.05
          },
          "xaxis": {
           "automargin": true,
           "gridcolor": "white",
           "linecolor": "white",
           "ticks": "",
           "title": {
            "standoff": 15
           },
           "zerolinecolor": "white",
           "zerolinewidth": 2
          },
          "yaxis": {
           "automargin": true,
           "gridcolor": "white",
           "linecolor": "white",
           "ticks": "",
           "title": {
            "standoff": 15
           },
           "zerolinecolor": "white",
           "zerolinewidth": 2
          }
         }
        },
        "title": {
         "text": "ROC Curve"
        },
        "xaxis": {
         "autorange": true,
         "range": [
          0,
          1
         ],
         "title": {
          "text": "False Positive Rate"
         },
         "type": "linear"
        },
        "yaxis": {
         "autorange": true,
         "range": [
          -0.05555555555555555,
          1.0555555555555556
         ],
         "title": {
          "text": "True Positive Rate"
         },
         "type": "linear"
        }
       }
      },
      "image/png": "[encoded data removed]",
      "text/html": [
       "<div>                            <div id=\"cce817d0-cfa7-4d33-8878-2df0be893b7c\" class=\"plotly-graph-div\" style=\"height:525px; width:100%;\"></div>            <script type=\"text/javascript\">                require([\"plotly\"], function(Plotly) {                    window.PLOTLYENV=window.PLOTLYENV || {};                                    if (document.getElementById(\"cce817d0-cfa7-4d33-8878-2df0be893b7c\")) {                    Plotly.newPlot(                        \"cce817d0-cfa7-4d33-8878-2df0be893b7c\",                        [{\"line\":{\"color\":\"darkorange\",\"width\":2},\"mode\":\"lines\",\"x\":[0.0,0.0006613756613756613,0.013888888888888888,0.013888888888888888,0.01521164021164021,0.01521164021164021,0.01984126984126984,0.01984126984126984,0.023148148148148147,0.023148148148148147,0.027116402116402115,0.027116402116402115,0.03373015873015873,0.03373015873015873,0.04828042328042328,0.04828042328042328,0.051587301587301584,0.051587301587301584,0.05291005291005291,0.05291005291005291,0.057539682539682536,0.057539682539682536,0.0667989417989418,0.0667989417989418,0.06746031746031746,0.06746031746031746,0.06812169312169312,0.06812169312169312,0.06878306878306878,0.06878306878306878,0.07407407407407407,0.07407407407407407,0.07738095238095238,0.07738095238095238,0.07936507936507936,0.07936507936507936,0.0873015873015873,0.0873015873015873,0.08796296296296297,0.08796296296296297,0.09060846560846561,0.09193121693121693,0.09325396825396826,0.09325396825396826,0.10052910052910052,0.10052910052910052,0.10383597883597884,0.10383597883597884,0.10714285714285714,0.10714285714285714,0.1078042328042328,0.1078042328042328,0.11441798941798942,0.11441798941798942,0.11904761904761904,0.11904761904761904,0.12169312169312169,0.12169312169312169,0.12566137566137567,0.12566137566137567,0.1349206349206349,0.1349206349206349,0.1421957671957672,0.1421957671957672,0.14351851851851852,0.14351851851851852,0.1474867724867725,0.1474867724867725,0.15145502645502645,0.15145502645502645,0.16137566137566137,0.16137566137566137,0.16534391534391535,0.16534391534391535,0.17989417989417988,0.17989417989417988,0.18055555555555555,0.18055555555555555,0.18386243386243387,0.18386243386243387,0.19047619047619047,0.19047619047619047,0.21031746031746032,0.21031746031746032,0.21362433862433863,0.21362433862433863,0.21891534391534392,0.21891534391534392,0.22023809523809523,0.22023809523809523,0.22486772486772486,0.22486772486772486,0.2361111111111111,0.2361111111111111,0.24603174603174602,0.24603174603174602,0.2526455026455027,0.2526455026455027,0.2585978835978836,0.2585978835978836,0.25992063492063494,0.25992063492063494,0.2619047619047619,0.2619047619047619,0.26322751322751325,0.26322751322751325,0.26851851851851855,0.26851851851851855,0.2691798941798942,0.2691798941798942,0.2751322751322751,0.2751322751322751,0.2777777777777778,0.2777777777777778,0.2804232804232804,0.2804232804232804,0.2837301587301587,0.2837301587301587,0.2857142857142857,0.2857142857142857,0.28835978835978837,0.28835978835978837,0.29034391534391535,0.29034391534391535,0.29828042328042326,0.29828042328042326,0.3029100529100529,0.3029100529100529,0.3048941798941799,0.3048941798941799,0.31746031746031744,0.31746031746031744,0.32076719576719576,0.32076719576719576,0.32142857142857145,0.32142857142857145,0.3220899470899471,0.3220899470899471,0.32275132275132273,0.32275132275132273,0.32605820105820105,0.32605820105820105,0.33134920634920634,0.33134920634920634,0.33465608465608465,0.33465608465608465,0.3419312169312169,0.3419312169312169,0.34656084656084657,0.34656084656084657,0.3492063492063492,0.3492063492063492,0.35185185185185186,0.35185185185185186,0.3578042328042328,0.3578042328042328,0.3584656084656085,0.3584656084656085,0.36243386243386244,0.36243386243386244,0.3630952380952381,0.3630952380952381,0.36507936507936506,0.36507936507936506,0.36904761904761907,0.36904761904761907,0.3697089947089947,0.3697089947089947,0.3862433862433862,0.3862433862433862,0.38955026455026454,0.38955026455026454,0.3941798941798942,0.3941798941798942,0.3994708994708995,0.3994708994708995,0.4021164021164021,0.4021164021164021,0.4054232804232804,0.4054232804232804,0.4087301587301587,0.4087301587301587,0.4113756613756614,0.4113756613756614,0.4146825396825397,0.4146825396825397,0.41534391534391535,0.41534391534391535,0.416005291005291,0.416005291005291,0.4173280423280423,0.4173280423280423,0.419973544973545,0.419973544973545,0.4226190476190476,0.4226190476190476,0.42592592592592593,0.42592592592592593,0.42658730158730157,0.42658730158730157,0.4279100529100529,0.4279100529100529,0.42923280423280424,0.42923280423280424,0.4298941798941799,0.4298941798941799,0.43584656084656087,0.43584656084656087,0.43915343915343913,0.43915343915343913,0.4398148148148148,0.4398148148148148,0.4437830687830688,0.4437830687830688,0.4444444444444444,0.4444444444444444,0.4451058201058201,0.4451058201058201,0.4470899470899471,0.4470899470899471,0.455026455026455,0.455026455026455,0.4556878306878307,0.4556878306878307,0.4583333333333333,0.4583333333333333,0.460978835978836,0.460978835978836,0.4623015873015873,0.4623015873015873,0.46296296296296297,0.46296296296296297,0.4656084656084656,0.4656084656084656,0.4669312169312169,0.4669312169312169,0.47023809523809523,0.47023809523809523,0.4748677248677249,0.4748677248677249,0.47619047619047616,0.47619047619047616,0.47685185185185186,0.47685185185185186,0.4801587301587302,0.4801587301587302,0.48677248677248675,0.48677248677248675,0.4894179894179894,0.4894179894179894,0.49074074074074076,0.49074074074074076,0.5,0.5,0.5026455026455027,0.5026455026455027,0.5072751322751323,0.5072751322751323,0.5085978835978836,0.5085978835978836,0.5099206349206349,0.5099206349206349,0.5165343915343915,0.5165343915343915,0.5191798941798942,0.5191798941798942,0.5205026455026455,0.5205026455026455,0.5218253968253969,0.5218253968253969,0.5231481481481481,0.5231481481481481,0.5251322751322751,0.5251322751322751,0.5257936507936508,0.5257936507936508,0.5291005291005291,0.5291005291005291,0.5304232804232805,0.5304232804232805,0.5324074074074074,0.5324074074074074,0.53505291005291,0.53505291005291,0.5383597883597884,0.5383597883597884,0.5396825396825397,0.5396825396825397,0.5423280423280423,0.5423280423280423,0.5462962962962963,0.5462962962962963,0.5509259259259259,0.5509259259259259,0.5515873015873016,0.5515873015873016,0.5529100529100529,0.5529100529100529,0.5542328042328042,0.5542328042328042,0.5562169312169312,0.5562169312169312,0.5575396825396826,0.5575396825396826,0.5701058201058201,0.5701058201058201,0.5707671957671958,0.5707671957671958,0.5727513227513228,0.5727513227513228,0.5734126984126984,0.5734126984126984,0.5773809523809523,0.5773809523809523,0.5806878306878307,0.5806878306878307,0.5813492063492064,0.5813492063492064,0.582010582010582,0.582010582010582,0.5892857142857143,0.5892857142857143,0.591931216931217,0.591931216931217,0.593915343915344,0.593915343915344,0.6025132275132276,0.6025132275132276,0.6071428571428571,0.6071428571428571,0.6097883597883598,0.6097883597883598,0.6104497354497355,0.6104497354497355,0.6111111111111112,0.6111111111111112,0.6124338624338624,0.6124338624338624,0.6137566137566137,0.6137566137566137,0.6144179894179894,0.6144179894179894,0.6157407407407407,0.6157407407407407,0.6164021164021164,0.6164021164021164,0.6170634920634921,0.6170634920634921,0.6197089947089947,0.6197089947089947,0.6203703703703703,0.6203703703703703,0.6223544973544973,0.6223544973544973,0.6283068783068783,0.6283068783068783,0.6296296296296297,0.6296296296296297,0.6309523809523809,0.6309523809523809,0.6316137566137566,0.6316137566137566,0.6329365079365079,0.6329365079365079,0.6342592592592593,0.6342592592592593,0.6355820105820106,0.6355820105820106,0.6382275132275133,0.6382275132275133,0.6408730158730159,0.6408730158730159,0.6488095238095238,0.6488095238095238,0.6527777777777778,0.6527777777777778,0.6547619047619048,0.6547619047619048,0.6554232804232805,0.6554232804232805,0.66005291005291,0.66005291005291,0.6640211640211641,0.6640211640211641,0.6653439153439153,0.6653439153439153,0.669973544973545,0.669973544973545,0.6726190476190477,0.6726190476190477,0.6759259259259259,0.6759259259259259,0.6779100529100529,0.6779100529100529,0.6805555555555556,0.6805555555555556,0.6832010582010583,0.6832010582010583,0.6845238095238095,0.6845238095238095,0.6865079365079365,0.6865079365079365,0.6891534391534392,0.6891534391534392,0.6917989417989417,0.6917989417989417,0.6951058201058201,0.6951058201058201,0.7017195767195767,0.7017195767195767,0.7023809523809523,0.7023809523809523,0.7162698412698413,0.7162698412698413,0.7195767195767195,0.7195767195767195,0.7202380952380952,0.7202380952380952,0.7248677248677249,0.7248677248677249,0.7255291005291006,0.7255291005291006,0.7275132275132276,0.7275132275132276,0.7341269841269841,0.7341269841269841,0.7367724867724867,0.7367724867724867,0.7380952380952381,0.7380952380952381,0.7407407407407407,0.7407407407407407,0.7533068783068783,0.7533068783068783,0.7572751322751323,0.7572751322751323,0.7592592592592593,0.7592592592592593,0.7599206349206349,0.7599206349206349,0.7612433862433863,0.7612433862433863,0.7619047619047619,0.7619047619047619,0.7645502645502645,0.7645502645502645,0.7652116402116402,0.7652116402116402,0.7665343915343915,0.7665343915343915,0.7671957671957672,0.7671957671957672,0.7678571428571429,0.7678571428571429,0.7724867724867724,0.7724867724867724,0.7731481481481481,0.7731481481481481,0.7744708994708994,0.7744708994708994,0.7757936507936508,0.7757936507936508,0.7764550264550265,0.7764550264550265,0.7771164021164021,0.7771164021164021,0.7784391534391535,0.7784391534391535,0.7791005291005291,0.7791005291005291,0.781084656084656,0.781084656084656,0.7817460317460317,0.7817460317460317,0.7857142857142857,0.7857142857142857,0.7916666666666666,0.7916666666666666,0.7936507936507936,0.7936507936507936,0.7956349206349206,0.7956349206349206,0.7976190476190477,0.7976190476190477,0.7982804232804233,0.7982804232804233,0.7996031746031746,0.7996031746031746,0.8009259259259259,0.8009259259259259,0.8022486772486772,0.8022486772486772,0.8048941798941799,0.8048941798941799,0.8075396825396826,0.8075396825396826,0.8088624338624338,0.8088624338624338,0.8101851851851852,0.8101851851851852,0.8121693121693122,0.8121693121693122,0.8128306878306878,0.8128306878306878,0.8148148148148148,0.8148148148148148,0.8161375661375662,0.8161375661375662,0.8174603174603174,0.8174603174603174,0.8181216931216931,0.8181216931216931,0.8207671957671958,0.8207671957671958,0.8214285714285714,0.8214285714285714,0.8234126984126984,0.8234126984126984,0.8240740740740741,0.8240740740740741,0.826058201058201,0.826058201058201,0.8287037037037037,0.8287037037037037,0.8293650793650794,0.8293650793650794,0.830026455026455,0.830026455026455,0.8313492063492064,0.8313492063492064,0.8333333333333334,0.8333333333333334,0.833994708994709,0.833994708994709,0.8346560846560847,0.8346560846560847,0.8366402116402116,0.8366402116402116,0.8432539682539683,0.8432539682539683,0.843915343915344,0.843915343915344,0.8445767195767195,0.8445767195767195,0.8452380952380952,0.8452380952380952,0.8458994708994709,0.8458994708994709,0.8465608465608465,0.8465608465608465,0.8511904761904762,0.8511904761904762,0.8525132275132276,0.8525132275132276,0.8531746031746031,0.8531746031746031,0.8538359788359788,0.8538359788359788,0.8544973544973545,0.8544973544973545,0.8584656084656085,0.8584656084656085,0.8591269841269841,0.8591269841269841,0.8617724867724867,0.8617724867724867,0.8630952380952381,0.8630952380952381,0.8644179894179894,0.8644179894179894,0.8650793650793651,0.8650793650793651,0.8657407407407407,0.8657407407407407,0.8690476190476191,0.8690476190476191,0.8703703703703703,0.8703703703703703,0.871031746031746,0.871031746031746,0.8716931216931217,0.8716931216931217,0.8736772486772487,0.8736772486772487,0.876984126984127,0.876984126984127,0.8776455026455027,0.8776455026455027,0.8796296296296297,0.8796296296296297,0.8822751322751323,0.8822751322751323,0.8829365079365079,0.8829365079365079,0.8849206349206349,0.8849206349206349,0.8882275132275133,0.8882275132275133,0.8888888888888888,0.8888888888888888,0.8908730158730159,0.8908730158730159,0.8928571428571429,0.8928571428571429,0.8941798941798942,0.8941798941798942,0.8948412698412699,0.8948412698412699,0.8955026455026455,0.8955026455026455,0.8968253968253969,0.8968253968253969,0.9001322751322751,0.9001322751322751,0.9007936507936508,0.9007936507936508,0.9014550264550265,0.9014550264550265,0.9021164021164021,0.9021164021164021,0.9041005291005291,0.9041005291005291,0.9054232804232805,0.9054232804232805,0.908068783068783,0.908068783068783,0.9107142857142857,0.9107142857142857,0.9113756613756614,0.9113756613756614,0.9120370370370371,0.9120370370370371,0.9126984126984127,0.9126984126984127,0.9133597883597884,0.9133597883597884,0.9153439153439153,0.9153439153439153,0.9186507936507936,0.9186507936507936,0.921957671957672,0.921957671957672,0.923941798941799,0.923941798941799,0.9272486772486772,0.9272486772486772,0.9305555555555556,0.9305555555555556,0.9312169312169312,0.9312169312169312,0.9332010582010583,0.9332010582010583,0.9345238095238095,0.9345238095238095,0.9358465608465608,0.9358465608465608,0.9371693121693122,0.9371693121693122,0.9384920634920635,0.9384920634920635,0.9404761904761905,0.9404761904761905,0.9411375661375662,0.9411375661375662,0.9417989417989417,0.9417989417989417,0.9437830687830688,0.9437830687830688,0.9464285714285714,0.9464285714285714,0.9470899470899471,0.9470899470899471,0.9484126984126984,0.9484126984126984,0.9497354497354498,0.9497354497354498,0.951058201058201,0.951058201058201,0.9523809523809523,0.9523809523809523,0.9537037037037037,0.9537037037037037,0.9543650793650794,0.9543650793650794,0.955026455026455,0.955026455026455,0.9556878306878307,0.9556878306878307,0.9563492063492064,0.9563492063492064,0.957010582010582,0.957010582010582,0.9576719576719577,0.9576719576719577,0.9596560846560847,0.9596560846560847,0.9603174603174603,0.9603174603174603,0.9616402116402116,0.9616402116402116,0.9623015873015873,0.9623015873015873,0.9629629629629629,0.9629629629629629,0.9662698412698413,0.9662698412698413,0.966931216931217,0.966931216931217,0.9675925925925926,0.9675925925925926,0.9682539682539683,0.9682539682539683,0.968915343915344,0.968915343915344,0.9702380952380952,0.9702380952380952,0.9708994708994709,0.9708994708994709,0.9742063492063492,0.9742063492063492,0.9748677248677249,0.9748677248677249,0.9781746031746031,0.9781746031746031,0.9794973544973545,0.9794973544973545,0.9801587301587301,0.9801587301587301,0.9814814814814815,0.9814814814814815,0.9834656084656085,0.9834656084656085,0.9841269841269841,0.9841269841269841,0.9847883597883598,0.9847883597883598,0.9854497354497355,0.9854497354497355,0.9867724867724867,0.9867724867724867,0.9887566137566137,0.9887566137566137,0.9894179894179894,0.9894179894179894,0.9900793650793651,0.9900793650793651,0.9907407407407407,0.9907407407407407,0.9920634920634921,0.9920634920634921,0.9927248677248677,0.9927248677248677,0.9933862433862434,0.9933862433862434,0.9947089947089947,0.9947089947089947,0.9953703703703703,0.9953703703703703,0.996031746031746,0.996031746031746,0.9993386243386243,0.9993386243386243,1.0,1.0],\"y\":[0.0,0.0,0.0,0.0018214936247723133,0.0018214936247723133,0.0036429872495446266,0.0036429872495446266,0.00546448087431694,0.00546448087431694,0.007285974499089253,0.007285974499089253,0.009107468123861567,0.009107468123861567,0.01092896174863388,0.01092896174863388,0.012750455373406194,0.012750455373406194,0.014571948998178506,0.014571948998178506,0.01639344262295082,0.01639344262295082,0.018214936247723135,0.018214936247723135,0.020036429872495445,0.020036429872495445,0.02185792349726776,0.02185792349726776,0.023679417122040074,0.023679417122040074,0.025500910746812388,0.025500910746812388,0.029143897996357013,0.029143897996357013,0.030965391621129327,0.030965391621129327,0.03278688524590164,0.03278688524590164,0.03460837887067395,0.03460837887067395,0.03642987249544627,0.03642987249544627,0.03642987249544627,0.03642987249544627,0.03825136612021858,0.03825136612021858,0.04007285974499089,0.04007285974499089,0.04189435336976321,0.04189435336976321,0.04371584699453552,0.04371584699453552,0.04553734061930783,0.04553734061930783,0.04918032786885246,0.04918032786885246,0.051001821493624776,0.051001821493624776,0.052823315118397086,0.052823315118397086,0.0546448087431694,0.0546448087431694,0.056466302367941715,0.056466302367941715,0.058287795992714025,0.058287795992714025,0.060109289617486336,0.060109289617486336,0.061930783242258654,0.061930783242258654,0.06375227686703097,0.06375227686703097,0.06557377049180328,0.06557377049180328,0.06739526411657559,0.06739526411657559,0.0692167577413479,0.0692167577413479,0.07103825136612021,0.07103825136612021,0.07468123861566485,0.07468123861566485,0.07650273224043716,0.07650273224043716,0.08196721311475409,0.08196721311475409,0.08561020036429873,0.08561020036429873,0.08743169398907104,0.08743169398907104,0.09107468123861566,0.09107468123861566,0.09289617486338798,0.09289617486338798,0.0947176684881603,0.0947176684881603,0.0965391621129326,0.0965391621129326,0.09836065573770492,0.09836065573770492,0.10018214936247723,0.10018214936247723,0.10200364298724955,0.10200364298724955,0.10382513661202186,0.10382513661202186,0.10564663023679417,0.10564663023679417,0.10746812386156648,0.10746812386156648,0.1092896174863388,0.1092896174863388,0.1111111111111111,0.1111111111111111,0.11293260473588343,0.11293260473588343,0.11657559198542805,0.11657559198542805,0.122040072859745,0.122040072859745,0.12386156648451731,0.12386156648451731,0.12568306010928962,0.12568306010928962,0.12750455373406194,0.12750455373406194,0.12932604735883424,0.12932604735883424,0.13296903460837886,0.13296903460837886,0.1366120218579235,0.1366120218579235,0.1384335154826958,0.1384335154826958,0.14025500910746813,0.14025500910746813,0.14571948998178508,0.14571948998178508,0.14754098360655737,0.14754098360655737,0.1493624772313297,0.1493624772313297,0.151183970856102,0.151183970856102,0.15300546448087432,0.15300546448087432,0.15664845173041894,0.15664845173041894,0.15846994535519127,0.15846994535519127,0.16029143897996356,0.16029143897996356,0.1621129326047359,0.1621129326047359,0.16393442622950818,0.16393442622950818,0.16757741347905283,0.16757741347905283,0.16939890710382513,0.16939890710382513,0.17122040072859745,0.17122040072859745,0.17304189435336975,0.17304189435336975,0.17486338797814208,0.17486338797814208,0.1766848816029144,0.1766848816029144,0.1785063752276867,0.1785063752276867,0.18032786885245902,0.18032786885245902,0.18214936247723132,0.18214936247723132,0.18579234972677597,0.18579234972677597,0.18761384335154827,0.18761384335154827,0.1912568306010929,0.1912568306010929,0.19489981785063754,0.19489981785063754,0.19672131147540983,0.19672131147540983,0.19854280510018216,0.19854280510018216,0.20218579234972678,0.20218579234972678,0.20765027322404372,0.20765027322404372,0.20947176684881602,0.20947176684881602,0.21129326047358835,0.21129326047358835,0.21311475409836064,0.21311475409836064,0.21493624772313297,0.21493624772313297,0.2167577413479053,0.2167577413479053,0.2204007285974499,0.2204007285974499,0.2222222222222222,0.2222222222222222,0.22404371584699453,0.22404371584699453,0.22950819672131148,0.22950819672131148,0.23132969034608378,0.23132969034608378,0.2331511839708561,0.2331511839708561,0.23497267759562843,0.23497267759562843,0.23861566484517305,0.23861566484517305,0.24043715846994534,0.24043715846994534,0.24225865209471767,0.24225865209471767,0.24408014571949,0.24408014571949,0.2459016393442623,0.2459016393442623,0.24772313296903462,0.24772313296903462,0.2495446265938069,0.2495446265938069,0.25136612021857924,0.25136612021857924,0.25318761384335153,0.25318761384335153,0.2550091074681239,0.2550091074681239,0.2568306010928962,0.2568306010928962,0.26229508196721313,0.26229508196721313,0.2641165755919854,0.2641165755919854,0.2659380692167577,0.2659380692167577,0.2677595628415301,0.2677595628415301,0.26958105646630237,0.26958105646630237,0.27140255009107467,0.27140255009107467,0.273224043715847,0.273224043715847,0.2750455373406193,0.2750455373406193,0.2768670309653916,0.2768670309653916,0.2786885245901639,0.2786885245901639,0.28051001821493626,0.28051001821493626,0.28415300546448086,0.28415300546448086,0.2859744990892532,0.2859744990892532,0.2877959927140255,0.2877959927140255,0.2896174863387978,0.2896174863387978,0.29143897996357016,0.29143897996357016,0.29326047358834245,0.29326047358834245,0.29508196721311475,0.29508196721311475,0.29690346083788705,0.29690346083788705,0.3005464480874317,0.3005464480874317,0.302367941712204,0.302367941712204,0.30418943533697634,0.30418943533697634,0.30783242258652094,0.30783242258652094,0.30965391621129323,0.30965391621129323,0.3114754098360656,0.3114754098360656,0.3132969034608379,0.3132969034608379,0.31693989071038253,0.31693989071038253,0.31876138433515483,0.31876138433515483,0.3205828779599271,0.3205828779599271,0.3224043715846995,0.3224043715846995,0.3242258652094718,0.3242258652094718,0.32604735883424407,0.32604735883424407,0.3296903460837887,0.3296903460837887,0.331511839708561,0.331511839708561,0.33515482695810567,0.33515482695810567,0.33697632058287796,0.33697632058287796,0.3406193078324226,0.3406193078324226,0.3424408014571949,0.3424408014571949,0.3442622950819672,0.3442622950819672,0.3460837887067395,0.3460837887067395,0.34790528233151186,0.34790528233151186,0.34972677595628415,0.34972677595628415,0.35154826958105645,0.35154826958105645,0.3533697632058288,0.3533697632058288,0.3551912568306011,0.3551912568306011,0.3570127504553734,0.3570127504553734,0.366120218579235,0.366120218579235,0.3679417122040073,0.3679417122040073,0.3697632058287796,0.3697632058287796,0.37340619307832423,0.37340619307832423,0.37522768670309653,0.37522768670309653,0.3770491803278688,0.3770491803278688,0.3806921675774135,0.3806921675774135,0.3843351548269581,0.3843351548269581,0.3861566484517304,0.3861566484517304,0.3879781420765027,0.3879781420765027,0.38979963570127507,0.38979963570127507,0.39162112932604737,0.39162112932604737,0.39526411657559196,0.39526411657559196,0.3970856102003643,0.3970856102003643,0.3989071038251366,0.3989071038251366,0.40255009107468126,0.40255009107468126,0.40437158469945356,0.40437158469945356,0.40619307832422585,0.40619307832422585,0.4080145719489982,0.4080145719489982,0.4098360655737705,0.4098360655737705,0.4116575591985428,0.4116575591985428,0.4134790528233151,0.4134790528233151,0.41530054644808745,0.41530054644808745,0.41712204007285975,0.41712204007285975,0.4207650273224044,0.4207650273224044,0.424408014571949,0.424408014571949,0.4262295081967213,0.4262295081967213,0.42805100182149364,0.42805100182149364,0.42987249544626593,0.42987249544626593,0.43169398907103823,0.43169398907103823,0.4335154826958106,0.4335154826958106,0.4353369763205829,0.4353369763205829,0.4371584699453552,0.4371584699453552,0.4408014571948998,0.4408014571948998,0.4426229508196721,0.4426229508196721,0.4444444444444444,0.4444444444444444,0.44626593806921677,0.44626593806921677,0.44808743169398907,0.44808743169398907,0.44990892531876137,0.44990892531876137,0.4517304189435337,0.4517304189435337,0.453551912568306,0.453551912568306,0.4553734061930783,0.4553734061930783,0.45719489981785066,0.45719489981785066,0.45901639344262296,0.45901639344262296,0.46083788706739526,0.46083788706739526,0.4663023679417122,0.4663023679417122,0.4790528233151184,0.4790528233151184,0.4808743169398907,0.4808743169398907,0.48269581056466304,0.48269581056466304,0.48451730418943534,0.48451730418943534,0.4899817850637523,0.4899817850637523,0.4936247723132969,0.4936247723132969,0.49544626593806923,0.49544626593806923,0.4972677595628415,0.4972677595628415,0.4990892531876138,0.4990892531876138,0.5027322404371585,0.5027322404371585,0.5045537340619308,0.5045537340619308,0.5063752276867031,0.5063752276867031,0.5081967213114754,0.5081967213114754,0.5154826958105647,0.5154826958105647,0.517304189435337,0.517304189435337,0.5209471766848816,0.5209471766848816,0.5264116575591985,0.5264116575591985,0.5282331511839709,0.5282331511839709,0.5300546448087432,0.5300546448087432,0.5318761384335154,0.5318761384335154,0.5355191256830601,0.5355191256830601,0.5373406193078324,0.5373406193078324,0.5391621129326047,0.5391621129326047,0.5409836065573771,0.5409836065573771,0.5428051001821493,0.5428051001821493,0.5482695810564663,0.5482695810564663,0.5537340619307832,0.5537340619307832,0.5555555555555556,0.5555555555555556,0.5573770491803278,0.5573770491803278,0.5591985428051002,0.5591985428051002,0.5610200364298725,0.5610200364298725,0.5646630236794171,0.5646630236794171,0.5664845173041895,0.5664845173041895,0.5683060109289617,0.5683060109289617,0.5701275045537341,0.5701275045537341,0.5719489981785064,0.5719489981785064,0.5737704918032787,0.5737704918032787,0.5774134790528234,0.5774134790528234,0.581056466302368,0.581056466302368,0.5828779599271403,0.5828779599271403,0.5883424408014571,0.5883424408014571,0.5919854280510018,0.5919854280510018,0.5938069216757741,0.5938069216757741,0.599271402550091,0.599271402550091,0.604735883424408,0.604735883424408,0.6083788706739527,0.6083788706739527,0.6120218579234973,0.6120218579234973,0.6156648451730419,0.6156648451730419,0.6174863387978142,0.6174863387978142,0.6193078324225865,0.6193078324225865,0.6229508196721312,0.6229508196721312,0.6247723132969034,0.6247723132969034,0.6284153005464481,0.6284153005464481,0.6320582877959927,0.6320582877959927,0.6338797814207651,0.6338797814207651,0.6357012750455373,0.6357012750455373,0.639344262295082,0.639344262295082,0.6411657559198543,0.6411657559198543,0.6429872495446266,0.6429872495446266,0.6484517304189436,0.6484517304189436,0.6502732240437158,0.6502732240437158,0.6520947176684881,0.6520947176684881,0.6593806921675774,0.6593806921675774,0.6612021857923497,0.6612021857923497,0.663023679417122,0.663023679417122,0.6648451730418944,0.6648451730418944,0.668488160291439,0.668488160291439,0.6703096539162113,0.6703096539162113,0.6721311475409836,0.6721311475409836,0.6757741347905283,0.6757741347905283,0.6775956284153005,0.6775956284153005,0.6794171220400729,0.6794171220400729,0.6812386156648452,0.6812386156648452,0.6848816029143898,0.6848816029143898,0.6867030965391621,0.6867030965391621,0.6885245901639344,0.6885245901639344,0.6903460837887068,0.6903460837887068,0.692167577413479,0.692167577413479,0.6939890710382514,0.6939890710382514,0.6958105646630237,0.6958105646630237,0.697632058287796,0.697632058287796,0.6994535519125683,0.6994535519125683,0.7012750455373407,0.7012750455373407,0.7049180327868853,0.7049180327868853,0.7103825136612022,0.7103825136612022,0.7122040072859745,0.7122040072859745,0.7140255009107468,0.7140255009107468,0.7176684881602914,0.7176684881602914,0.7231329690346083,0.7231329690346083,0.73224043715847,0.73224043715847,0.7395264116575592,0.7395264116575592,0.7413479052823315,0.7413479052823315,0.7449908925318761,0.7449908925318761,0.7468123861566485,0.7468123861566485,0.7486338797814208,0.7486338797814208,0.7522768670309654,0.7522768670309654,0.75591985428051,0.75591985428051,0.7577413479052824,0.7577413479052824,0.7650273224043715,0.7650273224043715,0.7686703096539163,0.7686703096539163,0.7723132969034608,0.7723132969034608,0.7741347905282332,0.7741347905282332,0.7759562841530054,0.7759562841530054,0.7814207650273224,0.7814207650273224,0.785063752276867,0.785063752276867,0.7905282331511839,0.7905282331511839,0.7978142076502732,0.7978142076502732,0.8014571948998178,0.8014571948998178,0.8032786885245902,0.8032786885245902,0.8051001821493625,0.8051001821493625,0.8069216757741348,0.8069216757741348,0.8105646630236795,0.8105646630236795,0.8123861566484517,0.8123861566484517,0.8142076502732241,0.8142076502732241,0.8178506375227687,0.8178506375227687,0.819672131147541,0.819672131147541,0.8214936247723132,0.8214936247723132,0.825136612021858,0.825136612021858,0.8306010928961749,0.8306010928961749,0.8324225865209471,0.8324225865209471,0.8378870673952641,0.8378870673952641,0.8415300546448088,0.8415300546448088,0.843351548269581,0.843351548269581,0.8451730418943534,0.8451730418943534,0.8506375227686703,0.8506375227686703,0.8561020036429873,0.8561020036429873,0.8579234972677595,0.8579234972677595,0.8597449908925319,0.8597449908925319,0.8615664845173042,0.8615664845173042,0.8633879781420765,0.8633879781420765,0.8688524590163934,0.8688524590163934,0.8706739526411658,0.8706739526411658,0.8724954462659381,0.8724954462659381,0.8743169398907104,0.8743169398907104,0.8852459016393442,0.8852459016393442,0.8870673952641166,0.8870673952641166,0.8888888888888888,0.8888888888888888,0.8907103825136612,0.8907103825136612,0.8961748633879781,0.8961748633879781,0.8979963570127505,0.8979963570127505,0.8998178506375227,0.8998178506375227,0.9034608378870674,0.9034608378870674,0.907103825136612,0.907103825136612,0.9089253187613844,0.9089253187613844,0.9107468123861566,0.9107468123861566,0.9162112932604736,0.9162112932604736,0.9216757741347905,0.9216757741347905,0.9234972677595629,0.9234972677595629,0.9253187613843351,0.9253187613843351,0.930783242258652,0.930783242258652,0.9344262295081968,0.9344262295081968,0.936247723132969,0.936247723132969,0.9380692167577414,0.9380692167577414,0.941712204007286,0.941712204007286,0.9435336976320583,0.9435336976320583,0.9453551912568307,0.9453551912568307,0.9489981785063752,0.9489981785063752,0.9526411657559198,0.9526411657559198,0.9581056466302368,0.9581056466302368,0.9599271402550091,0.9599271402550091,0.9617486338797814,0.9617486338797814,0.9653916211293261,0.9653916211293261,0.970856102003643,0.970856102003643,0.9744990892531876,0.9744990892531876,0.97632058287796,0.97632058287796,0.9781420765027322,0.9781420765027322,0.9817850637522769,0.9817850637522769,0.9854280510018215,0.9854280510018215,0.9908925318761385,0.9908925318761385,0.9927140255009107,0.9927140255009107,0.994535519125683,0.994535519125683,0.9981785063752276,0.9981785063752276,1.0],\"type\":\"scatter\"}],                        {\"template\":{\"data\":{\"bar\":[{\"error_x\":{\"color\":\"#2a3f5f\"},\"error_y\":{\"color\":\"#2a3f5f\"},\"marker\":{\"line\":{\"color\":\"#E5ECF6\",\"width\":0.5},\"pattern\":{\"fillmode\":\"overlay\",\"size\":10,\"solidity\":0.2}},\"type\":\"bar\"}],\"barpolar\":[{\"marker\":{\"line\":{\"color\":\"#E5ECF6\",\"width\":0.5},\"pattern\":{\"fillmode\":\"overlay\",\"size\":10,\"solidity\":0.2}},\"type\":\"barpolar\"}],\"carpet\":[{\"aaxis\":{\"endlinecolor\":\"#2a3f5f\",\"gridcolor\":\"white\",\"linecolor\":\"white\",\"minorgridcolor\":\"white\",\"startlinecolor\":\"#2a3f5f\"},\"baxis\":{\"endlinecolor\":\"#2a3f5f\",\"gridcolor\":\"white\",\"linecolor\":\"white\",\"minorgridcolor\":\"white\",\"startlinecolor\":\"#2a3f5f\"},\"type\":\"carpet\"}],\"choropleth\":[{\"colorbar\":{\"outlinewidth\":0,\"ticks\":\"\"},\"type\":\"choropleth\"}],\"contour\":[{\"colorbar\":{\"outlinewidth\":0,\"ticks\":\"\"},\"colorscale\":[[0.0,\"#0d0887\"],[0.1111111111111111,\"#46039f\"],[0.2222222222222222,\"#7201a8\"],[0.3333333333333333,\"#9c179e\"],[0.4444444444444444,\"#bd3786\"],[0.5555555555555556,\"#d8576b\"],[0.6666666666666666,\"#ed7953\"],[0.7777777777777778,\"#fb9f3a\"],[0.8888888888888888,\"#fdca26\"],[1.0,\"#f0f921\"]],\"type\":\"contour\"}],\"contourcarpet\":[{\"colorbar\":{\"outlinewidth\":0,\"ticks\":\"\"},\"type\":\"contourcarpet\"}],\"heatmap\":[{\"colorbar\":{\"outlinewidth\":0,\"ticks\":\"\"},\"colorscale\":[[0.0,\"#0d0887\"],[0.1111111111111111,\"#46039f\"],[0.2222222222222222,\"#7201a8\"],[0.3333333333333333,\"#9c179e\"],[0.4444444444444444,\"#bd3786\"],[0.5555555555555556,\"#d8576b\"],[0.6666666666666666,\"#ed7953\"],[0.7777777777777778,\"#fb9f3a\"],[0.8888888888888888,\"#fdca26\"],[1.0,\"#f0f921\"]],\"type\":\"heatmap\"}],\"heatmapgl\":[{\"colorbar\":{\"outlinewidth\":0,\"ticks\":\"\"},\"colorscale\":[[0.0,\"#0d0887\"],[0.1111111111111111,\"#46039f\"],[0.2222222222222222,\"#7201a8\"],[0.3333333333333333,\"#9c179e\"],[0.4444444444444444,\"#bd3786\"],[0.5555555555555556,\"#d8576b\"],[0.6666666666666666,\"#ed7953\"],[0.7777777777777778,\"#fb9f3a\"],[0.8888888888888888,\"#fdca26\"],[1.0,\"#f0f921\"]],\"type\":\"heatmapgl\"}],\"histogram\":[{\"marker\":{\"pattern\":{\"fillmode\":\"overlay\",\"size\":10,\"solidity\":0.2}},\"type\":\"histogram\"}],\"histogram2d\":[{\"colorbar\":{\"outlinewidth\":0,\"ticks\":\"\"},\"colorscale\":[[0.0,\"#0d0887\"],[0.1111111111111111,\"#46039f\"],[0.2222222222222222,\"#7201a8\"],[0.3333333333333333,\"#9c179e\"],[0.4444444444444444,\"#bd3786\"],[0.5555555555555556,\"#d8576b\"],[0.6666666666666666,\"#ed7953\"],[0.7777777777777778,\"#fb9f3a\"],[0.8888888888888888,\"#fdca26\"],[1.0,\"#f0f921\"]],\"type\":\"histogram2d\"}],\"histogram2dcontour\":[{\"colorbar\":{\"outlinewidth\":0,\"ticks\":\"\"},\"colorscale\":[[0.0,\"#0d0887\"],[0.1111111111111111,\"#46039f\"],[0.2222222222222222,\"#7201a8\"],[0.3333333333333333,\"#9c179e\"],[0.4444444444444444,\"#bd3786\"],[0.5555555555555556,\"#d8576b\"],[0.6666666666666666,\"#ed7953\"],[0.7777777777777778,\"#fb9f3a\"],[0.8888888888888888,\"#fdca26\"],[1.0,\"#f0f921\"]],\"type\":\"histogram2dcontour\"}],\"mesh3d\":[{\"colorbar\":{\"outlinewidth\":0,\"ticks\":\"\"},\"type\":\"mesh3d\"}],\"parcoords\":[{\"line\":{\"colorbar\":{\"outlinewidth\":0,\"ticks\":\"\"}},\"type\":\"parcoords\"}],\"pie\":[{\"automargin\":true,\"type\":\"pie\"}],\"scatter\":[{\"marker\":{\"colorbar\":{\"outlinewidth\":0,\"ticks\":\"\"}},\"type\":\"scatter\"}],\"scatter3d\":[{\"line\":{\"colorbar\":{\"outlinewidth\":0,\"ticks\":\"\"}},\"marker\":{\"colorbar\":{\"outlinewidth\":0,\"ticks\":\"\"}},\"type\":\"scatter3d\"}],\"scattercarpet\":[{\"marker\":{\"colorbar\":{\"outlinewidth\":0,\"ticks\":\"\"}},\"type\":\"scattercarpet\"}],\"scattergeo\":[{\"marker\":{\"colorbar\":{\"outlinewidth\":0,\"ticks\":\"\"}},\"type\":\"scattergeo\"}],\"scattergl\":[{\"marker\":{\"colorbar\":{\"outlinewidth\":0,\"ticks\":\"\"}},\"type\":\"scattergl\"}],\"scattermapbox\":[{\"marker\":{\"colorbar\":{\"outlinewidth\":0,\"ticks\":\"\"}},\"type\":\"scattermapbox\"}],\"scatterpolar\":[{\"marker\":{\"colorbar\":{\"outlinewidth\":0,\"ticks\":\"\"}},\"type\":\"scatterpolar\"}],\"scatterpolargl\":[{\"marker\":{\"colorbar\":{\"outlinewidth\":0,\"ticks\":\"\"}},\"type\":\"scatterpolargl\"}],\"scatterternary\":[{\"marker\":{\"colorbar\":{\"outlinewidth\":0,\"ticks\":\"\"}},\"type\":\"scatterternary\"}],\"surface\":[{\"colorbar\":{\"outlinewidth\":0,\"ticks\":\"\"},\"colorscale\":[[0.0,\"#0d0887\"],[0.1111111111111111,\"#46039f\"],[0.2222222222222222,\"#7201a8\"],[0.3333333333333333,\"#9c179e\"],[0.4444444444444444,\"#bd3786\"],[0.5555555555555556,\"#d8576b\"],[0.6666666666666666,\"#ed7953\"],[0.7777777777777778,\"#fb9f3a\"],[0.8888888888888888,\"#fdca26\"],[1.0,\"#f0f921\"]],\"type\":\"surface\"}],\"table\":[{\"cells\":{\"fill\":{\"color\":\"#EBF0F8\"},\"line\":{\"color\":\"white\"}},\"header\":{\"fill\":{\"color\":\"#C8D4E3\"},\"line\":{\"color\":\"white\"}},\"type\":\"table\"}]},\"layout\":{\"annotationdefaults\":{\"arrowcolor\":\"#2a3f5f\",\"arrowhead\":0,\"arrowwidth\":1},\"autotypenumbers\":\"strict\",\"coloraxis\":{\"colorbar\":{\"outlinewidth\":0,\"ticks\":\"\"}},\"colorscale\":{\"diverging\":[[0,\"#8e0152\"],[0.1,\"#c51b7d\"],[0.2,\"#de77ae\"],[0.3,\"#f1b6da\"],[0.4,\"#fde0ef\"],[0.5,\"#f7f7f7\"],[0.6,\"#e6f5d0\"],[0.7,\"#b8e186\"],[0.8,\"#7fbc41\"],[0.9,\"#4d9221\"],[1,\"#276419\"]],\"sequential\":[[0.0,\"#0d0887\"],[0.1111111111111111,\"#46039f\"],[0.2222222222222222,\"#7201a8\"],[0.3333333333333333,\"#9c179e\"],[0.4444444444444444,\"#bd3786\"],[0.5555555555555556,\"#d8576b\"],[0.6666666666666666,\"#ed7953\"],[0.7777777777777778,\"#fb9f3a\"],[0.8888888888888888,\"#fdca26\"],[1.0,\"#f0f921\"]],\"sequentialminus\":[[0.0,\"#0d0887\"],[0.1111111111111111,\"#46039f\"],[0.2222222222222222,\"#7201a8\"],[0.3333333333333333,\"#9c179e\"],[0.4444444444444444,\"#bd3786\"],[0.5555555555555556,\"#d8576b\"],[0.6666666666666666,\"#ed7953\"],[0.7777777777777778,\"#fb9f3a\"],[0.8888888888888888,\"#fdca26\"],[1.0,\"#f0f921\"]]},\"colorway\":[\"#636efa\",\"#EF553B\",\"#00cc96\",\"#ab63fa\",\"#FFA15A\",\"#19d3f3\",\"#FF6692\",\"#B6E880\",\"#FF97FF\",\"#FECB52\"],\"font\":{\"color\":\"#2a3f5f\"},\"geo\":{\"bgcolor\":\"white\",\"lakecolor\":\"white\",\"landcolor\":\"#E5ECF6\",\"showlakes\":true,\"showland\":true,\"subunitcolor\":\"white\"},\"hoverlabel\":{\"align\":\"left\"},\"hovermode\":\"closest\",\"mapbox\":{\"style\":\"light\"},\"paper_bgcolor\":\"white\",\"plot_bgcolor\":\"#E5ECF6\",\"polar\":{\"angularaxis\":{\"gridcolor\":\"white\",\"linecolor\":\"white\",\"ticks\":\"\"},\"bgcolor\":\"#E5ECF6\",\"radialaxis\":{\"gridcolor\":\"white\",\"linecolor\":\"white\",\"ticks\":\"\"}},\"scene\":{\"xaxis\":{\"backgroundcolor\":\"#E5ECF6\",\"gridcolor\":\"white\",\"gridwidth\":2,\"linecolor\":\"white\",\"showbackground\":true,\"ticks\":\"\",\"zerolinecolor\":\"white\"},\"yaxis\":{\"backgroundcolor\":\"#E5ECF6\",\"gridcolor\":\"white\",\"gridwidth\":2,\"linecolor\":\"white\",\"showbackground\":true,\"ticks\":\"\",\"zerolinecolor\":\"white\"},\"zaxis\":{\"backgroundcolor\":\"#E5ECF6\",\"gridcolor\":\"white\",\"gridwidth\":2,\"linecolor\":\"white\",\"showbackground\":true,\"ticks\":\"\",\"zerolinecolor\":\"white\"}},\"shapedefaults\":{\"line\":{\"color\":\"#2a3f5f\"}},\"ternary\":{\"aaxis\":{\"gridcolor\":\"white\",\"linecolor\":\"white\",\"ticks\":\"\"},\"baxis\":{\"gridcolor\":\"white\",\"linecolor\":\"white\",\"ticks\":\"\"},\"bgcolor\":\"#E5ECF6\",\"caxis\":{\"gridcolor\":\"white\",\"linecolor\":\"white\",\"ticks\":\"\"}},\"title\":{\"x\":0.05},\"xaxis\":{\"automargin\":true,\"gridcolor\":\"white\",\"linecolor\":\"white\",\"ticks\":\"\",\"title\":{\"standoff\":15},\"zerolinecolor\":\"white\",\"zerolinewidth\":2},\"yaxis\":{\"automargin\":true,\"gridcolor\":\"white\",\"linecolor\":\"white\",\"ticks\":\"\",\"title\":{\"standoff\":15},\"zerolinecolor\":\"white\",\"zerolinewidth\":2}}},\"title\":{\"text\":\"ROC Curve\"},\"xaxis\":{\"title\":{\"text\":\"False Positive Rate\"}},\"yaxis\":{\"title\":{\"text\":\"True Positive Rate\"}},\"showlegend\":false},                        {\"responsive\": true}                    ).then(function(){\n",
       "                            \n",
       "var gd = document.getElementById('cce817d0-cfa7-4d33-8878-2df0be893b7c');\n",
       "var x = new MutationObserver(function (mutations, observer) {{\n",
       "        var display = window.getComputedStyle(gd).display;\n",
       "        if (!display || display === 'none') {{\n",
       "            console.log([gd, 'removed!']);\n",
       "            Plotly.purge(gd);\n",
       "            observer.disconnect();\n",
       "        }}\n",
       "}});\n",
       "\n",
       "// Listen for the removal of the full notebook cells\n",
       "var notebookContainer = gd.closest('#notebook-container');\n",
       "if (notebookContainer) {{\n",
       "    x.observe(notebookContainer, {childList: true});\n",
       "}}\n",
       "\n",
       "// Listen for the clearing of the current output cell\n",
       "var outputEl = gd.closest('.output');\n",
       "if (outputEl) {{\n",
       "    x.observe(outputEl, {childList: true});\n",
       "}}\n",
       "\n",
       "                        })                };                });            </script>        </div>"
      ]
     },
     "metadata": {},
     "output_type": "display_data"
    }
   ],
   "source": [
    "# ROC Curve oluşturma\n",
    "fpr, tpr, thresholds = roc_curve(y_test, lst_prob)\n",
    "\n",
    "# Plotly ile ROC Curve oluşturma\n",
    "fig = go.Figure()\n",
    "fig.add_trace(go.Scatter(x=fpr, y=tpr,\n",
    "                    mode='lines',\n",
    "                    line=dict(color='darkorange', width=2)))\n",
    "fig.update_layout(title='ROC Curve',\n",
    "                  xaxis_title='False Positive Rate',\n",
    "                  yaxis_title='True Positive Rate',\n",
    "                  showlegend=False)\n",
    "fig.show()"
   ]
  },
  {
   "cell_type": "code",
   "execution_count": 94,
   "id": "dd22bbdb-0bc7-4398-9da2-c88ef19fa6ee",
   "metadata": {
    "tags": []
   },
   "outputs": [],
   "source": [
    "###############################"
   ]
  },
  {
   "cell_type": "code",
   "execution_count": 95,
   "id": "d2a606f1-3efc-4e45-bf5b-7ed409599f53",
   "metadata": {
    "tags": []
   },
   "outputs": [],
   "source": [
    "df2 =  pd.read_csv(\"autodata.csv\")"
   ]
  },
  {
   "cell_type": "code",
   "execution_count": 96,
   "id": "4d5c66c8-6698-4c76-8430-e60f65b0405a",
   "metadata": {
    "tags": []
   },
   "outputs": [],
   "source": [
    "df3 = df2.groupby(\"ID\").agg({\"CLAIM_FLAG\":\"sum\",\n",
    "                       \"KIDSDRIV\":\"count\"}).reset_index()\n",
    "df3[\"FRQ\"] = df3.CLAIM_FLAG / df3.KIDSDRIV\n",
    "df3 = df3[[\"ID\",\"FRQ\"]].sort_values(by= \"FRQ\",ascending=False)\n",
    "df4 = df2.merge(df3,how=\"left\",on=\"ID\")\n",
    "df5 = df4.drop([\"ID\",\"CLM_AMT\",\"CLAIM_FLAG\"],axis=1)\n"
   ]
  },
  {
   "cell_type": "code",
   "execution_count": 97,
   "id": "abc7f954-d21b-449a-a74b-2a184b0fa584",
   "metadata": {
    "tags": []
   },
   "outputs": [],
   "source": [
    "### Sayısal olmasına rağmen içinde \"$\" , \",\" vb. geçen değişkenlere feature engineering yapıyoruz.\n",
    "df = df5.copy()\n",
    "\n",
    "for i in df.columns:\n",
    "    if df[i].dtypes == \"object\":\n",
    "        df[i] = df[i].str.replace('$' , '')\n",
    "        df[i] = df[i].str.replace(',' , '')\n",
    "        try:\n",
    "            df[i] = df[i].astype(float)\n",
    "        except:\n",
    "            pass"
   ]
  },
  {
   "cell_type": "code",
   "execution_count": 98,
   "id": "ad5188e9-f2a7-4842-812f-d309de3544a4",
   "metadata": {
    "tags": []
   },
   "outputs": [
    {
     "name": "stdout",
     "output_type": "stream",
     "text": [
      "Train dataset freq mean : 26.66%\n",
      "Test dataset freq mean : 26.64%\n"
     ]
    }
   ],
   "source": [
    "X = df.drop([\"FRQ\"],axis=1)\n",
    "y = df.FRQ\n",
    "\n",
    "X_train , X_test , y_train , y_test = train_test_split(X,y , test_size = 0.2 , random_state = 43, stratify=df.FRQ)\n",
    "\n",
    "p1 = sum(y_train) / len(y_train)\n",
    "p2 = sum(y_test) / len(y_test)\n",
    "print(f\"Train dataset freq mean : {p1:.2%}\")\n",
    "print(f\"Test dataset freq mean : {p2:.2%}\")"
   ]
  },
  {
   "cell_type": "code",
   "execution_count": 99,
   "id": "7cdd53bb-e784-41a8-a3df-c95bb4d81c6e",
   "metadata": {
    "tags": []
   },
   "outputs": [],
   "source": [
    "X_train_target_encoded = X_train.copy()\n",
    "target_encoder = TargetEncoder()\n",
    "X_train_encoded = target_encoder.fit_transform(X_train_target_encoded, y_train)\n"
   ]
  },
  {
   "cell_type": "code",
   "execution_count": 100,
   "id": "49e6c709-74fa-4241-9814-2eb5c278692e",
   "metadata": {
    "tags": []
   },
   "outputs": [],
   "source": [
    "### BOOSTING MODELIYLE DEVAM EDELIM\n",
    "\n",
    "xgb_cl = xgb.XGBRegressor()\n",
    "xgb_cl.fit(X_train_encoded,y_train)\n",
    "\n",
    "X_test = target_encoder.transform(X_test)\n",
    "pred = xgb_cl.predict(X_test)"
   ]
  },
  {
   "cell_type": "code",
   "execution_count": 101,
   "id": "5d455fba-388a-4339-9412-db02168e9a13",
   "metadata": {
    "tags": []
   },
   "outputs": [
    {
     "name": "stdout",
     "output_type": "stream",
     "text": [
      "Ortalama Başarı : 1.008225434130499\n",
      "Hasarlıların Oralama Tahmini : 43.36%\n",
      "Hasarsızların Ortalama Tahmini : 19.98%\n"
     ]
    }
   ],
   "source": [
    "df_v = pd.DataFrame({\"Actual\" : y_test,\n",
    "                     \"Pred\" : pred})\n",
    "\n",
    "print(f\"Ortalama Başarı : {y_test.mean() / pred.mean()}\")\n",
    "print(f\"Hasarlıların Oralama Tahmini : {df_v[df_v.Actual == 1].Pred.mean():.2%}\")\n",
    "print(f\"Hasarsızların Ortalama Tahmini : {df_v[df_v.Actual == 0].Pred.mean():.2%}\")\n"
   ]
  },
  {
   "cell_type": "code",
   "execution_count": 102,
   "id": "5111d303-5dc7-463e-b813-c38516c03318",
   "metadata": {},
   "outputs": [
    {
     "data": {
      "text/plain": [
       "<AxesSubplot:title={'center':'Feature importance'}, xlabel='F score', ylabel='Features'>"
      ]
     },
     "execution_count": 102,
     "metadata": {},
     "output_type": "execute_result"
    },
    {
     "data": {
      "image/png": "[encoded data removed]",
      "text/plain": [
       "<Figure size 432x288 with 1 Axes>"
      ]
     },
     "metadata": {
      "needs_background": "light"
     },
     "output_type": "display_data"
    }
   ],
   "source": [
    "plot_importance(xgb_cl)"
   ]
  },
  {
   "cell_type": "code",
   "execution_count": 103,
   "id": "db61bfd1-27c0-443c-864d-3f5b38a69378",
   "metadata": {
    "tags": []
   },
   "outputs": [],
   "source": [
    "def objective(trial):\n",
    "    \"\"\"Define the objective function\"\"\"\n",
    "\n",
    "    params = {'objective' : 'count:poisson',\n",
    "        'max_depth': trial.suggest_int('max_depth', 1, 9),\n",
    "        'learning_rate': trial.suggest_loguniform('learning_rate', 0.01, 1.0),\n",
    "        'n_estimators': trial.suggest_int('n_estimators', 50, 500),\n",
    "        'min_child_weight': trial.suggest_int('min_child_weight', 1, 10),\n",
    "        'gamma': trial.suggest_loguniform('gamma', 1e-8, 1.0),\n",
    "        'subsample': trial.suggest_loguniform('subsample', 0.01, 1.0),\n",
    "        'colsample_bytree': trial.suggest_loguniform('colsample_bytree', 0.01, 1.0),\n",
    "        'reg_alpha': trial.suggest_loguniform('reg_alpha', 1e-8, 1.0),\n",
    "        'reg_lambda': trial.suggest_loguniform('reg_lambda', 1e-8, 1.0),\n",
    "        'eval_metric': 'mlogloss',\n",
    "        'use_label_encoder': False\n",
    "    }\n",
    "    # Fit the model\n",
    "    optuna_model = xgb.XGBRegressor(**params)\n",
    "    optuna_model.fit(X_train_encoded, y_train)\n",
    "\n",
    "    # Make predictions\n",
    "    y_pred = optuna_model.predict(X_test)\n",
    "\n",
    "    # Evaluate predictions\n",
    "    eval_metric_score = y_test.mean() / y_pred.mean() -1   \n",
    "    return eval_metric_score"
   ]
  },
  {
   "cell_type": "code",
   "execution_count": 104,
   "id": "55fea89f-16ef-43e9-8042-3146161a126f",
   "metadata": {
    "tags": []
   },
   "outputs": [
    {
     "name": "stderr",
     "output_type": "stream",
     "text": [
      "\u001b[32m[I 2023-04-28 17:12:26,568]\u001b[0m A new study created in memory with name: no-name-d8143e85-1f14-4336-b2eb-05cfb60d30b2\u001b[0m\n",
      "\u001b[32m[I 2023-04-28 17:12:27,779]\u001b[0m Trial 0 finished with value: -0.048492386919855246 and parameters: {'max_depth': 6, 'learning_rate': 0.15633546690169886, 'n_estimators': 278, 'min_child_weight': 8, 'gamma': 8.471118265643929e-06, 'subsample': 0.04300605877720633, 'colsample_bytree': 0.1613597072232855, 'reg_alpha': 0.0644067717189977, 'reg_lambda': 8.623179954269888e-05}. Best is trial 0 with value: -0.048492386919855246.\u001b[0m\n",
      "\u001b[32m[I 2023-04-28 17:12:30,522]\u001b[0m Trial 1 finished with value: 0.011696223608306466 and parameters: {'max_depth': 8, 'learning_rate': 0.11729235014818636, 'n_estimators': 374, 'min_child_weight': 7, 'gamma': 0.4723716017768127, 'subsample': 0.09031790598935106, 'colsample_bytree': 0.8831760977335649, 'reg_alpha': 0.718001568616259, 'reg_lambda': 1.6959952220715082e-07}. Best is trial 1 with value: 0.011696223608306466.\u001b[0m\n",
      "\u001b[32m[I 2023-04-28 17:12:32,530]\u001b[0m Trial 2 finished with value: 0.0019213512882083617 and parameters: {'max_depth': 7, 'learning_rate': 0.24213557080809897, 'n_estimators': 395, 'min_child_weight': 8, 'gamma': 5.316325916270523e-08, 'subsample': 0.8812574228836308, 'colsample_bytree': 0.014609751317253372, 'reg_alpha': 1.194756210910253e-06, 'reg_lambda': 1.1792989997907175e-06}. Best is trial 1 with value: 0.011696223608306466.\u001b[0m\n",
      "\u001b[32m[I 2023-04-28 17:12:33,378]\u001b[0m Trial 3 finished with value: -0.08356291551653672 and parameters: {'max_depth': 9, 'learning_rate': 0.021125206382241194, 'n_estimators': 228, 'min_child_weight': 9, 'gamma': 1.987904363462525e-06, 'subsample': 0.012278815338092332, 'colsample_bytree': 0.023214373133361933, 'reg_alpha': 0.011256170874292334, 'reg_lambda': 0.8924241598899714}. Best is trial 1 with value: 0.011696223608306466.\u001b[0m\n",
      "\u001b[32m[I 2023-04-28 17:12:39,040]\u001b[0m Trial 4 finished with value: 0.12457777540486226 and parameters: {'max_depth': 8, 'learning_rate': 0.047250164518717094, 'n_estimators': 416, 'min_child_weight': 9, 'gamma': 0.02928952621488284, 'subsample': 0.9038217462753034, 'colsample_bytree': 0.803251072562394, 'reg_alpha': 0.10392973065625613, 'reg_lambda': 0.58272552649843}. Best is trial 4 with value: 0.12457777540486226.\u001b[0m\n",
      "\u001b[32m[I 2023-04-28 17:12:39,589]\u001b[0m Trial 5 finished with value: -0.3240980309318974 and parameters: {'max_depth': 5, 'learning_rate': 0.011623560663617354, 'n_estimators': 102, 'min_child_weight': 10, 'gamma': 3.42369885779805e-06, 'subsample': 0.10168555343552658, 'colsample_bytree': 0.5332620685590238, 'reg_alpha': 4.279171221331893e-08, 'reg_lambda': 0.013345604758364616}. Best is trial 4 with value: 0.12457777540486226.\u001b[0m\n",
      "\u001b[32m[I 2023-04-28 17:12:40,836]\u001b[0m Trial 6 finished with value: -0.035121432752451276 and parameters: {'max_depth': 1, 'learning_rate': 0.636011024352463, 'n_estimators': 433, 'min_child_weight': 4, 'gamma': 0.04702309468543913, 'subsample': 0.017882307382318365, 'colsample_bytree': 0.04346278544424199, 'reg_alpha': 2.4829523486085995e-08, 'reg_lambda': 2.1274990964460877e-08}. Best is trial 4 with value: 0.12457777540486226.\u001b[0m\n",
      "\u001b[32m[I 2023-04-28 17:12:41,066]\u001b[0m Trial 7 finished with value: 0.007866914974268946 and parameters: {'max_depth': 2, 'learning_rate': 0.8114413047860128, 'n_estimators': 80, 'min_child_weight': 6, 'gamma': 0.0002286885092205653, 'subsample': 0.9738961682403096, 'colsample_bytree': 0.01317503958194461, 'reg_alpha': 0.002442473615889919, 'reg_lambda': 1.858834888373809e-07}. Best is trial 4 with value: 0.12457777540486226.\u001b[0m\n",
      "\u001b[32m[I 2023-04-28 17:12:41,353]\u001b[0m Trial 8 finished with value: 0.021020045127665643 and parameters: {'max_depth': 4, 'learning_rate': 0.11552230709069902, 'n_estimators': 53, 'min_child_weight': 3, 'gamma': 4.914647962963532e-08, 'subsample': 0.012575539781219345, 'colsample_bytree': 0.05646162869804954, 'reg_alpha': 1.2089322973233053e-07, 'reg_lambda': 1.0258100440647027e-08}. Best is trial 4 with value: 0.12457777540486226.\u001b[0m\n",
      "\u001b[32m[I 2023-04-28 17:12:42,597]\u001b[0m Trial 9 finished with value: 0.011271278739269475 and parameters: {'max_depth': 1, 'learning_rate': 0.1637502376950772, 'n_estimators': 322, 'min_child_weight': 4, 'gamma': 0.0003387888765612961, 'subsample': 0.6790877970843008, 'colsample_bytree': 0.01866134083907995, 'reg_alpha': 1.5650315140549225e-08, 'reg_lambda': 9.31984939781307e-06}. Best is trial 4 with value: 0.12457777540486226.\u001b[0m\n",
      "\u001b[32m[I 2023-04-28 17:12:45,952]\u001b[0m Trial 10 finished with value: 0.1841481403127334 and parameters: {'max_depth': 9, 'learning_rate': 0.040555538725862594, 'n_estimators': 484, 'min_child_weight': 1, 'gamma': 0.008745310288431288, 'subsample': 0.3274138973332791, 'colsample_bytree': 0.2432340045053664, 'reg_alpha': 5.4383540323533275e-05, 'reg_lambda': 0.009935032355171876}. Best is trial 10 with value: 0.1841481403127334.\u001b[0m\n",
      "\u001b[32m[I 2023-04-28 17:12:49,708]\u001b[0m Trial 11 finished with value: 0.11938370176971747 and parameters: {'max_depth': 9, 'learning_rate': 0.03573839748011034, 'n_estimators': 476, 'min_child_weight': 1, 'gamma': 0.00927709613453316, 'subsample': 0.30415654437447537, 'colsample_bytree': 0.22619944737084607, 'reg_alpha': 4.7821716423019205e-05, 'reg_lambda': 0.02884171872611108}. Best is trial 10 with value: 0.1841481403127334.\u001b[0m\n",
      "\u001b[32m[I 2023-04-28 17:12:53,122]\u001b[0m Trial 12 finished with value: 0.07944651589052909 and parameters: {'max_depth': 7, 'learning_rate': 0.04376953966850365, 'n_estimators': 452, 'min_child_weight': 2, 'gamma': 0.012767642524847434, 'subsample': 0.37314599359488543, 'colsample_bytree': 0.3536019501809814, 'reg_alpha': 0.00011387624173646198, 'reg_lambda': 0.009013683691534569}. Best is trial 10 with value: 0.1841481403127334.\u001b[0m\n",
      "\u001b[32m[I 2023-04-28 17:12:56,142]\u001b[0m Trial 13 finished with value: 0.06990022624557257 and parameters: {'max_depth': 9, 'learning_rate': 0.04839586027613179, 'n_estimators': 357, 'min_child_weight': 6, 'gamma': 0.8802063877289354, 'subsample': 0.28818840565039255, 'colsample_bytree': 0.7974763522997869, 'reg_alpha': 9.15747299421398e-05, 'reg_lambda': 0.7744315284146158}. Best is trial 10 with value: 0.1841481403127334.\u001b[0m\n",
      "\u001b[32m[I 2023-04-28 17:12:58,361]\u001b[0m Trial 14 finished with value: 0.014743985313059094 and parameters: {'max_depth': 7, 'learning_rate': 0.06297200408489254, 'n_estimators': 499, 'min_child_weight': 10, 'gamma': 0.0029548719029952528, 'subsample': 0.15890061725117946, 'colsample_bytree': 0.12186963909929222, 'reg_alpha': 4.421412104838816e-06, 'reg_lambda': 0.0010813856509643675}. Best is trial 10 with value: 0.1841481403127334.\u001b[0m\n",
      "\u001b[32m[I 2023-04-28 17:12:59,258]\u001b[0m Trial 15 finished with value: -0.08257246250182304 and parameters: {'max_depth': 4, 'learning_rate': 0.024012942463924134, 'n_estimators': 183, 'min_child_weight': 1, 'gamma': 0.07380495744132652, 'subsample': 0.48918587825037047, 'colsample_bytree': 0.34740546028097197, 'reg_alpha': 0.0012506480758517637, 'reg_lambda': 0.0931735367414731}. Best is trial 10 with value: 0.1841481403127334.\u001b[0m\n",
      "\u001b[32m[I 2023-04-28 17:13:01,964]\u001b[0m Trial 16 finished with value: -0.0766009936698071 and parameters: {'max_depth': 8, 'learning_rate': 0.010526238386885814, 'n_estimators': 435, 'min_child_weight': 5, 'gamma': 0.002010559291221576, 'subsample': 0.19789464413596075, 'colsample_bytree': 0.2765227811267503, 'reg_alpha': 0.5601288425370693, 'reg_lambda': 0.0007566748999046141}. Best is trial 10 with value: 0.1841481403127334.\u001b[0m\n",
      "\u001b[32m[I 2023-04-28 17:13:03,854]\u001b[0m Trial 17 finished with value: 0.014514815297381523 and parameters: {'max_depth': 8, 'learning_rate': 0.3075920505233832, 'n_estimators': 317, 'min_child_weight': 3, 'gamma': 3.859999587946134e-05, 'subsample': 0.6283582082733092, 'colsample_bytree': 0.0795620568569561, 'reg_alpha': 7.452395945057624e-06, 'reg_lambda': 0.001444205006682585}. Best is trial 10 with value: 0.1841481403127334.\u001b[0m\n",
      "\u001b[32m[I 2023-04-28 17:13:06,241]\u001b[0m Trial 18 finished with value: 0.0704222166919719 and parameters: {'max_depth': 6, 'learning_rate': 0.08380467630668068, 'n_estimators': 410, 'min_child_weight': 7, 'gamma': 0.06184062804745715, 'subsample': 0.1848427783991728, 'colsample_bytree': 0.9447655207844977, 'reg_alpha': 0.00046495773833904133, 'reg_lambda': 0.2640760264845535}. Best is trial 10 with value: 0.1841481403127334.\u001b[0m\n",
      "\u001b[32m[I 2023-04-28 17:13:10,785]\u001b[0m Trial 19 finished with value: 0.11235407503371486 and parameters: {'max_depth': 9, 'learning_rate': 0.025706142485863795, 'n_estimators': 489, 'min_child_weight': 5, 'gamma': 0.0018074917490494445, 'subsample': 0.44813450938100285, 'colsample_bytree': 0.5151738499498085, 'reg_alpha': 0.027504529628960758, 'reg_lambda': 0.0750110388663515}. Best is trial 10 with value: 0.1841481403127334.\u001b[0m\n"
     ]
    },
    {
     "name": "stdout",
     "output_type": "stream",
     "text": [
      "Number of finished trials: 20\n",
      "Best trial:\n",
      "  Value: 0.1841481403127334\n",
      "  Params: \n",
      "    max_depth: 9\n",
      "    learning_rate: 0.040555538725862594\n",
      "    n_estimators: 484\n",
      "    min_child_weight: 1\n",
      "    gamma: 0.008745310288431288\n",
      "    subsample: 0.3274138973332791\n",
      "    colsample_bytree: 0.2432340045053664\n",
      "    reg_alpha: 5.4383540323533275e-05\n",
      "    reg_lambda: 0.009935032355171876\n"
     ]
    }
   ],
   "source": [
    "study = optuna.create_study(direction='maximize')\n",
    "study.optimize(objective, n_trials=20)\n",
    "\n",
    "print('Number of finished trials: {}'.format(len(study.trials)))\n",
    "print('Best trial:')\n",
    "trial = study.best_trial\n",
    "\n",
    "print('  Value: {}'.format(trial.value))\n",
    "print('  Params: ')\n",
    "\n",
    "for key, value in trial.params.items():\n",
    "    print('    {}: {}'.format(key, value))"
   ]
  },
  {
   "cell_type": "code",
   "execution_count": 107,
   "id": "ef70b7b7-be64-49ad-ba12-5a07af2bf02a",
   "metadata": {
    "tags": []
   },
   "outputs": [
    {
     "data": {
      "text/plain": [
       "XGBRegressor(base_score=0.5, booster='gbtree', callbacks=None,\n",
       "             colsample_bylevel=1, colsample_bynode=1,\n",
       "             colsample_bytree=0.2432340045053664, early_stopping_rounds=None,\n",
       "             enable_categorical=False, eval_metric=None,\n",
       "             gamma=0.008745310288431288, gpu_id=-1, grow_policy='depthwise',\n",
       "             importance_type=None, interaction_constraints='',\n",
       "             learning_rate=0.040555538725862594, max_bin=256,\n",
       "             max_cat_to_onehot=4, max_delta_step=0, max_depth=9, max_leaves=0,\n",
       "             min_child_weight=1, missing=nan, monotone_constraints='()',\n",
       "             n_estimators=484, n_jobs=0, num_parallel_tree=1, predictor='auto',\n",
       "             random_state=0, reg_alpha=5.4383540323533275e-05,\n",
       "             reg_lambda=0.009935032355171876, ...)"
      ]
     },
     "execution_count": 107,
     "metadata": {},
     "output_type": "execute_result"
    }
   ],
   "source": [
    "params = trial.params\n",
    "model_frq = xgb.XGBRegressor(**params)\n",
    "model_frq.fit(X_train_encoded, y_train)"
   ]
  },
  {
   "cell_type": "code",
   "execution_count": 108,
   "id": "3e327e05-48fb-4912-ab4a-ebe9e8d15053",
   "metadata": {
    "tags": []
   },
   "outputs": [
    {
     "name": "stdout",
     "output_type": "stream",
     "text": [
      "Ortalama Başarı : 0.9868848497859654\n",
      "Hasarlıların Oralama Tahmini : 42.98%\n",
      "Hasarsızların Ortalama Tahmini : 21.03%\n"
     ]
    },
    {
     "data": {
      "text/plain": [
       "<AxesSubplot:title={'center':'Feature importance'}, xlabel='F score', ylabel='Features'>"
      ]
     },
     "execution_count": 108,
     "metadata": {},
     "output_type": "execute_result"
    },
    {
     "data": {
      "image/png": "[encoded data removed]",
      "text/plain": [
       "<Figure size 432x288 with 1 Axes>"
      ]
     },
     "metadata": {
      "needs_background": "light"
     },
     "output_type": "display_data"
    }
   ],
   "source": [
    "pred = model_frq.predict(X_test)\n",
    "df_v = pd.DataFrame({\"Actual\" : y_test,\n",
    "                     \"Pred\" : pred})\n",
    "\n",
    "print(f\"Ortalama Başarı : {y_test.mean() / pred.mean()}\")\n",
    "print(f\"Hasarlıların Oralama Tahmini : {df_v[df_v.Actual == 1].Pred.mean():.2%}\")\n",
    "print(f\"Hasarsızların Ortalama Tahmini : {df_v[df_v.Actual == 0].Pred.mean():.2%}\")\n",
    "plot_importance(model)"
   ]
  },
  {
   "cell_type": "code",
   "execution_count": 38,
   "id": "f17c2d05-8134-4ec7-a294-1019fcf702a4",
   "metadata": {
    "tags": []
   },
   "outputs": [],
   "source": [
    "###########"
   ]
  },
  {
   "cell_type": "code",
   "execution_count": 122,
   "id": "0e92b8a6-4199-4644-904b-37c854a8f84d",
   "metadata": {
    "tags": []
   },
   "outputs": [
    {
     "data": {
      "text/html": [
       "<div>\n",
       "<style scoped>\n",
       "    .dataframe tbody tr th:only-of-type {\n",
       "        vertical-align: middle;\n",
       "    }\n",
       "\n",
       "    .dataframe tbody tr th {\n",
       "        vertical-align: top;\n",
       "    }\n",
       "\n",
       "    .dataframe thead th {\n",
       "        text-align: right;\n",
       "    }\n",
       "</style>\n",
       "<table border=\"1\" class=\"dataframe\">\n",
       "  <thead>\n",
       "    <tr style=\"text-align: right;\">\n",
       "      <th></th>\n",
       "      <th>KIDSDRIV</th>\n",
       "      <th>AGE</th>\n",
       "      <th>HOMEKIDS</th>\n",
       "      <th>YOJ</th>\n",
       "      <th>INCOME</th>\n",
       "      <th>PARENT1</th>\n",
       "      <th>HOME_VAL</th>\n",
       "      <th>MSTATUS</th>\n",
       "      <th>GENDER</th>\n",
       "      <th>EDUCATION</th>\n",
       "      <th>...</th>\n",
       "      <th>BLUEBOOK</th>\n",
       "      <th>TIF</th>\n",
       "      <th>CAR_TYPE</th>\n",
       "      <th>RED_CAR</th>\n",
       "      <th>OLDCLAIM</th>\n",
       "      <th>CLM_FREQ</th>\n",
       "      <th>REVOKED</th>\n",
       "      <th>MVR_PTS</th>\n",
       "      <th>CAR_AGE</th>\n",
       "      <th>SEVERITY</th>\n",
       "    </tr>\n",
       "  </thead>\n",
       "  <tbody>\n",
       "    <tr>\n",
       "      <th>0</th>\n",
       "      <td>0</td>\n",
       "      <td>34.0</td>\n",
       "      <td>1</td>\n",
       "      <td>12.0</td>\n",
       "      <td>125301.0</td>\n",
       "      <td>Yes</td>\n",
       "      <td>0.0</td>\n",
       "      <td>z_No</td>\n",
       "      <td>z_F</td>\n",
       "      <td>Bachelors</td>\n",
       "      <td>...</td>\n",
       "      <td>17430.0</td>\n",
       "      <td>1</td>\n",
       "      <td>Sports Car</td>\n",
       "      <td>no</td>\n",
       "      <td>0.0</td>\n",
       "      <td>0</td>\n",
       "      <td>No</td>\n",
       "      <td>0</td>\n",
       "      <td>7.0</td>\n",
       "      <td>2946.0</td>\n",
       "    </tr>\n",
       "    <tr>\n",
       "      <th>1</th>\n",
       "      <td>1</td>\n",
       "      <td>40.0</td>\n",
       "      <td>1</td>\n",
       "      <td>11.0</td>\n",
       "      <td>50815.0</td>\n",
       "      <td>Yes</td>\n",
       "      <td>0.0</td>\n",
       "      <td>z_No</td>\n",
       "      <td>M</td>\n",
       "      <td>z_High School</td>\n",
       "      <td>...</td>\n",
       "      <td>18930.0</td>\n",
       "      <td>6</td>\n",
       "      <td>Minivan</td>\n",
       "      <td>no</td>\n",
       "      <td>3295.0</td>\n",
       "      <td>1</td>\n",
       "      <td>No</td>\n",
       "      <td>2</td>\n",
       "      <td>1.0</td>\n",
       "      <td>6477.0</td>\n",
       "    </tr>\n",
       "    <tr>\n",
       "      <th>2</th>\n",
       "      <td>1</td>\n",
       "      <td>37.0</td>\n",
       "      <td>2</td>\n",
       "      <td>NaN</td>\n",
       "      <td>107961.0</td>\n",
       "      <td>No</td>\n",
       "      <td>333680.0</td>\n",
       "      <td>Yes</td>\n",
       "      <td>M</td>\n",
       "      <td>Bachelors</td>\n",
       "      <td>...</td>\n",
       "      <td>16970.0</td>\n",
       "      <td>1</td>\n",
       "      <td>Van</td>\n",
       "      <td>yes</td>\n",
       "      <td>2374.0</td>\n",
       "      <td>1</td>\n",
       "      <td>Yes</td>\n",
       "      <td>10</td>\n",
       "      <td>7.0</td>\n",
       "      <td>8915.5</td>\n",
       "    </tr>\n",
       "    <tr>\n",
       "      <th>3</th>\n",
       "      <td>0</td>\n",
       "      <td>34.0</td>\n",
       "      <td>0</td>\n",
       "      <td>10.0</td>\n",
       "      <td>62978.0</td>\n",
       "      <td>No</td>\n",
       "      <td>0.0</td>\n",
       "      <td>z_No</td>\n",
       "      <td>z_F</td>\n",
       "      <td>Bachelors</td>\n",
       "      <td>...</td>\n",
       "      <td>11200.0</td>\n",
       "      <td>1</td>\n",
       "      <td>z_SUV</td>\n",
       "      <td>no</td>\n",
       "      <td>0.0</td>\n",
       "      <td>0</td>\n",
       "      <td>No</td>\n",
       "      <td>0</td>\n",
       "      <td>1.0</td>\n",
       "      <td>2501.0</td>\n",
       "    </tr>\n",
       "    <tr>\n",
       "      <th>4</th>\n",
       "      <td>0</td>\n",
       "      <td>53.0</td>\n",
       "      <td>0</td>\n",
       "      <td>14.0</td>\n",
       "      <td>77100.0</td>\n",
       "      <td>No</td>\n",
       "      <td>0.0</td>\n",
       "      <td>z_No</td>\n",
       "      <td>z_F</td>\n",
       "      <td>Masters</td>\n",
       "      <td>...</td>\n",
       "      <td>18300.0</td>\n",
       "      <td>1</td>\n",
       "      <td>Sports Car</td>\n",
       "      <td>no</td>\n",
       "      <td>0.0</td>\n",
       "      <td>0</td>\n",
       "      <td>No</td>\n",
       "      <td>0</td>\n",
       "      <td>11.0</td>\n",
       "      <td>6077.0</td>\n",
       "    </tr>\n",
       "    <tr>\n",
       "      <th>...</th>\n",
       "      <td>...</td>\n",
       "      <td>...</td>\n",
       "      <td>...</td>\n",
       "      <td>...</td>\n",
       "      <td>...</td>\n",
       "      <td>...</td>\n",
       "      <td>...</td>\n",
       "      <td>...</td>\n",
       "      <td>...</td>\n",
       "      <td>...</td>\n",
       "      <td>...</td>\n",
       "      <td>...</td>\n",
       "      <td>...</td>\n",
       "      <td>...</td>\n",
       "      <td>...</td>\n",
       "      <td>...</td>\n",
       "      <td>...</td>\n",
       "      <td>...</td>\n",
       "      <td>...</td>\n",
       "      <td>...</td>\n",
       "      <td>...</td>\n",
       "    </tr>\n",
       "    <tr>\n",
       "      <th>2741</th>\n",
       "      <td>0</td>\n",
       "      <td>43.0</td>\n",
       "      <td>0</td>\n",
       "      <td>NaN</td>\n",
       "      <td>0.0</td>\n",
       "      <td>No</td>\n",
       "      <td>55203.0</td>\n",
       "      <td>Yes</td>\n",
       "      <td>z_F</td>\n",
       "      <td>PhD</td>\n",
       "      <td>...</td>\n",
       "      <td>24030.0</td>\n",
       "      <td>9</td>\n",
       "      <td>Minivan</td>\n",
       "      <td>no</td>\n",
       "      <td>3035.0</td>\n",
       "      <td>4</td>\n",
       "      <td>No</td>\n",
       "      <td>0</td>\n",
       "      <td>14.0</td>\n",
       "      <td>471.0</td>\n",
       "    </tr>\n",
       "    <tr>\n",
       "      <th>2742</th>\n",
       "      <td>0</td>\n",
       "      <td>46.0</td>\n",
       "      <td>0</td>\n",
       "      <td>10.0</td>\n",
       "      <td>68360.0</td>\n",
       "      <td>No</td>\n",
       "      <td>237457.0</td>\n",
       "      <td>z_No</td>\n",
       "      <td>M</td>\n",
       "      <td>Bachelors</td>\n",
       "      <td>...</td>\n",
       "      <td>12940.0</td>\n",
       "      <td>1</td>\n",
       "      <td>Minivan</td>\n",
       "      <td>no</td>\n",
       "      <td>6560.0</td>\n",
       "      <td>3</td>\n",
       "      <td>No</td>\n",
       "      <td>7</td>\n",
       "      <td>11.0</td>\n",
       "      <td>3135.0</td>\n",
       "    </tr>\n",
       "    <tr>\n",
       "      <th>2743</th>\n",
       "      <td>0</td>\n",
       "      <td>41.0</td>\n",
       "      <td>0</td>\n",
       "      <td>12.0</td>\n",
       "      <td>92185.0</td>\n",
       "      <td>No</td>\n",
       "      <td>289370.0</td>\n",
       "      <td>Yes</td>\n",
       "      <td>M</td>\n",
       "      <td>z_High School</td>\n",
       "      <td>...</td>\n",
       "      <td>1500.0</td>\n",
       "      <td>11</td>\n",
       "      <td>Minivan</td>\n",
       "      <td>yes</td>\n",
       "      <td>0.0</td>\n",
       "      <td>0</td>\n",
       "      <td>No</td>\n",
       "      <td>0</td>\n",
       "      <td>10.0</td>\n",
       "      <td>1815.0</td>\n",
       "    </tr>\n",
       "    <tr>\n",
       "      <th>2744</th>\n",
       "      <td>0</td>\n",
       "      <td>45.0</td>\n",
       "      <td>0</td>\n",
       "      <td>11.0</td>\n",
       "      <td>52966.0</td>\n",
       "      <td>No</td>\n",
       "      <td>0.0</td>\n",
       "      <td>z_No</td>\n",
       "      <td>M</td>\n",
       "      <td>z_High School</td>\n",
       "      <td>...</td>\n",
       "      <td>11300.0</td>\n",
       "      <td>6</td>\n",
       "      <td>Pickup</td>\n",
       "      <td>yes</td>\n",
       "      <td>16239.0</td>\n",
       "      <td>2</td>\n",
       "      <td>Yes</td>\n",
       "      <td>5</td>\n",
       "      <td>1.0</td>\n",
       "      <td>2967.0</td>\n",
       "    </tr>\n",
       "    <tr>\n",
       "      <th>2745</th>\n",
       "      <td>0</td>\n",
       "      <td>51.0</td>\n",
       "      <td>0</td>\n",
       "      <td>10.0</td>\n",
       "      <td>128523.0</td>\n",
       "      <td>No</td>\n",
       "      <td>0.0</td>\n",
       "      <td>z_No</td>\n",
       "      <td>M</td>\n",
       "      <td>Masters</td>\n",
       "      <td>...</td>\n",
       "      <td>32960.0</td>\n",
       "      <td>6</td>\n",
       "      <td>Panel Truck</td>\n",
       "      <td>no</td>\n",
       "      <td>3995.0</td>\n",
       "      <td>3</td>\n",
       "      <td>No</td>\n",
       "      <td>1</td>\n",
       "      <td>15.0</td>\n",
       "      <td>3288.0</td>\n",
       "    </tr>\n",
       "  </tbody>\n",
       "</table>\n",
       "<p>2746 rows × 23 columns</p>\n",
       "</div>"
      ],
      "text/plain": [
       "      KIDSDRIV   AGE  HOMEKIDS   YOJ    INCOME PARENT1  HOME_VAL MSTATUS  \\\n",
       "0            0  34.0         1  12.0  125301.0     Yes       0.0    z_No   \n",
       "1            1  40.0         1  11.0   50815.0     Yes       0.0    z_No   \n",
       "2            1  37.0         2   NaN  107961.0      No  333680.0     Yes   \n",
       "3            0  34.0         0  10.0   62978.0      No       0.0    z_No   \n",
       "4            0  53.0         0  14.0   77100.0      No       0.0    z_No   \n",
       "...        ...   ...       ...   ...       ...     ...       ...     ...   \n",
       "2741         0  43.0         0   NaN       0.0      No   55203.0     Yes   \n",
       "2742         0  46.0         0  10.0   68360.0      No  237457.0    z_No   \n",
       "2743         0  41.0         0  12.0   92185.0      No  289370.0     Yes   \n",
       "2744         0  45.0         0  11.0   52966.0      No       0.0    z_No   \n",
       "2745         0  51.0         0  10.0  128523.0      No       0.0    z_No   \n",
       "\n",
       "     GENDER      EDUCATION  ... BLUEBOOK  TIF     CAR_TYPE  RED_CAR  OLDCLAIM  \\\n",
       "0       z_F      Bachelors  ...  17430.0    1   Sports Car       no       0.0   \n",
       "1         M  z_High School  ...  18930.0    6      Minivan       no    3295.0   \n",
       "2         M      Bachelors  ...  16970.0    1          Van      yes    2374.0   \n",
       "3       z_F      Bachelors  ...  11200.0    1        z_SUV       no       0.0   \n",
       "4       z_F        Masters  ...  18300.0    1   Sports Car       no       0.0   \n",
       "...     ...            ...  ...      ...  ...          ...      ...       ...   \n",
       "2741    z_F            PhD  ...  24030.0    9      Minivan       no    3035.0   \n",
       "2742      M      Bachelors  ...  12940.0    1      Minivan       no    6560.0   \n",
       "2743      M  z_High School  ...   1500.0   11      Minivan      yes       0.0   \n",
       "2744      M  z_High School  ...  11300.0    6       Pickup      yes   16239.0   \n",
       "2745      M        Masters  ...  32960.0    6  Panel Truck       no    3995.0   \n",
       "\n",
       "     CLM_FREQ REVOKED  MVR_PTS  CAR_AGE SEVERITY  \n",
       "0           0      No        0      7.0   2946.0  \n",
       "1           1      No        2      1.0   6477.0  \n",
       "2           1     Yes       10      7.0   8915.5  \n",
       "3           0      No        0      1.0   2501.0  \n",
       "4           0      No        0     11.0   6077.0  \n",
       "...       ...     ...      ...      ...      ...  \n",
       "2741        4      No        0     14.0    471.0  \n",
       "2742        3      No        7     11.0   3135.0  \n",
       "2743        0      No        0     10.0   1815.0  \n",
       "2744        2     Yes        5      1.0   2967.0  \n",
       "2745        3      No        1     15.0   3288.0  \n",
       "\n",
       "[2746 rows x 23 columns]"
      ]
     },
     "execution_count": 122,
     "metadata": {},
     "output_type": "execute_result"
    }
   ],
   "source": [
    "df2 =  pd.read_csv(\"autodata.csv\")\n",
    "\n",
    "df2 = df2[df2.CLAIM_FLAG == 1]\n",
    "df = df2.copy()\n",
    "for i in df.columns:\n",
    "    if df[i].dtypes == \"object\":\n",
    "        df[i] = df[i].str.replace('$' , '')\n",
    "        df[i] = df[i].str.replace(',' , '')\n",
    "        try:\n",
    "            df[i] = df[i].astype(float)\n",
    "        except:\n",
    "            pass\n",
    "\n",
    "df2 = df.copy()\n",
    "\n",
    "df3 = df2.groupby(\"ID\").agg({\"CLAIM_FLAG\":\"sum\",\n",
    "                             \"CLM_AMT\" : \"sum\"}).reset_index()\n",
    "df3[\"SEVERITY\"] = df3.CLM_AMT / df3.CLAIM_FLAG\n",
    "df3 = df3[[\"ID\",\"SEVERITY\"]].sort_values(by= \"SEVERITY\",ascending=False)\n",
    "df4 = df2.merge(df3,how=\"left\",on=\"ID\")\n",
    "df5 = df4.drop([\"ID\",\"CLM_AMT\",\"CLAIM_FLAG\"],axis=1)\n",
    "\n",
    "\n",
    "df5\n"
   ]
  },
  {
   "cell_type": "code",
   "execution_count": 123,
   "id": "0a0f0bd3-8710-452c-a030-8ee1a540c381",
   "metadata": {
    "tags": []
   },
   "outputs": [
    {
     "name": "stderr",
     "output_type": "stream",
     "text": [
      "Fitting 10 distributions:   0%|          | 0/10 [00:00<?, ?it/s]2023-04-29 15:51:54,902 | INFO | fitter.py:335 | _fit_single_distribution | Fitted expon distribution with error=2.8093103022526218e-08)\n",
      "2023-04-29 15:51:54,932 | INFO | fitter.py:335 | _fit_single_distribution | Fitted norm distribution with error=4.5525176203309496e-08)\n",
      "2023-04-29 15:51:54,974 | INFO | fitter.py:335 | _fit_single_distribution | Fitted uniform distribution with error=9.0161465251129e-08)\n",
      "Fitting 10 distributions:  30%|███       | 3/10 [00:00<00:00, 23.52it/s]2023-04-29 15:51:55,004 | INFO | fitter.py:335 | _fit_single_distribution | Fitted rayleigh distribution with error=3.4392481489657894e-08)\n",
      "2023-04-29 15:51:55,301 | INFO | fitter.py:335 | _fit_single_distribution | Fitted cauchy distribution with error=6.018887844950477e-09)\n",
      "2023-04-29 15:51:56,271 | INFO | fitter.py:335 | _fit_single_distribution | Fitted lognorm distribution with error=7.45874870112529e-09)\n",
      "Fitting 10 distributions:  60%|██████    | 6/10 [00:01<00:01,  3.71it/s]2023-04-29 15:51:56,279 | INFO | fitter.py:335 | _fit_single_distribution | Fitted gamma distribution with error=1.6308225054946136e-08)\n",
      "2023-04-29 15:51:56,340 | INFO | fitter.py:335 | _fit_single_distribution | Fitted powerlaw distribution with error=6.201300274420478e-08)\n",
      "2023-04-29 15:51:56,350 | INFO | fitter.py:335 | _fit_single_distribution | Fitted chi2 distribution with error=2.352040026063626e-08)\n",
      "2023-04-29 15:51:56,453 | INFO | fitter.py:335 | _fit_single_distribution | Fitted exponpow distribution with error=3.9842742075177025e-08)\n",
      "Fitting 10 distributions: 100%|██████████| 10/10 [00:01<00:00,  6.26it/s]\n"
     ]
    },
    {
     "data": {
      "text/html": [
       "<div>\n",
       "<style scoped>\n",
       "    .dataframe tbody tr th:only-of-type {\n",
       "        vertical-align: middle;\n",
       "    }\n",
       "\n",
       "    .dataframe tbody tr th {\n",
       "        vertical-align: top;\n",
       "    }\n",
       "\n",
       "    .dataframe thead th {\n",
       "        text-align: right;\n",
       "    }\n",
       "</style>\n",
       "<table border=\"1\" class=\"dataframe\">\n",
       "  <thead>\n",
       "    <tr style=\"text-align: right;\">\n",
       "      <th></th>\n",
       "      <th>sumsquare_error</th>\n",
       "      <th>aic</th>\n",
       "      <th>bic</th>\n",
       "      <th>kl_div</th>\n",
       "      <th>ks_statistic</th>\n",
       "      <th>ks_pvalue</th>\n",
       "    </tr>\n",
       "  </thead>\n",
       "  <tbody>\n",
       "    <tr>\n",
       "      <th>cauchy</th>\n",
       "      <td>6.018888e-09</td>\n",
       "      <td>3029.358016</td>\n",
       "      <td>-73704.004935</td>\n",
       "      <td>inf</td>\n",
       "      <td>0.115771</td>\n",
       "      <td>1.607739e-32</td>\n",
       "    </tr>\n",
       "    <tr>\n",
       "      <th>lognorm</th>\n",
       "      <td>7.458749e-09</td>\n",
       "      <td>3505.847678</td>\n",
       "      <td>-73107.110767</td>\n",
       "      <td>inf</td>\n",
       "      <td>0.092207</td>\n",
       "      <td>9.089776e-21</td>\n",
       "    </tr>\n",
       "    <tr>\n",
       "      <th>gamma</th>\n",
       "      <td>1.630823e-08</td>\n",
       "      <td>7660.826284</td>\n",
       "      <td>-70958.964616</td>\n",
       "      <td>inf</td>\n",
       "      <td>0.183470</td>\n",
       "      <td>2.265595e-81</td>\n",
       "    </tr>\n",
       "    <tr>\n",
       "      <th>chi2</th>\n",
       "      <td>2.352040e-08</td>\n",
       "      <td>7349.357544</td>\n",
       "      <td>-69953.383382</td>\n",
       "      <td>inf</td>\n",
       "      <td>0.204729</td>\n",
       "      <td>2.117488e-101</td>\n",
       "    </tr>\n",
       "    <tr>\n",
       "      <th>expon</th>\n",
       "      <td>2.809310e-08</td>\n",
       "      <td>3926.067551</td>\n",
       "      <td>-69473.458013</td>\n",
       "      <td>inf</td>\n",
       "      <td>0.146642</td>\n",
       "      <td>5.305713e-52</td>\n",
       "    </tr>\n",
       "  </tbody>\n",
       "</table>\n",
       "</div>"
      ],
      "text/plain": [
       "         sumsquare_error          aic           bic  kl_div  ks_statistic  \\\n",
       "cauchy      6.018888e-09  3029.358016 -73704.004935     inf      0.115771   \n",
       "lognorm     7.458749e-09  3505.847678 -73107.110767     inf      0.092207   \n",
       "gamma       1.630823e-08  7660.826284 -70958.964616     inf      0.183470   \n",
       "chi2        2.352040e-08  7349.357544 -69953.383382     inf      0.204729   \n",
       "expon       2.809310e-08  3926.067551 -69473.458013     inf      0.146642   \n",
       "\n",
       "             ks_pvalue  \n",
       "cauchy    1.607739e-32  \n",
       "lognorm   9.089776e-21  \n",
       "gamma     2.265595e-81  \n",
       "chi2     2.117488e-101  \n",
       "expon     5.305713e-52  "
      ]
     },
     "execution_count": 123,
     "metadata": {},
     "output_type": "execute_result"
    },
    {
     "data": {
      "image/png": "[encoded data removed]",
      "text/plain": [
       "<Figure size 432x288 with 1 Axes>"
      ]
     },
     "metadata": {
      "needs_background": "light"
     },
     "output_type": "display_data"
    }
   ],
   "source": [
    "from fitter import Fitter, get_common_distributions, get_distributions\n",
    "f = Fitter(df5.SEVERITY,\n",
    "           distributions= get_common_distributions())\n",
    "f.fit()\n",
    "f.summary()"
   ]
  },
  {
   "cell_type": "code",
   "execution_count": 111,
   "id": "1ccbb37a-e4f7-42e1-bde7-b09212c9e21b",
   "metadata": {},
   "outputs": [
    {
     "name": "stdout",
     "output_type": "stream",
     "text": [
      "Train dataset SEVERITY mean : 5698.605646630236\n",
      "Test dataset SEVERITY mean : 5554.416363636364\n"
     ]
    }
   ],
   "source": [
    "### Sayısal olmasına rağmen içinde \"$\" , \",\" vb. geçen değişkenlere feature engineering yapıyoruz.\n",
    "df = df5.copy()\n",
    "\n",
    "X = df.drop([\"SEVERITY\"],axis=1)\n",
    "y = df.SEVERITY\n",
    "\n",
    "X_train , X_test , y_train , y_test = train_test_split(X,y , test_size = 0.2 , random_state = 43)\n",
    "\n",
    "p1 = sum(y_train) / len(y_train)\n",
    "p2 = sum(y_test) / len(y_test)\n",
    "print(f\"Train dataset SEVERITY mean : {p1}\")\n",
    "print(f\"Test dataset SEVERITY mean : {p2}\")\n",
    "\n",
    "X_train_target_encoded = X_train.copy()\n",
    "target_encoder = TargetEncoder()\n",
    "X_train_encoded = target_encoder.fit_transform(X_train_target_encoded, y_train)\n",
    "\n",
    "### BOOSTING MODELIYLE DEVAM EDELIM\n",
    "\n",
    "xgb_cl = xgb.XGBRegressor()\n",
    "xgb_cl.fit(X_train_encoded,y_train)\n",
    "\n",
    "X_test = target_encoder.transform(X_test)\n",
    "pred = xgb_cl.predict(X_test)"
   ]
  },
  {
   "cell_type": "code",
   "execution_count": 112,
   "id": "1de48a9d-08ff-44e7-9c51-16931c768a40",
   "metadata": {},
   "outputs": [
    {
     "data": {
      "text/plain": [
       "<AxesSubplot:title={'center':'Feature importance'}, xlabel='F score', ylabel='Features'>"
      ]
     },
     "execution_count": 112,
     "metadata": {},
     "output_type": "execute_result"
    },
    {
     "data": {
      "image/png": "[encoded data removed]",
      "text/plain": [
       "<Figure size 432x288 with 1 Axes>"
      ]
     },
     "metadata": {
      "needs_background": "light"
     },
     "output_type": "display_data"
    }
   ],
   "source": [
    "plot_importance(xgb_cl)"
   ]
  },
  {
   "cell_type": "code",
   "execution_count": 113,
   "id": "594df826-16c1-4fa0-ab71-44edcd8e3603",
   "metadata": {},
   "outputs": [],
   "source": [
    "def objective(trial):\n",
    "    \"\"\"Define the objective function\"\"\"\n",
    "\n",
    "    params = {'objective' : 'reg:gamma',\n",
    "        'max_depth': trial.suggest_int('max_depth', 1, 9),\n",
    "        'learning_rate': trial.suggest_loguniform('learning_rate', 0.01, 1.0),\n",
    "        'n_estimators': trial.suggest_int('n_estimators', 50, 500),\n",
    "        'min_child_weight': trial.suggest_int('min_child_weight', 1, 10),\n",
    "        'gamma': trial.suggest_loguniform('gamma', 1e-8, 1.0),\n",
    "        'subsample': trial.suggest_loguniform('subsample', 0.01, 1.0),\n",
    "        'colsample_bytree': trial.suggest_loguniform('colsample_bytree', 0.01, 1.0),\n",
    "        'reg_alpha': trial.suggest_loguniform('reg_alpha', 1e-8, 1.0),\n",
    "        'reg_lambda': trial.suggest_loguniform('reg_lambda', 1e-8, 1.0),\n",
    "        'eval_metric': 'mlogloss',\n",
    "        'use_label_encoder': False\n",
    "    }\n",
    "    # Fit the model\n",
    "    optuna_model = xgb.XGBRegressor(**params)\n",
    "    optuna_model.fit(X_train_encoded, y_train)\n",
    "\n",
    "    # Make predictions\n",
    "    y_pred = optuna_model.predict(X_test)\n",
    "\n",
    "    # Evaluate predictions\n",
    "    eval_metric_score = y_test.mean() / y_pred.mean() -1   \n",
    "    return eval_metric_score"
   ]
  },
  {
   "cell_type": "code",
   "execution_count": 114,
   "id": "bb304db2-f039-4b05-8861-1f5cfce34433",
   "metadata": {},
   "outputs": [
    {
     "name": "stderr",
     "output_type": "stream",
     "text": [
      "\u001b[32m[I 2023-04-28 17:14:43,237]\u001b[0m A new study created in memory with name: no-name-bd5badf2-ce5a-41cb-aa01-7987319686c9\u001b[0m\n",
      "\u001b[32m[I 2023-04-28 17:14:43,910]\u001b[0m Trial 0 finished with value: 0.0006703756785180204 and parameters: {'max_depth': 1, 'learning_rate': 0.19948781846589933, 'n_estimators': 292, 'min_child_weight': 9, 'gamma': 4.071114851811637e-05, 'subsample': 0.08529858046576438, 'colsample_bytree': 0.29483993835139133, 'reg_alpha': 0.7493204405161505, 'reg_lambda': 3.3734193272572524e-08}. Best is trial 0 with value: 0.0006703756785180204.\u001b[0m\n",
      "\u001b[32m[I 2023-04-28 17:14:44,348]\u001b[0m Trial 1 finished with value: 0.04909341239612641 and parameters: {'max_depth': 8, 'learning_rate': 0.32030762257778117, 'n_estimators': 135, 'min_child_weight': 3, 'gamma': 1.2547589488871538e-08, 'subsample': 0.29386811463562784, 'colsample_bytree': 0.017969858003053837, 'reg_alpha': 0.215671326344433, 'reg_lambda': 0.0012137567830173735}. Best is trial 1 with value: 0.04909341239612641.\u001b[0m\n",
      "\u001b[32m[I 2023-04-28 17:14:45,711]\u001b[0m Trial 2 finished with value: -0.7403412380171932 and parameters: {'max_depth': 7, 'learning_rate': 0.24292925246615873, 'n_estimators': 405, 'min_child_weight': 4, 'gamma': 1.9915414765416852e-08, 'subsample': 0.05463212610127356, 'colsample_bytree': 0.40964197330724, 'reg_alpha': 9.365787979924984e-08, 'reg_lambda': 3.66888783972278e-06}. Best is trial 1 with value: 0.04909341239612641.\u001b[0m\n",
      "\u001b[32m[I 2023-04-28 17:14:47,001]\u001b[0m Trial 3 finished with value: 4.707163451965039 and parameters: {'max_depth': 5, 'learning_rate': 0.031040940720533566, 'n_estimators': 250, 'min_child_weight': 1, 'gamma': 3.8076200525714e-06, 'subsample': 0.9059047796968794, 'colsample_bytree': 0.01190719018944643, 'reg_alpha': 0.0021955068803461222, 'reg_lambda': 1.9031977066665977e-08}. Best is trial 3 with value: 4.707163451965039.\u001b[0m\n",
      "\u001b[32m[I 2023-04-28 17:14:48,824]\u001b[0m Trial 4 finished with value: 0.1609526433248214 and parameters: {'max_depth': 9, 'learning_rate': 0.06027229214049649, 'n_estimators': 393, 'min_child_weight': 6, 'gamma': 4.905919403359855e-05, 'subsample': 0.36146028716110823, 'colsample_bytree': 0.11878382229918394, 'reg_alpha': 1.8542135908637728e-06, 'reg_lambda': 5.8741365419381724e-05}. Best is trial 3 with value: 4.707163451965039.\u001b[0m\n",
      "\u001b[32m[I 2023-04-28 17:14:49,050]\u001b[0m Trial 5 finished with value: 3255.0509112163263 and parameters: {'max_depth': 5, 'learning_rate': 0.014968746504631677, 'n_estimators': 82, 'min_child_weight': 6, 'gamma': 2.3517571133111854e-07, 'subsample': 0.38462617007112443, 'colsample_bytree': 0.32251577999914544, 'reg_alpha': 5.81142556958505e-07, 'reg_lambda': 1.3981424187195222e-07}. Best is trial 5 with value: 3255.0509112163263.\u001b[0m\n",
      "\u001b[32m[I 2023-04-28 17:14:49,630]\u001b[0m Trial 6 finished with value: -0.004500643988318287 and parameters: {'max_depth': 8, 'learning_rate': 0.14868224393199633, 'n_estimators': 257, 'min_child_weight': 4, 'gamma': 0.011188269564478558, 'subsample': 0.015799954101209435, 'colsample_bytree': 0.018022676279659724, 'reg_alpha': 9.391671440124582e-05, 'reg_lambda': 0.12209179232564704}. Best is trial 5 with value: 3255.0509112163263.\u001b[0m\n",
      "\u001b[32m[I 2023-04-28 17:14:50,740]\u001b[0m Trial 7 finished with value: -1.0 and parameters: {'max_depth': 8, 'learning_rate': 0.7653675806268637, 'n_estimators': 332, 'min_child_weight': 3, 'gamma': 0.0022503225981743884, 'subsample': 0.061321388419647266, 'colsample_bytree': 0.9222128738500325, 'reg_alpha': 0.0001616151910876086, 'reg_lambda': 5.412315603896666e-07}. Best is trial 5 with value: 3255.0509112163263.\u001b[0m\n",
      "\u001b[32m[I 2023-04-28 17:14:51,838]\u001b[0m Trial 8 finished with value: -0.017289863732392496 and parameters: {'max_depth': 1, 'learning_rate': 0.04758174263426962, 'n_estimators': 414, 'min_child_weight': 8, 'gamma': 4.1245987010851646e-05, 'subsample': 0.9956877308354741, 'colsample_bytree': 0.4362041527363133, 'reg_alpha': 4.443836561348561e-06, 'reg_lambda': 0.0001454133297904472}. Best is trial 5 with value: 3255.0509112163263.\u001b[0m\n",
      "\u001b[33m[W 2023-04-28 17:14:52,836]\u001b[0m Trial 9 failed, because the objective function returned nan.\u001b[0m\n",
      "\u001b[32m[I 2023-04-28 17:14:53,465]\u001b[0m Trial 10 finished with value: 0.1915136033301239 and parameters: {'max_depth': 3, 'learning_rate': 0.054172812473349194, 'n_estimators': 222, 'min_child_weight': 5, 'gamma': 0.11690131329238329, 'subsample': 0.036784334606060426, 'colsample_bytree': 0.11280417583072731, 'reg_alpha': 0.001797366749958785, 'reg_lambda': 0.001601292463493818}. Best is trial 5 with value: 3255.0509112163263.\u001b[0m\n",
      "\u001b[32m[I 2023-04-28 17:14:53,651]\u001b[0m Trial 11 finished with value: 5462.997920981627 and parameters: {'max_depth': 5, 'learning_rate': 0.011633619462865877, 'n_estimators': 61, 'min_child_weight': 7, 'gamma': 4.5551261314282827e-07, 'subsample': 0.24826095032656414, 'colsample_bytree': 0.041865267935252914, 'reg_alpha': 1.233015656160182e-08, 'reg_lambda': 7.506108141049759e-07}. Best is trial 11 with value: 5462.997920981627.\u001b[0m\n",
      "\u001b[32m[I 2023-04-28 17:14:53,896]\u001b[0m Trial 12 finished with value: 6735.295591895062 and parameters: {'max_depth': 5, 'learning_rate': 0.010005742726782323, 'n_estimators': 50, 'min_child_weight': 7, 'gamma': 4.6338008006793256e-07, 'subsample': 0.2929153415214889, 'colsample_bytree': 0.04504776594429581, 'reg_alpha': 1.0113311192334773e-08, 'reg_lambda': 9.053258583177293e-07}. Best is trial 12 with value: 6735.295591895062.\u001b[0m\n",
      "\u001b[32m[I 2023-04-28 17:14:54,089]\u001b[0m Trial 13 finished with value: 5347.275313303671 and parameters: {'max_depth': 4, 'learning_rate': 0.010296627381571399, 'n_estimators': 71, 'min_child_weight': 8, 'gamma': 7.193964547262668e-07, 'subsample': 0.18271491097649445, 'colsample_bytree': 0.03913891189813235, 'reg_alpha': 1.1286549246496298e-08, 'reg_lambda': 2.2000461777920125e-06}. Best is trial 12 with value: 6735.295591895062.\u001b[0m\n",
      "\u001b[32m[I 2023-04-28 17:14:54,440]\u001b[0m Trial 14 finished with value: 539.301461671346 and parameters: {'max_depth': 6, 'learning_rate': 0.020302736392777423, 'n_estimators': 149, 'min_child_weight': 10, 'gamma': 4.946659860935069e-07, 'subsample': 0.1547915971628331, 'colsample_bytree': 0.04675377010127407, 'reg_alpha': 1.3692724669585001e-08, 'reg_lambda': 1.2842708360739767e-05}. Best is trial 12 with value: 6735.295591895062.\u001b[0m\n",
      "\u001b[32m[I 2023-04-28 17:14:54,984]\u001b[0m Trial 15 finished with value: 1840.1618063690876 and parameters: {'max_depth': 3, 'learning_rate': 0.010637777903490079, 'n_estimators': 169, 'min_child_weight': 7, 'gamma': 5.176988234234395e-06, 'subsample': 0.5188849543760053, 'colsample_bytree': 0.04991981494173322, 'reg_alpha': 1.23560524375136e-07, 'reg_lambda': 7.74000430794513e-07}. Best is trial 12 with value: 6735.295591895062.\u001b[0m\n",
      "\u001b[32m[I 2023-04-28 17:14:55,139]\u001b[0m Trial 16 finished with value: 2268.4746523215667 and parameters: {'max_depth': 6, 'learning_rate': 0.029417179433981457, 'n_estimators': 54, 'min_child_weight': 7, 'gamma': 0.0009170269769743185, 'subsample': 0.1682640320770252, 'colsample_bytree': 0.06464605818229416, 'reg_alpha': 1.614159993913057e-05, 'reg_lambda': 0.573010454507067}. Best is trial 12 with value: 6735.295591895062.\u001b[0m\n",
      "\u001b[32m[I 2023-04-28 17:14:56,470]\u001b[0m Trial 17 finished with value: 0.360091317173004 and parameters: {'max_depth': 3, 'learning_rate': 0.02088873393880281, 'n_estimators': 495, 'min_child_weight': 10, 'gamma': 5.6376736018933434e-08, 'subsample': 0.22105029537737753, 'colsample_bytree': 0.026672207412453557, 'reg_alpha': 1.37681284778999e-07, 'reg_lambda': 1.7128147462229667e-07}. Best is trial 12 with value: 6735.295591895062.\u001b[0m\n",
      "\u001b[32m[I 2023-04-28 17:14:56,956]\u001b[0m Trial 18 finished with value: 0.01999586393072228 and parameters: {'max_depth': 4, 'learning_rate': 0.09517549105905876, 'n_estimators': 194, 'min_child_weight': 8, 'gamma': 5.192271619480263e-06, 'subsample': 0.5626665609438185, 'colsample_bytree': 0.07503383927923095, 'reg_alpha': 1.4014702357565715e-08, 'reg_lambda': 2.5708809886661575e-05}. Best is trial 12 with value: 6735.295591895062.\u001b[0m\n",
      "\u001b[32m[I 2023-04-28 17:14:57,228]\u001b[0m Trial 19 finished with value: 1542.6565373687606 and parameters: {'max_depth': 6, 'learning_rate': 0.017784970772888306, 'n_estimators': 111, 'min_child_weight': 7, 'gamma': 1.3456421198625391e-07, 'subsample': 0.12010511931100336, 'colsample_bytree': 0.15930566086350126, 'reg_alpha': 5.053687727907832e-07, 'reg_lambda': 0.0005179247173508631}. Best is trial 12 with value: 6735.295591895062.\u001b[0m\n"
     ]
    },
    {
     "name": "stdout",
     "output_type": "stream",
     "text": [
      "Number of finished trials: 20\n",
      "Best trial:\n",
      "  Value: 6735.295591895062\n",
      "  Params: \n",
      "    max_depth: 5\n",
      "    learning_rate: 0.010005742726782323\n",
      "    n_estimators: 50\n",
      "    min_child_weight: 7\n",
      "    gamma: 4.6338008006793256e-07\n",
      "    subsample: 0.2929153415214889\n",
      "    colsample_bytree: 0.04504776594429581\n",
      "    reg_alpha: 1.0113311192334773e-08\n",
      "    reg_lambda: 9.053258583177293e-07\n"
     ]
    }
   ],
   "source": [
    "study = optuna.create_study(direction='maximize')\n",
    "study.optimize(objective, n_trials=20)\n",
    "\n",
    "print('Number of finished trials: {}'.format(len(study.trials)))\n",
    "print('Best trial:')\n",
    "trial = study.best_trial\n",
    "\n",
    "print('  Value: {}'.format(trial.value))\n",
    "print('  Params: ')\n",
    "\n",
    "for key, value in trial.params.items():\n",
    "    print('    {}: {}'.format(key, value))"
   ]
  },
  {
   "cell_type": "code",
   "execution_count": 115,
   "id": "0346e08f-6fcc-497c-ba5b-ac659777fede",
   "metadata": {},
   "outputs": [],
   "source": [
    "params = trial.params\n",
    "model_sev = xgb.XGBRegressor(**params)\n",
    "model_sev.fit(X_train_encoded, y_train)\n",
    "pred = model_sev.predict(X_test)"
   ]
  },
  {
   "cell_type": "code",
   "execution_count": 116,
   "id": "c7473d6f-d626-4e85-b214-d1f633e5c0d1",
   "metadata": {},
   "outputs": [
    {
     "data": {
      "text/plain": [
       "<AxesSubplot:title={'center':'Feature importance'}, xlabel='F score', ylabel='Features'>"
      ]
     },
     "execution_count": 116,
     "metadata": {},
     "output_type": "execute_result"
    },
    {
     "data": {
      "image/png": "[encoded data removed]",
      "text/plain": [
       "<Figure size 432x288 with 1 Axes>"
      ]
     },
     "metadata": {
      "needs_background": "light"
     },
     "output_type": "display_data"
    }
   ],
   "source": [
    "plot_importance(model)"
   ]
  },
  {
   "cell_type": "code",
   "execution_count": 117,
   "id": "2945836d-54dc-496c-8c7b-903cf1acd998",
   "metadata": {
    "tags": []
   },
   "outputs": [
    {
     "data": {
      "application/vnd.plotly.v1+json": {
       "config": {
        "plotlyServerURL": "https://plot.ly"
       },
       "data": [
        {
         "alignmentgroup": "True",
         "bingroup": "x",
         "hovertemplate": "variable=Pred<br>value=%{x}<br>count=%{y}<extra></extra>",
         "legendgroup": "Pred",
         "marker": {
          "color": "#636efa",
          "pattern": {
           "shape": ""
          }
         },
         "name": "Pred",
         "offsetgroup": "Pred",
         "orientation": "v",
         "showlegend": true,
         "type": "histogram",
         "x": [
          2181.791259765625,
          2297.1083984375,
          2164.966552734375,
          2080.313232421875,
          2225.92041015625,
          2452.28173828125,
          2260.50634765625,
          2258.076904296875,
          2382.384765625,
          2162.532958984375,
          2352.80615234375,
          2352.953369140625,
          2263.891845703125,
          2315.733154296875,
          2107.477294921875,
          2206.995849609375,
          2231.644775390625,
          2218.69384765625,
          2211.203369140625,
          2165.7158203125,
          2238.345703125,
          2255.34814453125,
          2458.8876953125,
          2213.110107421875,
          2338.6396484375,
          2345.22900390625,
          2269.35791015625,
          2275.5966796875,
          2257.970703125,
          2300.282958984375,
          2239.86767578125,
          2456.276611328125,
          2220.3466796875,
          2167.5888671875,
          2208.729736328125,
          2321.51513671875,
          2093.9111328125,
          2214.1298828125,
          2180.73095703125,
          2074.30517578125,
          2217.232421875,
          2204.32177734375,
          2273.9736328125,
          2263.433837890625,
          2273.64013671875,
          2259.80029296875,
          2312.637939453125,
          2251.39306640625,
          2219.27001953125,
          2205.306640625,
          2216.79150390625,
          2306.75146484375,
          2383.71142578125,
          2163.88916015625,
          2166.02294921875,
          2232.9658203125,
          2133.701171875,
          2204.339599609375,
          2336.49951171875,
          2253.96142578125,
          2232.5107421875,
          2321.375,
          2181.962890625,
          2171.425048828125,
          2307.32958984375,
          2397.36279296875,
          2129.74755859375,
          2133.6396484375,
          2161.55224609375,
          2271.104248046875,
          2335.75341796875,
          2181.2744140625,
          2387.115234375,
          2201.293212890625,
          2295.53759765625,
          2246.4677734375,
          2456.30615234375,
          2188.92236328125,
          2181.376953125,
          2149.31884765625,
          2285.2587890625,
          2218.183837890625,
          2106.61279296875,
          2125.5791015625,
          2225.69970703125,
          2123.4462890625,
          2199.94287109375,
          2120.7060546875,
          2418.2216796875,
          2226.220458984375,
          2262.6875,
          2195.688232421875,
          2342.34375,
          2264.67626953125,
          2455.486328125,
          2214.005615234375,
          2251.22314453125,
          2166.47021484375,
          2303.6845703125,
          2255.710205078125,
          2242.133544921875,
          2386.652587890625,
          2214.65185546875,
          2211.8076171875,
          2457.36669921875,
          2182.31298828125,
          2269.247314453125,
          2364.588134765625,
          2171.03125,
          2572.8916015625,
          2070.2666015625,
          2184.71337890625,
          2062.2734375,
          2111.18408203125,
          2328.388671875,
          2331.37451171875,
          2272.61279296875,
          2250.289794921875,
          2195.38720703125,
          2248.0849609375,
          2091.5419921875,
          2287.2744140625,
          2348.1845703125,
          2379.916748046875,
          2261.36767578125,
          2165.62939453125,
          2228.178466796875,
          2292.0810546875,
          2158.629638671875,
          2390.0185546875,
          2239.185546875,
          2365.22021484375,
          2101.357421875,
          2380.87939453125,
          2251.79638671875,
          2385.87890625,
          2435.871337890625,
          2329.928955078125,
          2231.01708984375,
          2146.936279296875,
          2204.765625,
          2420.369873046875,
          2277.569580078125,
          2187.597412109375,
          2398.28466796875,
          2325.773681640625,
          2200.81787109375,
          2525.39990234375,
          2304.3154296875,
          2187.990234375,
          2245.00244140625,
          2253.715087890625,
          2121.941162109375,
          2340.376708984375,
          2101.11767578125,
          2210.21826171875,
          2241.18798828125,
          2264.15966796875,
          2117.112060546875,
          2366.534423828125,
          2138.170654296875,
          2220.10009765625,
          2340.3916015625,
          2294.862060546875,
          2205.663818359375,
          2292.4443359375,
          2307.52880859375,
          2214.8154296875,
          2204.23291015625,
          2277.96142578125,
          2374.59619140625,
          2146.035888671875,
          2257.72705078125,
          2171.04296875,
          2244.51123046875,
          2273.851806640625,
          2338.273681640625,
          2306.6259765625,
          2233.752685546875,
          2252.6328125,
          2231.92822265625,
          2220.88720703125,
          2222.19091796875,
          2291.2119140625,
          2228.184814453125,
          2079.302001953125,
          2282.21826171875,
          2151.324951171875,
          2156.65380859375,
          2191.439453125,
          2469.361328125,
          2213.12353515625,
          2364.88671875,
          2429.34228515625,
          2183.521484375,
          2195.783935546875,
          2142.185302734375,
          2218.50048828125,
          2161.191650390625,
          2206.940185546875,
          2034.9222412109375,
          2503.148193359375,
          2268.822998046875,
          2225.42724609375,
          2229.40283203125,
          2258.6083984375,
          2405.266357421875,
          2259.306640625,
          2234.82568359375,
          2143.10205078125,
          2186.12548828125,
          2211.00927734375,
          2278.625,
          2215.63720703125,
          2370.348876953125,
          2251.5205078125,
          2240.3583984375,
          2216.5517578125,
          2090.578369140625,
          2155.887451171875,
          2230.985595703125,
          2194.89990234375,
          2339.529296875,
          2329.45751953125,
          2214.7666015625,
          2423.361328125,
          2367.0634765625,
          2180.065185546875,
          2344.7197265625,
          2081.99951171875,
          2156.1640625,
          2430.134521484375,
          2262.595703125,
          2193.875,
          2503.068359375,
          2303.824951171875,
          2105.8388671875,
          2088.970458984375,
          2324.72509765625,
          2240.267333984375,
          2306.15869140625,
          2267.607421875,
          2231.48779296875,
          2174.021484375,
          2314.374267578125,
          2138.375732421875,
          2252.84033203125,
          2449.315185546875,
          2286.965576171875,
          2284.74462890625,
          2164.77783203125,
          2095.583984375,
          2326.3232421875,
          2216.8388671875,
          2404.8837890625,
          2205.056884765625,
          2231.46142578125,
          2375.56201171875,
          2181.01220703125,
          2412.376953125,
          2386.10205078125,
          2185.5068359375,
          2398.3828125,
          2094.300048828125,
          2189.33935546875,
          2210.85205078125,
          2444.47021484375,
          2168.405029296875,
          2464.4560546875,
          2211.508056640625,
          2175.484375,
          2298.287109375,
          2240.699462890625,
          2261.888916015625,
          2317.39306640625,
          2190.6064453125,
          2306.6708984375,
          2178.08349609375,
          2161.480712890625,
          2342.73681640625,
          2320.81689453125,
          2172.22412109375,
          2062.552001953125,
          2381.15673828125,
          2064.4345703125,
          2170.44287109375,
          2391.685546875,
          2352.516845703125,
          2175.058837890625,
          2308.052734375,
          2173.142333984375,
          2464.412109375,
          2075.025146484375,
          2199.31982421875,
          2313.384521484375,
          2081.03564453125,
          2315.60009765625,
          2214.93408203125,
          2248.998046875,
          2486.49951171875,
          2357.892578125,
          2384.90380859375,
          2362.305908203125,
          2395.364013671875,
          2497.0556640625,
          2221.2236328125,
          2502.91455078125,
          2368.3251953125,
          2293.19384765625,
          2333.36279296875,
          2118.134033203125,
          2317.25927734375,
          2295.116455078125,
          2198.09130859375,
          2234.63330078125,
          2100.346435546875,
          2285.2060546875,
          2310.713623046875,
          2236.564208984375,
          2340.8173828125,
          2359.31787109375,
          2427.48291015625,
          2222.01220703125,
          2328.09375,
          2277.72509765625,
          2191.098876953125,
          2305.576171875,
          2434.247802734375,
          2131.21630859375,
          2051.367431640625,
          2168.476318359375,
          2094.17626953125,
          2361.770751953125,
          2322.34228515625,
          2237.364013671875,
          2334.62939453125,
          2120.1044921875,
          2204.60498046875,
          2339.634765625,
          2182.4873046875,
          2150.22802734375,
          2145.22021484375,
          2275.9609375,
          2279.30908203125,
          2283.13671875,
          2223.79736328125,
          2255.0068359375,
          2290.134033203125,
          2186.771484375,
          2201.624267578125,
          2144.75927734375,
          2223.69921875,
          2241.8349609375,
          2329.183837890625,
          2233.957275390625,
          2180.73779296875,
          2214.72412109375,
          2233.269775390625,
          2119.666259765625,
          2166.37744140625,
          2173.573974609375,
          2430.263671875,
          2224.380615234375,
          2174.51318359375,
          2360.2841796875,
          2147.51611328125,
          2191.4443359375,
          2210.846435546875,
          2090.47607421875,
          2199.89697265625,
          2113.423828125,
          2278.06396484375,
          2114.02392578125,
          2229.63525390625,
          2367.78564453125,
          2132.207763671875,
          2222.677490234375,
          2264.404296875,
          2109.25341796875,
          2201.2607421875,
          2170.080078125,
          2209.252197265625,
          2096.80859375,
          2113.79150390625,
          2256.27978515625,
          2286.6748046875,
          2337.65087890625,
          2381.12646484375,
          2309.54638671875,
          2231.714111328125,
          2159.16455078125,
          2520.6181640625,
          2165.708251953125,
          2375.501708984375,
          2294.9755859375,
          2260.34375,
          2154.634521484375,
          2214.280517578125,
          2370.952392578125,
          2192.36865234375,
          2039.7529296875,
          2326.87158203125,
          2282.182861328125,
          2306.465087890625,
          2225.985595703125,
          2228.80859375,
          2246.31640625,
          2178.08447265625,
          2279.677001953125,
          2350.24560546875,
          2234.1162109375,
          2044.5301513671875,
          2385.08447265625,
          2265.767578125,
          2283.6572265625,
          2244.13623046875,
          2136.09521484375,
          2224.72607421875,
          2309.440185546875,
          2319.9775390625,
          2216.8896484375,
          2311.900390625,
          2214.86328125,
          2213.860107421875,
          2345.572021484375,
          2155.106689453125,
          2291.542724609375,
          2263.206787109375,
          2288.4140625,
          2124.222900390625,
          2172.194091796875,
          2310.76513671875,
          2184.06005859375,
          2265.481689453125,
          2313.654296875,
          2361.412109375,
          2312.9091796875,
          2308.48583984375,
          2110.739501953125,
          2220.72998046875,
          2417.70654296875,
          2198.78955078125,
          2179.05322265625,
          2376.273193359375,
          2201.3466796875,
          2326.466796875,
          2402.76416015625,
          2280.810791015625,
          2256.38037109375,
          2224.42578125,
          2253.388427734375,
          2137.305908203125,
          2143.833984375,
          2171.147216796875,
          2219.82958984375,
          2328.716796875,
          2231.60595703125,
          2112.93408203125,
          2118.81103515625,
          2339.89892578125,
          2225.2333984375,
          2343.74609375,
          2195.707275390625,
          2493.374267578125,
          2174.5068359375,
          2291.500244140625,
          2143.95751953125,
          2360.4541015625,
          2196.9970703125,
          2270.63232421875,
          2236.708984375,
          2305.954345703125,
          2234.955078125,
          2239.218017578125,
          2267.181884765625,
          2111.39892578125,
          2363.37744140625,
          2089.90625,
          2273.380615234375,
          2318.693115234375,
          2218.19287109375,
          2091.687255859375,
          2400.2294921875,
          2296.799560546875,
          2334.18798828125,
          2134.730224609375,
          2246.30224609375,
          2049.25927734375,
          2297.507080078125,
          2319.48291015625,
          1980.733154296875,
          2197.12841796875,
          2113.722900390625,
          2457.39111328125,
          2213.688720703125,
          2182.1318359375,
          2250.4716796875,
          2438.84521484375,
          2235.494384765625,
          2483.94384765625,
          2257.4111328125,
          2248.3017578125,
          2303.6337890625,
          2186.67578125,
          2472.192626953125,
          1988.376220703125,
          2256.2802734375,
          2252.63671875,
          2342.263671875,
          2172.861328125,
          2299.7236328125,
          2257.680908203125,
          2170.212890625,
          2256.6923828125,
          2207.66796875
         ],
         "xaxis": "x",
         "yaxis": "y"
        },
        {
         "alignmentgroup": "True",
         "bingroup": "x",
         "hovertemplate": "variable=Actual<br>value=%{x}<br>count=%{y}<extra></extra>",
         "legendgroup": "Actual",
         "marker": {
          "color": "#EF553B",
          "pattern": {
           "shape": ""
          }
         },
         "name": "Actual",
         "offsetgroup": "Actual",
         "orientation": "v",
         "showlegend": true,
         "type": "histogram",
         "x": [
          3939,
          4082.5,
          3581,
          3490,
          3432,
          1704,
          2037,
          4970,
          3585,
          3868,
          4452,
          4900.5,
          5358,
          8484,
          7940,
          3125,
          2474,
          4933,
          5069,
          3444,
          2546,
          5745,
          2300,
          937,
          2891,
          5759,
          1691,
          1619,
          8107,
          4920,
          6579,
          4909,
          4024.5,
          262,
          4367,
          2474,
          4046,
          4361,
          2077,
          3562,
          4052,
          5211,
          5021,
          3930,
          3611,
          4194,
          4405,
          1897,
          3599,
          5201,
          5811,
          5524,
          4185,
          3312,
          1900,
          5147,
          2295,
          2391.5,
          5842,
          4898,
          4618,
          8220,
          6005,
          2399.5,
          4865,
          3663,
          4081,
          7862,
          5101,
          6481,
          3489,
          3870,
          2379,
          1299,
          3771,
          7841,
          4415,
          4002,
          1277,
          5400,
          3261,
          920,
          2956,
          1325,
          4475,
          5181,
          6320.5,
          5428,
          5579,
          4303,
          4405,
          3455,
          4862,
          5272,
          5822,
          3183,
          2102,
          5722,
          3776,
          980,
          5987,
          2638,
          4049,
          2535,
          3501,
          4261,
          2888,
          3651,
          3090,
          1020,
          1858,
          6250,
          5786,
          4326,
          5426,
          3310.5,
          316,
          3952,
          3887,
          2546,
          3048,
          1762,
          4324,
          3373,
          5185,
          5257,
          4308,
          6409,
          4953,
          5314,
          6726,
          3459,
          3425,
          6515,
          8378,
          4172.5,
          5733,
          4665,
          2750,
          5061,
          2610,
          5992,
          2982,
          680,
          5295,
          3676,
          6331.5,
          4799,
          3779,
          3007,
          4704,
          3398,
          4226,
          3161,
          5238,
          6097,
          2217,
          3180,
          4858,
          3585,
          3793,
          3659,
          3720,
          2301,
          3848,
          4539,
          5802,
          3337,
          6431,
          3619,
          5636.5,
          3022,
          5247,
          1436,
          1937,
          4813,
          926,
          5413,
          3808,
          7406,
          4442,
          4003.5,
          2557,
          4262,
          3000,
          3011,
          2581.5,
          698,
          5837,
          3352,
          7216.5,
          2907,
          4629,
          5021,
          2422,
          6491,
          1366,
          6001,
          3752,
          531,
          6142,
          4147,
          5258.5,
          1669,
          6673,
          3753,
          4539,
          5899,
          3224.5,
          4410,
          3236,
          3955,
          3923,
          3194,
          2362,
          5567,
          5792,
          4322,
          4514,
          4165,
          3075,
          3626,
          4974,
          3211,
          1398,
          1877,
          2724,
          3350,
          810,
          5685,
          4986.5,
          6346,
          3427,
          3269,
          4451,
          6457,
          4054,
          4704,
          3549,
          4691,
          430,
          4972,
          3066,
          2827,
          1731,
          4943,
          3332,
          3118,
          6920,
          2927,
          8446,
          6868,
          3559,
          4373,
          747,
          6573,
          1815,
          4539,
          3261,
          857,
          2524,
          5704,
          2200,
          5692,
          2115,
          3858,
          4234,
          2667,
          6595,
          1493,
          5396,
          931,
          4970,
          3237,
          1698,
          6185,
          5627,
          1592,
          2585,
          5477,
          7692,
          4910,
          6836,
          1357,
          4822,
          4210,
          2611,
          3311,
          2493,
          3970,
          1467,
          6003,
          3850,
          1459,
          3231,
          3034,
          5842,
          5072,
          6004,
          5769,
          890,
          6868,
          2890,
          6995,
          5692,
          4790,
          4848,
          6332,
          2363,
          2175,
          6167,
          4291,
          2098.5,
          2668,
          4926,
          1347,
          7907,
          5662,
          471,
          6088,
          2716,
          3949,
          3518,
          3338,
          5252,
          4745.5,
          6458,
          1114,
          3886,
          3567,
          2651,
          4471.5,
          5273,
          5289,
          726,
          1760,
          1026,
          1324,
          2487,
          1282,
          5383,
          3868,
          3920,
          4218,
          3842,
          1107,
          8521,
          2199,
          6623,
          1443,
          8284,
          3682,
          3225,
          4136,
          2901,
          3281,
          680,
          6139,
          4193,
          1748,
          4865.5,
          6880,
          1834,
          1538,
          1036,
          6961,
          5546,
          3532,
          3424,
          2786,
          9117,
          3931,
          4299.5,
          4046,
          3968,
          2711,
          2275,
          3969,
          3096,
          2665,
          2188,
          5951,
          8195,
          4809,
          2144,
          5542,
          5847,
          7161,
          2124,
          4104,
          4388,
          3411,
          2226,
          4018,
          2865,
          3288,
          6300.5,
          1131,
          2327,
          2401,
          3367,
          2425,
          7491,
          6074,
          3971.5,
          1042,
          5050,
          7756,
          3369,
          4347,
          6086,
          5138,
          7635,
          4517,
          2589,
          3351,
          6647,
          7919,
          1985,
          3386,
          4024.5,
          3905,
          3501,
          2581.5,
          5132,
          7563,
          5800,
          2182,
          5072.5,
          5282,
          2974,
          1257,
          2690,
          3993,
          1335,
          5032,
          2408,
          3627,
          3350,
          2804,
          8876,
          5103,
          4431,
          1153,
          6245,
          1493,
          7893,
          2439,
          2071,
          7505,
          3846,
          4400,
          3762,
          5388,
          2303,
          6284,
          2775.5,
          6022,
          6914,
          2007,
          2392,
          2932,
          6316,
          3009,
          7552,
          5247,
          3783,
          3643,
          3274,
          5588,
          1206,
          4256.5,
          1294,
          4363,
          5297,
          5867,
          6050,
          6079,
          5571,
          4036,
          5089,
          9059,
          2386,
          2371,
          3537,
          6287,
          5728,
          4090,
          1105.3333333333333,
          3997,
          2892,
          2277,
          7692,
          6281,
          7052,
          755,
          4913,
          1751,
          3279,
          8060,
          3367,
          2940,
          5884,
          7803,
          3822,
          6690,
          4037,
          7558,
          3270,
          2836,
          4840,
          2136,
          1680,
          3989,
          6988
         ],
         "xaxis": "x",
         "yaxis": "y"
        }
       ],
       "layout": {
        "autosize": true,
        "barmode": "relative",
        "legend": {
         "title": {
          "text": "variable"
         },
         "tracegroupgap": 0
        },
        "margin": {
         "t": 60
        },
        "template": {
         "data": {
          "bar": [
           {
            "error_x": {
             "color": "#2a3f5f"
            },
            "error_y": {
             "color": "#2a3f5f"
            },
            "marker": {
             "line": {
              "color": "#E5ECF6",
              "width": 0.5
             },
             "pattern": {
              "fillmode": "overlay",
              "size": 10,
              "solidity": 0.2
             }
            },
            "type": "bar"
           }
          ],
          "barpolar": [
           {
            "marker": {
             "line": {
              "color": "#E5ECF6",
              "width": 0.5
             },
             "pattern": {
              "fillmode": "overlay",
              "size": 10,
              "solidity": 0.2
             }
            },
            "type": "barpolar"
           }
          ],
          "carpet": [
           {
            "aaxis": {
             "endlinecolor": "#2a3f5f",
             "gridcolor": "white",
             "linecolor": "white",
             "minorgridcolor": "white",
             "startlinecolor": "#2a3f5f"
            },
            "baxis": {
             "endlinecolor": "#2a3f5f",
             "gridcolor": "white",
             "linecolor": "white",
             "minorgridcolor": "white",
             "startlinecolor": "#2a3f5f"
            },
            "type": "carpet"
           }
          ],
          "choropleth": [
           {
            "colorbar": {
             "outlinewidth": 0,
             "ticks": ""
            },
            "type": "choropleth"
           }
          ],
          "contour": [
           {
            "colorbar": {
             "outlinewidth": 0,
             "ticks": ""
            },
            "colorscale": [
             [
              0,
              "#0d0887"
             ],
             [
              0.1111111111111111,
              "#46039f"
             ],
             [
              0.2222222222222222,
              "#7201a8"
             ],
             [
              0.3333333333333333,
              "#9c179e"
             ],
             [
              0.4444444444444444,
              "#bd3786"
             ],
             [
              0.5555555555555556,
              "#d8576b"
             ],
             [
              0.6666666666666666,
              "#ed7953"
             ],
             [
              0.7777777777777778,
              "#fb9f3a"
             ],
             [
              0.8888888888888888,
              "#fdca26"
             ],
             [
              1,
              "#f0f921"
             ]
            ],
            "type": "contour"
           }
          ],
          "contourcarpet": [
           {
            "colorbar": {
             "outlinewidth": 0,
             "ticks": ""
            },
            "type": "contourcarpet"
           }
          ],
          "heatmap": [
           {
            "colorbar": {
             "outlinewidth": 0,
             "ticks": ""
            },
            "colorscale": [
             [
              0,
              "#0d0887"
             ],
             [
              0.1111111111111111,
              "#46039f"
             ],
             [
              0.2222222222222222,
              "#7201a8"
             ],
             [
              0.3333333333333333,
              "#9c179e"
             ],
             [
              0.4444444444444444,
              "#bd3786"
             ],
             [
              0.5555555555555556,
              "#d8576b"
             ],
             [
              0.6666666666666666,
              "#ed7953"
             ],
             [
              0.7777777777777778,
              "#fb9f3a"
             ],
             [
              0.8888888888888888,
              "#fdca26"
             ],
             [
              1,
              "#f0f921"
             ]
            ],
            "type": "heatmap"
           }
          ],
          "heatmapgl": [
           {
            "colorbar": {
             "outlinewidth": 0,
             "ticks": ""
            },
            "colorscale": [
             [
              0,
              "#0d0887"
             ],
             [
              0.1111111111111111,
              "#46039f"
             ],
             [
              0.2222222222222222,
              "#7201a8"
             ],
             [
              0.3333333333333333,
              "#9c179e"
             ],
             [
              0.4444444444444444,
              "#bd3786"
             ],
             [
              0.5555555555555556,
              "#d8576b"
             ],
             [
              0.6666666666666666,
              "#ed7953"
             ],
             [
              0.7777777777777778,
              "#fb9f3a"
             ],
             [
              0.8888888888888888,
              "#fdca26"
             ],
             [
              1,
              "#f0f921"
             ]
            ],
            "type": "heatmapgl"
           }
          ],
          "histogram": [
           {
            "marker": {
             "pattern": {
              "fillmode": "overlay",
              "size": 10,
              "solidity": 0.2
             }
            },
            "type": "histogram"
           }
          ],
          "histogram2d": [
           {
            "colorbar": {
             "outlinewidth": 0,
             "ticks": ""
            },
            "colorscale": [
             [
              0,
              "#0d0887"
             ],
             [
              0.1111111111111111,
              "#46039f"
             ],
             [
              0.2222222222222222,
              "#7201a8"
             ],
             [
              0.3333333333333333,
              "#9c179e"
             ],
             [
              0.4444444444444444,
              "#bd3786"
             ],
             [
              0.5555555555555556,
              "#d8576b"
             ],
             [
              0.6666666666666666,
              "#ed7953"
             ],
             [
              0.7777777777777778,
              "#fb9f3a"
             ],
             [
              0.8888888888888888,
              "#fdca26"
             ],
             [
              1,
              "#f0f921"
             ]
            ],
            "type": "histogram2d"
           }
          ],
          "histogram2dcontour": [
           {
            "colorbar": {
             "outlinewidth": 0,
             "ticks": ""
            },
            "colorscale": [
             [
              0,
              "#0d0887"
             ],
             [
              0.1111111111111111,
              "#46039f"
             ],
             [
              0.2222222222222222,
              "#7201a8"
             ],
             [
              0.3333333333333333,
              "#9c179e"
             ],
             [
              0.4444444444444444,
              "#bd3786"
             ],
             [
              0.5555555555555556,
              "#d8576b"
             ],
             [
              0.6666666666666666,
              "#ed7953"
             ],
             [
              0.7777777777777778,
              "#fb9f3a"
             ],
             [
              0.8888888888888888,
              "#fdca26"
             ],
             [
              1,
              "#f0f921"
             ]
            ],
            "type": "histogram2dcontour"
           }
          ],
          "mesh3d": [
           {
            "colorbar": {
             "outlinewidth": 0,
             "ticks": ""
            },
            "type": "mesh3d"
           }
          ],
          "parcoords": [
           {
            "line": {
             "colorbar": {
              "outlinewidth": 0,
              "ticks": ""
             }
            },
            "type": "parcoords"
           }
          ],
          "pie": [
           {
            "automargin": true,
            "type": "pie"
           }
          ],
          "scatter": [
           {
            "marker": {
             "colorbar": {
              "outlinewidth": 0,
              "ticks": ""
             }
            },
            "type": "scatter"
           }
          ],
          "scatter3d": [
           {
            "line": {
             "colorbar": {
              "outlinewidth": 0,
              "ticks": ""
             }
            },
            "marker": {
             "colorbar": {
              "outlinewidth": 0,
              "ticks": ""
             }
            },
            "type": "scatter3d"
           }
          ],
          "scattercarpet": [
           {
            "marker": {
             "colorbar": {
              "outlinewidth": 0,
              "ticks": ""
             }
            },
            "type": "scattercarpet"
           }
          ],
          "scattergeo": [
           {
            "marker": {
             "colorbar": {
              "outlinewidth": 0,
              "ticks": ""
             }
            },
            "type": "scattergeo"
           }
          ],
          "scattergl": [
           {
            "marker": {
             "colorbar": {
              "outlinewidth": 0,
              "ticks": ""
             }
            },
            "type": "scattergl"
           }
          ],
          "scattermapbox": [
           {
            "marker": {
             "colorbar": {
              "outlinewidth": 0,
              "ticks": ""
             }
            },
            "type": "scattermapbox"
           }
          ],
          "scatterpolar": [
           {
            "marker": {
             "colorbar": {
              "outlinewidth": 0,
              "ticks": ""
             }
            },
            "type": "scatterpolar"
           }
          ],
          "scatterpolargl": [
           {
            "marker": {
             "colorbar": {
              "outlinewidth": 0,
              "ticks": ""
             }
            },
            "type": "scatterpolargl"
           }
          ],
          "scatterternary": [
           {
            "marker": {
             "colorbar": {
              "outlinewidth": 0,
              "ticks": ""
             }
            },
            "type": "scatterternary"
           }
          ],
          "surface": [
           {
            "colorbar": {
             "outlinewidth": 0,
             "ticks": ""
            },
            "colorscale": [
             [
              0,
              "#0d0887"
             ],
             [
              0.1111111111111111,
              "#46039f"
             ],
             [
              0.2222222222222222,
              "#7201a8"
             ],
             [
              0.3333333333333333,
              "#9c179e"
             ],
             [
              0.4444444444444444,
              "#bd3786"
             ],
             [
              0.5555555555555556,
              "#d8576b"
             ],
             [
              0.6666666666666666,
              "#ed7953"
             ],
             [
              0.7777777777777778,
              "#fb9f3a"
             ],
             [
              0.8888888888888888,
              "#fdca26"
             ],
             [
              1,
              "#f0f921"
             ]
            ],
            "type": "surface"
           }
          ],
          "table": [
           {
            "cells": {
             "fill": {
              "color": "#EBF0F8"
             },
             "line": {
              "color": "white"
             }
            },
            "header": {
             "fill": {
              "color": "#C8D4E3"
             },
             "line": {
              "color": "white"
             }
            },
            "type": "table"
           }
          ]
         },
         "layout": {
          "annotationdefaults": {
           "arrowcolor": "#2a3f5f",
           "arrowhead": 0,
           "arrowwidth": 1
          },
          "autotypenumbers": "strict",
          "coloraxis": {
           "colorbar": {
            "outlinewidth": 0,
            "ticks": ""
           }
          },
          "colorscale": {
           "diverging": [
            [
             0,
             "#8e0152"
            ],
            [
             0.1,
             "#c51b7d"
            ],
            [
             0.2,
             "#de77ae"
            ],
            [
             0.3,
             "#f1b6da"
            ],
            [
             0.4,
             "#fde0ef"
            ],
            [
             0.5,
             "#f7f7f7"
            ],
            [
             0.6,
             "#e6f5d0"
            ],
            [
             0.7,
             "#b8e186"
            ],
            [
             0.8,
             "#7fbc41"
            ],
            [
             0.9,
             "#4d9221"
            ],
            [
             1,
             "#276419"
            ]
           ],
           "sequential": [
            [
             0,
             "#0d0887"
            ],
            [
             0.1111111111111111,
             "#46039f"
            ],
            [
             0.2222222222222222,
             "#7201a8"
            ],
            [
             0.3333333333333333,
             "#9c179e"
            ],
            [
             0.4444444444444444,
             "#bd3786"
            ],
            [
             0.5555555555555556,
             "#d8576b"
            ],
            [
             0.6666666666666666,
             "#ed7953"
            ],
            [
             0.7777777777777778,
             "#fb9f3a"
            ],
            [
             0.8888888888888888,
             "#fdca26"
            ],
            [
             1,
             "#f0f921"
            ]
           ],
           "sequentialminus": [
            [
             0,
             "#0d0887"
            ],
            [
             0.1111111111111111,
             "#46039f"
            ],
            [
             0.2222222222222222,
             "#7201a8"
            ],
            [
             0.3333333333333333,
             "#9c179e"
            ],
            [
             0.4444444444444444,
             "#bd3786"
            ],
            [
             0.5555555555555556,
             "#d8576b"
            ],
            [
             0.6666666666666666,
             "#ed7953"
            ],
            [
             0.7777777777777778,
             "#fb9f3a"
            ],
            [
             0.8888888888888888,
             "#fdca26"
            ],
            [
             1,
             "#f0f921"
            ]
           ]
          },
          "colorway": [
           "#636efa",
           "#EF553B",
           "#00cc96",
           "#ab63fa",
           "#FFA15A",
           "#19d3f3",
           "#FF6692",
           "#B6E880",
           "#FF97FF",
           "#FECB52"
          ],
          "font": {
           "color": "#2a3f5f"
          },
          "geo": {
           "bgcolor": "white",
           "lakecolor": "white",
           "landcolor": "#E5ECF6",
           "showlakes": true,
           "showland": true,
           "subunitcolor": "white"
          },
          "hoverlabel": {
           "align": "left"
          },
          "hovermode": "closest",
          "mapbox": {
           "style": "light"
          },
          "paper_bgcolor": "white",
          "plot_bgcolor": "#E5ECF6",
          "polar": {
           "angularaxis": {
            "gridcolor": "white",
            "linecolor": "white",
            "ticks": ""
           },
           "bgcolor": "#E5ECF6",
           "radialaxis": {
            "gridcolor": "white",
            "linecolor": "white",
            "ticks": ""
           }
          },
          "scene": {
           "xaxis": {
            "backgroundcolor": "#E5ECF6",
            "gridcolor": "white",
            "gridwidth": 2,
            "linecolor": "white",
            "showbackground": true,
            "ticks": "",
            "zerolinecolor": "white"
           },
           "yaxis": {
            "backgroundcolor": "#E5ECF6",
            "gridcolor": "white",
            "gridwidth": 2,
            "linecolor": "white",
            "showbackground": true,
            "ticks": "",
            "zerolinecolor": "white"
           },
           "zaxis": {
            "backgroundcolor": "#E5ECF6",
            "gridcolor": "white",
            "gridwidth": 2,
            "linecolor": "white",
            "showbackground": true,
            "ticks": "",
            "zerolinecolor": "white"
           }
          },
          "shapedefaults": {
           "line": {
            "color": "#2a3f5f"
           }
          },
          "ternary": {
           "aaxis": {
            "gridcolor": "white",
            "linecolor": "white",
            "ticks": ""
           },
           "baxis": {
            "gridcolor": "white",
            "linecolor": "white",
            "ticks": ""
           },
           "bgcolor": "#E5ECF6",
           "caxis": {
            "gridcolor": "white",
            "linecolor": "white",
            "ticks": ""
           }
          },
          "title": {
           "x": 0.05
          },
          "xaxis": {
           "automargin": true,
           "gridcolor": "white",
           "linecolor": "white",
           "ticks": "",
           "title": {
            "standoff": 15
           },
           "zerolinecolor": "white",
           "zerolinewidth": 2
          },
          "yaxis": {
           "automargin": true,
           "gridcolor": "white",
           "linecolor": "white",
           "ticks": "",
           "title": {
            "standoff": 15
           },
           "zerolinecolor": "white",
           "zerolinewidth": 2
          }
         }
        },
        "xaxis": {
         "anchor": "y",
         "autorange": true,
         "domain": [
          0,
          1
         ],
         "range": [
          200,
          9200
         ],
         "title": {
          "text": "value"
         },
         "type": "linear"
        },
        "yaxis": {
         "anchor": "x",
         "autorange": true,
         "domain": [
          0,
          1
         ],
         "range": [
          0,
          353.6842105263158
         ],
         "title": {
          "text": "count"
         }
        }
       }
      },
      "image/png": "[encoded data removed]",
      "text/html": [
       "<div>                            <div id=\"3e885ea2-7a0d-4d72-a923-1121acd417ca\" class=\"plotly-graph-div\" style=\"height:525px; width:100%;\"></div>            <script type=\"text/javascript\">                require([\"plotly\"], function(Plotly) {                    window.PLOTLYENV=window.PLOTLYENV || {};                                    if (document.getElementById(\"3e885ea2-7a0d-4d72-a923-1121acd417ca\")) {                    Plotly.newPlot(                        \"3e885ea2-7a0d-4d72-a923-1121acd417ca\",                        [{\"alignmentgroup\":\"True\",\"bingroup\":\"x\",\"hovertemplate\":\"variable=Pred<br>value=%{x}<br>count=%{y}<extra></extra>\",\"legendgroup\":\"Pred\",\"marker\":{\"color\":\"#636efa\",\"pattern\":{\"shape\":\"\"}},\"name\":\"Pred\",\"offsetgroup\":\"Pred\",\"orientation\":\"v\",\"showlegend\":true,\"x\":[2181.791259765625,2297.1083984375,2164.966552734375,2080.313232421875,2225.92041015625,2452.28173828125,2260.50634765625,2258.076904296875,2382.384765625,2162.532958984375,2352.80615234375,2352.953369140625,2263.891845703125,2315.733154296875,2107.477294921875,2206.995849609375,2231.644775390625,2218.69384765625,2211.203369140625,2165.7158203125,2238.345703125,2255.34814453125,2458.8876953125,2213.110107421875,2338.6396484375,2345.22900390625,2269.35791015625,2275.5966796875,2257.970703125,2300.282958984375,2239.86767578125,2456.276611328125,2220.3466796875,2167.5888671875,2208.729736328125,2321.51513671875,2093.9111328125,2214.1298828125,2180.73095703125,2074.30517578125,2217.232421875,2204.32177734375,2273.9736328125,2263.433837890625,2273.64013671875,2259.80029296875,2312.637939453125,2251.39306640625,2219.27001953125,2205.306640625,2216.79150390625,2306.75146484375,2383.71142578125,2163.88916015625,2166.02294921875,2232.9658203125,2133.701171875,2204.339599609375,2336.49951171875,2253.96142578125,2232.5107421875,2321.375,2181.962890625,2171.425048828125,2307.32958984375,2397.36279296875,2129.74755859375,2133.6396484375,2161.55224609375,2271.104248046875,2335.75341796875,2181.2744140625,2387.115234375,2201.293212890625,2295.53759765625,2246.4677734375,2456.30615234375,2188.92236328125,2181.376953125,2149.31884765625,2285.2587890625,2218.183837890625,2106.61279296875,2125.5791015625,2225.69970703125,2123.4462890625,2199.94287109375,2120.7060546875,2418.2216796875,2226.220458984375,2262.6875,2195.688232421875,2342.34375,2264.67626953125,2455.486328125,2214.005615234375,2251.22314453125,2166.47021484375,2303.6845703125,2255.710205078125,2242.133544921875,2386.652587890625,2214.65185546875,2211.8076171875,2457.36669921875,2182.31298828125,2269.247314453125,2364.588134765625,2171.03125,2572.8916015625,2070.2666015625,2184.71337890625,2062.2734375,2111.18408203125,2328.388671875,2331.37451171875,2272.61279296875,2250.289794921875,2195.38720703125,2248.0849609375,2091.5419921875,2287.2744140625,2348.1845703125,2379.916748046875,2261.36767578125,2165.62939453125,2228.178466796875,2292.0810546875,2158.629638671875,2390.0185546875,2239.185546875,2365.22021484375,2101.357421875,2380.87939453125,2251.79638671875,2385.87890625,2435.871337890625,2329.928955078125,2231.01708984375,2146.936279296875,2204.765625,2420.369873046875,2277.569580078125,2187.597412109375,2398.28466796875,2325.773681640625,2200.81787109375,2525.39990234375,2304.3154296875,2187.990234375,2245.00244140625,2253.715087890625,2121.941162109375,2340.376708984375,2101.11767578125,2210.21826171875,2241.18798828125,2264.15966796875,2117.112060546875,2366.534423828125,2138.170654296875,2220.10009765625,2340.3916015625,2294.862060546875,2205.663818359375,2292.4443359375,2307.52880859375,2214.8154296875,2204.23291015625,2277.96142578125,2374.59619140625,2146.035888671875,2257.72705078125,2171.04296875,2244.51123046875,2273.851806640625,2338.273681640625,2306.6259765625,2233.752685546875,2252.6328125,2231.92822265625,2220.88720703125,2222.19091796875,2291.2119140625,2228.184814453125,2079.302001953125,2282.21826171875,2151.324951171875,2156.65380859375,2191.439453125,2469.361328125,2213.12353515625,2364.88671875,2429.34228515625,2183.521484375,2195.783935546875,2142.185302734375,2218.50048828125,2161.191650390625,2206.940185546875,2034.9222412109375,2503.148193359375,2268.822998046875,2225.42724609375,2229.40283203125,2258.6083984375,2405.266357421875,2259.306640625,2234.82568359375,2143.10205078125,2186.12548828125,2211.00927734375,2278.625,2215.63720703125,2370.348876953125,2251.5205078125,2240.3583984375,2216.5517578125,2090.578369140625,2155.887451171875,2230.985595703125,2194.89990234375,2339.529296875,2329.45751953125,2214.7666015625,2423.361328125,2367.0634765625,2180.065185546875,2344.7197265625,2081.99951171875,2156.1640625,2430.134521484375,2262.595703125,2193.875,2503.068359375,2303.824951171875,2105.8388671875,2088.970458984375,2324.72509765625,2240.267333984375,2306.15869140625,2267.607421875,2231.48779296875,2174.021484375,2314.374267578125,2138.375732421875,2252.84033203125,2449.315185546875,2286.965576171875,2284.74462890625,2164.77783203125,2095.583984375,2326.3232421875,2216.8388671875,2404.8837890625,2205.056884765625,2231.46142578125,2375.56201171875,2181.01220703125,2412.376953125,2386.10205078125,2185.5068359375,2398.3828125,2094.300048828125,2189.33935546875,2210.85205078125,2444.47021484375,2168.405029296875,2464.4560546875,2211.508056640625,2175.484375,2298.287109375,2240.699462890625,2261.888916015625,2317.39306640625,2190.6064453125,2306.6708984375,2178.08349609375,2161.480712890625,2342.73681640625,2320.81689453125,2172.22412109375,2062.552001953125,2381.15673828125,2064.4345703125,2170.44287109375,2391.685546875,2352.516845703125,2175.058837890625,2308.052734375,2173.142333984375,2464.412109375,2075.025146484375,2199.31982421875,2313.384521484375,2081.03564453125,2315.60009765625,2214.93408203125,2248.998046875,2486.49951171875,2357.892578125,2384.90380859375,2362.305908203125,2395.364013671875,2497.0556640625,2221.2236328125,2502.91455078125,2368.3251953125,2293.19384765625,2333.36279296875,2118.134033203125,2317.25927734375,2295.116455078125,2198.09130859375,2234.63330078125,2100.346435546875,2285.2060546875,2310.713623046875,2236.564208984375,2340.8173828125,2359.31787109375,2427.48291015625,2222.01220703125,2328.09375,2277.72509765625,2191.098876953125,2305.576171875,2434.247802734375,2131.21630859375,2051.367431640625,2168.476318359375,2094.17626953125,2361.770751953125,2322.34228515625,2237.364013671875,2334.62939453125,2120.1044921875,2204.60498046875,2339.634765625,2182.4873046875,2150.22802734375,2145.22021484375,2275.9609375,2279.30908203125,2283.13671875,2223.79736328125,2255.0068359375,2290.134033203125,2186.771484375,2201.624267578125,2144.75927734375,2223.69921875,2241.8349609375,2329.183837890625,2233.957275390625,2180.73779296875,2214.72412109375,2233.269775390625,2119.666259765625,2166.37744140625,2173.573974609375,2430.263671875,2224.380615234375,2174.51318359375,2360.2841796875,2147.51611328125,2191.4443359375,2210.846435546875,2090.47607421875,2199.89697265625,2113.423828125,2278.06396484375,2114.02392578125,2229.63525390625,2367.78564453125,2132.207763671875,2222.677490234375,2264.404296875,2109.25341796875,2201.2607421875,2170.080078125,2209.252197265625,2096.80859375,2113.79150390625,2256.27978515625,2286.6748046875,2337.65087890625,2381.12646484375,2309.54638671875,2231.714111328125,2159.16455078125,2520.6181640625,2165.708251953125,2375.501708984375,2294.9755859375,2260.34375,2154.634521484375,2214.280517578125,2370.952392578125,2192.36865234375,2039.7529296875,2326.87158203125,2282.182861328125,2306.465087890625,2225.985595703125,2228.80859375,2246.31640625,2178.08447265625,2279.677001953125,2350.24560546875,2234.1162109375,2044.5301513671875,2385.08447265625,2265.767578125,2283.6572265625,2244.13623046875,2136.09521484375,2224.72607421875,2309.440185546875,2319.9775390625,2216.8896484375,2311.900390625,2214.86328125,2213.860107421875,2345.572021484375,2155.106689453125,2291.542724609375,2263.206787109375,2288.4140625,2124.222900390625,2172.194091796875,2310.76513671875,2184.06005859375,2265.481689453125,2313.654296875,2361.412109375,2312.9091796875,2308.48583984375,2110.739501953125,2220.72998046875,2417.70654296875,2198.78955078125,2179.05322265625,2376.273193359375,2201.3466796875,2326.466796875,2402.76416015625,2280.810791015625,2256.38037109375,2224.42578125,2253.388427734375,2137.305908203125,2143.833984375,2171.147216796875,2219.82958984375,2328.716796875,2231.60595703125,2112.93408203125,2118.81103515625,2339.89892578125,2225.2333984375,2343.74609375,2195.707275390625,2493.374267578125,2174.5068359375,2291.500244140625,2143.95751953125,2360.4541015625,2196.9970703125,2270.63232421875,2236.708984375,2305.954345703125,2234.955078125,2239.218017578125,2267.181884765625,2111.39892578125,2363.37744140625,2089.90625,2273.380615234375,2318.693115234375,2218.19287109375,2091.687255859375,2400.2294921875,2296.799560546875,2334.18798828125,2134.730224609375,2246.30224609375,2049.25927734375,2297.507080078125,2319.48291015625,1980.733154296875,2197.12841796875,2113.722900390625,2457.39111328125,2213.688720703125,2182.1318359375,2250.4716796875,2438.84521484375,2235.494384765625,2483.94384765625,2257.4111328125,2248.3017578125,2303.6337890625,2186.67578125,2472.192626953125,1988.376220703125,2256.2802734375,2252.63671875,2342.263671875,2172.861328125,2299.7236328125,2257.680908203125,2170.212890625,2256.6923828125,2207.66796875],\"xaxis\":\"x\",\"yaxis\":\"y\",\"type\":\"histogram\"},{\"alignmentgroup\":\"True\",\"bingroup\":\"x\",\"hovertemplate\":\"variable=Actual<br>value=%{x}<br>count=%{y}<extra></extra>\",\"legendgroup\":\"Actual\",\"marker\":{\"color\":\"#EF553B\",\"pattern\":{\"shape\":\"\"}},\"name\":\"Actual\",\"offsetgroup\":\"Actual\",\"orientation\":\"v\",\"showlegend\":true,\"x\":[3939.0,4082.5,3581.0,3490.0,3432.0,1704.0,2037.0,4970.0,3585.0,3868.0,4452.0,4900.5,5358.0,8484.0,7940.0,3125.0,2474.0,4933.0,5069.0,3444.0,2546.0,5745.0,2300.0,937.0,2891.0,5759.0,1691.0,1619.0,8107.0,4920.0,6579.0,4909.0,4024.5,262.0,4367.0,2474.0,4046.0,4361.0,2077.0,3562.0,4052.0,5211.0,5021.0,3930.0,3611.0,4194.0,4405.0,1897.0,3599.0,5201.0,5811.0,5524.0,4185.0,3312.0,1900.0,5147.0,2295.0,2391.5,5842.0,4898.0,4618.0,8220.0,6005.0,2399.5,4865.0,3663.0,4081.0,7862.0,5101.0,6481.0,3489.0,3870.0,2379.0,1299.0,3771.0,7841.0,4415.0,4002.0,1277.0,5400.0,3261.0,920.0,2956.0,1325.0,4475.0,5181.0,6320.5,5428.0,5579.0,4303.0,4405.0,3455.0,4862.0,5272.0,5822.0,3183.0,2102.0,5722.0,3776.0,980.0,5987.0,2638.0,4049.0,2535.0,3501.0,4261.0,2888.0,3651.0,3090.0,1020.0,1858.0,6250.0,5786.0,4326.0,5426.0,3310.5,316.0,3952.0,3887.0,2546.0,3048.0,1762.0,4324.0,3373.0,5185.0,5257.0,4308.0,6409.0,4953.0,5314.0,6726.0,3459.0,3425.0,6515.0,8378.0,4172.5,5733.0,4665.0,2750.0,5061.0,2610.0,5992.0,2982.0,680.0,5295.0,3676.0,6331.5,4799.0,3779.0,3007.0,4704.0,3398.0,4226.0,3161.0,5238.0,6097.0,2217.0,3180.0,4858.0,3585.0,3793.0,3659.0,3720.0,2301.0,3848.0,4539.0,5802.0,3337.0,6431.0,3619.0,5636.5,3022.0,5247.0,1436.0,1937.0,4813.0,926.0,5413.0,3808.0,7406.0,4442.0,4003.5,2557.0,4262.0,3000.0,3011.0,2581.5,698.0,5837.0,3352.0,7216.5,2907.0,4629.0,5021.0,2422.0,6491.0,1366.0,6001.0,3752.0,531.0,6142.0,4147.0,5258.5,1669.0,6673.0,3753.0,4539.0,5899.0,3224.5,4410.0,3236.0,3955.0,3923.0,3194.0,2362.0,5567.0,5792.0,4322.0,4514.0,4165.0,3075.0,3626.0,4974.0,3211.0,1398.0,1877.0,2724.0,3350.0,810.0,5685.0,4986.5,6346.0,3427.0,3269.0,4451.0,6457.0,4054.0,4704.0,3549.0,4691.0,430.0,4972.0,3066.0,2827.0,1731.0,4943.0,3332.0,3118.0,6920.0,2927.0,8446.0,6868.0,3559.0,4373.0,747.0,6573.0,1815.0,4539.0,3261.0,857.0,2524.0,5704.0,2200.0,5692.0,2115.0,3858.0,4234.0,2667.0,6595.0,1493.0,5396.0,931.0,4970.0,3237.0,1698.0,6185.0,5627.0,1592.0,2585.0,5477.0,7692.0,4910.0,6836.0,1357.0,4822.0,4210.0,2611.0,3311.0,2493.0,3970.0,1467.0,6003.0,3850.0,1459.0,3231.0,3034.0,5842.0,5072.0,6004.0,5769.0,890.0,6868.0,2890.0,6995.0,5692.0,4790.0,4848.0,6332.0,2363.0,2175.0,6167.0,4291.0,2098.5,2668.0,4926.0,1347.0,7907.0,5662.0,471.0,6088.0,2716.0,3949.0,3518.0,3338.0,5252.0,4745.5,6458.0,1114.0,3886.0,3567.0,2651.0,4471.5,5273.0,5289.0,726.0,1760.0,1026.0,1324.0,2487.0,1282.0,5383.0,3868.0,3920.0,4218.0,3842.0,1107.0,8521.0,2199.0,6623.0,1443.0,8284.0,3682.0,3225.0,4136.0,2901.0,3281.0,680.0,6139.0,4193.0,1748.0,4865.5,6880.0,1834.0,1538.0,1036.0,6961.0,5546.0,3532.0,3424.0,2786.0,9117.0,3931.0,4299.5,4046.0,3968.0,2711.0,2275.0,3969.0,3096.0,2665.0,2188.0,5951.0,8195.0,4809.0,2144.0,5542.0,5847.0,7161.0,2124.0,4104.0,4388.0,3411.0,2226.0,4018.0,2865.0,3288.0,6300.5,1131.0,2327.0,2401.0,3367.0,2425.0,7491.0,6074.0,3971.5,1042.0,5050.0,7756.0,3369.0,4347.0,6086.0,5138.0,7635.0,4517.0,2589.0,3351.0,6647.0,7919.0,1985.0,3386.0,4024.5,3905.0,3501.0,2581.5,5132.0,7563.0,5800.0,2182.0,5072.5,5282.0,2974.0,1257.0,2690.0,3993.0,1335.0,5032.0,2408.0,3627.0,3350.0,2804.0,8876.0,5103.0,4431.0,1153.0,6245.0,1493.0,7893.0,2439.0,2071.0,7505.0,3846.0,4400.0,3762.0,5388.0,2303.0,6284.0,2775.5,6022.0,6914.0,2007.0,2392.0,2932.0,6316.0,3009.0,7552.0,5247.0,3783.0,3643.0,3274.0,5588.0,1206.0,4256.5,1294.0,4363.0,5297.0,5867.0,6050.0,6079.0,5571.0,4036.0,5089.0,9059.0,2386.0,2371.0,3537.0,6287.0,5728.0,4090.0,1105.3333333333333,3997.0,2892.0,2277.0,7692.0,6281.0,7052.0,755.0,4913.0,1751.0,3279.0,8060.0,3367.0,2940.0,5884.0,7803.0,3822.0,6690.0,4037.0,7558.0,3270.0,2836.0,4840.0,2136.0,1680.0,3989.0,6988.0],\"xaxis\":\"x\",\"yaxis\":\"y\",\"type\":\"histogram\"}],                        {\"template\":{\"data\":{\"bar\":[{\"error_x\":{\"color\":\"#2a3f5f\"},\"error_y\":{\"color\":\"#2a3f5f\"},\"marker\":{\"line\":{\"color\":\"#E5ECF6\",\"width\":0.5},\"pattern\":{\"fillmode\":\"overlay\",\"size\":10,\"solidity\":0.2}},\"type\":\"bar\"}],\"barpolar\":[{\"marker\":{\"line\":{\"color\":\"#E5ECF6\",\"width\":0.5},\"pattern\":{\"fillmode\":\"overlay\",\"size\":10,\"solidity\":0.2}},\"type\":\"barpolar\"}],\"carpet\":[{\"aaxis\":{\"endlinecolor\":\"#2a3f5f\",\"gridcolor\":\"white\",\"linecolor\":\"white\",\"minorgridcolor\":\"white\",\"startlinecolor\":\"#2a3f5f\"},\"baxis\":{\"endlinecolor\":\"#2a3f5f\",\"gridcolor\":\"white\",\"linecolor\":\"white\",\"minorgridcolor\":\"white\",\"startlinecolor\":\"#2a3f5f\"},\"type\":\"carpet\"}],\"choropleth\":[{\"colorbar\":{\"outlinewidth\":0,\"ticks\":\"\"},\"type\":\"choropleth\"}],\"contour\":[{\"colorbar\":{\"outlinewidth\":0,\"ticks\":\"\"},\"colorscale\":[[0.0,\"#0d0887\"],[0.1111111111111111,\"#46039f\"],[0.2222222222222222,\"#7201a8\"],[0.3333333333333333,\"#9c179e\"],[0.4444444444444444,\"#bd3786\"],[0.5555555555555556,\"#d8576b\"],[0.6666666666666666,\"#ed7953\"],[0.7777777777777778,\"#fb9f3a\"],[0.8888888888888888,\"#fdca26\"],[1.0,\"#f0f921\"]],\"type\":\"contour\"}],\"contourcarpet\":[{\"colorbar\":{\"outlinewidth\":0,\"ticks\":\"\"},\"type\":\"contourcarpet\"}],\"heatmap\":[{\"colorbar\":{\"outlinewidth\":0,\"ticks\":\"\"},\"colorscale\":[[0.0,\"#0d0887\"],[0.1111111111111111,\"#46039f\"],[0.2222222222222222,\"#7201a8\"],[0.3333333333333333,\"#9c179e\"],[0.4444444444444444,\"#bd3786\"],[0.5555555555555556,\"#d8576b\"],[0.6666666666666666,\"#ed7953\"],[0.7777777777777778,\"#fb9f3a\"],[0.8888888888888888,\"#fdca26\"],[1.0,\"#f0f921\"]],\"type\":\"heatmap\"}],\"heatmapgl\":[{\"colorbar\":{\"outlinewidth\":0,\"ticks\":\"\"},\"colorscale\":[[0.0,\"#0d0887\"],[0.1111111111111111,\"#46039f\"],[0.2222222222222222,\"#7201a8\"],[0.3333333333333333,\"#9c179e\"],[0.4444444444444444,\"#bd3786\"],[0.5555555555555556,\"#d8576b\"],[0.6666666666666666,\"#ed7953\"],[0.7777777777777778,\"#fb9f3a\"],[0.8888888888888888,\"#fdca26\"],[1.0,\"#f0f921\"]],\"type\":\"heatmapgl\"}],\"histogram\":[{\"marker\":{\"pattern\":{\"fillmode\":\"overlay\",\"size\":10,\"solidity\":0.2}},\"type\":\"histogram\"}],\"histogram2d\":[{\"colorbar\":{\"outlinewidth\":0,\"ticks\":\"\"},\"colorscale\":[[0.0,\"#0d0887\"],[0.1111111111111111,\"#46039f\"],[0.2222222222222222,\"#7201a8\"],[0.3333333333333333,\"#9c179e\"],[0.4444444444444444,\"#bd3786\"],[0.5555555555555556,\"#d8576b\"],[0.6666666666666666,\"#ed7953\"],[0.7777777777777778,\"#fb9f3a\"],[0.8888888888888888,\"#fdca26\"],[1.0,\"#f0f921\"]],\"type\":\"histogram2d\"}],\"histogram2dcontour\":[{\"colorbar\":{\"outlinewidth\":0,\"ticks\":\"\"},\"colorscale\":[[0.0,\"#0d0887\"],[0.1111111111111111,\"#46039f\"],[0.2222222222222222,\"#7201a8\"],[0.3333333333333333,\"#9c179e\"],[0.4444444444444444,\"#bd3786\"],[0.5555555555555556,\"#d8576b\"],[0.6666666666666666,\"#ed7953\"],[0.7777777777777778,\"#fb9f3a\"],[0.8888888888888888,\"#fdca26\"],[1.0,\"#f0f921\"]],\"type\":\"histogram2dcontour\"}],\"mesh3d\":[{\"colorbar\":{\"outlinewidth\":0,\"ticks\":\"\"},\"type\":\"mesh3d\"}],\"parcoords\":[{\"line\":{\"colorbar\":{\"outlinewidth\":0,\"ticks\":\"\"}},\"type\":\"parcoords\"}],\"pie\":[{\"automargin\":true,\"type\":\"pie\"}],\"scatter\":[{\"marker\":{\"colorbar\":{\"outlinewidth\":0,\"ticks\":\"\"}},\"type\":\"scatter\"}],\"scatter3d\":[{\"line\":{\"colorbar\":{\"outlinewidth\":0,\"ticks\":\"\"}},\"marker\":{\"colorbar\":{\"outlinewidth\":0,\"ticks\":\"\"}},\"type\":\"scatter3d\"}],\"scattercarpet\":[{\"marker\":{\"colorbar\":{\"outlinewidth\":0,\"ticks\":\"\"}},\"type\":\"scattercarpet\"}],\"scattergeo\":[{\"marker\":{\"colorbar\":{\"outlinewidth\":0,\"ticks\":\"\"}},\"type\":\"scattergeo\"}],\"scattergl\":[{\"marker\":{\"colorbar\":{\"outlinewidth\":0,\"ticks\":\"\"}},\"type\":\"scattergl\"}],\"scattermapbox\":[{\"marker\":{\"colorbar\":{\"outlinewidth\":0,\"ticks\":\"\"}},\"type\":\"scattermapbox\"}],\"scatterpolar\":[{\"marker\":{\"colorbar\":{\"outlinewidth\":0,\"ticks\":\"\"}},\"type\":\"scatterpolar\"}],\"scatterpolargl\":[{\"marker\":{\"colorbar\":{\"outlinewidth\":0,\"ticks\":\"\"}},\"type\":\"scatterpolargl\"}],\"scatterternary\":[{\"marker\":{\"colorbar\":{\"outlinewidth\":0,\"ticks\":\"\"}},\"type\":\"scatterternary\"}],\"surface\":[{\"colorbar\":{\"outlinewidth\":0,\"ticks\":\"\"},\"colorscale\":[[0.0,\"#0d0887\"],[0.1111111111111111,\"#46039f\"],[0.2222222222222222,\"#7201a8\"],[0.3333333333333333,\"#9c179e\"],[0.4444444444444444,\"#bd3786\"],[0.5555555555555556,\"#d8576b\"],[0.6666666666666666,\"#ed7953\"],[0.7777777777777778,\"#fb9f3a\"],[0.8888888888888888,\"#fdca26\"],[1.0,\"#f0f921\"]],\"type\":\"surface\"}],\"table\":[{\"cells\":{\"fill\":{\"color\":\"#EBF0F8\"},\"line\":{\"color\":\"white\"}},\"header\":{\"fill\":{\"color\":\"#C8D4E3\"},\"line\":{\"color\":\"white\"}},\"type\":\"table\"}]},\"layout\":{\"annotationdefaults\":{\"arrowcolor\":\"#2a3f5f\",\"arrowhead\":0,\"arrowwidth\":1},\"autotypenumbers\":\"strict\",\"coloraxis\":{\"colorbar\":{\"outlinewidth\":0,\"ticks\":\"\"}},\"colorscale\":{\"diverging\":[[0,\"#8e0152\"],[0.1,\"#c51b7d\"],[0.2,\"#de77ae\"],[0.3,\"#f1b6da\"],[0.4,\"#fde0ef\"],[0.5,\"#f7f7f7\"],[0.6,\"#e6f5d0\"],[0.7,\"#b8e186\"],[0.8,\"#7fbc41\"],[0.9,\"#4d9221\"],[1,\"#276419\"]],\"sequential\":[[0.0,\"#0d0887\"],[0.1111111111111111,\"#46039f\"],[0.2222222222222222,\"#7201a8\"],[0.3333333333333333,\"#9c179e\"],[0.4444444444444444,\"#bd3786\"],[0.5555555555555556,\"#d8576b\"],[0.6666666666666666,\"#ed7953\"],[0.7777777777777778,\"#fb9f3a\"],[0.8888888888888888,\"#fdca26\"],[1.0,\"#f0f921\"]],\"sequentialminus\":[[0.0,\"#0d0887\"],[0.1111111111111111,\"#46039f\"],[0.2222222222222222,\"#7201a8\"],[0.3333333333333333,\"#9c179e\"],[0.4444444444444444,\"#bd3786\"],[0.5555555555555556,\"#d8576b\"],[0.6666666666666666,\"#ed7953\"],[0.7777777777777778,\"#fb9f3a\"],[0.8888888888888888,\"#fdca26\"],[1.0,\"#f0f921\"]]},\"colorway\":[\"#636efa\",\"#EF553B\",\"#00cc96\",\"#ab63fa\",\"#FFA15A\",\"#19d3f3\",\"#FF6692\",\"#B6E880\",\"#FF97FF\",\"#FECB52\"],\"font\":{\"color\":\"#2a3f5f\"},\"geo\":{\"bgcolor\":\"white\",\"lakecolor\":\"white\",\"landcolor\":\"#E5ECF6\",\"showlakes\":true,\"showland\":true,\"subunitcolor\":\"white\"},\"hoverlabel\":{\"align\":\"left\"},\"hovermode\":\"closest\",\"mapbox\":{\"style\":\"light\"},\"paper_bgcolor\":\"white\",\"plot_bgcolor\":\"#E5ECF6\",\"polar\":{\"angularaxis\":{\"gridcolor\":\"white\",\"linecolor\":\"white\",\"ticks\":\"\"},\"bgcolor\":\"#E5ECF6\",\"radialaxis\":{\"gridcolor\":\"white\",\"linecolor\":\"white\",\"ticks\":\"\"}},\"scene\":{\"xaxis\":{\"backgroundcolor\":\"#E5ECF6\",\"gridcolor\":\"white\",\"gridwidth\":2,\"linecolor\":\"white\",\"showbackground\":true,\"ticks\":\"\",\"zerolinecolor\":\"white\"},\"yaxis\":{\"backgroundcolor\":\"#E5ECF6\",\"gridcolor\":\"white\",\"gridwidth\":2,\"linecolor\":\"white\",\"showbackground\":true,\"ticks\":\"\",\"zerolinecolor\":\"white\"},\"zaxis\":{\"backgroundcolor\":\"#E5ECF6\",\"gridcolor\":\"white\",\"gridwidth\":2,\"linecolor\":\"white\",\"showbackground\":true,\"ticks\":\"\",\"zerolinecolor\":\"white\"}},\"shapedefaults\":{\"line\":{\"color\":\"#2a3f5f\"}},\"ternary\":{\"aaxis\":{\"gridcolor\":\"white\",\"linecolor\":\"white\",\"ticks\":\"\"},\"baxis\":{\"gridcolor\":\"white\",\"linecolor\":\"white\",\"ticks\":\"\"},\"bgcolor\":\"#E5ECF6\",\"caxis\":{\"gridcolor\":\"white\",\"linecolor\":\"white\",\"ticks\":\"\"}},\"title\":{\"x\":0.05},\"xaxis\":{\"automargin\":true,\"gridcolor\":\"white\",\"linecolor\":\"white\",\"ticks\":\"\",\"title\":{\"standoff\":15},\"zerolinecolor\":\"white\",\"zerolinewidth\":2},\"yaxis\":{\"automargin\":true,\"gridcolor\":\"white\",\"linecolor\":\"white\",\"ticks\":\"\",\"title\":{\"standoff\":15},\"zerolinecolor\":\"white\",\"zerolinewidth\":2}}},\"xaxis\":{\"anchor\":\"y\",\"domain\":[0.0,1.0],\"title\":{\"text\":\"value\"}},\"yaxis\":{\"anchor\":\"x\",\"domain\":[0.0,1.0],\"title\":{\"text\":\"count\"}},\"legend\":{\"title\":{\"text\":\"variable\"},\"tracegroupgap\":0},\"margin\":{\"t\":60},\"barmode\":\"relative\"},                        {\"responsive\": true}                    ).then(function(){\n",
       "                            \n",
       "var gd = document.getElementById('3e885ea2-7a0d-4d72-a923-1121acd417ca');\n",
       "var x = new MutationObserver(function (mutations, observer) {{\n",
       "        var display = window.getComputedStyle(gd).display;\n",
       "        if (!display || display === 'none') {{\n",
       "            console.log([gd, 'removed!']);\n",
       "            Plotly.purge(gd);\n",
       "            observer.disconnect();\n",
       "        }}\n",
       "}});\n",
       "\n",
       "// Listen for the removal of the full notebook cells\n",
       "var notebookContainer = gd.closest('#notebook-container');\n",
       "if (notebookContainer) {{\n",
       "    x.observe(notebookContainer, {childList: true});\n",
       "}}\n",
       "\n",
       "// Listen for the clearing of the current output cell\n",
       "var outputEl = gd.closest('.output');\n",
       "if (outputEl) {{\n",
       "    x.observe(outputEl, {childList: true});\n",
       "}}\n",
       "\n",
       "                        })                };                });            </script>        </div>"
      ]
     },
     "metadata": {},
     "output_type": "display_data"
    }
   ],
   "source": [
    "prob_data = pd.DataFrame({\"Actual\" : y_test,\n",
    "                          \"Pred\" : pred})\n",
    "\n",
    "prob_data2 = prob_data[prob_data.Actual < 10000]\n",
    "fig = px.histogram(prob_data2, x=[\"Pred\",\"Actual\"])\n",
    "fig.show()"
   ]
  },
  {
   "cell_type": "code",
   "execution_count": 121,
   "id": "2c2906be-fcf5-40ca-9601-4fa24d0cc106",
   "metadata": {
    "tags": []
   },
   "outputs": [],
   "source": [
    "pickle.dump(model_frq, open('FRQ_Model.sav','wb'))\n",
    "pickle.dump(model_sev, open('SEV_Model.sav','wb'))\n",
    "pickle.dump(target_encoder, open('Target_Encoder.sav','wb'))\n"
   ]
  },
  {
   "cell_type": "code",
   "execution_count": null,
   "id": "621edea0-ed73-4c30-a2fc-3e591b136534",
   "metadata": {},
   "outputs": [],
   "source": []
  }
 ],
 "metadata": {
  "kernelspec": {
   "display_name": "Python 3 (ipykernel)",
   "language": "python",
   "name": "python3"
  },
  "language_info": {
   "codemirror_mode": {
    "name": "ipython",
    "version": 3
   },
   "file_extension": ".py",
   "mimetype": "text/x-python",
   "name": "python",
   "nbconvert_exporter": "python",
   "pygments_lexer": "ipython3",
   "version": "3.9.12"
  }
 },
 "nbformat": 4,
 "nbformat_minor": 5
}
