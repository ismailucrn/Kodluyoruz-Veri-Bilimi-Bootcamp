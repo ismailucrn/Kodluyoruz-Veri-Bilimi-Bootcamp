{
 "cells": [
  {
   "cell_type": "code",
   "execution_count": 1,
   "metadata": {},
   "outputs": [
    {
     "name": "stderr",
     "output_type": "stream",
     "text": [
      "c:\\Users\\Latte\\anaconda3\\lib\\site-packages\\xgboost\\compat.py:36: FutureWarning: pandas.Int64Index is deprecated and will be removed from pandas in a future version. Use pandas.Index with the appropriate dtype instead.\n",
      "  from pandas import MultiIndex, Int64Index\n"
     ]
    }
   ],
   "source": [
    "import pandas as pd\n",
    "import plotly.express as px\n",
    "import matplotlib.pyplot as plt\n",
    "from matplotlib import pyplot\n",
    "from PIL import Image\n",
    "import requests\n",
    "from io import BytesIO\n",
    "import xgboost as xgb\n",
    "from category_encoders import TargetEncoder\n",
    "from sklearn import preprocessing\n",
    "from sklearn.preprocessing import LabelEncoder , OneHotEncoder\n",
    "from sklearn.model_selection import train_test_split\n",
    "from sklearn.linear_model import LogisticRegression\n",
    "from sklearn.metrics import confusion_matrix , classification_report , accuracy_score,f1_score\n",
    "from sklearn.model_selection import train_test_split\n",
    "from sklearn.feature_extraction.text import CountVectorizer\n",
    "from sklearn.feature_extraction.text import TfidfTransformer\n",
    "from sklearn.naive_bayes import MultinomialNB\n",
    "from sklearn.linear_model import LogisticRegression\n",
    "from sklearn.ensemble import RandomForestClassifier\n",
    "from sklearn.svm import SVC\n",
    "from sklearn.neighbors import KNeighborsClassifier\n",
    "from sklearn.svm import LinearSVC\n",
    "from sklearn.model_selection import cross_val_score\n",
    "from IPython.display import display\n",
    "from sklearn import metrics\n",
    "import advertools as adv\n",
    "from sklearn.metrics import confusion_matrix\n",
    "from sklearn.metrics import accuracy_score, confusion_matrix, roc_auc_score, roc_curve\n",
    "import seaborn as sns\n",
    "import plotly.express as px\n",
    "import pickle\n",
    "from xgboost import plot_importance\n",
    "import plotly.graph_objects as go\n",
    "import warnings\n",
    "import optuna # for hyperparameter optimization\n",
    "from fitter import Fitter\n",
    "warnings.filterwarnings('ignore')\n"
   ]
  },
  {
   "cell_type": "code",
   "execution_count": 2,
   "metadata": {},
   "outputs": [
    {
     "data": {
      "text/html": [
       "<div>\n",
       "<style scoped>\n",
       "    .dataframe tbody tr th:only-of-type {\n",
       "        vertical-align: middle;\n",
       "    }\n",
       "\n",
       "    .dataframe tbody tr th {\n",
       "        vertical-align: top;\n",
       "    }\n",
       "\n",
       "    .dataframe thead th {\n",
       "        text-align: right;\n",
       "    }\n",
       "</style>\n",
       "<table border=\"1\" class=\"dataframe\">\n",
       "  <thead>\n",
       "    <tr style=\"text-align: right;\">\n",
       "      <th></th>\n",
       "      <th>ID</th>\n",
       "      <th>KIDSDRIV</th>\n",
       "      <th>AGE</th>\n",
       "      <th>HOMEKIDS</th>\n",
       "      <th>YOJ</th>\n",
       "      <th>INCOME</th>\n",
       "      <th>PARENT1</th>\n",
       "      <th>HOME_VAL</th>\n",
       "      <th>MSTATUS</th>\n",
       "      <th>GENDER</th>\n",
       "      <th>...</th>\n",
       "      <th>TIF</th>\n",
       "      <th>CAR_TYPE</th>\n",
       "      <th>RED_CAR</th>\n",
       "      <th>OLDCLAIM</th>\n",
       "      <th>CLM_FREQ</th>\n",
       "      <th>REVOKED</th>\n",
       "      <th>MVR_PTS</th>\n",
       "      <th>CLM_AMT</th>\n",
       "      <th>CAR_AGE</th>\n",
       "      <th>CLAIM_FLAG</th>\n",
       "    </tr>\n",
       "  </thead>\n",
       "  <tbody>\n",
       "    <tr>\n",
       "      <th>0</th>\n",
       "      <td>63581743</td>\n",
       "      <td>0</td>\n",
       "      <td>60.0</td>\n",
       "      <td>0</td>\n",
       "      <td>11.0</td>\n",
       "      <td>$67,349</td>\n",
       "      <td>No</td>\n",
       "      <td>$0</td>\n",
       "      <td>z_No</td>\n",
       "      <td>M</td>\n",
       "      <td>...</td>\n",
       "      <td>11</td>\n",
       "      <td>Minivan</td>\n",
       "      <td>yes</td>\n",
       "      <td>$4,461</td>\n",
       "      <td>2</td>\n",
       "      <td>No</td>\n",
       "      <td>3</td>\n",
       "      <td>$0</td>\n",
       "      <td>18.0</td>\n",
       "      <td>0</td>\n",
       "    </tr>\n",
       "    <tr>\n",
       "      <th>1</th>\n",
       "      <td>132761049</td>\n",
       "      <td>0</td>\n",
       "      <td>43.0</td>\n",
       "      <td>0</td>\n",
       "      <td>11.0</td>\n",
       "      <td>$91,449</td>\n",
       "      <td>No</td>\n",
       "      <td>$257,252</td>\n",
       "      <td>z_No</td>\n",
       "      <td>M</td>\n",
       "      <td>...</td>\n",
       "      <td>1</td>\n",
       "      <td>Minivan</td>\n",
       "      <td>yes</td>\n",
       "      <td>$0</td>\n",
       "      <td>0</td>\n",
       "      <td>No</td>\n",
       "      <td>0</td>\n",
       "      <td>$0</td>\n",
       "      <td>1.0</td>\n",
       "      <td>0</td>\n",
       "    </tr>\n",
       "    <tr>\n",
       "      <th>2</th>\n",
       "      <td>921317019</td>\n",
       "      <td>0</td>\n",
       "      <td>48.0</td>\n",
       "      <td>0</td>\n",
       "      <td>11.0</td>\n",
       "      <td>$52,881</td>\n",
       "      <td>No</td>\n",
       "      <td>$0</td>\n",
       "      <td>z_No</td>\n",
       "      <td>M</td>\n",
       "      <td>...</td>\n",
       "      <td>1</td>\n",
       "      <td>Van</td>\n",
       "      <td>yes</td>\n",
       "      <td>$0</td>\n",
       "      <td>0</td>\n",
       "      <td>No</td>\n",
       "      <td>2</td>\n",
       "      <td>$0</td>\n",
       "      <td>10.0</td>\n",
       "      <td>0</td>\n",
       "    </tr>\n",
       "    <tr>\n",
       "      <th>3</th>\n",
       "      <td>727598473</td>\n",
       "      <td>0</td>\n",
       "      <td>35.0</td>\n",
       "      <td>1</td>\n",
       "      <td>10.0</td>\n",
       "      <td>$16,039</td>\n",
       "      <td>No</td>\n",
       "      <td>$124,191</td>\n",
       "      <td>Yes</td>\n",
       "      <td>z_F</td>\n",
       "      <td>...</td>\n",
       "      <td>4</td>\n",
       "      <td>z_SUV</td>\n",
       "      <td>no</td>\n",
       "      <td>$38,690</td>\n",
       "      <td>2</td>\n",
       "      <td>No</td>\n",
       "      <td>3</td>\n",
       "      <td>$0</td>\n",
       "      <td>10.0</td>\n",
       "      <td>0</td>\n",
       "    </tr>\n",
       "    <tr>\n",
       "      <th>4</th>\n",
       "      <td>450221861</td>\n",
       "      <td>0</td>\n",
       "      <td>51.0</td>\n",
       "      <td>0</td>\n",
       "      <td>14.0</td>\n",
       "      <td>NaN</td>\n",
       "      <td>No</td>\n",
       "      <td>$306,251</td>\n",
       "      <td>Yes</td>\n",
       "      <td>M</td>\n",
       "      <td>...</td>\n",
       "      <td>7</td>\n",
       "      <td>Minivan</td>\n",
       "      <td>yes</td>\n",
       "      <td>$0</td>\n",
       "      <td>0</td>\n",
       "      <td>No</td>\n",
       "      <td>0</td>\n",
       "      <td>$0</td>\n",
       "      <td>6.0</td>\n",
       "      <td>0</td>\n",
       "    </tr>\n",
       "  </tbody>\n",
       "</table>\n",
       "<p>5 rows × 25 columns</p>\n",
       "</div>"
      ],
      "text/plain": [
       "          ID  KIDSDRIV   AGE  HOMEKIDS   YOJ   INCOME PARENT1  HOME_VAL  \\\n",
       "0   63581743         0  60.0         0  11.0  $67,349      No        $0   \n",
       "1  132761049         0  43.0         0  11.0  $91,449      No  $257,252   \n",
       "2  921317019         0  48.0         0  11.0  $52,881      No        $0   \n",
       "3  727598473         0  35.0         1  10.0  $16,039      No  $124,191   \n",
       "4  450221861         0  51.0         0  14.0      NaN      No  $306,251   \n",
       "\n",
       "  MSTATUS GENDER  ... TIF CAR_TYPE  RED_CAR OLDCLAIM CLM_FREQ  REVOKED  \\\n",
       "0    z_No      M  ...  11  Minivan      yes   $4,461        2       No   \n",
       "1    z_No      M  ...   1  Minivan      yes       $0        0       No   \n",
       "2    z_No      M  ...   1      Van      yes       $0        0       No   \n",
       "3     Yes    z_F  ...   4    z_SUV       no  $38,690        2       No   \n",
       "4     Yes      M  ...   7  Minivan      yes       $0        0       No   \n",
       "\n",
       "  MVR_PTS CLM_AMT CAR_AGE  CLAIM_FLAG  \n",
       "0       3      $0    18.0           0  \n",
       "1       0      $0     1.0           0  \n",
       "2       2      $0    10.0           0  \n",
       "3       3      $0    10.0           0  \n",
       "4       0      $0     6.0           0  \n",
       "\n",
       "[5 rows x 25 columns]"
      ]
     },
     "execution_count": 2,
     "metadata": {},
     "output_type": "execute_result"
    }
   ],
   "source": [
    "df = pd.read_csv('autodata.csv')\n",
    "df.head()"
   ]
  },
  {
   "cell_type": "code",
   "execution_count": 3,
   "metadata": {},
   "outputs": [],
   "source": [
    "#this report show us correlation matrix, many plots and more, zero values, null values, high correlation, high cardinality, etc.\n",
    "\n",
    "# from pandas_profiling import ProfileReport\n",
    "# profile = ProfileReport(df, title='Pandas Profiling Report', explorative=True)\n",
    "# profile.to_file(\"report.html\")"
   ]
  },
  {
   "cell_type": "code",
   "execution_count": 4,
   "metadata": {},
   "outputs": [],
   "source": [
    "# profile"
   ]
  },
  {
   "cell_type": "code",
   "execution_count": 5,
   "metadata": {},
   "outputs": [
    {
     "data": {
      "text/plain": [
       "0.8007183071248302"
      ]
     },
     "execution_count": 5,
     "metadata": {},
     "output_type": "execute_result"
    }
   ],
   "source": [
    "frq = df[\"CLM_FREQ\"].sum() / df[\"ID\"].count()\n",
    "frq"
   ]
  },
  {
   "cell_type": "code",
   "execution_count": 6,
   "metadata": {},
   "outputs": [
    {
     "name": "stdout",
     "output_type": "stream",
     "text": [
      "<class 'pandas.core.frame.DataFrame'>\n",
      "RangeIndex: 10302 entries, 0 to 10301\n",
      "Data columns (total 25 columns):\n",
      " #   Column      Non-Null Count  Dtype  \n",
      "---  ------      --------------  -----  \n",
      " 0   ID          10302 non-null  int64  \n",
      " 1   KIDSDRIV    10302 non-null  int64  \n",
      " 2   AGE         10295 non-null  float64\n",
      " 3   HOMEKIDS    10302 non-null  int64  \n",
      " 4   YOJ         9754 non-null   float64\n",
      " 5   INCOME      9732 non-null   object \n",
      " 6   PARENT1     10302 non-null  object \n",
      " 7   HOME_VAL    9727 non-null   object \n",
      " 8   MSTATUS     10302 non-null  object \n",
      " 9   GENDER      10302 non-null  object \n",
      " 10  EDUCATION   10302 non-null  object \n",
      " 11  OCCUPATION  9637 non-null   object \n",
      " 12  TRAVTIME    10302 non-null  int64  \n",
      " 13  CAR_USE     10302 non-null  object \n",
      " 14  BLUEBOOK    10302 non-null  object \n",
      " 15  TIF         10302 non-null  int64  \n",
      " 16  CAR_TYPE    10302 non-null  object \n",
      " 17  RED_CAR     10302 non-null  object \n",
      " 18  OLDCLAIM    10302 non-null  object \n",
      " 19  CLM_FREQ    10302 non-null  int64  \n",
      " 20  REVOKED     10302 non-null  object \n",
      " 21  MVR_PTS     10302 non-null  int64  \n",
      " 22  CLM_AMT     10302 non-null  object \n",
      " 23  CAR_AGE     9663 non-null   float64\n",
      " 24  CLAIM_FLAG  10302 non-null  int64  \n",
      "dtypes: float64(3), int64(8), object(14)\n",
      "memory usage: 2.0+ MB\n"
     ]
    }
   ],
   "source": [
    "df.info()"
   ]
  },
  {
   "cell_type": "code",
   "execution_count": 7,
   "metadata": {},
   "outputs": [
    {
     "data": {
      "text/html": [
       "<div>\n",
       "<style scoped>\n",
       "    .dataframe tbody tr th:only-of-type {\n",
       "        vertical-align: middle;\n",
       "    }\n",
       "\n",
       "    .dataframe tbody tr th {\n",
       "        vertical-align: top;\n",
       "    }\n",
       "\n",
       "    .dataframe thead th {\n",
       "        text-align: right;\n",
       "    }\n",
       "</style>\n",
       "<table border=\"1\" class=\"dataframe\">\n",
       "  <thead>\n",
       "    <tr style=\"text-align: right;\">\n",
       "      <th></th>\n",
       "      <th>ID</th>\n",
       "      <th>KIDSDRIV</th>\n",
       "      <th>AGE</th>\n",
       "      <th>HOMEKIDS</th>\n",
       "      <th>YOJ</th>\n",
       "      <th>TRAVTIME</th>\n",
       "      <th>TIF</th>\n",
       "      <th>CLM_FREQ</th>\n",
       "      <th>MVR_PTS</th>\n",
       "      <th>CAR_AGE</th>\n",
       "      <th>CLAIM_FLAG</th>\n",
       "    </tr>\n",
       "  </thead>\n",
       "  <tbody>\n",
       "    <tr>\n",
       "      <th>count</th>\n",
       "      <td>1.030200e+04</td>\n",
       "      <td>10302.000000</td>\n",
       "      <td>10295.000000</td>\n",
       "      <td>10302.000000</td>\n",
       "      <td>9754.000000</td>\n",
       "      <td>10302.000000</td>\n",
       "      <td>10302.000000</td>\n",
       "      <td>10302.000000</td>\n",
       "      <td>10302.000000</td>\n",
       "      <td>9663.000000</td>\n",
       "      <td>10302.000000</td>\n",
       "    </tr>\n",
       "    <tr>\n",
       "      <th>mean</th>\n",
       "      <td>4.956631e+08</td>\n",
       "      <td>0.169288</td>\n",
       "      <td>44.837397</td>\n",
       "      <td>0.720443</td>\n",
       "      <td>10.474062</td>\n",
       "      <td>33.416424</td>\n",
       "      <td>5.329159</td>\n",
       "      <td>0.800718</td>\n",
       "      <td>1.710153</td>\n",
       "      <td>8.298148</td>\n",
       "      <td>0.266550</td>\n",
       "    </tr>\n",
       "    <tr>\n",
       "      <th>std</th>\n",
       "      <td>2.864675e+08</td>\n",
       "      <td>0.506512</td>\n",
       "      <td>8.606445</td>\n",
       "      <td>1.116323</td>\n",
       "      <td>4.108943</td>\n",
       "      <td>15.869687</td>\n",
       "      <td>4.110795</td>\n",
       "      <td>1.154079</td>\n",
       "      <td>2.159015</td>\n",
       "      <td>5.714450</td>\n",
       "      <td>0.442177</td>\n",
       "    </tr>\n",
       "    <tr>\n",
       "      <th>min</th>\n",
       "      <td>6.317500e+04</td>\n",
       "      <td>0.000000</td>\n",
       "      <td>16.000000</td>\n",
       "      <td>0.000000</td>\n",
       "      <td>0.000000</td>\n",
       "      <td>5.000000</td>\n",
       "      <td>1.000000</td>\n",
       "      <td>0.000000</td>\n",
       "      <td>0.000000</td>\n",
       "      <td>-3.000000</td>\n",
       "      <td>0.000000</td>\n",
       "    </tr>\n",
       "    <tr>\n",
       "      <th>25%</th>\n",
       "      <td>2.442869e+08</td>\n",
       "      <td>0.000000</td>\n",
       "      <td>39.000000</td>\n",
       "      <td>0.000000</td>\n",
       "      <td>9.000000</td>\n",
       "      <td>22.000000</td>\n",
       "      <td>1.000000</td>\n",
       "      <td>0.000000</td>\n",
       "      <td>0.000000</td>\n",
       "      <td>1.000000</td>\n",
       "      <td>0.000000</td>\n",
       "    </tr>\n",
       "    <tr>\n",
       "      <th>50%</th>\n",
       "      <td>4.970043e+08</td>\n",
       "      <td>0.000000</td>\n",
       "      <td>45.000000</td>\n",
       "      <td>0.000000</td>\n",
       "      <td>11.000000</td>\n",
       "      <td>33.000000</td>\n",
       "      <td>4.000000</td>\n",
       "      <td>0.000000</td>\n",
       "      <td>1.000000</td>\n",
       "      <td>8.000000</td>\n",
       "      <td>0.000000</td>\n",
       "    </tr>\n",
       "    <tr>\n",
       "      <th>75%</th>\n",
       "      <td>7.394551e+08</td>\n",
       "      <td>0.000000</td>\n",
       "      <td>51.000000</td>\n",
       "      <td>1.000000</td>\n",
       "      <td>13.000000</td>\n",
       "      <td>44.000000</td>\n",
       "      <td>7.000000</td>\n",
       "      <td>2.000000</td>\n",
       "      <td>3.000000</td>\n",
       "      <td>12.000000</td>\n",
       "      <td>1.000000</td>\n",
       "    </tr>\n",
       "    <tr>\n",
       "      <th>max</th>\n",
       "      <td>9.999264e+08</td>\n",
       "      <td>4.000000</td>\n",
       "      <td>81.000000</td>\n",
       "      <td>5.000000</td>\n",
       "      <td>23.000000</td>\n",
       "      <td>142.000000</td>\n",
       "      <td>25.000000</td>\n",
       "      <td>5.000000</td>\n",
       "      <td>13.000000</td>\n",
       "      <td>28.000000</td>\n",
       "      <td>1.000000</td>\n",
       "    </tr>\n",
       "  </tbody>\n",
       "</table>\n",
       "</div>"
      ],
      "text/plain": [
       "                 ID      KIDSDRIV           AGE      HOMEKIDS          YOJ  \\\n",
       "count  1.030200e+04  10302.000000  10295.000000  10302.000000  9754.000000   \n",
       "mean   4.956631e+08      0.169288     44.837397      0.720443    10.474062   \n",
       "std    2.864675e+08      0.506512      8.606445      1.116323     4.108943   \n",
       "min    6.317500e+04      0.000000     16.000000      0.000000     0.000000   \n",
       "25%    2.442869e+08      0.000000     39.000000      0.000000     9.000000   \n",
       "50%    4.970043e+08      0.000000     45.000000      0.000000    11.000000   \n",
       "75%    7.394551e+08      0.000000     51.000000      1.000000    13.000000   \n",
       "max    9.999264e+08      4.000000     81.000000      5.000000    23.000000   \n",
       "\n",
       "           TRAVTIME           TIF      CLM_FREQ       MVR_PTS      CAR_AGE  \\\n",
       "count  10302.000000  10302.000000  10302.000000  10302.000000  9663.000000   \n",
       "mean      33.416424      5.329159      0.800718      1.710153     8.298148   \n",
       "std       15.869687      4.110795      1.154079      2.159015     5.714450   \n",
       "min        5.000000      1.000000      0.000000      0.000000    -3.000000   \n",
       "25%       22.000000      1.000000      0.000000      0.000000     1.000000   \n",
       "50%       33.000000      4.000000      0.000000      1.000000     8.000000   \n",
       "75%       44.000000      7.000000      2.000000      3.000000    12.000000   \n",
       "max      142.000000     25.000000      5.000000     13.000000    28.000000   \n",
       "\n",
       "         CLAIM_FLAG  \n",
       "count  10302.000000  \n",
       "mean       0.266550  \n",
       "std        0.442177  \n",
       "min        0.000000  \n",
       "25%        0.000000  \n",
       "50%        0.000000  \n",
       "75%        1.000000  \n",
       "max        1.000000  "
      ]
     },
     "execution_count": 7,
     "metadata": {},
     "output_type": "execute_result"
    }
   ],
   "source": [
    "df.describe()"
   ]
  },
  {
   "cell_type": "code",
   "execution_count": 8,
   "metadata": {},
   "outputs": [],
   "source": [
    "for i in df.columns:\n",
    "    if df[i].dtypes == \"object\":\n",
    "        df[i] = df[i].str.replace(\"$\",\"\")\n",
    "        df[i] = df[i].str.replace(\"$\",\"\")\n",
    "        df[i] = df[i].str.replace(\"$\",\"\")\n",
    "    try:\n",
    "        df[i] = df[i].astype(float)\n",
    "    except:\n",
    "        pass"
   ]
  },
  {
   "cell_type": "code",
   "execution_count": 9,
   "metadata": {},
   "outputs": [],
   "source": [
    "df = df.drop([\"ID\",\"CLM_AMT\"],axis=1)"
   ]
  },
  {
   "cell_type": "code",
   "execution_count": 10,
   "metadata": {},
   "outputs": [],
   "source": [
    "#we split before encoding because we apply target encoding\n",
    "X = df.drop([\"CLAIM_FLAG\"],axis=1)\n",
    "y = df[\"CLAIM_FLAG\"]"
   ]
  },
  {
   "cell_type": "code",
   "execution_count": 11,
   "metadata": {},
   "outputs": [],
   "source": [
    "X_train, X_test, y_train, y_test = train_test_split(X, y, test_size=0.2, random_state=43,stratify=df.CLAIM_FLAG)"
   ]
  },
  {
   "cell_type": "code",
   "execution_count": 12,
   "metadata": {},
   "outputs": [
    {
     "name": "stdout",
     "output_type": "stream",
     "text": [
      "Ratio of 1 in y_train: 26.66%\n",
      "Ratio of 1 in y_test: 26.64%\n"
     ]
    }
   ],
   "source": [
    "y_train_sum = y_train.sum()\n",
    "y_train_len = len(y_train)\n",
    "y_train_oran = y_train_sum / y_train_len\n",
    "\n",
    "print(f\"Ratio of 1 in y_train: {y_train_oran:0.2%}\")\n",
    "\n",
    "y_test_sum = y_test.sum()\n",
    "y_test_len = len(y_test)\n",
    "y_test_oran = y_test_sum / y_test_len\n",
    "\n",
    "print(f\"Ratio of 1 in y_test: {y_test_oran:0.2%}\")"
   ]
  },
  {
   "cell_type": "code",
   "execution_count": 13,
   "metadata": {},
   "outputs": [],
   "source": [
    "#target encoding\n",
    "target_encoder = TargetEncoder()\n",
    "X_train_encoded = target_encoder.fit_transform(X_train, y_train)\n",
    "X_test_encoded = target_encoder.transform(X_test)"
   ]
  },
  {
   "cell_type": "code",
   "execution_count": 14,
   "metadata": {},
   "outputs": [
    {
     "data": {
      "text/html": [
       "<div>\n",
       "<style scoped>\n",
       "    .dataframe tbody tr th:only-of-type {\n",
       "        vertical-align: middle;\n",
       "    }\n",
       "\n",
       "    .dataframe tbody tr th {\n",
       "        vertical-align: top;\n",
       "    }\n",
       "\n",
       "    .dataframe thead th {\n",
       "        text-align: right;\n",
       "    }\n",
       "</style>\n",
       "<table border=\"1\" class=\"dataframe\">\n",
       "  <thead>\n",
       "    <tr style=\"text-align: right;\">\n",
       "      <th></th>\n",
       "      <th>KIDSDRIV</th>\n",
       "      <th>AGE</th>\n",
       "      <th>HOMEKIDS</th>\n",
       "      <th>YOJ</th>\n",
       "      <th>INCOME</th>\n",
       "      <th>PARENT1</th>\n",
       "      <th>HOME_VAL</th>\n",
       "      <th>MSTATUS</th>\n",
       "      <th>GENDER</th>\n",
       "      <th>EDUCATION</th>\n",
       "      <th>...</th>\n",
       "      <th>CAR_USE</th>\n",
       "      <th>BLUEBOOK</th>\n",
       "      <th>TIF</th>\n",
       "      <th>CAR_TYPE</th>\n",
       "      <th>RED_CAR</th>\n",
       "      <th>OLDCLAIM</th>\n",
       "      <th>CLM_FREQ</th>\n",
       "      <th>REVOKED</th>\n",
       "      <th>MVR_PTS</th>\n",
       "      <th>CAR_AGE</th>\n",
       "    </tr>\n",
       "  </thead>\n",
       "  <tbody>\n",
       "    <tr>\n",
       "      <th>1457</th>\n",
       "      <td>0.0</td>\n",
       "      <td>52.0</td>\n",
       "      <td>0.0</td>\n",
       "      <td>5.0</td>\n",
       "      <td>0.231908</td>\n",
       "      <td>0.238785</td>\n",
       "      <td>0.363052</td>\n",
       "      <td>0.334652</td>\n",
       "      <td>0.275800</td>\n",
       "      <td>0.236692</td>\n",
       "      <td>...</td>\n",
       "      <td>0.217949</td>\n",
       "      <td>0.262753</td>\n",
       "      <td>1.0</td>\n",
       "      <td>0.345679</td>\n",
       "      <td>0.268786</td>\n",
       "      <td>0.231908</td>\n",
       "      <td>1.0</td>\n",
       "      <td>0.240648</td>\n",
       "      <td>0.0</td>\n",
       "      <td>10.0</td>\n",
       "    </tr>\n",
       "    <tr>\n",
       "      <th>6291</th>\n",
       "      <td>0.0</td>\n",
       "      <td>43.0</td>\n",
       "      <td>0.0</td>\n",
       "      <td>0.0</td>\n",
       "      <td>0.390698</td>\n",
       "      <td>0.238785</td>\n",
       "      <td>0.363052</td>\n",
       "      <td>0.334652</td>\n",
       "      <td>0.275800</td>\n",
       "      <td>0.346598</td>\n",
       "      <td>...</td>\n",
       "      <td>0.217949</td>\n",
       "      <td>0.231908</td>\n",
       "      <td>1.0</td>\n",
       "      <td>0.290591</td>\n",
       "      <td>0.268786</td>\n",
       "      <td>0.181349</td>\n",
       "      <td>0.0</td>\n",
       "      <td>0.240648</td>\n",
       "      <td>1.0</td>\n",
       "      <td>6.0</td>\n",
       "    </tr>\n",
       "    <tr>\n",
       "      <th>4451</th>\n",
       "      <td>0.0</td>\n",
       "      <td>62.0</td>\n",
       "      <td>0.0</td>\n",
       "      <td>12.0</td>\n",
       "      <td>0.231908</td>\n",
       "      <td>0.238785</td>\n",
       "      <td>0.231908</td>\n",
       "      <td>0.221437</td>\n",
       "      <td>0.275800</td>\n",
       "      <td>0.166441</td>\n",
       "      <td>...</td>\n",
       "      <td>0.217949</td>\n",
       "      <td>0.231908</td>\n",
       "      <td>17.0</td>\n",
       "      <td>0.345679</td>\n",
       "      <td>0.268786</td>\n",
       "      <td>0.231908</td>\n",
       "      <td>3.0</td>\n",
       "      <td>0.240648</td>\n",
       "      <td>0.0</td>\n",
       "      <td>19.0</td>\n",
       "    </tr>\n",
       "    <tr>\n",
       "      <th>1698</th>\n",
       "      <td>0.0</td>\n",
       "      <td>47.0</td>\n",
       "      <td>0.0</td>\n",
       "      <td>10.0</td>\n",
       "      <td>0.299703</td>\n",
       "      <td>0.238785</td>\n",
       "      <td>0.363052</td>\n",
       "      <td>0.334652</td>\n",
       "      <td>0.255851</td>\n",
       "      <td>0.196633</td>\n",
       "      <td>...</td>\n",
       "      <td>0.350912</td>\n",
       "      <td>0.263806</td>\n",
       "      <td>1.0</td>\n",
       "      <td>0.281633</td>\n",
       "      <td>0.261128</td>\n",
       "      <td>0.181349</td>\n",
       "      <td>0.0</td>\n",
       "      <td>0.240648</td>\n",
       "      <td>2.0</td>\n",
       "      <td>9.0</td>\n",
       "    </tr>\n",
       "    <tr>\n",
       "      <th>4660</th>\n",
       "      <td>0.0</td>\n",
       "      <td>53.0</td>\n",
       "      <td>0.0</td>\n",
       "      <td>13.0</td>\n",
       "      <td>0.231908</td>\n",
       "      <td>0.238785</td>\n",
       "      <td>0.363052</td>\n",
       "      <td>0.221437</td>\n",
       "      <td>0.255851</td>\n",
       "      <td>0.236692</td>\n",
       "      <td>...</td>\n",
       "      <td>0.350912</td>\n",
       "      <td>0.279796</td>\n",
       "      <td>1.0</td>\n",
       "      <td>0.313210</td>\n",
       "      <td>0.261128</td>\n",
       "      <td>0.181349</td>\n",
       "      <td>0.0</td>\n",
       "      <td>0.240648</td>\n",
       "      <td>0.0</td>\n",
       "      <td>1.0</td>\n",
       "    </tr>\n",
       "  </tbody>\n",
       "</table>\n",
       "<p>5 rows × 22 columns</p>\n",
       "</div>"
      ],
      "text/plain": [
       "      KIDSDRIV   AGE  HOMEKIDS   YOJ    INCOME   PARENT1  HOME_VAL   MSTATUS  \\\n",
       "1457       0.0  52.0       0.0   5.0  0.231908  0.238785  0.363052  0.334652   \n",
       "6291       0.0  43.0       0.0   0.0  0.390698  0.238785  0.363052  0.334652   \n",
       "4451       0.0  62.0       0.0  12.0  0.231908  0.238785  0.231908  0.221437   \n",
       "1698       0.0  47.0       0.0  10.0  0.299703  0.238785  0.363052  0.334652   \n",
       "4660       0.0  53.0       0.0  13.0  0.231908  0.238785  0.363052  0.221437   \n",
       "\n",
       "        GENDER  EDUCATION  ...   CAR_USE  BLUEBOOK   TIF  CAR_TYPE   RED_CAR  \\\n",
       "1457  0.275800   0.236692  ...  0.217949  0.262753   1.0  0.345679  0.268786   \n",
       "6291  0.275800   0.346598  ...  0.217949  0.231908   1.0  0.290591  0.268786   \n",
       "4451  0.275800   0.166441  ...  0.217949  0.231908  17.0  0.345679  0.268786   \n",
       "1698  0.255851   0.196633  ...  0.350912  0.263806   1.0  0.281633  0.261128   \n",
       "4660  0.255851   0.236692  ...  0.350912  0.279796   1.0  0.313210  0.261128   \n",
       "\n",
       "      OLDCLAIM  CLM_FREQ   REVOKED  MVR_PTS  CAR_AGE  \n",
       "1457  0.231908       1.0  0.240648      0.0     10.0  \n",
       "6291  0.181349       0.0  0.240648      1.0      6.0  \n",
       "4451  0.231908       3.0  0.240648      0.0     19.0  \n",
       "1698  0.181349       0.0  0.240648      2.0      9.0  \n",
       "4660  0.181349       0.0  0.240648      0.0      1.0  \n",
       "\n",
       "[5 rows x 22 columns]"
      ]
     },
     "execution_count": 14,
     "metadata": {},
     "output_type": "execute_result"
    }
   ],
   "source": [
    "X_train_encoded.head()"
   ]
  },
  {
   "cell_type": "code",
   "execution_count": 15,
   "metadata": {},
   "outputs": [
    {
     "name": "stdout",
     "output_type": "stream",
     "text": [
      "[15:23:59] WARNING: C:\\Users\\dev-admin\\croot\\xgboost-split_1675120659361\\work\\src\\learner.cc:1115: Starting in XGBoost 1.3.0, the default evaluation metric used with the objective 'binary:logistic' was changed from 'error' to 'logloss'. Explicitly set eval_metric if you'd like to restore the old behavior.\n",
      "[15:24:00] WARNING: C:\\Users\\dev-admin\\croot\\xgboost-split_1675120659361\\work\\src\\learner.cc:1115: Starting in XGBoost 1.3.0, the default evaluation metric used with the objective 'binary:logistic' was changed from 'error' to 'logloss'. Explicitly set eval_metric if you'd like to restore the old behavior.\n",
      "[15:24:00] WARNING: C:\\Users\\dev-admin\\croot\\xgboost-split_1675120659361\\work\\src\\learner.cc:1115: Starting in XGBoost 1.3.0, the default evaluation metric used with the objective 'binary:logistic' was changed from 'error' to 'logloss'. Explicitly set eval_metric if you'd like to restore the old behavior.\n",
      "[15:24:00] WARNING: C:\\Users\\dev-admin\\croot\\xgboost-split_1675120659361\\work\\src\\learner.cc:1115: Starting in XGBoost 1.3.0, the default evaluation metric used with the objective 'binary:logistic' was changed from 'error' to 'logloss'. Explicitly set eval_metric if you'd like to restore the old behavior.\n",
      "[15:24:01] WARNING: C:\\Users\\dev-admin\\croot\\xgboost-split_1675120659361\\work\\src\\learner.cc:1115: Starting in XGBoost 1.3.0, the default evaluation metric used with the objective 'binary:logistic' was changed from 'error' to 'logloss'. Explicitly set eval_metric if you'd like to restore the old behavior.\n"
     ]
    }
   ],
   "source": [
    "# Create a list of models\n",
    "models = [xgb.XGBClassifier()]\n",
    "\n",
    "# Create a function to fit and score models\n",
    "def fit_and_score(X_train, y_train):\n",
    "\n",
    "    # Dictionary to store results\n",
    "    results = {}\n",
    "\n",
    "    # Loop through models\n",
    "    for model in models:\n",
    "        # Create cross-validation object\n",
    "        cv = cross_val_score(model, X_train, y_train, cv=5, scoring='recall')\n",
    "\n",
    "        # Store results\n",
    "        results[str(model).split('(')[0]] = cv\n",
    "\n",
    "\n",
    "    return results\n",
    "\n",
    "# Store results in a dataframe\n",
    "df_cv2 = pd.DataFrame(fit_and_score(X_train_encoded, y_train))"
   ]
  },
  {
   "cell_type": "code",
   "execution_count": 16,
   "metadata": {},
   "outputs": [
    {
     "data": {
      "text/html": [
       "<div>\n",
       "<style scoped>\n",
       "    .dataframe tbody tr th:only-of-type {\n",
       "        vertical-align: middle;\n",
       "    }\n",
       "\n",
       "    .dataframe tbody tr th {\n",
       "        vertical-align: top;\n",
       "    }\n",
       "\n",
       "    .dataframe thead th {\n",
       "        text-align: right;\n",
       "    }\n",
       "</style>\n",
       "<table border=\"1\" class=\"dataframe\">\n",
       "  <thead>\n",
       "    <tr style=\"text-align: right;\">\n",
       "      <th></th>\n",
       "      <th>XGBClassifier</th>\n",
       "    </tr>\n",
       "  </thead>\n",
       "  <tbody>\n",
       "    <tr>\n",
       "      <th>0</th>\n",
       "      <td>0.970455</td>\n",
       "    </tr>\n",
       "    <tr>\n",
       "      <th>1</th>\n",
       "      <td>0.977221</td>\n",
       "    </tr>\n",
       "    <tr>\n",
       "      <th>2</th>\n",
       "      <td>0.956720</td>\n",
       "    </tr>\n",
       "    <tr>\n",
       "      <th>3</th>\n",
       "      <td>0.968109</td>\n",
       "    </tr>\n",
       "    <tr>\n",
       "      <th>4</th>\n",
       "      <td>0.970455</td>\n",
       "    </tr>\n",
       "  </tbody>\n",
       "</table>\n",
       "</div>"
      ],
      "text/plain": [
       "   XGBClassifier\n",
       "0       0.970455\n",
       "1       0.977221\n",
       "2       0.956720\n",
       "3       0.968109\n",
       "4       0.970455"
      ]
     },
     "execution_count": 16,
     "metadata": {},
     "output_type": "execute_result"
    }
   ],
   "source": [
    "#we realize that model is overfitting\n",
    "df_cv2"
   ]
  },
  {
   "cell_type": "code",
   "execution_count": 17,
   "metadata": {},
   "outputs": [
    {
     "name": "stdout",
     "output_type": "stream",
     "text": [
      "[15:24:01] WARNING: C:\\Users\\dev-admin\\croot\\xgboost-split_1675120659361\\work\\src\\learner.cc:1115: Starting in XGBoost 1.3.0, the default evaluation metric used with the objective 'binary:logistic' was changed from 'error' to 'logloss'. Explicitly set eval_metric if you'd like to restore the old behavior.\n"
     ]
    }
   ],
   "source": [
    "#xgb model\n",
    "xgb_model = xgb.XGBClassifier() \n",
    "xgb_model.fit(X_train_encoded, y_train)\n",
    "y_pred = xgb_model.predict(X_test_encoded)"
   ]
  },
  {
   "cell_type": "code",
   "execution_count": 18,
   "metadata": {},
   "outputs": [
    {
     "name": "stdout",
     "output_type": "stream",
     "text": [
      "              precision    recall  f1-score   support\n",
      "\n",
      "         0.0       0.75      0.90      0.82      1512\n",
      "         1.0       0.37      0.15      0.22       549\n",
      "\n",
      "    accuracy                           0.70      2061\n",
      "   macro avg       0.56      0.53      0.52      2061\n",
      "weighted avg       0.65      0.70      0.66      2061\n",
      "\n"
     ]
    },
    {
     "data": {
      "image/png": "[encoded data removed]",
      "text/plain": [
       "<Figure size 432x288 with 2 Axes>"
      ]
     },
     "metadata": {
      "needs_background": "light"
     },
     "output_type": "display_data"
    }
   ],
   "source": [
    "cm = confusion_matrix(y_test, y_pred)\n",
    "sns.heatmap(cm, annot=True, fmt=\"d\")\n",
    "print(classification_report(y_test, y_pred))\n"
   ]
  },
  {
   "cell_type": "code",
   "execution_count": 19,
   "metadata": {},
   "outputs": [
    {
     "data": {
      "text/plain": [
       "<AxesSubplot:title={'center':'Feature importance'}, xlabel='F score', ylabel='Features'>"
      ]
     },
     "execution_count": 19,
     "metadata": {},
     "output_type": "execute_result"
    },
    {
     "data": {
      "image/png": "[encoded data removed]",
      "text/plain": [
       "<Figure size 432x288 with 1 Axes>"
      ]
     },
     "metadata": {
      "needs_background": "light"
     },
     "output_type": "display_data"
    }
   ],
   "source": [
    "#so because of this and domaing knowledge we will drop clm_amt column in above\n",
    "plot_importance(xgb_model)"
   ]
  },
  {
   "cell_type": "code",
   "execution_count": 20,
   "metadata": {},
   "outputs": [
    {
     "data": {
      "application/vnd.plotly.v1+json": {
       "config": {
        "plotlyServerURL": "https://plot.ly"
       },
       "data": [
        {
         "line": {
          "color": "darkorange",
          "width": 2
         },
         "mode": "lines",
         "type": "scatter",
         "x": [
          0,
          0.09722222222222222,
          1
         ],
         "y": [
          0,
          0.15482695810564662,
          1
         ]
        }
       ],
       "layout": {
        "showlegend": false,
        "template": {
         "data": {
          "bar": [
           {
            "error_x": {
             "color": "#2a3f5f"
            },
            "error_y": {
             "color": "#2a3f5f"
            },
            "marker": {
             "line": {
              "color": "#E5ECF6",
              "width": 0.5
             },
             "pattern": {
              "fillmode": "overlay",
              "size": 10,
              "solidity": 0.2
             }
            },
            "type": "bar"
           }
          ],
          "barpolar": [
           {
            "marker": {
             "line": {
              "color": "#E5ECF6",
              "width": 0.5
             },
             "pattern": {
              "fillmode": "overlay",
              "size": 10,
              "solidity": 0.2
             }
            },
            "type": "barpolar"
           }
          ],
          "carpet": [
           {
            "aaxis": {
             "endlinecolor": "#2a3f5f",
             "gridcolor": "white",
             "linecolor": "white",
             "minorgridcolor": "white",
             "startlinecolor": "#2a3f5f"
            },
            "baxis": {
             "endlinecolor": "#2a3f5f",
             "gridcolor": "white",
             "linecolor": "white",
             "minorgridcolor": "white",
             "startlinecolor": "#2a3f5f"
            },
            "type": "carpet"
           }
          ],
          "choropleth": [
           {
            "colorbar": {
             "outlinewidth": 0,
             "ticks": ""
            },
            "type": "choropleth"
           }
          ],
          "contour": [
           {
            "colorbar": {
             "outlinewidth": 0,
             "ticks": ""
            },
            "colorscale": [
             [
              0,
              "#0d0887"
             ],
             [
              0.1111111111111111,
              "#46039f"
             ],
             [
              0.2222222222222222,
              "#7201a8"
             ],
             [
              0.3333333333333333,
              "#9c179e"
             ],
             [
              0.4444444444444444,
              "#bd3786"
             ],
             [
              0.5555555555555556,
              "#d8576b"
             ],
             [
              0.6666666666666666,
              "#ed7953"
             ],
             [
              0.7777777777777778,
              "#fb9f3a"
             ],
             [
              0.8888888888888888,
              "#fdca26"
             ],
             [
              1,
              "#f0f921"
             ]
            ],
            "type": "contour"
           }
          ],
          "contourcarpet": [
           {
            "colorbar": {
             "outlinewidth": 0,
             "ticks": ""
            },
            "type": "contourcarpet"
           }
          ],
          "heatmap": [
           {
            "colorbar": {
             "outlinewidth": 0,
             "ticks": ""
            },
            "colorscale": [
             [
              0,
              "#0d0887"
             ],
             [
              0.1111111111111111,
              "#46039f"
             ],
             [
              0.2222222222222222,
              "#7201a8"
             ],
             [
              0.3333333333333333,
              "#9c179e"
             ],
             [
              0.4444444444444444,
              "#bd3786"
             ],
             [
              0.5555555555555556,
              "#d8576b"
             ],
             [
              0.6666666666666666,
              "#ed7953"
             ],
             [
              0.7777777777777778,
              "#fb9f3a"
             ],
             [
              0.8888888888888888,
              "#fdca26"
             ],
             [
              1,
              "#f0f921"
             ]
            ],
            "type": "heatmap"
           }
          ],
          "heatmapgl": [
           {
            "colorbar": {
             "outlinewidth": 0,
             "ticks": ""
            },
            "colorscale": [
             [
              0,
              "#0d0887"
             ],
             [
              0.1111111111111111,
              "#46039f"
             ],
             [
              0.2222222222222222,
              "#7201a8"
             ],
             [
              0.3333333333333333,
              "#9c179e"
             ],
             [
              0.4444444444444444,
              "#bd3786"
             ],
             [
              0.5555555555555556,
              "#d8576b"
             ],
             [
              0.6666666666666666,
              "#ed7953"
             ],
             [
              0.7777777777777778,
              "#fb9f3a"
             ],
             [
              0.8888888888888888,
              "#fdca26"
             ],
             [
              1,
              "#f0f921"
             ]
            ],
            "type": "heatmapgl"
           }
          ],
          "histogram": [
           {
            "marker": {
             "pattern": {
              "fillmode": "overlay",
              "size": 10,
              "solidity": 0.2
             }
            },
            "type": "histogram"
           }
          ],
          "histogram2d": [
           {
            "colorbar": {
             "outlinewidth": 0,
             "ticks": ""
            },
            "colorscale": [
             [
              0,
              "#0d0887"
             ],
             [
              0.1111111111111111,
              "#46039f"
             ],
             [
              0.2222222222222222,
              "#7201a8"
             ],
             [
              0.3333333333333333,
              "#9c179e"
             ],
             [
              0.4444444444444444,
              "#bd3786"
             ],
             [
              0.5555555555555556,
              "#d8576b"
             ],
             [
              0.6666666666666666,
              "#ed7953"
             ],
             [
              0.7777777777777778,
              "#fb9f3a"
             ],
             [
              0.8888888888888888,
              "#fdca26"
             ],
             [
              1,
              "#f0f921"
             ]
            ],
            "type": "histogram2d"
           }
          ],
          "histogram2dcontour": [
           {
            "colorbar": {
             "outlinewidth": 0,
             "ticks": ""
            },
            "colorscale": [
             [
              0,
              "#0d0887"
             ],
             [
              0.1111111111111111,
              "#46039f"
             ],
             [
              0.2222222222222222,
              "#7201a8"
             ],
             [
              0.3333333333333333,
              "#9c179e"
             ],
             [
              0.4444444444444444,
              "#bd3786"
             ],
             [
              0.5555555555555556,
              "#d8576b"
             ],
             [
              0.6666666666666666,
              "#ed7953"
             ],
             [
              0.7777777777777778,
              "#fb9f3a"
             ],
             [
              0.8888888888888888,
              "#fdca26"
             ],
             [
              1,
              "#f0f921"
             ]
            ],
            "type": "histogram2dcontour"
           }
          ],
          "mesh3d": [
           {
            "colorbar": {
             "outlinewidth": 0,
             "ticks": ""
            },
            "type": "mesh3d"
           }
          ],
          "parcoords": [
           {
            "line": {
             "colorbar": {
              "outlinewidth": 0,
              "ticks": ""
             }
            },
            "type": "parcoords"
           }
          ],
          "pie": [
           {
            "automargin": true,
            "type": "pie"
           }
          ],
          "scatter": [
           {
            "marker": {
             "colorbar": {
              "outlinewidth": 0,
              "ticks": ""
             }
            },
            "type": "scatter"
           }
          ],
          "scatter3d": [
           {
            "line": {
             "colorbar": {
              "outlinewidth": 0,
              "ticks": ""
             }
            },
            "marker": {
             "colorbar": {
              "outlinewidth": 0,
              "ticks": ""
             }
            },
            "type": "scatter3d"
           }
          ],
          "scattercarpet": [
           {
            "marker": {
             "colorbar": {
              "outlinewidth": 0,
              "ticks": ""
             }
            },
            "type": "scattercarpet"
           }
          ],
          "scattergeo": [
           {
            "marker": {
             "colorbar": {
              "outlinewidth": 0,
              "ticks": ""
             }
            },
            "type": "scattergeo"
           }
          ],
          "scattergl": [
           {
            "marker": {
             "colorbar": {
              "outlinewidth": 0,
              "ticks": ""
             }
            },
            "type": "scattergl"
           }
          ],
          "scattermapbox": [
           {
            "marker": {
             "colorbar": {
              "outlinewidth": 0,
              "ticks": ""
             }
            },
            "type": "scattermapbox"
           }
          ],
          "scatterpolar": [
           {
            "marker": {
             "colorbar": {
              "outlinewidth": 0,
              "ticks": ""
             }
            },
            "type": "scatterpolar"
           }
          ],
          "scatterpolargl": [
           {
            "marker": {
             "colorbar": {
              "outlinewidth": 0,
              "ticks": ""
             }
            },
            "type": "scatterpolargl"
           }
          ],
          "scatterternary": [
           {
            "marker": {
             "colorbar": {
              "outlinewidth": 0,
              "ticks": ""
             }
            },
            "type": "scatterternary"
           }
          ],
          "surface": [
           {
            "colorbar": {
             "outlinewidth": 0,
             "ticks": ""
            },
            "colorscale": [
             [
              0,
              "#0d0887"
             ],
             [
              0.1111111111111111,
              "#46039f"
             ],
             [
              0.2222222222222222,
              "#7201a8"
             ],
             [
              0.3333333333333333,
              "#9c179e"
             ],
             [
              0.4444444444444444,
              "#bd3786"
             ],
             [
              0.5555555555555556,
              "#d8576b"
             ],
             [
              0.6666666666666666,
              "#ed7953"
             ],
             [
              0.7777777777777778,
              "#fb9f3a"
             ],
             [
              0.8888888888888888,
              "#fdca26"
             ],
             [
              1,
              "#f0f921"
             ]
            ],
            "type": "surface"
           }
          ],
          "table": [
           {
            "cells": {
             "fill": {
              "color": "#EBF0F8"
             },
             "line": {
              "color": "white"
             }
            },
            "header": {
             "fill": {
              "color": "#C8D4E3"
             },
             "line": {
              "color": "white"
             }
            },
            "type": "table"
           }
          ]
         },
         "layout": {
          "annotationdefaults": {
           "arrowcolor": "#2a3f5f",
           "arrowhead": 0,
           "arrowwidth": 1
          },
          "autotypenumbers": "strict",
          "coloraxis": {
           "colorbar": {
            "outlinewidth": 0,
            "ticks": ""
           }
          },
          "colorscale": {
           "diverging": [
            [
             0,
             "#8e0152"
            ],
            [
             0.1,
             "#c51b7d"
            ],
            [
             0.2,
             "#de77ae"
            ],
            [
             0.3,
             "#f1b6da"
            ],
            [
             0.4,
             "#fde0ef"
            ],
            [
             0.5,
             "#f7f7f7"
            ],
            [
             0.6,
             "#e6f5d0"
            ],
            [
             0.7,
             "#b8e186"
            ],
            [
             0.8,
             "#7fbc41"
            ],
            [
             0.9,
             "#4d9221"
            ],
            [
             1,
             "#276419"
            ]
           ],
           "sequential": [
            [
             0,
             "#0d0887"
            ],
            [
             0.1111111111111111,
             "#46039f"
            ],
            [
             0.2222222222222222,
             "#7201a8"
            ],
            [
             0.3333333333333333,
             "#9c179e"
            ],
            [
             0.4444444444444444,
             "#bd3786"
            ],
            [
             0.5555555555555556,
             "#d8576b"
            ],
            [
             0.6666666666666666,
             "#ed7953"
            ],
            [
             0.7777777777777778,
             "#fb9f3a"
            ],
            [
             0.8888888888888888,
             "#fdca26"
            ],
            [
             1,
             "#f0f921"
            ]
           ],
           "sequentialminus": [
            [
             0,
             "#0d0887"
            ],
            [
             0.1111111111111111,
             "#46039f"
            ],
            [
             0.2222222222222222,
             "#7201a8"
            ],
            [
             0.3333333333333333,
             "#9c179e"
            ],
            [
             0.4444444444444444,
             "#bd3786"
            ],
            [
             0.5555555555555556,
             "#d8576b"
            ],
            [
             0.6666666666666666,
             "#ed7953"
            ],
            [
             0.7777777777777778,
             "#fb9f3a"
            ],
            [
             0.8888888888888888,
             "#fdca26"
            ],
            [
             1,
             "#f0f921"
            ]
           ]
          },
          "colorway": [
           "#636efa",
           "#EF553B",
           "#00cc96",
           "#ab63fa",
           "#FFA15A",
           "#19d3f3",
           "#FF6692",
           "#B6E880",
           "#FF97FF",
           "#FECB52"
          ],
          "font": {
           "color": "#2a3f5f"
          },
          "geo": {
           "bgcolor": "white",
           "lakecolor": "white",
           "landcolor": "#E5ECF6",
           "showlakes": true,
           "showland": true,
           "subunitcolor": "white"
          },
          "hoverlabel": {
           "align": "left"
          },
          "hovermode": "closest",
          "mapbox": {
           "style": "light"
          },
          "paper_bgcolor": "white",
          "plot_bgcolor": "#E5ECF6",
          "polar": {
           "angularaxis": {
            "gridcolor": "white",
            "linecolor": "white",
            "ticks": ""
           },
           "bgcolor": "#E5ECF6",
           "radialaxis": {
            "gridcolor": "white",
            "linecolor": "white",
            "ticks": ""
           }
          },
          "scene": {
           "xaxis": {
            "backgroundcolor": "#E5ECF6",
            "gridcolor": "white",
            "gridwidth": 2,
            "linecolor": "white",
            "showbackground": true,
            "ticks": "",
            "zerolinecolor": "white"
           },
           "yaxis": {
            "backgroundcolor": "#E5ECF6",
            "gridcolor": "white",
            "gridwidth": 2,
            "linecolor": "white",
            "showbackground": true,
            "ticks": "",
            "zerolinecolor": "white"
           },
           "zaxis": {
            "backgroundcolor": "#E5ECF6",
            "gridcolor": "white",
            "gridwidth": 2,
            "linecolor": "white",
            "showbackground": true,
            "ticks": "",
            "zerolinecolor": "white"
           }
          },
          "shapedefaults": {
           "line": {
            "color": "#2a3f5f"
           }
          },
          "ternary": {
           "aaxis": {
            "gridcolor": "white",
            "linecolor": "white",
            "ticks": ""
           },
           "baxis": {
            "gridcolor": "white",
            "linecolor": "white",
            "ticks": ""
           },
           "bgcolor": "#E5ECF6",
           "caxis": {
            "gridcolor": "white",
            "linecolor": "white",
            "ticks": ""
           }
          },
          "title": {
           "x": 0.05
          },
          "xaxis": {
           "automargin": true,
           "gridcolor": "white",
           "linecolor": "white",
           "ticks": "",
           "title": {
            "standoff": 15
           },
           "zerolinecolor": "white",
           "zerolinewidth": 2
          },
          "yaxis": {
           "automargin": true,
           "gridcolor": "white",
           "linecolor": "white",
           "ticks": "",
           "title": {
            "standoff": 15
           },
           "zerolinecolor": "white",
           "zerolinewidth": 2
          }
         }
        },
        "title": {
         "text": "ROC Curve"
        },
        "xaxis": {
         "title": {
          "text": "False Positive Rate"
         }
        },
        "yaxis": {
         "title": {
          "text": "True Positive Rate"
         }
        }
       }
      }
     },
     "metadata": {},
     "output_type": "display_data"
    }
   ],
   "source": [
    "#creatin roc curve\n",
    "fpr, tpr, thresholds = roc_curve(y_test, y_pred)\n",
    "\n",
    "# Plotly ile ROC Curve oluşturma\n",
    "fig = go.Figure()\n",
    "fig.add_trace(go.Scatter(x=fpr, y=tpr,\n",
    "                    mode='lines',\n",
    "                    line=dict(color='darkorange', width=2)))\n",
    "fig.update_layout(title='ROC Curve',\n",
    "                  xaxis_title='False Positive Rate',\n",
    "                  yaxis_title='True Positive Rate',\n",
    "                  showlegend=False)\n",
    "fig.show()"
   ]
  },
  {
   "cell_type": "code",
   "execution_count": 21,
   "metadata": {},
   "outputs": [
    {
     "data": {
      "text/plain": [
       "array([[9.9566013e-01, 4.3398552e-03],\n",
       "       [3.0693036e-01, 6.9306964e-01],\n",
       "       [9.9946821e-01, 5.3176784e-04],\n",
       "       ...,\n",
       "       [9.9918944e-01, 8.1053562e-04],\n",
       "       [9.9231124e-01, 7.6887719e-03],\n",
       "       [9.7150820e-01, 2.8491816e-02]], dtype=float32)"
      ]
     },
     "execution_count": 21,
     "metadata": {},
     "output_type": "execute_result"
    }
   ],
   "source": [
    "pred = xgb_model.predict_proba(X_test_encoded)\n",
    "pred"
   ]
  },
  {
   "cell_type": "code",
   "execution_count": 22,
   "metadata": {},
   "outputs": [],
   "source": [
    "treshold = 0.6\n",
    "\n",
    "lst = []\n",
    "lst_prob = []\n",
    "\n",
    "for i in range(len(pred)):\n",
    "    if pred[i][0] >= treshold:\n",
    "        lst.append(0)\n",
    "        lst_prob.append(pred[i][0])\n",
    "    else:\n",
    "        lst.append(1)\n",
    "        lst_prob.append(pred[i][1])\n"
   ]
  },
  {
   "cell_type": "code",
   "execution_count": 23,
   "metadata": {},
   "outputs": [
    {
     "name": "stdout",
     "output_type": "stream",
     "text": [
      "              precision    recall  f1-score   support\n",
      "\n",
      "         0.0       0.75      0.89      0.81      1512\n",
      "         1.0       0.36      0.17      0.23       549\n",
      "\n",
      "    accuracy                           0.70      2061\n",
      "   macro avg       0.56      0.53      0.52      2061\n",
      "weighted avg       0.65      0.70      0.66      2061\n",
      "\n"
     ]
    },
    {
     "data": {
      "image/png": "[encoded data removed]",
      "text/plain": [
       "<Figure size 432x288 with 2 Axes>"
      ]
     },
     "metadata": {
      "needs_background": "light"
     },
     "output_type": "display_data"
    }
   ],
   "source": [
    "cm = confusion_matrix(y_test, lst)\n",
    "sns.heatmap(cm, annot=True, fmt=\"d\")\n",
    "print(classification_report(y_test, lst))\n"
   ]
  },
  {
   "cell_type": "code",
   "execution_count": 24,
   "metadata": {},
   "outputs": [],
   "source": [
    "def objective(trial):\n",
    "    \"\"\"Define the objective function\"\"\"\n",
    "\n",
    "    params = {\n",
    "        'max_depth': trial.suggest_int('max_depth', 1, 9),\n",
    "        'learning_rate': trial.suggest_loguniform('learning_rate', 0.01, 1.0),\n",
    "        'n_estimators': trial.suggest_int('n_estimators', 50, 500),\n",
    "        'min_child_weight': trial.suggest_int('min_child_weight', 1, 10),\n",
    "        'gamma': trial.suggest_loguniform('gamma', 1e-8, 1.0),\n",
    "        'subsample': trial.suggest_loguniform('subsample', 0.01, 1.0),\n",
    "        'colsample_bytree': trial.suggest_loguniform('colsample_bytree', 0.01, 1.0),\n",
    "        'reg_alpha': trial.suggest_loguniform('reg_alpha', 1e-8, 1.0),\n",
    "        'reg_lambda': trial.suggest_loguniform('reg_lambda', 1e-8, 1.0),\n",
    "        'eval_metric': 'mlogloss',\n",
    "        'use_label_encoder': False\n",
    "    }\n",
    "    # Fit the model\n",
    "    optuna_model = xgb.XGBClassifier(**params)\n",
    "    optuna_model.fit(X_train_encoded, y_train)\n",
    "\n",
    "    # Make predictions\n",
    "    y_pred = optuna_model.predict(X_test_encoded)\n",
    "\n",
    "    # Evaluate predictions\n",
    "    f1score = f1_score(y_test, y_pred)\n",
    "    return f1score"
   ]
  },
  {
   "cell_type": "code",
   "execution_count": 25,
   "metadata": {},
   "outputs": [
    {
     "name": "stderr",
     "output_type": "stream",
     "text": [
      "\u001b[32m[I 2023-04-29 15:24:03,776]\u001b[0m A new study created in memory with name: no-name-b429cbf2-6d2b-44ee-8f04-02a296b487a1\u001b[0m\n",
      "\u001b[32m[I 2023-04-29 15:24:05,083]\u001b[0m Trial 0 finished with value: 0.23448275862068962 and parameters: {'max_depth': 6, 'learning_rate': 0.030216610203342216, 'n_estimators': 367, 'min_child_weight': 1, 'gamma': 0.00010246538256613856, 'subsample': 0.02598484305945086, 'colsample_bytree': 0.30754969981793256, 'reg_alpha': 9.924401806949089e-08, 'reg_lambda': 0.0003556120737191238}. Best is trial 0 with value: 0.23448275862068962.\u001b[0m\n",
      "\u001b[32m[I 2023-04-29 15:24:05,957]\u001b[0m Trial 1 finished with value: 0.25034387895460797 and parameters: {'max_depth': 3, 'learning_rate': 0.023733350594504758, 'n_estimators': 289, 'min_child_weight': 5, 'gamma': 0.005950176881686887, 'subsample': 0.13341986241780018, 'colsample_bytree': 0.125552962356385, 'reg_alpha': 0.00022448237082127204, 'reg_lambda': 0.12633743940623254}. Best is trial 1 with value: 0.25034387895460797.\u001b[0m\n",
      "\u001b[32m[I 2023-04-29 15:24:06,709]\u001b[0m Trial 2 finished with value: 0.2931258106355383 and parameters: {'max_depth': 3, 'learning_rate': 0.3340919642246046, 'n_estimators': 332, 'min_child_weight': 6, 'gamma': 2.1315262626263504e-08, 'subsample': 0.02959059217634148, 'colsample_bytree': 0.027585577761832285, 'reg_alpha': 2.257596384923173e-08, 'reg_lambda': 1.5505306507644655e-07}. Best is trial 2 with value: 0.2931258106355383.\u001b[0m\n",
      "\u001b[32m[I 2023-04-29 15:24:06,961]\u001b[0m Trial 3 finished with value: 0.0 and parameters: {'max_depth': 4, 'learning_rate': 0.016089768695843415, 'n_estimators': 96, 'min_child_weight': 8, 'gamma': 1.7870480630430798e-06, 'subsample': 0.013101137767154858, 'colsample_bytree': 0.025921555694556897, 'reg_alpha': 0.05911060087885792, 'reg_lambda': 0.00021596036236661627}. Best is trial 2 with value: 0.2931258106355383.\u001b[0m\n",
      "\u001b[32m[I 2023-04-29 15:24:07,784]\u001b[0m Trial 4 finished with value: 0.07106598984771573 and parameters: {'max_depth': 7, 'learning_rate': 0.011043802817009172, 'n_estimators': 253, 'min_child_weight': 7, 'gamma': 0.10523942293329744, 'subsample': 0.06395394270010298, 'colsample_bytree': 0.11181141510473827, 'reg_alpha': 0.127702155361053, 'reg_lambda': 0.15193615441642633}. Best is trial 2 with value: 0.2931258106355383.\u001b[0m\n",
      "\u001b[32m[I 2023-04-29 15:24:07,996]\u001b[0m Trial 5 finished with value: 0.17575757575757575 and parameters: {'max_depth': 2, 'learning_rate': 0.04288492781630455, 'n_estimators': 70, 'min_child_weight': 8, 'gamma': 0.0014169161366616397, 'subsample': 0.03697885698688745, 'colsample_bytree': 0.22749959909429018, 'reg_alpha': 0.00038861012231133734, 'reg_lambda': 2.857511097733367e-07}. Best is trial 2 with value: 0.2931258106355383.\u001b[0m\n",
      "\u001b[32m[I 2023-04-29 15:24:08,971]\u001b[0m Trial 6 finished with value: 0.22060957910014514 and parameters: {'max_depth': 4, 'learning_rate': 0.012040098845155561, 'n_estimators': 333, 'min_child_weight': 7, 'gamma': 0.940006861829508, 'subsample': 0.03044388646098281, 'colsample_bytree': 0.2594547367230129, 'reg_alpha': 2.739556212686693e-05, 'reg_lambda': 0.06452325130536694}. Best is trial 2 with value: 0.2931258106355383.\u001b[0m\n",
      "\u001b[32m[I 2023-04-29 15:24:10,271]\u001b[0m Trial 7 finished with value: 0.32568807339449546 and parameters: {'max_depth': 4, 'learning_rate': 0.08473209565055764, 'n_estimators': 433, 'min_child_weight': 7, 'gamma': 0.04006289092930975, 'subsample': 0.8477461838836643, 'colsample_bytree': 0.0460413584173571, 'reg_alpha': 8.881417775983252e-05, 'reg_lambda': 1.2661818739765212e-05}. Best is trial 7 with value: 0.32568807339449546.\u001b[0m\n",
      "\u001b[32m[I 2023-04-29 15:24:11,462]\u001b[0m Trial 8 finished with value: 0.27885714285714286 and parameters: {'max_depth': 8, 'learning_rate': 0.12493851934201856, 'n_estimators': 338, 'min_child_weight': 1, 'gamma': 0.00010817839092695099, 'subsample': 0.10344573812387435, 'colsample_bytree': 0.09188473747870055, 'reg_alpha': 1.091059709148889e-08, 'reg_lambda': 0.0007090099038003548}. Best is trial 7 with value: 0.32568807339449546.\u001b[0m\n",
      "\u001b[32m[I 2023-04-29 15:24:12,052]\u001b[0m Trial 9 finished with value: 0.18696883852691218 and parameters: {'max_depth': 7, 'learning_rate': 0.065333964686826, 'n_estimators': 186, 'min_child_weight': 5, 'gamma': 0.11285003306010391, 'subsample': 0.04473163221695224, 'colsample_bytree': 0.026339659828947218, 'reg_alpha': 0.24540726845919808, 'reg_lambda': 0.0004330535295782342}. Best is trial 7 with value: 0.32568807339449546.\u001b[0m\n",
      "\u001b[32m[I 2023-04-29 15:24:13,369]\u001b[0m Trial 10 finished with value: 0.3095652173913044 and parameters: {'max_depth': 1, 'learning_rate': 0.13668509940691304, 'n_estimators': 492, 'min_child_weight': 10, 'gamma': 0.0035826972490959107, 'subsample': 0.958702094097476, 'colsample_bytree': 0.011296544774402475, 'reg_alpha': 4.757859400327971e-06, 'reg_lambda': 3.5186307109492722e-06}. Best is trial 7 with value: 0.32568807339449546.\u001b[0m\n",
      "\u001b[32m[I 2023-04-29 15:24:14,601]\u001b[0m Trial 11 finished with value: 0.330749354005168 and parameters: {'max_depth': 1, 'learning_rate': 0.12653218644651276, 'n_estimators': 481, 'min_child_weight': 10, 'gamma': 0.006025367838617817, 'subsample': 0.7536723777646523, 'colsample_bytree': 0.011639721845005987, 'reg_alpha': 2.8939804193100085e-06, 'reg_lambda': 1.3792676589044589e-06}. Best is trial 11 with value: 0.330749354005168.\u001b[0m\n",
      "\u001b[32m[I 2023-04-29 15:24:15,924]\u001b[0m Trial 12 finished with value: 0.21656050955414008 and parameters: {'max_depth': 1, 'learning_rate': 0.9555967265283432, 'n_estimators': 476, 'min_child_weight': 10, 'gamma': 0.020304138071923727, 'subsample': 0.8730943067155935, 'colsample_bytree': 0.8904111619854791, 'reg_alpha': 1.0344613437076482e-06, 'reg_lambda': 1.0015282780319393e-08}. Best is trial 11 with value: 0.330749354005168.\u001b[0m\n",
      "\u001b[32m[I 2023-04-29 15:24:17,389]\u001b[0m Trial 13 finished with value: 0.3295194508009154 and parameters: {'max_depth': 5, 'learning_rate': 0.06878208318555853, 'n_estimators': 429, 'min_child_weight': 3, 'gamma': 0.9772555364631644, 'subsample': 0.43610194347127584, 'colsample_bytree': 0.010506592146753774, 'reg_alpha': 0.001826768701444456, 'reg_lambda': 8.123283174583473e-06}. Best is trial 11 with value: 0.330749354005168.\u001b[0m\n",
      "\u001b[32m[I 2023-04-29 15:24:18,816]\u001b[0m Trial 14 finished with value: 0.2503097893432466 and parameters: {'max_depth': 9, 'learning_rate': 0.18095968665534967, 'n_estimators': 410, 'min_child_weight': 4, 'gamma': 0.9986219575507677, 'subsample': 0.3611292265736543, 'colsample_bytree': 0.010610460655291837, 'reg_alpha': 0.004346515836644482, 'reg_lambda': 1.2268856023678184e-05}. Best is trial 11 with value: 0.330749354005168.\u001b[0m\n",
      "\u001b[32m[I 2023-04-29 15:24:20,231]\u001b[0m Trial 15 finished with value: 0.3210161662817552 and parameters: {'max_depth': 5, 'learning_rate': 0.052964880537680926, 'n_estimators': 434, 'min_child_weight': 3, 'gamma': 0.0010695921882862966, 'subsample': 0.24829455840470338, 'colsample_bytree': 0.010276400904551777, 'reg_alpha': 0.0093028794280127, 'reg_lambda': 1.4060611775194074e-06}. Best is trial 11 with value: 0.330749354005168.\u001b[0m\n",
      "\u001b[32m[I 2023-04-29 15:24:21,980]\u001b[0m Trial 16 finished with value: 0.32279909706546267 and parameters: {'max_depth': 6, 'learning_rate': 0.07878254109217375, 'n_estimators': 495, 'min_child_weight': 3, 'gamma': 0.2559314599292699, 'subsample': 0.44358073557054, 'colsample_bytree': 0.017327989638341774, 'reg_alpha': 2.979223704277704e-06, 'reg_lambda': 2.243051489001635e-05}. Best is trial 11 with value: 0.330749354005168.\u001b[0m\n",
      "\u001b[32m[I 2023-04-29 15:24:23,088]\u001b[0m Trial 17 finished with value: 0.25766871165644173 and parameters: {'max_depth': 2, 'learning_rate': 0.04174317892432545, 'n_estimators': 398, 'min_child_weight': 3, 'gamma': 0.016501907126903612, 'subsample': 0.21908244870234989, 'colsample_bytree': 0.0176372689378527, 'reg_alpha': 0.001641273068511717, 'reg_lambda': 4.969018586855425e-07}. Best is trial 11 with value: 0.330749354005168.\u001b[0m\n",
      "\u001b[32m[I 2023-04-29 15:24:23,917]\u001b[0m Trial 18 finished with value: 0.24939467312348668 and parameters: {'max_depth': 9, 'learning_rate': 0.2318485837927818, 'n_estimators': 220, 'min_child_weight': 2, 'gamma': 0.18923729592272684, 'subsample': 0.5244047881198444, 'colsample_bytree': 0.04624670406437878, 'reg_alpha': 0.7064585572730159, 'reg_lambda': 6.795199348163591e-05}. Best is trial 11 with value: 0.330749354005168.\u001b[0m\n",
      "\u001b[32m[I 2023-04-29 15:24:24,495]\u001b[0m Trial 19 finished with value: 0.3013698630136986 and parameters: {'max_depth': 5, 'learning_rate': 0.09953002373194035, 'n_estimators': 140, 'min_child_weight': 9, 'gamma': 0.0005504718902160156, 'subsample': 0.5788055274846167, 'colsample_bytree': 0.01641029320816466, 'reg_alpha': 2.203786935570762e-05, 'reg_lambda': 6.210840824859705e-08}. Best is trial 11 with value: 0.330749354005168.\u001b[0m\n"
     ]
    },
    {
     "name": "stdout",
     "output_type": "stream",
     "text": [
      "Number of finished trials: 20\n",
      "Best trial:\n",
      "  Value: 0.330749354005168\n",
      "  Params: \n",
      "    max_depth: 1\n",
      "    learning_rate: 0.12653218644651276\n",
      "    n_estimators: 481\n",
      "    min_child_weight: 10\n",
      "    gamma: 0.006025367838617817\n",
      "    subsample: 0.7536723777646523\n",
      "    colsample_bytree: 0.011639721845005987\n",
      "    reg_alpha: 2.8939804193100085e-06\n",
      "    reg_lambda: 1.3792676589044589e-06\n"
     ]
    }
   ],
   "source": [
    "study = optuna.create_study(direction='maximize')\n",
    "study.optimize(objective, n_trials=20)\n",
    "\n",
    "print('Number of finished trials: {}'.format(len(study.trials)))\n",
    "print('Best trial:')\n",
    "trial = study.best_trial\n",
    "\n",
    "print('  Value: {}'.format(trial.value))\n",
    "print('  Params: ')\n",
    "\n",
    "for key, value in trial.params.items():\n",
    "    print('    {}: {}'.format(key, value))"
   ]
  },
  {
   "cell_type": "code",
   "execution_count": null,
   "metadata": {},
   "outputs": [],
   "source": []
  },
  {
   "cell_type": "code",
   "execution_count": null,
   "metadata": {},
   "outputs": [],
   "source": []
  },
  {
   "cell_type": "code",
   "execution_count": 26,
   "metadata": {},
   "outputs": [],
   "source": [
    "###"
   ]
  },
  {
   "cell_type": "code",
   "execution_count": 27,
   "metadata": {},
   "outputs": [],
   "source": [
    "df = pd.read_csv('autodata.csv')\n",
    "df.head()\n",
    "for i in df.columns:\n",
    "    if df[i].dtypes == \"object\":\n",
    "        df[i] = df[i].str.replace(\"$\",\"\")\n",
    "        df[i] = df[i].str.replace(\"$\",\"\")\n",
    "        df[i] = df[i].str.replace(\"$\",\"\")\n",
    "    try:\n",
    "        df[i] = df[i].astype(float)\n",
    "    except:\n",
    "        pass"
   ]
  },
  {
   "cell_type": "code",
   "execution_count": 28,
   "metadata": {},
   "outputs": [],
   "source": [
    "df_frq = df.groupby(\"ID\").agg({\"CLAIM_FLAG\":\"sum\",\"KIDSDRIV\":\"count\"}).reset_index()"
   ]
  },
  {
   "cell_type": "code",
   "execution_count": 29,
   "metadata": {},
   "outputs": [
    {
     "data": {
      "text/html": [
       "<div>\n",
       "<style scoped>\n",
       "    .dataframe tbody tr th:only-of-type {\n",
       "        vertical-align: middle;\n",
       "    }\n",
       "\n",
       "    .dataframe tbody tr th {\n",
       "        vertical-align: top;\n",
       "    }\n",
       "\n",
       "    .dataframe thead th {\n",
       "        text-align: right;\n",
       "    }\n",
       "</style>\n",
       "<table border=\"1\" class=\"dataframe\">\n",
       "  <thead>\n",
       "    <tr style=\"text-align: right;\">\n",
       "      <th></th>\n",
       "      <th>ID</th>\n",
       "      <th>KIDSDRIV_x</th>\n",
       "      <th>AGE</th>\n",
       "      <th>HOMEKIDS</th>\n",
       "      <th>YOJ</th>\n",
       "      <th>INCOME</th>\n",
       "      <th>PARENT1</th>\n",
       "      <th>HOME_VAL</th>\n",
       "      <th>MSTATUS</th>\n",
       "      <th>GENDER</th>\n",
       "      <th>...</th>\n",
       "      <th>OLDCLAIM</th>\n",
       "      <th>CLM_FREQ</th>\n",
       "      <th>REVOKED</th>\n",
       "      <th>MVR_PTS</th>\n",
       "      <th>CLM_AMT</th>\n",
       "      <th>CAR_AGE</th>\n",
       "      <th>CLAIM_FLAG_x</th>\n",
       "      <th>CLAIM_FLAG_y</th>\n",
       "      <th>KIDSDRIV_y</th>\n",
       "      <th>FRQ</th>\n",
       "    </tr>\n",
       "  </thead>\n",
       "  <tbody>\n",
       "    <tr>\n",
       "      <th>0</th>\n",
       "      <td>63581743.0</td>\n",
       "      <td>0.0</td>\n",
       "      <td>60.0</td>\n",
       "      <td>0.0</td>\n",
       "      <td>11.0</td>\n",
       "      <td>67,349</td>\n",
       "      <td>No</td>\n",
       "      <td>0</td>\n",
       "      <td>z_No</td>\n",
       "      <td>M</td>\n",
       "      <td>...</td>\n",
       "      <td>4,461</td>\n",
       "      <td>2.0</td>\n",
       "      <td>No</td>\n",
       "      <td>3.0</td>\n",
       "      <td>0</td>\n",
       "      <td>18.0</td>\n",
       "      <td>0.0</td>\n",
       "      <td>0.0</td>\n",
       "      <td>1</td>\n",
       "      <td>0.0</td>\n",
       "    </tr>\n",
       "    <tr>\n",
       "      <th>1</th>\n",
       "      <td>132761049.0</td>\n",
       "      <td>0.0</td>\n",
       "      <td>43.0</td>\n",
       "      <td>0.0</td>\n",
       "      <td>11.0</td>\n",
       "      <td>91,449</td>\n",
       "      <td>No</td>\n",
       "      <td>257,252</td>\n",
       "      <td>z_No</td>\n",
       "      <td>M</td>\n",
       "      <td>...</td>\n",
       "      <td>0</td>\n",
       "      <td>0.0</td>\n",
       "      <td>No</td>\n",
       "      <td>0.0</td>\n",
       "      <td>0</td>\n",
       "      <td>1.0</td>\n",
       "      <td>0.0</td>\n",
       "      <td>0.0</td>\n",
       "      <td>1</td>\n",
       "      <td>0.0</td>\n",
       "    </tr>\n",
       "    <tr>\n",
       "      <th>2</th>\n",
       "      <td>921317019.0</td>\n",
       "      <td>0.0</td>\n",
       "      <td>48.0</td>\n",
       "      <td>0.0</td>\n",
       "      <td>11.0</td>\n",
       "      <td>52,881</td>\n",
       "      <td>No</td>\n",
       "      <td>0</td>\n",
       "      <td>z_No</td>\n",
       "      <td>M</td>\n",
       "      <td>...</td>\n",
       "      <td>0</td>\n",
       "      <td>0.0</td>\n",
       "      <td>No</td>\n",
       "      <td>2.0</td>\n",
       "      <td>0</td>\n",
       "      <td>10.0</td>\n",
       "      <td>0.0</td>\n",
       "      <td>0.0</td>\n",
       "      <td>1</td>\n",
       "      <td>0.0</td>\n",
       "    </tr>\n",
       "    <tr>\n",
       "      <th>3</th>\n",
       "      <td>727598473.0</td>\n",
       "      <td>0.0</td>\n",
       "      <td>35.0</td>\n",
       "      <td>1.0</td>\n",
       "      <td>10.0</td>\n",
       "      <td>16,039</td>\n",
       "      <td>No</td>\n",
       "      <td>124,191</td>\n",
       "      <td>Yes</td>\n",
       "      <td>z_F</td>\n",
       "      <td>...</td>\n",
       "      <td>38,690</td>\n",
       "      <td>2.0</td>\n",
       "      <td>No</td>\n",
       "      <td>3.0</td>\n",
       "      <td>0</td>\n",
       "      <td>10.0</td>\n",
       "      <td>0.0</td>\n",
       "      <td>0.0</td>\n",
       "      <td>1</td>\n",
       "      <td>0.0</td>\n",
       "    </tr>\n",
       "    <tr>\n",
       "      <th>4</th>\n",
       "      <td>450221861.0</td>\n",
       "      <td>0.0</td>\n",
       "      <td>51.0</td>\n",
       "      <td>0.0</td>\n",
       "      <td>14.0</td>\n",
       "      <td>NaN</td>\n",
       "      <td>No</td>\n",
       "      <td>306,251</td>\n",
       "      <td>Yes</td>\n",
       "      <td>M</td>\n",
       "      <td>...</td>\n",
       "      <td>0</td>\n",
       "      <td>0.0</td>\n",
       "      <td>No</td>\n",
       "      <td>0.0</td>\n",
       "      <td>0</td>\n",
       "      <td>6.0</td>\n",
       "      <td>0.0</td>\n",
       "      <td>0.0</td>\n",
       "      <td>1</td>\n",
       "      <td>0.0</td>\n",
       "    </tr>\n",
       "  </tbody>\n",
       "</table>\n",
       "<p>5 rows × 28 columns</p>\n",
       "</div>"
      ],
      "text/plain": [
       "            ID  KIDSDRIV_x   AGE  HOMEKIDS   YOJ  INCOME PARENT1 HOME_VAL  \\\n",
       "0   63581743.0         0.0  60.0       0.0  11.0  67,349      No        0   \n",
       "1  132761049.0         0.0  43.0       0.0  11.0  91,449      No  257,252   \n",
       "2  921317019.0         0.0  48.0       0.0  11.0  52,881      No        0   \n",
       "3  727598473.0         0.0  35.0       1.0  10.0  16,039      No  124,191   \n",
       "4  450221861.0         0.0  51.0       0.0  14.0     NaN      No  306,251   \n",
       "\n",
       "  MSTATUS GENDER  ... OLDCLAIM CLM_FREQ  REVOKED MVR_PTS CLM_AMT  CAR_AGE  \\\n",
       "0    z_No      M  ...    4,461      2.0       No     3.0       0     18.0   \n",
       "1    z_No      M  ...        0      0.0       No     0.0       0      1.0   \n",
       "2    z_No      M  ...        0      0.0       No     2.0       0     10.0   \n",
       "3     Yes    z_F  ...   38,690      2.0       No     3.0       0     10.0   \n",
       "4     Yes      M  ...        0      0.0       No     0.0       0      6.0   \n",
       "\n",
       "  CLAIM_FLAG_x CLAIM_FLAG_y KIDSDRIV_y  FRQ  \n",
       "0          0.0          0.0          1  0.0  \n",
       "1          0.0          0.0          1  0.0  \n",
       "2          0.0          0.0          1  0.0  \n",
       "3          0.0          0.0          1  0.0  \n",
       "4          0.0          0.0          1  0.0  \n",
       "\n",
       "[5 rows x 28 columns]"
      ]
     },
     "execution_count": 29,
     "metadata": {},
     "output_type": "execute_result"
    }
   ],
   "source": [
    "df_frq[\"FRQ\"] = df_frq.CLAIM_FLAG / df_frq.KIDSDRIV\n",
    "df2 = df.merge(df_frq, on=\"ID\", how=\"left\")\n",
    "df2.head()"
   ]
  },
  {
   "cell_type": "code",
   "execution_count": 30,
   "metadata": {},
   "outputs": [],
   "source": [
    "df3 = df2.drop([\"ID\",\"CLM_AMT\"], axis=1)"
   ]
  },
  {
   "cell_type": "code",
   "execution_count": null,
   "metadata": {},
   "outputs": [],
   "source": []
  },
  {
   "cell_type": "code",
   "execution_count": 32,
   "metadata": {},
   "outputs": [],
   "source": [
    "X = df3.drop([\"FRQ\"],axis=1)\n",
    "y = df3.FRQ\n",
    "\n",
    "X_train, X_test, y_train, y_test = train_test_split(X, y, test_size=0.2, random_state=43,stratify=df.CLAIM_FLAG)"
   ]
  },
  {
   "cell_type": "code",
   "execution_count": 39,
   "metadata": {},
   "outputs": [
    {
     "name": "stdout",
     "output_type": "stream",
     "text": [
      "Ratio of FRQ in y_train: 26.58%\n",
      "Ratio of FRQ in y_test: 26.97%\n"
     ]
    }
   ],
   "source": [
    "y_train_sum = y_train.sum()\n",
    "y_train_len = len(y_train)\n",
    "y_train_oran = y_train_sum / y_train_len\n",
    "\n",
    "print(f\"Ratio of FRQ in y_train: {y_train_oran:0.2%}\")\n",
    "\n",
    "y_test_sum = y_test.sum()\n",
    "y_test_len = len(y_test)\n",
    "y_test_oran = y_test_sum / y_test_len\n",
    "\n",
    "print(f\"Ratio of FRQ in y_test: {y_test_oran:0.2%}\")"
   ]
  },
  {
   "cell_type": "code",
   "execution_count": 35,
   "metadata": {},
   "outputs": [],
   "source": [
    "target_encoder = TargetEncoder()\n",
    "X_train_encoded = target_encoder.fit_transform(X_train, y_train)\n",
    "X_test_encoded = target_encoder.transform(X_test)"
   ]
  },
  {
   "cell_type": "code",
   "execution_count": 36,
   "metadata": {},
   "outputs": [],
   "source": [
    "xgb_rg = xgb.XGBRegressor()\n",
    "xgb_rg.fit(X_train_encoded, y_train)\n",
    "\n",
    "y_pred = xgb_rg.predict(X_test_encoded)"
   ]
  },
  {
   "cell_type": "code",
   "execution_count": 42,
   "metadata": {},
   "outputs": [
    {
     "data": {
      "text/html": [
       "<div>\n",
       "<style scoped>\n",
       "    .dataframe tbody tr th:only-of-type {\n",
       "        vertical-align: middle;\n",
       "    }\n",
       "\n",
       "    .dataframe tbody tr th {\n",
       "        vertical-align: top;\n",
       "    }\n",
       "\n",
       "    .dataframe thead th {\n",
       "        text-align: right;\n",
       "    }\n",
       "</style>\n",
       "<table border=\"1\" class=\"dataframe\">\n",
       "  <thead>\n",
       "    <tr style=\"text-align: right;\">\n",
       "      <th></th>\n",
       "      <th>Actual</th>\n",
       "      <th>Prediction_prob</th>\n",
       "    </tr>\n",
       "  </thead>\n",
       "  <tbody>\n",
       "    <tr>\n",
       "      <th>1054</th>\n",
       "      <td>0.0</td>\n",
       "      <td>0.000005</td>\n",
       "    </tr>\n",
       "    <tr>\n",
       "      <th>4364</th>\n",
       "      <td>0.0</td>\n",
       "      <td>0.000007</td>\n",
       "    </tr>\n",
       "    <tr>\n",
       "      <th>4503</th>\n",
       "      <td>0.0</td>\n",
       "      <td>0.000015</td>\n",
       "    </tr>\n",
       "    <tr>\n",
       "      <th>10226</th>\n",
       "      <td>0.0</td>\n",
       "      <td>0.000007</td>\n",
       "    </tr>\n",
       "    <tr>\n",
       "      <th>409</th>\n",
       "      <td>0.0</td>\n",
       "      <td>0.000005</td>\n",
       "    </tr>\n",
       "    <tr>\n",
       "      <th>...</th>\n",
       "      <td>...</td>\n",
       "      <td>...</td>\n",
       "    </tr>\n",
       "    <tr>\n",
       "      <th>493</th>\n",
       "      <td>1.0</td>\n",
       "      <td>1.000285</td>\n",
       "    </tr>\n",
       "    <tr>\n",
       "      <th>1265</th>\n",
       "      <td>0.5</td>\n",
       "      <td>0.502239</td>\n",
       "    </tr>\n",
       "    <tr>\n",
       "      <th>2674</th>\n",
       "      <td>0.0</td>\n",
       "      <td>0.000005</td>\n",
       "    </tr>\n",
       "    <tr>\n",
       "      <th>4292</th>\n",
       "      <td>0.0</td>\n",
       "      <td>0.000005</td>\n",
       "    </tr>\n",
       "    <tr>\n",
       "      <th>1403</th>\n",
       "      <td>0.0</td>\n",
       "      <td>0.000005</td>\n",
       "    </tr>\n",
       "  </tbody>\n",
       "</table>\n",
       "<p>2061 rows × 2 columns</p>\n",
       "</div>"
      ],
      "text/plain": [
       "       Actual  Prediction_prob\n",
       "1054      0.0         0.000005\n",
       "4364      0.0         0.000007\n",
       "4503      0.0         0.000015\n",
       "10226     0.0         0.000007\n",
       "409       0.0         0.000005\n",
       "...       ...              ...\n",
       "493       1.0         1.000285\n",
       "1265      0.5         0.502239\n",
       "2674      0.0         0.000005\n",
       "4292      0.0         0.000005\n",
       "1403      0.0         0.000005\n",
       "\n",
       "[2061 rows x 2 columns]"
      ]
     },
     "execution_count": 42,
     "metadata": {},
     "output_type": "execute_result"
    }
   ],
   "source": [
    "df_v = pd.DataFrame({\"Actual\":y_test,\"Prediction_prob\":y_pred})\n",
    "df_v"
   ]
  },
  {
   "cell_type": "code",
   "execution_count": 43,
   "metadata": {},
   "outputs": [
    {
     "name": "stdout",
     "output_type": "stream",
     "text": [
      "Hasarlilarin Ortalama FRQ Mean: 99.92%\n",
      "Hasarsizlarin Ortalama FRQ Mean: 0.00%\n"
     ]
    }
   ],
   "source": [
    "df_v1 = df_v[df_v.Actual == 1]\n",
    "df_v0 = df_v[df_v.Actual == 0]\n",
    "\n",
    "print(f\"Hasarlilarin Ortalama FRQ Mean: {df_v1.Prediction_prob.mean():.2%}\")\n",
    "print(f\"Hasarsizlarin Ortalama FRQ Mean: {df_v0.Prediction_prob.mean():.2%}\")"
   ]
  },
  {
   "cell_type": "code",
   "execution_count": 44,
   "metadata": {},
   "outputs": [],
   "source": [
    "# Create a list of models\n",
    "models = [xgb.XGBRegressor()]\n",
    "\n",
    "# Create a function to fit and score models\n",
    "def fit_and_score(X_train, y_train):\n",
    "\n",
    "    # Dictionary to store results\n",
    "    results = {}\n",
    "\n",
    "    # Loop through models\n",
    "    for model in models:\n",
    "        # Create cross-validation object\n",
    "        cv = cross_val_score(model, X_train, y_train, cv=5, scoring='recall')\n",
    "\n",
    "        # Store results\n",
    "        results[str(model).split('(')[0]] = cv\n",
    "\n",
    "\n",
    "    return results\n",
    "\n",
    "# Store results in a dataframe\n",
    "df_cv2 = pd.DataFrame(fit_and_score(X_train_encoded, y_train))"
   ]
  },
  {
   "cell_type": "code",
   "execution_count": 47,
   "metadata": {},
   "outputs": [
    {
     "name": "stderr",
     "output_type": "stream",
     "text": [
      "\u001b[32m[I 2023-04-29 15:48:34,210]\u001b[0m A new study created in memory with name: no-name-25921a4c-614e-435e-a955-994171ebbb20\u001b[0m\n",
      "\u001b[33m[W 2023-04-29 15:48:34,218]\u001b[0m Trial 0 failed with parameters: {'max_depth': 8, 'learning_rate': 0.19024732038405773, 'n_estimators': 374, 'min_child_weight': 1, 'gamma': 2.3168154863127465e-08, 'subsample': 0.7473629368382773, 'colsample_bytree': 0.0725427078396352, 'reg_alpha': 8.886629098041544e-06, 'reg_lambda': 2.4019248933914133e-06} because of the following error: ValueError('The label must consist of integer labels of form 0, 1, 2, ..., [num_class - 1].').\u001b[0m\n",
      "Traceback (most recent call last):\n",
      "  File \"c:\\Users\\Latte\\anaconda3\\lib\\site-packages\\optuna\\study\\_optimize.py\", line 200, in _run_trial\n",
      "    value_or_values = func(trial)\n",
      "  File \"C:\\Users\\Latte\\AppData\\Local\\Temp\\ipykernel_6372\\1548101115.py\", line 20, in objective\n",
      "    optuna_model.fit(X_train_encoded, y_train)\n",
      "  File \"c:\\Users\\Latte\\anaconda3\\lib\\site-packages\\xgboost\\core.py\", line 506, in inner_f\n",
      "    return f(**kwargs)\n",
      "  File \"c:\\Users\\Latte\\anaconda3\\lib\\site-packages\\xgboost\\sklearn.py\", line 1199, in fit\n",
      "    raise ValueError(label_encoding_check_error)\n",
      "ValueError: The label must consist of integer labels of form 0, 1, 2, ..., [num_class - 1].\n",
      "\u001b[33m[W 2023-04-29 15:48:34,220]\u001b[0m Trial 0 failed with value None.\u001b[0m\n"
     ]
    },
    {
     "ename": "ValueError",
     "evalue": "The label must consist of integer labels of form 0, 1, 2, ..., [num_class - 1].",
     "output_type": "error",
     "traceback": [
      "\u001b[1;31m---------------------------------------------------------------------------\u001b[0m",
      "\u001b[1;31mValueError\u001b[0m                                Traceback (most recent call last)",
      "\u001b[1;32mc:\\Users\\Latte\\Desktop\\Genel-AI\\Kodluyoruz-Zemin-Istanbul-Bootcamp\\week4\\insurance.ipynb Cell 41\u001b[0m in \u001b[0;36m<cell line: 30>\u001b[1;34m()\u001b[0m\n\u001b[0;32m     <a href='vscode-notebook-cell:/c%3A/Users/Latte/Desktop/Genel-AI/Kodluyoruz-Zemin-Istanbul-Bootcamp/week4/insurance.ipynb#X64sZmlsZQ%3D%3D?line=26'>27</a>\u001b[0m     \u001b[39mreturn\u001b[39;00m eval_metric_score\n\u001b[0;32m     <a href='vscode-notebook-cell:/c%3A/Users/Latte/Desktop/Genel-AI/Kodluyoruz-Zemin-Istanbul-Bootcamp/week4/insurance.ipynb#X64sZmlsZQ%3D%3D?line=28'>29</a>\u001b[0m study \u001b[39m=\u001b[39m optuna\u001b[39m.\u001b[39mcreate_study(direction\u001b[39m=\u001b[39m\u001b[39m'\u001b[39m\u001b[39mmaximize\u001b[39m\u001b[39m'\u001b[39m)\n\u001b[1;32m---> <a href='vscode-notebook-cell:/c%3A/Users/Latte/Desktop/Genel-AI/Kodluyoruz-Zemin-Istanbul-Bootcamp/week4/insurance.ipynb#X64sZmlsZQ%3D%3D?line=29'>30</a>\u001b[0m study\u001b[39m.\u001b[39;49moptimize(objective, n_trials\u001b[39m=\u001b[39;49m\u001b[39m20\u001b[39;49m)\n\u001b[0;32m     <a href='vscode-notebook-cell:/c%3A/Users/Latte/Desktop/Genel-AI/Kodluyoruz-Zemin-Istanbul-Bootcamp/week4/insurance.ipynb#X64sZmlsZQ%3D%3D?line=31'>32</a>\u001b[0m \u001b[39mprint\u001b[39m(\u001b[39m'\u001b[39m\u001b[39mNumber of finished trials: \u001b[39m\u001b[39m{}\u001b[39;00m\u001b[39m'\u001b[39m\u001b[39m.\u001b[39mformat(\u001b[39mlen\u001b[39m(study\u001b[39m.\u001b[39mtrials)))\n\u001b[0;32m     <a href='vscode-notebook-cell:/c%3A/Users/Latte/Desktop/Genel-AI/Kodluyoruz-Zemin-Istanbul-Bootcamp/week4/insurance.ipynb#X64sZmlsZQ%3D%3D?line=32'>33</a>\u001b[0m \u001b[39mprint\u001b[39m(\u001b[39m'\u001b[39m\u001b[39mBest trial:\u001b[39m\u001b[39m'\u001b[39m)\n",
      "File \u001b[1;32mc:\\Users\\Latte\\anaconda3\\lib\\site-packages\\optuna\\study\\study.py:425\u001b[0m, in \u001b[0;36mStudy.optimize\u001b[1;34m(self, func, n_trials, timeout, n_jobs, catch, callbacks, gc_after_trial, show_progress_bar)\u001b[0m\n\u001b[0;32m    321\u001b[0m \u001b[39mdef\u001b[39;00m \u001b[39moptimize\u001b[39m(\n\u001b[0;32m    322\u001b[0m     \u001b[39mself\u001b[39m,\n\u001b[0;32m    323\u001b[0m     func: ObjectiveFuncType,\n\u001b[1;32m   (...)\u001b[0m\n\u001b[0;32m    330\u001b[0m     show_progress_bar: \u001b[39mbool\u001b[39m \u001b[39m=\u001b[39m \u001b[39mFalse\u001b[39;00m,\n\u001b[0;32m    331\u001b[0m ) \u001b[39m-\u001b[39m\u001b[39m>\u001b[39m \u001b[39mNone\u001b[39;00m:\n\u001b[0;32m    332\u001b[0m     \u001b[39m\"\"\"Optimize an objective function.\u001b[39;00m\n\u001b[0;32m    333\u001b[0m \n\u001b[0;32m    334\u001b[0m \u001b[39m    Optimization is done by choosing a suitable set of hyperparameter values from a given\u001b[39;00m\n\u001b[1;32m   (...)\u001b[0m\n\u001b[0;32m    422\u001b[0m \u001b[39m            If nested invocation of this method occurs.\u001b[39;00m\n\u001b[0;32m    423\u001b[0m \u001b[39m    \"\"\"\u001b[39;00m\n\u001b[1;32m--> 425\u001b[0m     _optimize(\n\u001b[0;32m    426\u001b[0m         study\u001b[39m=\u001b[39;49m\u001b[39mself\u001b[39;49m,\n\u001b[0;32m    427\u001b[0m         func\u001b[39m=\u001b[39;49mfunc,\n\u001b[0;32m    428\u001b[0m         n_trials\u001b[39m=\u001b[39;49mn_trials,\n\u001b[0;32m    429\u001b[0m         timeout\u001b[39m=\u001b[39;49mtimeout,\n\u001b[0;32m    430\u001b[0m         n_jobs\u001b[39m=\u001b[39;49mn_jobs,\n\u001b[0;32m    431\u001b[0m         catch\u001b[39m=\u001b[39;49m\u001b[39mtuple\u001b[39;49m(catch) \u001b[39mif\u001b[39;49;00m \u001b[39misinstance\u001b[39;49m(catch, Iterable) \u001b[39melse\u001b[39;49;00m (catch,),\n\u001b[0;32m    432\u001b[0m         callbacks\u001b[39m=\u001b[39;49mcallbacks,\n\u001b[0;32m    433\u001b[0m         gc_after_trial\u001b[39m=\u001b[39;49mgc_after_trial,\n\u001b[0;32m    434\u001b[0m         show_progress_bar\u001b[39m=\u001b[39;49mshow_progress_bar,\n\u001b[0;32m    435\u001b[0m     )\n",
      "File \u001b[1;32mc:\\Users\\Latte\\anaconda3\\lib\\site-packages\\optuna\\study\\_optimize.py:66\u001b[0m, in \u001b[0;36m_optimize\u001b[1;34m(study, func, n_trials, timeout, n_jobs, catch, callbacks, gc_after_trial, show_progress_bar)\u001b[0m\n\u001b[0;32m     64\u001b[0m \u001b[39mtry\u001b[39;00m:\n\u001b[0;32m     65\u001b[0m     \u001b[39mif\u001b[39;00m n_jobs \u001b[39m==\u001b[39m \u001b[39m1\u001b[39m:\n\u001b[1;32m---> 66\u001b[0m         _optimize_sequential(\n\u001b[0;32m     67\u001b[0m             study,\n\u001b[0;32m     68\u001b[0m             func,\n\u001b[0;32m     69\u001b[0m             n_trials,\n\u001b[0;32m     70\u001b[0m             timeout,\n\u001b[0;32m     71\u001b[0m             catch,\n\u001b[0;32m     72\u001b[0m             callbacks,\n\u001b[0;32m     73\u001b[0m             gc_after_trial,\n\u001b[0;32m     74\u001b[0m             reseed_sampler_rng\u001b[39m=\u001b[39;49m\u001b[39mFalse\u001b[39;49;00m,\n\u001b[0;32m     75\u001b[0m             time_start\u001b[39m=\u001b[39;49m\u001b[39mNone\u001b[39;49;00m,\n\u001b[0;32m     76\u001b[0m             progress_bar\u001b[39m=\u001b[39;49mprogress_bar,\n\u001b[0;32m     77\u001b[0m         )\n\u001b[0;32m     78\u001b[0m     \u001b[39melse\u001b[39;00m:\n\u001b[0;32m     79\u001b[0m         \u001b[39mif\u001b[39;00m n_jobs \u001b[39m==\u001b[39m \u001b[39m-\u001b[39m\u001b[39m1\u001b[39m:\n",
      "File \u001b[1;32mc:\\Users\\Latte\\anaconda3\\lib\\site-packages\\optuna\\study\\_optimize.py:163\u001b[0m, in \u001b[0;36m_optimize_sequential\u001b[1;34m(study, func, n_trials, timeout, catch, callbacks, gc_after_trial, reseed_sampler_rng, time_start, progress_bar)\u001b[0m\n\u001b[0;32m    160\u001b[0m         \u001b[39mbreak\u001b[39;00m\n\u001b[0;32m    162\u001b[0m \u001b[39mtry\u001b[39;00m:\n\u001b[1;32m--> 163\u001b[0m     frozen_trial \u001b[39m=\u001b[39m _run_trial(study, func, catch)\n\u001b[0;32m    164\u001b[0m \u001b[39mfinally\u001b[39;00m:\n\u001b[0;32m    165\u001b[0m     \u001b[39m# The following line mitigates memory problems that can be occurred in some\u001b[39;00m\n\u001b[0;32m    166\u001b[0m     \u001b[39m# environments (e.g., services that use computing containers such as GitHub Actions).\u001b[39;00m\n\u001b[0;32m    167\u001b[0m     \u001b[39m# Please refer to the following PR for further details:\u001b[39;00m\n\u001b[0;32m    168\u001b[0m     \u001b[39m# https://github.com/optuna/optuna/pull/325.\u001b[39;00m\n\u001b[0;32m    169\u001b[0m     \u001b[39mif\u001b[39;00m gc_after_trial:\n",
      "File \u001b[1;32mc:\\Users\\Latte\\anaconda3\\lib\\site-packages\\optuna\\study\\_optimize.py:251\u001b[0m, in \u001b[0;36m_run_trial\u001b[1;34m(study, func, catch)\u001b[0m\n\u001b[0;32m    244\u001b[0m         \u001b[39massert\u001b[39;00m \u001b[39mFalse\u001b[39;00m, \u001b[39m\"\u001b[39m\u001b[39mShould not reach.\u001b[39m\u001b[39m\"\u001b[39m\n\u001b[0;32m    246\u001b[0m \u001b[39mif\u001b[39;00m (\n\u001b[0;32m    247\u001b[0m     frozen_trial\u001b[39m.\u001b[39mstate \u001b[39m==\u001b[39m TrialState\u001b[39m.\u001b[39mFAIL\n\u001b[0;32m    248\u001b[0m     \u001b[39mand\u001b[39;00m func_err \u001b[39mis\u001b[39;00m \u001b[39mnot\u001b[39;00m \u001b[39mNone\u001b[39;00m\n\u001b[0;32m    249\u001b[0m     \u001b[39mand\u001b[39;00m \u001b[39mnot\u001b[39;00m \u001b[39misinstance\u001b[39m(func_err, catch)\n\u001b[0;32m    250\u001b[0m ):\n\u001b[1;32m--> 251\u001b[0m     \u001b[39mraise\u001b[39;00m func_err\n\u001b[0;32m    252\u001b[0m \u001b[39mreturn\u001b[39;00m frozen_trial\n",
      "File \u001b[1;32mc:\\Users\\Latte\\anaconda3\\lib\\site-packages\\optuna\\study\\_optimize.py:200\u001b[0m, in \u001b[0;36m_run_trial\u001b[1;34m(study, func, catch)\u001b[0m\n\u001b[0;32m    198\u001b[0m \u001b[39mwith\u001b[39;00m get_heartbeat_thread(trial\u001b[39m.\u001b[39m_trial_id, study\u001b[39m.\u001b[39m_storage):\n\u001b[0;32m    199\u001b[0m     \u001b[39mtry\u001b[39;00m:\n\u001b[1;32m--> 200\u001b[0m         value_or_values \u001b[39m=\u001b[39m func(trial)\n\u001b[0;32m    201\u001b[0m     \u001b[39mexcept\u001b[39;00m exceptions\u001b[39m.\u001b[39mTrialPruned \u001b[39mas\u001b[39;00m e:\n\u001b[0;32m    202\u001b[0m         \u001b[39m# TODO(mamu): Handle multi-objective cases.\u001b[39;00m\n\u001b[0;32m    203\u001b[0m         state \u001b[39m=\u001b[39m TrialState\u001b[39m.\u001b[39mPRUNED\n",
      "\u001b[1;32mc:\\Users\\Latte\\Desktop\\Genel-AI\\Kodluyoruz-Zemin-Istanbul-Bootcamp\\week4\\insurance.ipynb Cell 41\u001b[0m in \u001b[0;36mobjective\u001b[1;34m(trial)\u001b[0m\n\u001b[0;32m     <a href='vscode-notebook-cell:/c%3A/Users/Latte/Desktop/Genel-AI/Kodluyoruz-Zemin-Istanbul-Bootcamp/week4/insurance.ipynb#X64sZmlsZQ%3D%3D?line=17'>18</a>\u001b[0m \u001b[39m# Fit the model\u001b[39;00m\n\u001b[0;32m     <a href='vscode-notebook-cell:/c%3A/Users/Latte/Desktop/Genel-AI/Kodluyoruz-Zemin-Istanbul-Bootcamp/week4/insurance.ipynb#X64sZmlsZQ%3D%3D?line=18'>19</a>\u001b[0m optuna_model \u001b[39m=\u001b[39m xgb\u001b[39m.\u001b[39mXGBClassifier(\u001b[39m*\u001b[39m\u001b[39m*\u001b[39mparams)\n\u001b[1;32m---> <a href='vscode-notebook-cell:/c%3A/Users/Latte/Desktop/Genel-AI/Kodluyoruz-Zemin-Istanbul-Bootcamp/week4/insurance.ipynb#X64sZmlsZQ%3D%3D?line=19'>20</a>\u001b[0m optuna_model\u001b[39m.\u001b[39;49mfit(X_train_encoded, y_train)\n\u001b[0;32m     <a href='vscode-notebook-cell:/c%3A/Users/Latte/Desktop/Genel-AI/Kodluyoruz-Zemin-Istanbul-Bootcamp/week4/insurance.ipynb#X64sZmlsZQ%3D%3D?line=21'>22</a>\u001b[0m \u001b[39m# Make predictions\u001b[39;00m\n\u001b[0;32m     <a href='vscode-notebook-cell:/c%3A/Users/Latte/Desktop/Genel-AI/Kodluyoruz-Zemin-Istanbul-Bootcamp/week4/insurance.ipynb#X64sZmlsZQ%3D%3D?line=22'>23</a>\u001b[0m y_pred \u001b[39m=\u001b[39m optuna_model\u001b[39m.\u001b[39mpredict(X_test_encoded)\n",
      "File \u001b[1;32mc:\\Users\\Latte\\anaconda3\\lib\\site-packages\\xgboost\\core.py:506\u001b[0m, in \u001b[0;36m_deprecate_positional_args.<locals>.inner_f\u001b[1;34m(*args, **kwargs)\u001b[0m\n\u001b[0;32m    504\u001b[0m \u001b[39mfor\u001b[39;00m k, arg \u001b[39min\u001b[39;00m \u001b[39mzip\u001b[39m(sig\u001b[39m.\u001b[39mparameters, args):\n\u001b[0;32m    505\u001b[0m     kwargs[k] \u001b[39m=\u001b[39m arg\n\u001b[1;32m--> 506\u001b[0m \u001b[39mreturn\u001b[39;00m f(\u001b[39m*\u001b[39m\u001b[39m*\u001b[39mkwargs)\n",
      "File \u001b[1;32mc:\\Users\\Latte\\anaconda3\\lib\\site-packages\\xgboost\\sklearn.py:1199\u001b[0m, in \u001b[0;36mXGBClassifier.fit\u001b[1;34m(self, X, y, sample_weight, base_margin, eval_set, eval_metric, early_stopping_rounds, verbose, xgb_model, sample_weight_eval_set, base_margin_eval_set, feature_weights, callbacks)\u001b[0m\n\u001b[0;32m   1195\u001b[0m     \u001b[39mself\u001b[39m\u001b[39m.\u001b[39mn_classes_ \u001b[39m=\u001b[39m \u001b[39mlen\u001b[39m(\u001b[39mself\u001b[39m\u001b[39m.\u001b[39mclasses_)\n\u001b[0;32m   1196\u001b[0m     \u001b[39mif\u001b[39;00m \u001b[39mnot\u001b[39;00m \u001b[39mself\u001b[39m\u001b[39m.\u001b[39muse_label_encoder \u001b[39mand\u001b[39;00m (\n\u001b[0;32m   1197\u001b[0m         \u001b[39mnot\u001b[39;00m np\u001b[39m.\u001b[39marray_equal(\u001b[39mself\u001b[39m\u001b[39m.\u001b[39mclasses_, np\u001b[39m.\u001b[39marange(\u001b[39mself\u001b[39m\u001b[39m.\u001b[39mn_classes_))\n\u001b[0;32m   1198\u001b[0m     ):\n\u001b[1;32m-> 1199\u001b[0m         \u001b[39mraise\u001b[39;00m \u001b[39mValueError\u001b[39;00m(label_encoding_check_error)\n\u001b[0;32m   1201\u001b[0m params \u001b[39m=\u001b[39m \u001b[39mself\u001b[39m\u001b[39m.\u001b[39mget_xgb_params()\n\u001b[0;32m   1203\u001b[0m \u001b[39mif\u001b[39;00m callable(\u001b[39mself\u001b[39m\u001b[39m.\u001b[39mobjective):\n",
      "\u001b[1;31mValueError\u001b[0m: The label must consist of integer labels of form 0, 1, 2, ..., [num_class - 1]."
     ]
    }
   ],
   "source": [
    "def objective(trial):\n",
    "    \"\"\"Define the objective function\"\"\"\n",
    "\n",
    "    params = {\n",
    "        \"objective\":\"count:poisson\",\n",
    "        'max_depth': trial.suggest_int('max_depth', 1, 9),\n",
    "        'learning_rate': trial.suggest_loguniform('learning_rate', 0.01, 1.0),\n",
    "        'n_estimators': trial.suggest_int('n_estimators', 50, 500),\n",
    "        'min_child_weight': trial.suggest_int('min_child_weight', 1, 10),\n",
    "        'gamma': trial.suggest_loguniform('gamma', 1e-8, 1.0),\n",
    "        'subsample': trial.suggest_loguniform('subsample', 0.01, 1.0),\n",
    "        'colsample_bytree': trial.suggest_loguniform('colsample_bytree', 0.01, 1.0),\n",
    "        'reg_alpha': trial.suggest_loguniform('reg_alpha', 1e-8, 1.0),\n",
    "        'reg_lambda': trial.suggest_loguniform('reg_lambda', 1e-8, 1.0),\n",
    "        'eval_metric': 'mlogloss',\n",
    "        'use_label_encoder': False\n",
    "    }\n",
    "    # Fit the model\n",
    "    optuna_model = xgb.XGBClassifier(**params)\n",
    "    optuna_model.fit(X_train_encoded, y_train)\n",
    "\n",
    "    # Make predictions\n",
    "    y_pred = optuna_model.predict(X_test_encoded)\n",
    "\n",
    "    # Evaluate predictions\n",
    "    eval_metric_score = y_pred.mean() / y_test.mean()\n",
    "    return eval_metric_score\n",
    "    \n",
    "study = optuna.create_study(direction='maximize')\n",
    "study.optimize(objective, n_trials=20)\n",
    "\n",
    "print('Number of finished trials: {}'.format(len(study.trials)))\n",
    "print('Best trial:')\n",
    "trial = study.best_trial\n",
    "\n",
    "print('  Value: {}'.format(trial.value))\n",
    "print('  Params: ')\n",
    "\n",
    "for key, value in trial.params.items():\n",
    "    print('    {}: {}'.format(key, value))\n"
   ]
  },
  {
   "cell_type": "code",
   "execution_count": 45,
   "metadata": {},
   "outputs": [
    {
     "data": {
      "text/html": [
       "<div>\n",
       "<style scoped>\n",
       "    .dataframe tbody tr th:only-of-type {\n",
       "        vertical-align: middle;\n",
       "    }\n",
       "\n",
       "    .dataframe tbody tr th {\n",
       "        vertical-align: top;\n",
       "    }\n",
       "\n",
       "    .dataframe thead th {\n",
       "        text-align: right;\n",
       "    }\n",
       "</style>\n",
       "<table border=\"1\" class=\"dataframe\">\n",
       "  <thead>\n",
       "    <tr style=\"text-align: right;\">\n",
       "      <th></th>\n",
       "      <th>XGBRegressor</th>\n",
       "    </tr>\n",
       "  </thead>\n",
       "  <tbody>\n",
       "    <tr>\n",
       "      <th>0</th>\n",
       "      <td>NaN</td>\n",
       "    </tr>\n",
       "    <tr>\n",
       "      <th>1</th>\n",
       "      <td>NaN</td>\n",
       "    </tr>\n",
       "    <tr>\n",
       "      <th>2</th>\n",
       "      <td>NaN</td>\n",
       "    </tr>\n",
       "    <tr>\n",
       "      <th>3</th>\n",
       "      <td>NaN</td>\n",
       "    </tr>\n",
       "    <tr>\n",
       "      <th>4</th>\n",
       "      <td>NaN</td>\n",
       "    </tr>\n",
       "  </tbody>\n",
       "</table>\n",
       "</div>"
      ],
      "text/plain": [
       "   XGBRegressor\n",
       "0           NaN\n",
       "1           NaN\n",
       "2           NaN\n",
       "3           NaN\n",
       "4           NaN"
      ]
     },
     "execution_count": 45,
     "metadata": {},
     "output_type": "execute_result"
    }
   ],
   "source": [
    "params = trial.params\n",
    "model_frq = xgb.XGBRegressor(**params)\n",
    "model_frq.fit(X_train_encoded, y_train)\n",
    "\n"
   ]
  },
  {
   "cell_type": "code",
   "execution_count": 48,
   "metadata": {},
   "outputs": [
    {
     "ename": "NameError",
     "evalue": "name 'df5' is not defined",
     "output_type": "error",
     "traceback": [
      "\u001b[1;31m---------------------------------------------------------------------------\u001b[0m",
      "\u001b[1;31mNameError\u001b[0m                                 Traceback (most recent call last)",
      "\u001b[1;32mc:\\Users\\Latte\\Desktop\\Genel-AI\\Kodluyoruz-Zemin-Istanbul-Bootcamp\\week4\\insurance.ipynb Cell 43\u001b[0m in \u001b[0;36m<cell line: 2>\u001b[1;34m()\u001b[0m\n\u001b[0;32m      <a href='vscode-notebook-cell:/c%3A/Users/Latte/Desktop/Genel-AI/Kodluyoruz-Zemin-Istanbul-Bootcamp/week4/insurance.ipynb#X63sZmlsZQ%3D%3D?line=0'>1</a>\u001b[0m \u001b[39mfrom\u001b[39;00m \u001b[39mfitter\u001b[39;00m \u001b[39mimport\u001b[39;00m Fitter, get_common_distributions, get_distributions\n\u001b[1;32m----> <a href='vscode-notebook-cell:/c%3A/Users/Latte/Desktop/Genel-AI/Kodluyoruz-Zemin-Istanbul-Bootcamp/week4/insurance.ipynb#X63sZmlsZQ%3D%3D?line=1'>2</a>\u001b[0m f \u001b[39m=\u001b[39m Fitter(df5\u001b[39m.\u001b[39mSEVERITY,\n\u001b[0;32m      <a href='vscode-notebook-cell:/c%3A/Users/Latte/Desktop/Genel-AI/Kodluyoruz-Zemin-Istanbul-Bootcamp/week4/insurance.ipynb#X63sZmlsZQ%3D%3D?line=2'>3</a>\u001b[0m            distributions\u001b[39m=\u001b[39m get_common_distributions())\n\u001b[0;32m      <a href='vscode-notebook-cell:/c%3A/Users/Latte/Desktop/Genel-AI/Kodluyoruz-Zemin-Istanbul-Bootcamp/week4/insurance.ipynb#X63sZmlsZQ%3D%3D?line=3'>4</a>\u001b[0m f\u001b[39m.\u001b[39mfit()\n\u001b[0;32m      <a href='vscode-notebook-cell:/c%3A/Users/Latte/Desktop/Genel-AI/Kodluyoruz-Zemin-Istanbul-Bootcamp/week4/insurance.ipynb#X63sZmlsZQ%3D%3D?line=4'>5</a>\u001b[0m f\u001b[39m.\u001b[39msummary()\n",
      "\u001b[1;31mNameError\u001b[0m: name 'df5' is not defined"
     ]
    }
   ],
   "source": []
  },
  {
   "cell_type": "code",
   "execution_count": 49,
   "metadata": {},
   "outputs": [
    {
     "data": {
      "text/html": [
       "<div>\n",
       "<style scoped>\n",
       "    .dataframe tbody tr th:only-of-type {\n",
       "        vertical-align: middle;\n",
       "    }\n",
       "\n",
       "    .dataframe tbody tr th {\n",
       "        vertical-align: top;\n",
       "    }\n",
       "\n",
       "    .dataframe thead th {\n",
       "        text-align: right;\n",
       "    }\n",
       "</style>\n",
       "<table border=\"1\" class=\"dataframe\">\n",
       "  <thead>\n",
       "    <tr style=\"text-align: right;\">\n",
       "      <th></th>\n",
       "      <th>KIDSDRIV</th>\n",
       "      <th>AGE</th>\n",
       "      <th>HOMEKIDS</th>\n",
       "      <th>YOJ</th>\n",
       "      <th>INCOME</th>\n",
       "      <th>PARENT1</th>\n",
       "      <th>HOME_VAL</th>\n",
       "      <th>MSTATUS</th>\n",
       "      <th>GENDER</th>\n",
       "      <th>EDUCATION</th>\n",
       "      <th>...</th>\n",
       "      <th>BLUEBOOK</th>\n",
       "      <th>TIF</th>\n",
       "      <th>CAR_TYPE</th>\n",
       "      <th>RED_CAR</th>\n",
       "      <th>OLDCLAIM</th>\n",
       "      <th>CLM_FREQ</th>\n",
       "      <th>REVOKED</th>\n",
       "      <th>MVR_PTS</th>\n",
       "      <th>CAR_AGE</th>\n",
       "      <th>SEVERITY</th>\n",
       "    </tr>\n",
       "  </thead>\n",
       "  <tbody>\n",
       "    <tr>\n",
       "      <th>0</th>\n",
       "      <td>0</td>\n",
       "      <td>34.0</td>\n",
       "      <td>1</td>\n",
       "      <td>12.0</td>\n",
       "      <td>125301.0</td>\n",
       "      <td>Yes</td>\n",
       "      <td>0.0</td>\n",
       "      <td>z_No</td>\n",
       "      <td>z_F</td>\n",
       "      <td>Bachelors</td>\n",
       "      <td>...</td>\n",
       "      <td>17430.0</td>\n",
       "      <td>1</td>\n",
       "      <td>Sports Car</td>\n",
       "      <td>no</td>\n",
       "      <td>0.0</td>\n",
       "      <td>0</td>\n",
       "      <td>No</td>\n",
       "      <td>0</td>\n",
       "      <td>7.0</td>\n",
       "      <td>2946.0</td>\n",
       "    </tr>\n",
       "    <tr>\n",
       "      <th>1</th>\n",
       "      <td>1</td>\n",
       "      <td>40.0</td>\n",
       "      <td>1</td>\n",
       "      <td>11.0</td>\n",
       "      <td>50815.0</td>\n",
       "      <td>Yes</td>\n",
       "      <td>0.0</td>\n",
       "      <td>z_No</td>\n",
       "      <td>M</td>\n",
       "      <td>z_High School</td>\n",
       "      <td>...</td>\n",
       "      <td>18930.0</td>\n",
       "      <td>6</td>\n",
       "      <td>Minivan</td>\n",
       "      <td>no</td>\n",
       "      <td>3295.0</td>\n",
       "      <td>1</td>\n",
       "      <td>No</td>\n",
       "      <td>2</td>\n",
       "      <td>1.0</td>\n",
       "      <td>6477.0</td>\n",
       "    </tr>\n",
       "    <tr>\n",
       "      <th>2</th>\n",
       "      <td>1</td>\n",
       "      <td>37.0</td>\n",
       "      <td>2</td>\n",
       "      <td>NaN</td>\n",
       "      <td>107961.0</td>\n",
       "      <td>No</td>\n",
       "      <td>333680.0</td>\n",
       "      <td>Yes</td>\n",
       "      <td>M</td>\n",
       "      <td>Bachelors</td>\n",
       "      <td>...</td>\n",
       "      <td>16970.0</td>\n",
       "      <td>1</td>\n",
       "      <td>Van</td>\n",
       "      <td>yes</td>\n",
       "      <td>2374.0</td>\n",
       "      <td>1</td>\n",
       "      <td>Yes</td>\n",
       "      <td>10</td>\n",
       "      <td>7.0</td>\n",
       "      <td>8915.5</td>\n",
       "    </tr>\n",
       "    <tr>\n",
       "      <th>3</th>\n",
       "      <td>0</td>\n",
       "      <td>34.0</td>\n",
       "      <td>0</td>\n",
       "      <td>10.0</td>\n",
       "      <td>62978.0</td>\n",
       "      <td>No</td>\n",
       "      <td>0.0</td>\n",
       "      <td>z_No</td>\n",
       "      <td>z_F</td>\n",
       "      <td>Bachelors</td>\n",
       "      <td>...</td>\n",
       "      <td>11200.0</td>\n",
       "      <td>1</td>\n",
       "      <td>z_SUV</td>\n",
       "      <td>no</td>\n",
       "      <td>0.0</td>\n",
       "      <td>0</td>\n",
       "      <td>No</td>\n",
       "      <td>0</td>\n",
       "      <td>1.0</td>\n",
       "      <td>2501.0</td>\n",
       "    </tr>\n",
       "    <tr>\n",
       "      <th>4</th>\n",
       "      <td>0</td>\n",
       "      <td>53.0</td>\n",
       "      <td>0</td>\n",
       "      <td>14.0</td>\n",
       "      <td>77100.0</td>\n",
       "      <td>No</td>\n",
       "      <td>0.0</td>\n",
       "      <td>z_No</td>\n",
       "      <td>z_F</td>\n",
       "      <td>Masters</td>\n",
       "      <td>...</td>\n",
       "      <td>18300.0</td>\n",
       "      <td>1</td>\n",
       "      <td>Sports Car</td>\n",
       "      <td>no</td>\n",
       "      <td>0.0</td>\n",
       "      <td>0</td>\n",
       "      <td>No</td>\n",
       "      <td>0</td>\n",
       "      <td>11.0</td>\n",
       "      <td>6077.0</td>\n",
       "    </tr>\n",
       "    <tr>\n",
       "      <th>...</th>\n",
       "      <td>...</td>\n",
       "      <td>...</td>\n",
       "      <td>...</td>\n",
       "      <td>...</td>\n",
       "      <td>...</td>\n",
       "      <td>...</td>\n",
       "      <td>...</td>\n",
       "      <td>...</td>\n",
       "      <td>...</td>\n",
       "      <td>...</td>\n",
       "      <td>...</td>\n",
       "      <td>...</td>\n",
       "      <td>...</td>\n",
       "      <td>...</td>\n",
       "      <td>...</td>\n",
       "      <td>...</td>\n",
       "      <td>...</td>\n",
       "      <td>...</td>\n",
       "      <td>...</td>\n",
       "      <td>...</td>\n",
       "      <td>...</td>\n",
       "    </tr>\n",
       "    <tr>\n",
       "      <th>2741</th>\n",
       "      <td>0</td>\n",
       "      <td>43.0</td>\n",
       "      <td>0</td>\n",
       "      <td>NaN</td>\n",
       "      <td>0.0</td>\n",
       "      <td>No</td>\n",
       "      <td>55203.0</td>\n",
       "      <td>Yes</td>\n",
       "      <td>z_F</td>\n",
       "      <td>PhD</td>\n",
       "      <td>...</td>\n",
       "      <td>24030.0</td>\n",
       "      <td>9</td>\n",
       "      <td>Minivan</td>\n",
       "      <td>no</td>\n",
       "      <td>3035.0</td>\n",
       "      <td>4</td>\n",
       "      <td>No</td>\n",
       "      <td>0</td>\n",
       "      <td>14.0</td>\n",
       "      <td>471.0</td>\n",
       "    </tr>\n",
       "    <tr>\n",
       "      <th>2742</th>\n",
       "      <td>0</td>\n",
       "      <td>46.0</td>\n",
       "      <td>0</td>\n",
       "      <td>10.0</td>\n",
       "      <td>68360.0</td>\n",
       "      <td>No</td>\n",
       "      <td>237457.0</td>\n",
       "      <td>z_No</td>\n",
       "      <td>M</td>\n",
       "      <td>Bachelors</td>\n",
       "      <td>...</td>\n",
       "      <td>12940.0</td>\n",
       "      <td>1</td>\n",
       "      <td>Minivan</td>\n",
       "      <td>no</td>\n",
       "      <td>6560.0</td>\n",
       "      <td>3</td>\n",
       "      <td>No</td>\n",
       "      <td>7</td>\n",
       "      <td>11.0</td>\n",
       "      <td>3135.0</td>\n",
       "    </tr>\n",
       "    <tr>\n",
       "      <th>2743</th>\n",
       "      <td>0</td>\n",
       "      <td>41.0</td>\n",
       "      <td>0</td>\n",
       "      <td>12.0</td>\n",
       "      <td>92185.0</td>\n",
       "      <td>No</td>\n",
       "      <td>289370.0</td>\n",
       "      <td>Yes</td>\n",
       "      <td>M</td>\n",
       "      <td>z_High School</td>\n",
       "      <td>...</td>\n",
       "      <td>1500.0</td>\n",
       "      <td>11</td>\n",
       "      <td>Minivan</td>\n",
       "      <td>yes</td>\n",
       "      <td>0.0</td>\n",
       "      <td>0</td>\n",
       "      <td>No</td>\n",
       "      <td>0</td>\n",
       "      <td>10.0</td>\n",
       "      <td>1815.0</td>\n",
       "    </tr>\n",
       "    <tr>\n",
       "      <th>2744</th>\n",
       "      <td>0</td>\n",
       "      <td>45.0</td>\n",
       "      <td>0</td>\n",
       "      <td>11.0</td>\n",
       "      <td>52966.0</td>\n",
       "      <td>No</td>\n",
       "      <td>0.0</td>\n",
       "      <td>z_No</td>\n",
       "      <td>M</td>\n",
       "      <td>z_High School</td>\n",
       "      <td>...</td>\n",
       "      <td>11300.0</td>\n",
       "      <td>6</td>\n",
       "      <td>Pickup</td>\n",
       "      <td>yes</td>\n",
       "      <td>16239.0</td>\n",
       "      <td>2</td>\n",
       "      <td>Yes</td>\n",
       "      <td>5</td>\n",
       "      <td>1.0</td>\n",
       "      <td>2967.0</td>\n",
       "    </tr>\n",
       "    <tr>\n",
       "      <th>2745</th>\n",
       "      <td>0</td>\n",
       "      <td>51.0</td>\n",
       "      <td>0</td>\n",
       "      <td>10.0</td>\n",
       "      <td>128523.0</td>\n",
       "      <td>No</td>\n",
       "      <td>0.0</td>\n",
       "      <td>z_No</td>\n",
       "      <td>M</td>\n",
       "      <td>Masters</td>\n",
       "      <td>...</td>\n",
       "      <td>32960.0</td>\n",
       "      <td>6</td>\n",
       "      <td>Panel Truck</td>\n",
       "      <td>no</td>\n",
       "      <td>3995.0</td>\n",
       "      <td>3</td>\n",
       "      <td>No</td>\n",
       "      <td>1</td>\n",
       "      <td>15.0</td>\n",
       "      <td>3288.0</td>\n",
       "    </tr>\n",
       "  </tbody>\n",
       "</table>\n",
       "<p>2746 rows × 23 columns</p>\n",
       "</div>"
      ],
      "text/plain": [
       "      KIDSDRIV   AGE  HOMEKIDS   YOJ    INCOME PARENT1  HOME_VAL MSTATUS  \\\n",
       "0            0  34.0         1  12.0  125301.0     Yes       0.0    z_No   \n",
       "1            1  40.0         1  11.0   50815.0     Yes       0.0    z_No   \n",
       "2            1  37.0         2   NaN  107961.0      No  333680.0     Yes   \n",
       "3            0  34.0         0  10.0   62978.0      No       0.0    z_No   \n",
       "4            0  53.0         0  14.0   77100.0      No       0.0    z_No   \n",
       "...        ...   ...       ...   ...       ...     ...       ...     ...   \n",
       "2741         0  43.0         0   NaN       0.0      No   55203.0     Yes   \n",
       "2742         0  46.0         0  10.0   68360.0      No  237457.0    z_No   \n",
       "2743         0  41.0         0  12.0   92185.0      No  289370.0     Yes   \n",
       "2744         0  45.0         0  11.0   52966.0      No       0.0    z_No   \n",
       "2745         0  51.0         0  10.0  128523.0      No       0.0    z_No   \n",
       "\n",
       "     GENDER      EDUCATION  ... BLUEBOOK  TIF     CAR_TYPE  RED_CAR  OLDCLAIM  \\\n",
       "0       z_F      Bachelors  ...  17430.0    1   Sports Car       no       0.0   \n",
       "1         M  z_High School  ...  18930.0    6      Minivan       no    3295.0   \n",
       "2         M      Bachelors  ...  16970.0    1          Van      yes    2374.0   \n",
       "3       z_F      Bachelors  ...  11200.0    1        z_SUV       no       0.0   \n",
       "4       z_F        Masters  ...  18300.0    1   Sports Car       no       0.0   \n",
       "...     ...            ...  ...      ...  ...          ...      ...       ...   \n",
       "2741    z_F            PhD  ...  24030.0    9      Minivan       no    3035.0   \n",
       "2742      M      Bachelors  ...  12940.0    1      Minivan       no    6560.0   \n",
       "2743      M  z_High School  ...   1500.0   11      Minivan      yes       0.0   \n",
       "2744      M  z_High School  ...  11300.0    6       Pickup      yes   16239.0   \n",
       "2745      M        Masters  ...  32960.0    6  Panel Truck       no    3995.0   \n",
       "\n",
       "     CLM_FREQ REVOKED  MVR_PTS  CAR_AGE SEVERITY  \n",
       "0           0      No        0      7.0   2946.0  \n",
       "1           1      No        2      1.0   6477.0  \n",
       "2           1     Yes       10      7.0   8915.5  \n",
       "3           0      No        0      1.0   2501.0  \n",
       "4           0      No        0     11.0   6077.0  \n",
       "...       ...     ...      ...      ...      ...  \n",
       "2741        4      No        0     14.0    471.0  \n",
       "2742        3      No        7     11.0   3135.0  \n",
       "2743        0      No        0     10.0   1815.0  \n",
       "2744        2     Yes        5      1.0   2967.0  \n",
       "2745        3      No        1     15.0   3288.0  \n",
       "\n",
       "[2746 rows x 23 columns]"
      ]
     },
     "execution_count": 49,
     "metadata": {},
     "output_type": "execute_result"
    }
   ],
   "source": [
    "df2 =  pd.read_csv(\"autodata.csv\")\n",
    "\n",
    "df2 = df2[df2.CLAIM_FLAG == 1]\n",
    "df = df2.copy()\n",
    "for i in df.columns:\n",
    "    if df[i].dtypes == \"object\":\n",
    "        df[i] = df[i].str.replace('$' , '')\n",
    "        df[i] = df[i].str.replace(',' , '')\n",
    "        try:\n",
    "            df[i] = df[i].astype(float)\n",
    "        except:\n",
    "            pass\n",
    "\n",
    "df2 = df.copy()\n",
    "\n",
    "df3 = df2.groupby(\"ID\").agg({\"CLAIM_FLAG\":\"sum\",\n",
    "                             \"CLM_AMT\" : \"sum\"}).reset_index()\n",
    "df3[\"SEVERITY\"] = df3.CLM_AMT / df3.CLAIM_FLAG\n",
    "df3 = df3[[\"ID\",\"SEVERITY\"]].sort_values(by= \"SEVERITY\",ascending=False)\n",
    "df4 = df2.merge(df3,how=\"left\",on=\"ID\")\n",
    "df5 = df4.drop([\"ID\",\"CLM_AMT\",\"CLAIM_FLAG\"],axis=1)\n",
    "\n",
    "\n",
    "df5"
   ]
  },
  {
   "cell_type": "code",
   "execution_count": 50,
   "metadata": {},
   "outputs": [
    {
     "name": "stderr",
     "output_type": "stream",
     "text": [
      "Fitting 10 distributions:   0%|          | 0/10 [00:00<?, ?it/s]2023-04-29 15:52:07,326 | INFO | fitter.py:335 | _fit_single_distribution | Fitted expon distribution with error=2.8093103022526218e-08)\n",
      "2023-04-29 15:52:07,344 | INFO | fitter.py:335 | _fit_single_distribution | Fitted uniform distribution with error=9.0161465251129e-08)\n",
      "2023-04-29 15:52:07,350 | INFO | fitter.py:335 | _fit_single_distribution | Fitted norm distribution with error=4.5525176203309496e-08)\n",
      "2023-04-29 15:52:07,380 | INFO | fitter.py:335 | _fit_single_distribution | Fitted rayleigh distribution with error=3.4392481489657894e-08)\n",
      "Fitting 10 distributions:  40%|████      | 4/10 [00:00<00:00, 37.83it/s]2023-04-29 15:52:07,642 | INFO | fitter.py:335 | _fit_single_distribution | Fitted cauchy distribution with error=6.018887844950477e-09)\n",
      "2023-04-29 15:52:08,303 | INFO | fitter.py:335 | _fit_single_distribution | Fitted lognorm distribution with error=7.458748318243541e-09)\n",
      "2023-04-29 15:52:08,367 | INFO | fitter.py:335 | _fit_single_distribution | Fitted powerlaw distribution with error=6.201300274420478e-08)\n",
      "2023-04-29 15:52:08,373 | INFO | fitter.py:335 | _fit_single_distribution | Fitted gamma distribution with error=1.6307837741986526e-08)\n",
      "Fitting 10 distributions:  80%|████████  | 8/10 [00:01<00:00,  6.39it/s]2023-04-29 15:52:08,397 | INFO | fitter.py:335 | _fit_single_distribution | Fitted chi2 distribution with error=2.3520400260636256e-08)\n",
      "2023-04-29 15:52:08,544 | INFO | fitter.py:335 | _fit_single_distribution | Fitted exponpow distribution with error=3.9842775889239374e-08)\n",
      "Fitting 10 distributions: 100%|██████████| 10/10 [00:01<00:00,  7.86it/s]\n"
     ]
    },
    {
     "data": {
      "text/html": [
       "<div>\n",
       "<style scoped>\n",
       "    .dataframe tbody tr th:only-of-type {\n",
       "        vertical-align: middle;\n",
       "    }\n",
       "\n",
       "    .dataframe tbody tr th {\n",
       "        vertical-align: top;\n",
       "    }\n",
       "\n",
       "    .dataframe thead th {\n",
       "        text-align: right;\n",
       "    }\n",
       "</style>\n",
       "<table border=\"1\" class=\"dataframe\">\n",
       "  <thead>\n",
       "    <tr style=\"text-align: right;\">\n",
       "      <th></th>\n",
       "      <th>sumsquare_error</th>\n",
       "      <th>aic</th>\n",
       "      <th>bic</th>\n",
       "      <th>kl_div</th>\n",
       "      <th>ks_statistic</th>\n",
       "      <th>ks_pvalue</th>\n",
       "    </tr>\n",
       "  </thead>\n",
       "  <tbody>\n",
       "    <tr>\n",
       "      <th>cauchy</th>\n",
       "      <td>6.018888e-09</td>\n",
       "      <td>3029.358016</td>\n",
       "      <td>-73704.004935</td>\n",
       "      <td>inf</td>\n",
       "      <td>0.115771</td>\n",
       "      <td>1.607739e-32</td>\n",
       "    </tr>\n",
       "    <tr>\n",
       "      <th>lognorm</th>\n",
       "      <td>7.458748e-09</td>\n",
       "      <td>3505.847684</td>\n",
       "      <td>-73107.110907</td>\n",
       "      <td>inf</td>\n",
       "      <td>0.092207</td>\n",
       "      <td>9.089748e-21</td>\n",
       "    </tr>\n",
       "    <tr>\n",
       "      <th>gamma</th>\n",
       "      <td>1.630784e-08</td>\n",
       "      <td>7660.825067</td>\n",
       "      <td>-70959.029833</td>\n",
       "      <td>inf</td>\n",
       "      <td>0.183463</td>\n",
       "      <td>2.300876e-81</td>\n",
       "    </tr>\n",
       "    <tr>\n",
       "      <th>chi2</th>\n",
       "      <td>2.352040e-08</td>\n",
       "      <td>7349.357544</td>\n",
       "      <td>-69953.383382</td>\n",
       "      <td>inf</td>\n",
       "      <td>0.204729</td>\n",
       "      <td>2.117488e-101</td>\n",
       "    </tr>\n",
       "    <tr>\n",
       "      <th>expon</th>\n",
       "      <td>2.809310e-08</td>\n",
       "      <td>3926.067551</td>\n",
       "      <td>-69473.458013</td>\n",
       "      <td>inf</td>\n",
       "      <td>0.146642</td>\n",
       "      <td>5.305713e-52</td>\n",
       "    </tr>\n",
       "  </tbody>\n",
       "</table>\n",
       "</div>"
      ],
      "text/plain": [
       "         sumsquare_error          aic           bic  kl_div  ks_statistic  \\\n",
       "cauchy      6.018888e-09  3029.358016 -73704.004935     inf      0.115771   \n",
       "lognorm     7.458748e-09  3505.847684 -73107.110907     inf      0.092207   \n",
       "gamma       1.630784e-08  7660.825067 -70959.029833     inf      0.183463   \n",
       "chi2        2.352040e-08  7349.357544 -69953.383382     inf      0.204729   \n",
       "expon       2.809310e-08  3926.067551 -69473.458013     inf      0.146642   \n",
       "\n",
       "             ks_pvalue  \n",
       "cauchy    1.607739e-32  \n",
       "lognorm   9.089748e-21  \n",
       "gamma     2.300876e-81  \n",
       "chi2     2.117488e-101  \n",
       "expon     5.305713e-52  "
      ]
     },
     "execution_count": 50,
     "metadata": {},
     "output_type": "execute_result"
    },
    {
     "data": {
      "image/png": "[encoded data removed]",
      "text/plain": [
       "<Figure size 432x288 with 1 Axes>"
      ]
     },
     "metadata": {
      "needs_background": "light"
     },
     "output_type": "display_data"
    }
   ],
   "source": [
    "from fitter import Fitter, get_common_distributions, get_distributions\n",
    "f = Fitter(df5.SEVERITY,\n",
    "           distributions= get_common_distributions())\n",
    "f.fit()\n",
    "f.summary()"
   ]
  },
  {
   "cell_type": "code",
   "execution_count": null,
   "metadata": {},
   "outputs": [],
   "source": []
  }
 ],
 "metadata": {
  "kernelspec": {
   "display_name": "base",
   "language": "python",
   "name": "python3"
  },
  "language_info": {
   "codemirror_mode": {
    "name": "ipython",
    "version": 3
   },
   "file_extension": ".py",
   "mimetype": "text/x-python",
   "name": "python",
   "nbconvert_exporter": "python",
   "pygments_lexer": "ipython3",
   "version": "3.9.12"
  },
  "orig_nbformat": 4
 },
 "nbformat": 4,
 "nbformat_minor": 2
}
