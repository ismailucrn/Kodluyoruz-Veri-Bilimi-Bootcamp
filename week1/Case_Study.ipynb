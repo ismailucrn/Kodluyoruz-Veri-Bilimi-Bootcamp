{
 "cells": [
  {
   "cell_type": "markdown",
   "metadata": {},
   "source": [
    "# Case Study"
   ]
  },
  {
   "cell_type": "markdown",
   "metadata": {},
   "source": [
    "### Introduction\n",
    "\n",
    "A mobile shopping platform is one of the best practices of creating a new business model based on big data and CRM technologies. This platform knows customers' preferences, shopping habits, even the number of children they have, the town their parents live, the activities they do in leisure times etc. This enables the platform to offer a personalized experience with customized campaigns designed for identified micro and macro segments based on customers' lifestyle and preferences through their transactions, without asking any questions. <br/>\n",
    "\n",
    "Data science is the heart of this platform to enhance a rich and customized reach to its each customer. Mass amount of data is collected from online and offline sources about each customer and data science team works on utilizing this data in an insightful manner to be used in identifying shopping behaviors, motivations and needs of each customer on the path of acquisition, retention and growth models. <br/>\n",
    "\n",
    "\n",
    "We prepared this notebook to test the knowledge of our fellow candidates. Good luck to all of you !!"
   ]
  },
  {
   "cell_type": "markdown",
   "metadata": {},
   "source": [
    "|   cid |   month |   spending |   transaction |\n",
    "|------:|--------:|-----------:|--------------:|\n",
    "|     1 |       3 |      52.57 |            27 |\n",
    "|     1 |       4 |      76.98 |            24 |\n",
    "|     1 |       7 |      66.42 |            26 |\n",
    "|     1 |       8 |      54.54 |            26 |\n",
    "|     1 |       9 |     128.21 |            27 |"
   ]
  },
  {
   "cell_type": "markdown",
   "metadata": {},
   "source": [
    "This is a sample transaction data of our customers:\n",
    "\n",
    "- **cid**: Customer Id column represents the unique id assigned to each customer\n",
    "- **month**: Month column represents the month of the transactions\n",
    "- **spending**: Spending column represents the total paid amount within the month\n",
    "- **transaction**: Transaction column represents the total number of transactions within the month\n",
    "\n",
    "**Feel free to add as many cell you need while solving the question and add comments explaining your answer.**"
   ]
  },
  {
   "cell_type": "markdown",
   "metadata": {},
   "source": [
    "## Question 1"
   ]
  },
  {
   "cell_type": "markdown",
   "metadata": {},
   "source": [
    "#### Data importing & wrangling\n",
    "1. Import the necessary packages and functions.\n",
    "2. Read the csv data.\n",
    "3. Write some code to explore the dataset. (row numbers, data types, etc.)\n",
    "4. Assess data visually as well as programmatically using pandas for quality and tidiness issues. "
   ]
  },
  {
   "cell_type": "code",
   "execution_count": 1,
   "metadata": {},
   "outputs": [],
   "source": [
    "# 1.Import all packages needed\n",
    "import pandas as pd\n",
    "import numpy as np\n",
    "import matplotlib.pyplot as plt\n",
    "import seaborn as sns"
   ]
  },
  {
   "cell_type": "code",
   "execution_count": 2,
   "metadata": {},
   "outputs": [],
   "source": [
    "# 2.Gathering the data\n",
    "data = pd.read_csv(\"data.csv\")"
   ]
  },
  {
   "cell_type": "code",
   "execution_count": 3,
   "metadata": {},
   "outputs": [
    {
     "data": {
      "text/html": [
       "<div>\n",
       "<style scoped>\n",
       "    .dataframe tbody tr th:only-of-type {\n",
       "        vertical-align: middle;\n",
       "    }\n",
       "\n",
       "    .dataframe tbody tr th {\n",
       "        vertical-align: top;\n",
       "    }\n",
       "\n",
       "    .dataframe thead th {\n",
       "        text-align: right;\n",
       "    }\n",
       "</style>\n",
       "<table border=\"1\" class=\"dataframe\">\n",
       "  <thead>\n",
       "    <tr style=\"text-align: right;\">\n",
       "      <th></th>\n",
       "      <th>cid</th>\n",
       "      <th>month</th>\n",
       "      <th>spending</th>\n",
       "      <th>transaction</th>\n",
       "    </tr>\n",
       "  </thead>\n",
       "  <tbody>\n",
       "    <tr>\n",
       "      <th>0</th>\n",
       "      <td>1</td>\n",
       "      <td>3</td>\n",
       "      <td>52.57</td>\n",
       "      <td>27</td>\n",
       "    </tr>\n",
       "    <tr>\n",
       "      <th>1</th>\n",
       "      <td>1</td>\n",
       "      <td>4</td>\n",
       "      <td>76.98</td>\n",
       "      <td>24</td>\n",
       "    </tr>\n",
       "    <tr>\n",
       "      <th>2</th>\n",
       "      <td>1</td>\n",
       "      <td>7</td>\n",
       "      <td>66.42</td>\n",
       "      <td>26</td>\n",
       "    </tr>\n",
       "    <tr>\n",
       "      <th>3</th>\n",
       "      <td>1</td>\n",
       "      <td>8</td>\n",
       "      <td>54.54</td>\n",
       "      <td>26</td>\n",
       "    </tr>\n",
       "    <tr>\n",
       "      <th>4</th>\n",
       "      <td>1</td>\n",
       "      <td>9</td>\n",
       "      <td>128.21</td>\n",
       "      <td>27</td>\n",
       "    </tr>\n",
       "  </tbody>\n",
       "</table>\n",
       "</div>"
      ],
      "text/plain": [
       "   cid  month  spending  transaction\n",
       "0    1      3     52.57           27\n",
       "1    1      4     76.98           24\n",
       "2    1      7     66.42           26\n",
       "3    1      8     54.54           26\n",
       "4    1      9    128.21           27"
      ]
     },
     "execution_count": 3,
     "metadata": {},
     "output_type": "execute_result"
    }
   ],
   "source": [
    "# 3.Explore the data\n",
    "data.head()"
   ]
  },
  {
   "cell_type": "code",
   "execution_count": 4,
   "metadata": {},
   "outputs": [
    {
     "data": {
      "text/html": [
       "<div>\n",
       "<style scoped>\n",
       "    .dataframe tbody tr th:only-of-type {\n",
       "        vertical-align: middle;\n",
       "    }\n",
       "\n",
       "    .dataframe tbody tr th {\n",
       "        vertical-align: top;\n",
       "    }\n",
       "\n",
       "    .dataframe thead th {\n",
       "        text-align: right;\n",
       "    }\n",
       "</style>\n",
       "<table border=\"1\" class=\"dataframe\">\n",
       "  <thead>\n",
       "    <tr style=\"text-align: right;\">\n",
       "      <th></th>\n",
       "      <th>cid</th>\n",
       "      <th>month</th>\n",
       "      <th>spending</th>\n",
       "      <th>transaction</th>\n",
       "    </tr>\n",
       "  </thead>\n",
       "  <tbody>\n",
       "    <tr>\n",
       "      <th>count</th>\n",
       "      <td>74669.000000</td>\n",
       "      <td>74669.000000</td>\n",
       "      <td>74669.000000</td>\n",
       "      <td>74669.000000</td>\n",
       "    </tr>\n",
       "    <tr>\n",
       "      <th>mean</th>\n",
       "      <td>5007.502029</td>\n",
       "      <td>6.502404</td>\n",
       "      <td>106.310297</td>\n",
       "      <td>29.495641</td>\n",
       "    </tr>\n",
       "    <tr>\n",
       "      <th>std</th>\n",
       "      <td>2883.623913</td>\n",
       "      <td>3.454033</td>\n",
       "      <td>97.689002</td>\n",
       "      <td>9.793271</td>\n",
       "    </tr>\n",
       "    <tr>\n",
       "      <th>min</th>\n",
       "      <td>1.000000</td>\n",
       "      <td>1.000000</td>\n",
       "      <td>25.920000</td>\n",
       "      <td>2.000000</td>\n",
       "    </tr>\n",
       "    <tr>\n",
       "      <th>25%</th>\n",
       "      <td>2506.000000</td>\n",
       "      <td>4.000000</td>\n",
       "      <td>56.060000</td>\n",
       "      <td>23.000000</td>\n",
       "    </tr>\n",
       "    <tr>\n",
       "      <th>50%</th>\n",
       "      <td>5015.000000</td>\n",
       "      <td>6.000000</td>\n",
       "      <td>79.490000</td>\n",
       "      <td>28.000000</td>\n",
       "    </tr>\n",
       "    <tr>\n",
       "      <th>75%</th>\n",
       "      <td>7502.000000</td>\n",
       "      <td>10.000000</td>\n",
       "      <td>120.890000</td>\n",
       "      <td>34.000000</td>\n",
       "    </tr>\n",
       "    <tr>\n",
       "      <th>max</th>\n",
       "      <td>10000.000000</td>\n",
       "      <td>12.000000</td>\n",
       "      <td>3512.160000</td>\n",
       "      <td>148.000000</td>\n",
       "    </tr>\n",
       "  </tbody>\n",
       "</table>\n",
       "</div>"
      ],
      "text/plain": [
       "                cid         month      spending   transaction\n",
       "count  74669.000000  74669.000000  74669.000000  74669.000000\n",
       "mean    5007.502029      6.502404    106.310297     29.495641\n",
       "std     2883.623913      3.454033     97.689002      9.793271\n",
       "min        1.000000      1.000000     25.920000      2.000000\n",
       "25%     2506.000000      4.000000     56.060000     23.000000\n",
       "50%     5015.000000      6.000000     79.490000     28.000000\n",
       "75%     7502.000000     10.000000    120.890000     34.000000\n",
       "max    10000.000000     12.000000   3512.160000    148.000000"
      ]
     },
     "execution_count": 4,
     "metadata": {},
     "output_type": "execute_result"
    }
   ],
   "source": [
    "# 4.Check quality\n",
    "data.describe()"
   ]
  },
  {
   "cell_type": "code",
   "execution_count": null,
   "metadata": {},
   "outputs": [],
   "source": []
  },
  {
   "cell_type": "markdown",
   "metadata": {},
   "source": [
    "#### Summarizing the data\n",
    "\n",
    "We would like you to calculate these values for each customers:\n",
    "1. **avg_spending:** average spending for each customer\n",
    "2. **std_spending:** standart deviation of spending for each customer\n",
    "3. **tot_spending:** total spending for each customer\n",
    "4. **tot_transaction:** total number of transaction for each customer\n",
    "5. **most_spending_month:** the month that each customer has the most spending    \n",
    "6. **most_transaction_month:** the month that each customer has the most transaction\n",
    "7. Print the results"
   ]
  },
  {
   "cell_type": "markdown",
   "metadata": {},
   "source": [
    "The output seen as:\n",
    "\n",
    "|   cid |   avg_spending |   std_spending |   tot_spending |   tot_transaction |   most_spending_month |   most_transaction_month |\n",
    "|------:|---------------:|---------------:|---------------:|------------------:|----------------------:|-------------------------:|\n",
    "|     1 |       102.39   |        86.3929 |         716.73 |               185 |                    11 |                       11 |\n",
    "|     2 |        71.3813 |        48.3853 |         571.05 |               266 |                     1 |                       12 |\n",
    "|     3 |        86.9167 |        50.4738 |         521.5  |               168 |                     9 |                        9 |\n",
    "|     4 |        86.3875 |        54.4722 |         345.55 |               101 |                    12 |                       12 |\n",
    "|     5 |       104.537  |        89.4826 |         627.22 |               169 |                    10 |                        6 |"
   ]
  },
  {
   "cell_type": "code",
   "execution_count": 5,
   "metadata": {},
   "outputs": [],
   "source": [
    "#  Use this and additional cells\n",
    "avg_spending = data.groupby(\"cid\").mean()\n",
    "avg_spending = avg_spending[\"spending\"]\n",
    "\n",
    "std_spending = data.groupby(\"cid\").std()\n",
    "std_spending = std_spending[\"spending\"]\n",
    "\n",
    "tot_spending = data.groupby(\"cid\").sum()\n",
    "tot_spending = tot_spending[\"spending\"]\n",
    "\n",
    "tot_transaction = data.groupby(\"cid\").sum()\n",
    "tot_transaction = tot_transaction[\"transaction\"]\n",
    "\n",
    "most_spending_month = data.loc[data.groupby(\"cid\")[\"spending\"].idxmax()][[\"cid\", \"month\"]]\n",
    "most_spending_month.columns = [\"cid\", \"most_spending_month\"]\n",
    "\n",
    "most_transaction_month = data.loc[data.groupby(\"cid\")[\"transaction\"].idxmax()][[\"cid\", \"month\"]]\n",
    "most_transaction_month.columns = [\"cid\", \"most_transaction_month\"]"
   ]
  },
  {
   "cell_type": "markdown",
   "metadata": {},
   "source": [
    "#### Data Understanding\n",
    "1. Plot the histogram for average spending of costomer\n",
    "2. Calculate mean, mode, median of the distribution (*you should round the values before calculating the mode*)\n",
    "3. Explain the type of the distributon that describes the pattern in the histogram; justify your answer with mean, mode median (*you can answer this question in the comment*)"
   ]
  },
  {
   "cell_type": "code",
   "execution_count": 6,
   "metadata": {},
   "outputs": [
    {
     "data": {
      "text/plain": [
       "<AxesSubplot:xlabel='spending', ylabel='Count'>"
      ]
     },
     "execution_count": 6,
     "metadata": {},
     "output_type": "execute_result"
    },
    {
     "data": {
      "image/png": "[encoded data removed]",
      "text/plain": [
       "<Figure size 1080x360 with 1 Axes>"
      ]
     },
     "metadata": {
      "needs_background": "light"
     },
     "output_type": "display_data"
    }
   ],
   "source": [
    "#1. Plot the histogram for average spending of costomer\n",
    "plt.figure(figsize=(15,5))\n",
    "sns.histplot(x=avg_spending)"
   ]
  },
  {
   "cell_type": "code",
   "execution_count": 7,
   "metadata": {},
   "outputs": [
    {
     "name": "stdout",
     "output_type": "stream",
     "text": [
      "Mean:  106.2858\n",
      "Median:  98.0\n",
      "Mode:  0    86.0\n",
      "Name: spending, dtype: float64\n"
     ]
    }
   ],
   "source": [
    "#2. Calculate mean, mode, median of the distribution (you should round the values before calculating the mode)\n",
    "avg_spending_rounded = avg_spending.round(0)\n",
    "print(\"Mean: \", avg_spending_rounded.mean())\n",
    "print(\"Median: \", avg_spending_rounded.median())\n",
    "print(\"Mode: \", avg_spending_rounded.mode())"
   ]
  },
  {
   "cell_type": "code",
   "execution_count": 8,
   "metadata": {},
   "outputs": [],
   "source": [
    "#3. Explain the type of the distributon that describes the pattern in the histogram; justify your answer with mean, mode median (you can answer this question in the comment)\n",
    "# mean yerine medyana bakılması tercih edilir. Çünkü mean değerlerin etkisini doğru gösterir. "
   ]
  },
  {
   "cell_type": "code",
   "execution_count": 9,
   "metadata": {},
   "outputs": [
    {
     "data": {
      "image/png": "[encoded data removed]",
      "text/plain": [
       "<Figure size 1080x360 with 1 Axes>"
      ]
     },
     "metadata": {
      "needs_background": "light"
     },
     "output_type": "display_data"
    }
   ],
   "source": [
    "plt.figure(figsize=(15,5))\n",
    "sns.histplot(x=avg_spending_rounded)\n",
    "plt.axvline(avg_spending_rounded.mean(), color='r', linestyle='dashed', linewidth=2)\n",
    "plt.axvline(avg_spending_rounded.median(), color='g', linestyle='dashed', linewidth=2)\n",
    "plt.axvline(avg_spending_rounded.mode()[0], color='b', linestyle='dashed', linewidth=2)\n",
    "plt.legend({'Mean':avg_spending_rounded.mean(),'Median':avg_spending_rounded.median(),'Mode':avg_spending_rounded.mode()[0]})\n",
    "plt.show()"
   ]
  },
  {
   "cell_type": "markdown",
   "metadata": {},
   "source": [
    "## Question 2"
   ]
  },
  {
   "cell_type": "markdown",
   "metadata": {},
   "source": [
    "#### Write a function to replace all spaces in a string with '--' using an array \n",
    "Make sure that your function O(n) runtime complexity and do not use built-in replace() function.\n",
    "\n",
    "<b>Example input</b>: \"Mr John Smith, 13\" <br>\n",
    "<b>Example output</b>: \"Mr--John--Smith\" <br>\n",
    "\n",
    "You may assume that the array has sufficient space at the end to hold the additional characters, and you are given the true length of the string with the input. Here \"13\" represents the actual length of the string."
   ]
  },
  {
   "cell_type": "code",
   "execution_count": 10,
   "metadata": {},
   "outputs": [],
   "source": [
    "def space_remover(input_str):    \n",
    "    input_str = input_str[0:-4]\n",
    "    input_str = input_str.split()\n",
    "    for i in range(len(input_str)-1):\n",
    "        input_str[i] = input_str[i] + \"--\"\n",
    "    return \"\".join(input_str)"
   ]
  },
  {
   "cell_type": "code",
   "execution_count": 11,
   "metadata": {},
   "outputs": [
    {
     "name": "stdout",
     "output_type": "stream",
     "text": [
      "Mr--John--Smith\n",
      "Woow--Data--Science\n"
     ]
    }
   ],
   "source": [
    "#test your solution here\n",
    "input_str1 = 'Mr John Smith, 13'\n",
    "print(space_remover(input_str1)) # expected solution is 'Mr--John--Smith'\n",
    "input_str1 = 'Woow Data Science, 17'\n",
    "print(space_remover(input_str1)) # expected solution is 'Woow--Data--Science'"
   ]
  },
  {
   "cell_type": "markdown",
   "metadata": {},
   "source": [
    "## Question 3"
   ]
  },
  {
   "cell_type": "markdown",
   "metadata": {},
   "source": [
    "#### Using regular expression do following operations on **lorem_ipsum_text**:\n",
    "1. Delete all characters if they are not letters (A-z) and spaces \n",
    "2. Find the count of all occurrence of the words that ends with 'us' but not 'llus'\n",
    "3. Replace all 'ae' with 'æ', (*Don't forget 'Aenean => Ænean'*)\n",
    "3. Replace all the vowels following by 'll' if the word does not end with that vowel as:\n",
    "    - a => @ (ex: nullam => null@m, but nulla => nulla)\n",
    "    - e => 3\n",
    "    - i => %\n",
    "    - o => 0\n",
    "    - u => &\n",
    "\n",
    "Print the results"
   ]
  },
  {
   "cell_type": "code",
   "execution_count": 12,
   "metadata": {},
   "outputs": [],
   "source": [
    "import re\n",
    "\n",
    "lorem_ipsum_text = \"\"\"Lorem ipsum dolor sit amet, consectetur adipiscing elit. Ut sed rhoncus sem, et sagittis tellus. Donec hendrerit sapien ac purus pretium tincidunt. Orci varius natoque penatibus et magnis dis parturient montes, nascetur ridiculus mus. Pellentesque aliquet, lectus eget finibus aliquet, tortor quam semper justo, sed venenatis nunc lectus a arcu. Vivamus egestas rhoncus dolor, vitae sollicitudin urna. Integer eleifend purus eget porta sagittis. Phasellus malesuada ex nibh, a lobortis tellus tempor hendrerit. Integer tincidunt ante et varius semper. Maecenas quis finibus lacus.\n",
    "Sed luctus varius nisi, ac pulvinar erat gravida sit amet. Mauris gravida scelerisque nisi vel sollicitudin. In porta diam nec lorem bibendum semper. Cras ut imperdiet sem, vel bibendum risus. Nulla suscipit enim et efficitur interdum. Mauris consectetur porttitor ipsum. Praesent a tortor quis arcu porttitor ullamcorper ac et diam. Pellentesque rhoncus ultrices facilisis. Pellentesque lectus quam, vestibulum in erat non, venenatis vehicula augue. Praesent at viverra est. Integer libero neque, commodo ut ipsum ac, vulputate pharetra libero. Pellentesque in rhoncus magna. In hac habitasse platea dictumst.\n",
    "Praesent ultrices vel elit vel auctor. Nulla vitae ligula in elit mattis aliquam. Quisque vitae finibus enim. Praesent id maximus mauris. Nunc in pulvinar ligula. Donec condimentum condimentum ipsum aliquet volutpat. Maecenas non porta nunc. Donec risus nulla, pharetra in rhoncus sit amet, efficitur quis urna.\n",
    "Praesent diam ante, ultrices eget libero sit amet, semper auctor metus. Aliquam sit amet vulputate nibh. Suspendisse potenti. Duis dui ligula, consectetur egestas nibh nec, ullamcorper iaculis turpis. Ut volutpat lacus in leo porta, a lobortis diam placerat. Aenean iaculis, leo at semper fringilla, lectus magna rutrum neque, sollicitudin accumsan est felis at purus. Phasellus et scelerisque libero, ac malesuada nulla. Pellentesque maximus eget erat ac consequat. Ut elementum sapien sed leo aliquam, at ultrices elit venenatis. Duis accumsan finibus imperdiet. Vestibulum ante ipsum primis in faucibus orci luctus et ultrices posuere cubilia curae;\n",
    "Nulla augue nunc, pharetra quis tellus sed, egestas luctus mi. Fusce hendrerit sagittis urna eleifend varius. Vestibulum velit magna, aliquam nec tincidunt hendrerit, aliquam non ex. Maecenas ut sem imperdiet, semper metus et, gravida quam. Mauris placerat sed erat sed dapibus. Aliquam a suscipit elit. Fusce non dolor justo. Suspendisse dictum posuere faucibus. Proin pretium ipsum vitae orci sagittis placerat. Nulla hendrerit erat sit amet nunc tristique, quis lacinia enim lobortis. Aenean in pretium augue. Proin posuere purus at nulla ultrices molestie. Morbi et pharetra justo. In vel arcu elit. Nullam at est id odio bibendum iaculis nec dapibus velit.\n",
    "\"\"\"\n"
   ]
  },
  {
   "cell_type": "code",
   "execution_count": 13,
   "metadata": {},
   "outputs": [
    {
     "data": {
      "text/plain": [
       "'Lorem ipsum dolor sit amet consectetur adipiscing elit Ut sed rhoncus sem et sagittis tellus Donec hendrerit sapien ac purus pretium tincidunt Orci varius natoque penatibus et magnis dis parturient montes nascetur ridiculus mus Pellentesque aliquet lectus eget finibus aliquet tortor quam semper justo sed venenatis nunc lectus a arcu Vivamus egestas rhoncus dolor vitae sollicitudin urna Integer eleifend purus eget porta sagittis Phasellus malesuada ex nibh a lobortis tellus tempor hendrerit Integer tincidunt ante et varius semper Maecenas quis finibus lacus\\nSed luctus varius nisi ac pulvinar erat gravida sit amet Mauris gravida scelerisque nisi vel sollicitudin In porta diam nec lorem bibendum semper Cras ut imperdiet sem vel bibendum risus Nulla suscipit enim et efficitur interdum Mauris consectetur porttitor ipsum Praesent a tortor quis arcu porttitor ullamcorper ac et diam Pellentesque rhoncus ultrices facilisis Pellentesque lectus quam vestibulum in erat non venenatis vehicula augue Praesent at viverra est Integer libero neque commodo ut ipsum ac vulputate pharetra libero Pellentesque in rhoncus magna In hac habitasse platea dictumst\\nPraesent ultrices vel elit vel auctor Nulla vitae ligula in elit mattis aliquam Quisque vitae finibus enim Praesent id maximus mauris Nunc in pulvinar ligula Donec condimentum condimentum ipsum aliquet volutpat Maecenas non porta nunc Donec risus nulla pharetra in rhoncus sit amet efficitur quis urna\\nPraesent diam ante ultrices eget libero sit amet semper auctor metus Aliquam sit amet vulputate nibh Suspendisse potenti Duis dui ligula consectetur egestas nibh nec ullamcorper iaculis turpis Ut volutpat lacus in leo porta a lobortis diam placerat Aenean iaculis leo at semper fringilla lectus magna rutrum neque sollicitudin accumsan est felis at purus Phasellus et scelerisque libero ac malesuada nulla Pellentesque maximus eget erat ac consequat Ut elementum sapien sed leo aliquam at ultrices elit venenatis Duis accumsan finibus imperdiet Vestibulum ante ipsum primis in faucibus orci luctus et ultrices posuere cubilia curae\\nNulla augue nunc pharetra quis tellus sed egestas luctus mi Fusce hendrerit sagittis urna eleifend varius Vestibulum velit magna aliquam nec tincidunt hendrerit aliquam non ex Maecenas ut sem imperdiet semper metus et gravida quam Mauris placerat sed erat sed dapibus Aliquam a suscipit elit Fusce non dolor justo Suspendisse dictum posuere faucibus Proin pretium ipsum vitae orci sagittis placerat Nulla hendrerit erat sit amet nunc tristique quis lacinia enim lobortis Aenean in pretium augue Proin posuere purus at nulla ultrices molestie Morbi et pharetra justo In vel arcu elit Nullam at est id odio bibendum iaculis nec dapibus velit\\n'"
      ]
     },
     "execution_count": 13,
     "metadata": {},
     "output_type": "execute_result"
    }
   ],
   "source": [
    "#Delete all characters if they are not letters (A-z) and spaces\n",
    "lorem_ipsum_text = re.sub(r'[^A-z\\s]', '', lorem_ipsum_text)\n",
    "lorem_ipsum_text"
   ]
  },
  {
   "cell_type": "code",
   "execution_count": 14,
   "metadata": {},
   "outputs": [
    {
     "name": "stdout",
     "output_type": "stream",
     "text": [
      "40\n"
     ]
    },
    {
     "data": {
      "text/plain": [
       "'Lorem ipsum dolor sit amet consectetur adipiscing elit Ut sed rhoncus sem et sagittis tellus Donec hendrerit sapien ac purus pretium tincidunt Orci varius natoque penatibus et magnis dis parturient montes nascetur ridiculus mus Pellentesque aliquet lectus eget finibus aliquet tortor quam semper justo sed venenatis nunc lectus a arcu Vivamus egestas rhoncus dolor vitae sollicitudin urna Integer eleifend purus eget porta sagittis Phasellus malesuada ex nibh a lobortis tellus tempor hendrerit Integer tincidunt ante et varius semper Maecenas quis finibus lacus Sed luctus varius nisi ac pulvinar erat gravida sit amet Mauris gravida scelerisque nisi vel sollicitudin In porta diam nec lorem bibendum semper Cras ut imperdiet sem vel bibendum risus Nulla suscipit enim et efficitur interdum Mauris consectetur porttitor ipsum Praesent a tortor quis arcu porttitor ullamcorper ac et diam Pellentesque rhoncus ultrices facilisis Pellentesque lectus quam vestibulum in erat non venenatis vehicula augue Praesent at viverra est Integer libero neque commodo ut ipsum ac vulputate pharetra libero Pellentesque in rhoncus magna In hac habitasse platea dictumst Praesent ultrices vel elit vel auctor Nulla vitae ligula in elit mattis aliquam Quisque vitae finibus enim Praesent id maximus mauris Nunc in pulvinar ligula Donec condimentum condimentum ipsum aliquet volutpat Maecenas non porta nunc Donec risus nulla pharetra in rhoncus sit amet efficitur quis urna Praesent diam ante ultrices eget libero sit amet semper auctor metus Aliquam sit amet vulputate nibh Suspendisse potenti Duis dui ligula consectetur egestas nibh nec ullamcorper iaculis turpis Ut volutpat lacus in leo porta a lobortis diam placerat Aenean iaculis leo at semper fringilla lectus magna rutrum neque sollicitudin accumsan est felis at purus Phasellus et scelerisque libero ac malesuada nulla Pellentesque maximus eget erat ac consequat Ut elementum sapien sed leo aliquam at ultrices elit venenatis Duis accumsan finibus imperdiet Vestibulum ante ipsum primis in faucibus orci luctus et ultrices posuere cubilia curae Nulla augue nunc pharetra quis tellus sed egestas luctus mi Fusce hendrerit sagittis urna eleifend varius Vestibulum velit magna aliquam nec tincidunt hendrerit aliquam non ex Maecenas ut sem imperdiet semper metus et gravida quam Mauris placerat sed erat sed dapibus Aliquam a suscipit elit Fusce non dolor justo Suspendisse dictum posuere faucibus Proin pretium ipsum vitae orci sagittis placerat Nulla hendrerit erat sit amet nunc tristique quis lacinia enim lobortis Aenean in pretium augue Proin posuere purus at nulla ultrices molestie Morbi et pharetra justo In vel arcu elit Nullam at est id odio bibendum iaculis nec dapibus velit'"
      ]
     },
     "execution_count": 14,
     "metadata": {},
     "output_type": "execute_result"
    }
   ],
   "source": [
    "#Find the count of all occurrence of the words that ends with 'us' but not 'llus'\n",
    "lorem_ipsum_text = lorem_ipsum_text.split()\n",
    "count = 0\n",
    "for i in lorem_ipsum_text:\n",
    "    if i[-2:] == \"us\" and i[-4:] != \"llus\":\n",
    "        count += 1\n",
    "print(count)\n",
    "lorem_ipsum_text = \" \".join(lorem_ipsum_text)\n",
    "lorem_ipsum_text"
   ]
  },
  {
   "cell_type": "code",
   "execution_count": 15,
   "metadata": {},
   "outputs": [],
   "source": [
    "# Replace all 'ae' with 'æ', (Don't forget 'Aenean => Ænean')\n",
    "lorem_ipsum_text = lorem_ipsum_text.replace(\"ae\", \"æ\")\n",
    "lorem_ipsum_text = lorem_ipsum_text.replace(\"Ae\", \"Æ\")"
   ]
  },
  {
   "cell_type": "code",
   "execution_count": 16,
   "metadata": {},
   "outputs": [
    {
     "data": {
      "text/plain": [
       "'Lolrelm ilpsulm dollolr silt almelt colnselcteltulr aldilpilscilng ellilt Ut seld rholnculs selm elt salgilttils tellluls Dolnelc helndrelrilt salpileln alc pulruls preltilulm tilncildulnt Orci valriluls naltolqule pelnaltilbuls elt malgnils dils palrtulrilelnt molntels nalsceltulr rildilculluls muls Pellentesqule allilqulelt lelctuls elgelt filnilbuls allilqulelt tolrtolr qulalm selmpelr julsto seld velnelnaltils nulnc lelctuls a alrcu Vilvalmuls elgelstals rholnculs dollolr viltæ solllilciltuldiln ulrna Intelgelr ellelilfelnd pulruls elgelt polrta salgilttils Phalsellluls malelsulada elx nilbh a lolbolrtils tellluls telmpolr helndrelrilt Intelgelr tilncildulnt alnte elt valriluls selmpelr Mæcelnals qulils filnilbuls lalculs Seld lulctuls valriluls nisi alc pullvilnalr elralt gravilda silt almelt Malulrils gravilda scelerilsqule nisi vell solllilciltuldiln In polrta dilalm nelc lolrelm bilbelndulm selmpelr Crals ult ilmpelrdilelt selm vell bilbelndulm rilsuls Nullla sulscilpilt elnilm elt elffilciltulr ilntelrdulm Malulrils colnselcteltulr polrttiltolr ilpsulm Præselnt a tolrtolr qulils alrcu polrttiltolr ulllalmcolrpelr alc elt dilalm Pellentesqule rholnculs ulltrilcels falcillilsils Pellentesqule lelctuls qulalm velstilbullulm iln elralt noln velnelnaltils velhilculla alulgule Præselnt alt vilvelrra elst Intelgelr lilbelro nequle commodo ult ilpsulm alc vullpultalte phareltra lilbelro Pellentesqule iln rholnculs magna In halc halbiltalsse platela dilctulmst Præselnt ulltrilcels vell ellilt vell alulctolr Nullla viltæ lilgulla iln ellilt malttils allilqulalm Qulilsqule viltæ filnilbuls elnilm Præselnt ild malxilmuls malulrils Nulnc iln pullvilnalr lilgulla Dolnelc colndilmelntulm colndilmelntulm ilpsulm allilqulelt vollultpalt Mæcelnals noln polrta nulnc Dolnelc rilsuls nullla phareltra iln rholnculs silt almelt elffilciltulr qulils ulrna Præselnt dilalm alnte ulltrilcels elgelt lilbelro silt almelt selmpelr alulctolr meltuls Alilqulalm silt almelt vullpultalte nilbh Sulspendilsse poltelnti Dulils duli lilgulla colnselcteltulr elgelstals nilbh nelc ulllalmcolrpelr ilalcullils tulrpils Ut vollultpalt lalculs iln lelo polrta a lolbolrtils dilalm plalcelralt Ænelaln ilalcullils lelo alt selmpelr frilngillla lelctuls magna rultrulm nequle solllilciltuldiln alcculmsaln elst fellils alt pulruls Phalsellluls elt scelerilsqule lilbelro alc malelsulada nullla Pellentesqule malxilmuls elgelt elralt alc colnselqulalt Ut ellelmelntulm salpileln seld lelo allilqulalm alt ulltrilcels ellilt velnelnaltils Dulils alcculmsaln filnilbuls ilmpelrdilelt Velstilbullulm alnte ilpsulm prilmils iln falulcilbuls olrci lulctuls elt ulltrilcels polsulere culbillila culræ Nullla alulgule nulnc phareltra qulils tellluls seld elgelstals lulctuls mi Fulsce helndrelrilt salgilttils ulrna ellelilfelnd valriluls Velstilbullulm vellilt magna allilqulalm nelc tilncildulnt helndrelrilt allilqulalm noln elx Mæcelnals ult selm ilmpelrdilelt selmpelr meltuls elt gravilda qulalm Malulrils plalcelralt seld elralt seld dalpilbuls Alilqulalm a sulscilpilt ellilt Fulsce noln dollolr julsto Sulspendilsse dilctulm polsulere falulcilbuls Proliln preltilulm ilpsulm viltæ olrci salgilttils plalcelralt Nullla helndrelrilt elralt silt almelt nulnc trilstilqule qulils lacilnila elnilm lolbolrtils Ænelaln iln preltilulm alulgule Proliln polsulere pulruls alt nullla ulltrilcels mollestile Molrbi elt phareltra julsto In vell alrcu ellilt Nulllalm alt elst ild odilo bilbelndulm ilalcullils nelc dalpilbuls vellilt'"
      ]
     },
     "execution_count": 16,
     "metadata": {},
     "output_type": "execute_result"
    }
   ],
   "source": [
    "#Replace all the vowels following by 'll' if the word does not end with that vowel as:\n",
    "lorem_ipsum_text = lorem_ipsum_text.split()\n",
    "for i in range(len(lorem_ipsum_text)):\n",
    "    if lorem_ipsum_text[i][-1] != \"a\":\n",
    "        lorem_ipsum_text[i] = lorem_ipsum_text[i].replace(\"a\", \"al\")\n",
    "    if lorem_ipsum_text[i][-1] != \"e\":\n",
    "        lorem_ipsum_text[i] = lorem_ipsum_text[i].replace(\"e\", \"el\")\n",
    "    if lorem_ipsum_text[i][-1] != \"i\":\n",
    "        lorem_ipsum_text[i] = lorem_ipsum_text[i].replace(\"i\", \"il\")\n",
    "    if lorem_ipsum_text[i][-1] != \"o\":\n",
    "        lorem_ipsum_text[i] = lorem_ipsum_text[i].replace(\"o\", \"ol\")\n",
    "    if lorem_ipsum_text[i][-1] != \"u\":\n",
    "        lorem_ipsum_text[i] = lorem_ipsum_text[i].replace(\"u\", \"ul\")\n",
    "lorem_ipsum_text = \" \".join(lorem_ipsum_text)\n",
    "lorem_ipsum_text"
   ]
  },
  {
   "cell_type": "markdown",
   "metadata": {},
   "source": [
    "## Question 4"
   ]
  },
  {
   "cell_type": "markdown",
   "metadata": {},
   "source": [
    "You should write your code in **SQL programming language**. Don't forgot that you can not run your code in this notebook."
   ]
  },
  {
   "cell_type": "markdown",
   "metadata": {},
   "source": [
    "Consider the \"Employee\" table below:"
   ]
  },
  {
   "cell_type": "markdown",
   "metadata": {},
   "source": [
    "| Emp_Id  | Emp_name  | Salary  | Manager_Id  |\n",
    "|---|---|---|---|\n",
    "| 10 | Anil  | 50000  |  18 |\n",
    "| 11 | Vikas  | 75000  |   16 |\n",
    "| 12 | Nisha | 40000 |  18 |\n",
    "| 13 | Nidhi  | 60000 | 17  |\n",
    "| 14 | Priya  | 80000 |  18 |\n",
    "| 15 | Mohit |  45000 |  18 |\n",
    "| 16 | Rajesh  | 90000 | -  |\n",
    "| 17 | Raman  | 55000 | 16  |\n",
    "| 18 | Santosh  | 65000 |  17 |"
   ]
  },
  {
   "cell_type": "markdown",
   "metadata": {},
   "source": [
    "Write a query to generate below output:"
   ]
  },
  {
   "cell_type": "markdown",
   "metadata": {},
   "source": [
    "| Manager_Id  | Manager  | Average_Salary_Under_Manager  |\n",
    "|---|---|---|\n",
    "| 16 | Rajesh  | 65000  |\n",
    "| 17 | Raman  | 62500  |\n",
    "| 18 | Santosh | 53750 |"
   ]
  },
  {
   "cell_type": "code",
   "execution_count": 18,
   "metadata": {},
   "outputs": [
    {
     "ename": "IndentationError",
     "evalue": "unindent does not match any outer indentation level (<tokenize>, line 5)",
     "output_type": "error",
     "traceback": [
      "\u001b[1;36m  File \u001b[1;32m<tokenize>:5\u001b[1;36m\u001b[0m\n\u001b[1;33m    FROM [Employee].[dbo].[Employee]\u001b[0m\n\u001b[1;37m    ^\u001b[0m\n\u001b[1;31mIndentationError\u001b[0m\u001b[1;31m:\u001b[0m unindent does not match any outer indentation level\n"
     ]
    }
   ],
   "source": [
    "#Write your SQL Code here.\n",
    "/****** Script for SelectTopNRows command from SSMS  ******/\n",
    "SELECT TOP (1000) [Emp_Id],[Manager_Id],[Emp_name] as Manager\n",
    "      ,[Salary]\n",
    "  FROM [Employee].[dbo].[Employee]\n",
    "  ORDER BY Manager_Id ASC;\n",
    "\n",
    "  /****** TABLE 2  ******/\n",
    " SELECT Manager_Id, FLOOR(AVG(Salary)) AS Average_Salary_Under_Manager FROM Employee s WHERE Manager_Id IS NOT NULL GROUP BY Manager_Id\n",
    " ORDER BY Manager_Id;\n",
    " /****** TABLE 3  ******/\n",
    "SELECT Emp_Id, Emp_name as Manager FROM Employee e ORDER BY Emp_Id;\n",
    "\n",
    "SELECT e.Emp_Id, e.Emp_name AS Manager, COALESCE(FLOOR(AVG(s.Salary)), 0) AS Average_Salary_Under_Manager \n",
    "FROM Employee e\n",
    "LEFT JOIN Employee s ON e.Emp_Id = s.Manager_Id\n",
    "WHERE s.Salary IS NOT NULL\n",
    "GROUP BY e.Emp_Id, e.Emp_name\n",
    "ORDER BY e.Emp_Id;"
   ]
  },
  {
   "cell_type": "markdown",
   "metadata": {},
   "source": [
    "##  Thank you.."
   ]
  },
  {
   "cell_type": "code",
   "execution_count": null,
   "metadata": {},
   "outputs": [],
   "source": []
  }
 ],
 "metadata": {
  "environment": {
   "name": "tf2-gpu.2-1.m46",
   "type": "gcloud",
   "uri": "gcr.io/deeplearning-platform-release/tf2-gpu.2-1:m46"
  },
  "kernelspec": {
   "display_name": "Python 3 (ipykernel)",
   "language": "python",
   "name": "python3"
  },
  "language_info": {
   "codemirror_mode": {
    "name": "ipython",
    "version": 3
   },
   "file_extension": ".py",
   "mimetype": "text/x-python",
   "name": "python",
   "nbconvert_exporter": "python",
   "pygments_lexer": "ipython3",
   "version": "3.9.12"
  }
 },
 "nbformat": 4,
 "nbformat_minor": 4
}
