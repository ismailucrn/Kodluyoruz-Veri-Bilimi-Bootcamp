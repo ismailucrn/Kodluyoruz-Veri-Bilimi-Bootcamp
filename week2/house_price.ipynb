{
 "cells": [
  {
   "cell_type": "code",
   "execution_count": 1,
   "metadata": {},
   "outputs": [
    {
     "name": "stderr",
     "output_type": "stream",
     "text": [
      "C:\\Users\\Latte\\AppData\\Local\\Temp\\ipykernel_12084\\453080772.py:1: DeprecationWarning: `import pandas_profiling` is going to be deprecated by April 1st. Please use `import ydata_profiling` instead.\n",
      "  import pandas_profiling\n"
     ]
    },
    {
     "ename": "NameError",
     "evalue": "name 'df' is not defined",
     "output_type": "error",
     "traceback": [
      "\u001b[1;31m---------------------------------------------------------------------------\u001b[0m",
      "\u001b[1;31mNameError\u001b[0m                                 Traceback (most recent call last)",
      "\u001b[1;32mc:\\Users\\Latte\\Desktop\\Genel-AI\\Kodluyoruz-Zemin-Istanbul-Bootcamp\\week2\\house_price.ipynb Cell 1\u001b[0m in \u001b[0;36m<cell line: 2>\u001b[1;34m()\u001b[0m\n\u001b[0;32m      <a href='vscode-notebook-cell:/c%3A/Users/Latte/Desktop/Genel-AI/Kodluyoruz-Zemin-Istanbul-Bootcamp/week2/house_price.ipynb#W0sZmlsZQ%3D%3D?line=0'>1</a>\u001b[0m \u001b[39mimport\u001b[39;00m \u001b[39mpandas_profiling\u001b[39;00m \n\u001b[1;32m----> <a href='vscode-notebook-cell:/c%3A/Users/Latte/Desktop/Genel-AI/Kodluyoruz-Zemin-Istanbul-Bootcamp/week2/house_price.ipynb#W0sZmlsZQ%3D%3D?line=1'>2</a>\u001b[0m profile \u001b[39m=\u001b[39m df\u001b[39m.\u001b[39mprofile_report(title\u001b[39m=\u001b[39m\u001b[39m'\u001b[39m\u001b[39mPandas Profiling Report\u001b[39m\u001b[39m'\u001b[39m)\n\u001b[0;32m      <a href='vscode-notebook-cell:/c%3A/Users/Latte/Desktop/Genel-AI/Kodluyoruz-Zemin-Istanbul-Bootcamp/week2/house_price.ipynb#W0sZmlsZQ%3D%3D?line=2'>3</a>\u001b[0m profile\u001b[39m.\u001b[39mto_file(output_file\u001b[39m=\u001b[39m\u001b[39m\"\u001b[39m\u001b[39mData_Profiling_v1.html\u001b[39m\u001b[39m\"\u001b[39m)\n",
      "\u001b[1;31mNameError\u001b[0m: name 'df' is not defined"
     ]
    }
   ],
   "source": [
    "import pandas_profiling \n",
    "profile = df.profile_report(title='Pandas Profiling Report')\n",
    "profile.to_file(output_file=\"Data_Profiling_v1.html\")"
   ]
  },
  {
   "cell_type": "code",
   "execution_count": null,
   "metadata": {},
   "outputs": [],
   "source": []
  }
 ],
 "metadata": {
  "kernelspec": {
   "display_name": "base",
   "language": "python",
   "name": "python3"
  },
  "language_info": {
   "codemirror_mode": {
    "name": "ipython",
    "version": 3
   },
   "file_extension": ".py",
   "mimetype": "text/x-python",
   "name": "python",
   "nbconvert_exporter": "python",
   "pygments_lexer": "ipython3",
   "version": "3.9.12"
  },
  "orig_nbformat": 4
 },
 "nbformat": 4,
 "nbformat_minor": 2
}
